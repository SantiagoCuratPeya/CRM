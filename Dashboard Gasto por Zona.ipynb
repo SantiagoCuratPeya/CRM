{
 "cells": [
  {
   "cell_type": "markdown",
   "metadata": {},
   "source": [
    "### IMPORTS"
   ]
  },
  {
   "cell_type": "code",
   "execution_count": 1,
   "metadata": {},
   "outputs": [],
   "source": [
    "import sys, os\n",
    "sys.path.append(os.path.join(sys.path[0],'Pythons'))"
   ]
  },
  {
   "cell_type": "code",
   "execution_count": 2,
   "metadata": {},
   "outputs": [],
   "source": [
    "from Carga_Descarga import *\n",
    "from CRM_Central import *"
   ]
  },
  {
   "cell_type": "markdown",
   "metadata": {},
   "source": [
    "### GOOGLE SHEETS"
   ]
  },
  {
   "cell_type": "code",
   "execution_count": 3,
   "metadata": {},
   "outputs": [
    {
     "name": "stdout",
     "output_type": "stream",
     "text": [
      "Descarga Correcta!\n"
     ]
    }
   ],
   "source": [
    "comp = descarga('1d4cMi-V04c80Dpen4S70Q7zYqqho3ZBIVctlRIBLwiw','Competencias')"
   ]
  },
  {
   "cell_type": "code",
   "execution_count": 4,
   "metadata": {},
   "outputs": [],
   "source": [
    "comp_type = {}\n",
    "for i in comp['Country'].unique():\n",
    "    comp_type[i] = comp[comp['Country'] == i]['Tipo'].unique()[0]"
   ]
  },
  {
   "cell_type": "markdown",
   "metadata": {},
   "source": [
    "### CONSTANTES"
   ]
  },
  {
   "cell_type": "code",
   "execution_count": 5,
   "metadata": {},
   "outputs": [],
   "source": [
    "# Fechas\n",
    "today = datetime.date.today()\n",
    "if today.day == 1:\n",
    "    fin = str(today - relativedelta(days=1))\n",
    "    inicio = str((today - relativedelta(days=1) - relativedelta(months=2)).replace(day=1))\n",
    "else:\n",
    "    fin = str(today + relativedelta(months=1) - relativedelta(days=(today + relativedelta(months=1)).day))\n",
    "    inicio = str((today - relativedelta(months=2)).replace(day=1))\n",
    "week = today.isocalendar()[1]\n",
    "week_max = week-1\n",
    "week_min = week-5\n",
    "month = fin[:-3]"
   ]
  },
  {
   "cell_type": "code",
   "execution_count": 6,
   "metadata": {},
   "outputs": [],
   "source": [
    "# Me traigo el rr\n",
    "rr = func_rr()"
   ]
  },
  {
   "cell_type": "markdown",
   "metadata": {},
   "source": [
    "### QUERIES"
   ]
  },
  {
   "cell_type": "code",
   "execution_count": 7,
   "metadata": {},
   "outputs": [],
   "source": [
    "q_crm = '''WITH wallet_table AS (\n",
    "    SELECT DISTINCT wa.order_id AS order_id,\n",
    "           d.campaignCode AS campaign,\n",
    "           d.amount AS amount\n",
    "    FROM `peya-bi-tools-pro.il_wallet.fact_wallet_attributions` AS wa,\n",
    "    UNNEST (attributionDetails) AS d\n",
    "    WHERE wa.operation = 'Purchase'),\n",
    "    wc_table AS (\n",
    "    SELECT cn.country_name AS country,\n",
    "           c.city_name AS city,\n",
    "           a.area_name AS area,\n",
    "           o.registered_date AS fecha,\n",
    "           wa.campaign AS campaign,\n",
    "           COUNT(DISTINCT o.order_id) AS orders,\n",
    "           COUNT(DISTINCT CASE WHEN o.is_acquisition = 1 THEN o.order_id ELSE NULL END) AS acq,\n",
    "           SUM(CASE WHEN bi.payment_mode = 'TOTAL_AMOUNT' THEN wa.amount / ce.rate_us ELSE 0 END) AS amount,\n",
    "           SUM(CASE WHEN bi.payment_mode != 'TOTAL_AMOUNT' THEN wa.amount / ce.rate_us ELSE 0 END) AS amount_shopper\n",
    "    FROM `peya-bi-tools-pro.il_core.fact_orders` AS o\n",
    "    INNER JOIN `peya-bi-tools-pro.il_core.fact_order_funding` AS w ON o.order_id = w.order_id AND w.type IN (25,35)\n",
    "    LEFT JOIN `peya-bi-tools-pro.il_core.dim_partner` AS p ON o.restaurant.id = p.partner_id\n",
    "    LEFT JOIN `peya-bi-tools-pro.il_core.dim_billing_info` AS bi ON p.billingInfo.billing_info_id = bi.billing_info_id\n",
    "    LEFT JOIN wallet_table AS wa ON o.order_id = wa.order_id\n",
    "    LEFT JOIN `peya-bi-tools-pro.il_core.dim_country` AS cn ON o.country_id = cn.country_id\n",
    "    LEFT JOIN `peya-bi-tools-pro.il_core.dim_currency_exchange` AS ce ON cn.currency_id = ce.currency_id AND DATE_TRUNC(o.registered_date,MONTH) = ce.currency_exchange_date\n",
    "LEFT JOIN `peya-bi-tools-pro.il_core.dim_city` AS c ON o.city.city_id = c.city_id\n",
    "LEFT JOIN `peya-bi-tools-pro.il_core.dim_area` AS a ON o.address.area.id = a.area_id\n",
    "    WHERE o.registered_date BETWEEN DATE('{0}') AND DATE('{1}')\n",
    "          AND o.order_status = 'CONFIRMED'\n",
    "    GROUP BY 1,2,3,4,5)\n",
    "SELECT wct.country AS Country,\n",
    "       FORMAT_DATE('%Y-%m',wct.fecha) AS Month,\n",
    "       EXTRACT(WEEK(MONDAY) FROM wct.fecha) AS Week,\n",
    "       IFNULL(wct.city,'-') AS City,\n",
    "       IFNULL(wct.area,'-') AS Area,\n",
    "       wct.campaign AS Campaign,\n",
    "       'WALLET' AS Benefit,\n",
    "       SUM(wct.orders) AS Orders_CRM,\n",
    "       SUM(wct.acq) AS Acq_CRM,\n",
    "       SUM(wct.amount) AS Amount,\n",
    "       SUM(wct.amount_shopper) AS Amount_Shopper\n",
    "FROM wc_table AS wct\n",
    "GROUP BY 1,2,3,4,5,6\n",
    "\n",
    "UNION ALL\n",
    "\n",
    "SELECT cn.country_name AS Country,\n",
    "       FORMAT_DATE('%Y-%m',o.registered_date) AS Month,\n",
    "       EXTRACT(WEEK(MONDAY) FROM o.registered_date) AS Week,\n",
    "       IFNULL(c.city_name,'-') AS City,\n",
    "       IFNULL(a.area_name,'-') AS Area,\n",
    "       tca.talon_campaign_name AS Campaign,\n",
    "       'TALON COUPON' AS Benefit,\n",
    "       COUNT(DISTINCT o.order_id) AS Orders_CRM,\n",
    "       COUNT(DISTINCT CASE WHEN o.is_acquisition = 1 THEN o.order_id ELSE NULL END) AS Acq_CRM,\n",
    "       SUM(CASE WHEN bi.payment_mode = 'TOTAL_AMOUNT' THEN tc.coupon_used_amount / ce.rate_us ELSE 0 END) AS Amount,\n",
    "       SUM(CASE WHEN bi.payment_mode != 'TOTAL_AMOUNT' THEN tc.coupon_used_amount / ce.rate_us ELSE 0 END) AS Amount_Shopper\n",
    "FROM `peya-bi-tools-pro.il_core.fact_orders` AS o\n",
    "INNER JOIN `peya-bi-tools-pro.il_growth.fact_talon_coupons` AS tc ON o.order_id = tc.order_id\n",
    "LEFT JOIN `peya-bi-tools-pro.il_growth.dim_talon_campaigns` AS tca ON tc.talon_campaign_id = tca.talon_campaign_id\n",
    "LEFT JOIN `peya-bi-tools-pro.il_core.dim_country` AS cn ON o.country_id = cn.country_id\n",
    "LEFT JOIN `peya-bi-tools-pro.il_core.dim_currency_exchange` AS ce ON cn.currency_id = ce.currency_id AND DATE_TRUNC(o.registered_date,MONTH) = ce.currency_exchange_date\n",
    "LEFT JOIN `peya-bi-tools-pro.il_core.dim_partner` AS p ON o.restaurant.id = p.partner_id\n",
    "LEFT JOIN `peya-bi-tools-pro.il_core.dim_billing_info` AS bi ON p.billingInfo.billing_info_id = bi.billing_info_id\n",
    "LEFT JOIN `peya-bi-tools-pro.il_core.dim_city` AS c ON o.city.city_id = c.city_id\n",
    "LEFT JOIN `peya-bi-tools-pro.il_core.dim_area` AS a ON o.address.area.id = a.area_id\n",
    "WHERE o.registered_date BETWEEN DATE('{0}') AND DATE('{1}')\n",
    "      AND o.order_status = 'CONFIRMED'\n",
    "GROUP BY 1,2,3,4,5,6'''.format(inicio,fin)"
   ]
  },
  {
   "cell_type": "code",
   "execution_count": 8,
   "metadata": {},
   "outputs": [
    {
     "name": "stderr",
     "output_type": "stream",
     "text": [
      "Downloading: 100%|█████████████████████████████████████████████████████████| 855448/855448 [03:46<00:00, 3772.65rows/s]\n"
     ]
    }
   ],
   "source": [
    "# Descargo la data\n",
    "bq_crm = pd.io.gbq.read_gbq(q_crm, project_id='peya-argentina', dialect='standard')"
   ]
  },
  {
   "cell_type": "code",
   "execution_count": 9,
   "metadata": {},
   "outputs": [],
   "source": [
    "# Copio las bases\n",
    "crm = bq_crm.copy()"
   ]
  },
  {
   "cell_type": "markdown",
   "metadata": {},
   "source": [
    "### TRABAJO"
   ]
  },
  {
   "cell_type": "code",
   "execution_count": 10,
   "metadata": {},
   "outputs": [],
   "source": [
    "# Trabajo CRM\n",
    "val = [i for i in crm.columns if i not in ['Country','Month','Week','City','Area','Campaign','Benefit']]\n",
    "crm[val] = crm[val].astype(float)\n",
    "col = ['Country','City','Area','Campaign','Benefit']\n",
    "crm[col] = crm[col].apply(lambda x: x.astype(str).str.upper())\n",
    "crm['Campaign'] = crm['Campaign'].str.replace(' ', '')"
   ]
  },
  {
   "cell_type": "code",
   "execution_count": 11,
   "metadata": {},
   "outputs": [],
   "source": [
    "# Marco las campañas a filtrar\n",
    "crm['Filtrar'] = crm['Campaign'].apply(filtrar_cam)\n",
    "crm = crm[crm['Filtrar'] == 'No'].copy()\n",
    "# Trabajo CRM\n",
    "crm['Type'] = crm['Campaign'].apply(lambda x: filtros(x,'TIPOS'))\n",
    "crm['Type Wallet'] = crm.apply(lambda x: filtros(x['Campaign'],'TIPOS',x['Benefit']),axis=1)\n",
    "crm['Segment'] = crm['Campaign'].apply(lambda x: filtros(x,'SEGMENTOS'))\n",
    "crm['Campaña'] = crm['Campaign'].apply(lambda x: filtros(x,'CAMPAIGNS'))\n",
    "crm['Budget'] = crm['Campaign'].apply(lambda x: filtros(x,'BUDGET'))\n",
    "crm['Trial'] = crm['Campaign'].apply(lambda x: filtros(x,'TRIAL'))\n",
    "# Coloco el IVA\n",
    "crm = func_iva(crm)\n",
    "# Saco el IVA\n",
    "used = 'Amount'\n",
    "used_shopper = 'Amount_Shopper'\n",
    "crm['Final'] = crm[used_shopper] / (1 + crm['IVA']) * crm['Extra'] + crm[used]"
   ]
  },
  {
   "cell_type": "code",
   "execution_count": 12,
   "metadata": {},
   "outputs": [],
   "source": [
    "# Coloco el tipo de Competencia\n",
    "crm['Competitive Type'] = crm['Country'].apply(lambda x: comp_type[x] if x in list(comp_type.keys()) else '-')\n",
    "crm['Union'] = crm.apply(lambda x: str(x['Country'])+'-'+str(x['City'])+'-'+str(x['Area']) if x['Competitive Type'] == 'CITY-AREA' else str(x['Country'])+'-'+str(x['City'])+'-',axis=1)\n",
    "# Hago un merge con la competencia\n",
    "crm = crm.merge(comp[['Union','Competencia']],on=['Union'],how='left')\n",
    "crm['Competencia'].replace([np.nan,np.inf,-np.inf],'LOW',inplace=True)\n",
    "# Marco pais sin Competencia\n",
    "crm['Pais Competido'] = crm['Country'].apply(lambda x: 'SI' if x in list(comp_type.keys()) else 'NO')"
   ]
  },
  {
   "cell_type": "code",
   "execution_count": 13,
   "metadata": {},
   "outputs": [],
   "source": [
    "# Coloco la division entre Active/Churn/Reactive\n",
    "active = ['WELCOME',\"'7-15\"]\n",
    "churn = ['15-30']\n",
    "reactive = [\"'+30\",'30-90','90-180','180']\n",
    "crm['RMO Idea'] = '-'\n",
    "crm['RMO Idea'] = crm.apply(lambda x: 'ACTIVE USERS' if x['Segment'] in active else x['RMO Idea'],axis=1)\n",
    "crm['RMO Idea'] = crm.apply(lambda x: 'CHURN PREVENTION' if x['Segment'] in churn else x['RMO Idea'],axis=1)\n",
    "crm['RMO Idea'] = crm.apply(lambda x: 'REACTIVATION' if x['Segment'] in reactive else x['RMO Idea'],axis=1)"
   ]
  },
  {
   "cell_type": "code",
   "execution_count": 14,
   "metadata": {},
   "outputs": [],
   "source": [
    "# Armo la PT Final\n",
    "index = ['Country','Pais Competido','Month','Week','Competencia','Budget','Type','Type Wallet','Segment','Campaña','Trial','RMO Idea']\n",
    "values = ['Orders_CRM','Acq_CRM','Final']\n",
    "final = crm.pivot_table(index=index,values=values,aggfunc='sum',fill_value=0).reset_index()\n",
    "# Ordeno el resultado\n",
    "final.sort_values(['Country','Month','Week','Competencia','Budget','Type','Type Wallet','Segment','Campaña','RMO Idea'],inplace=True)"
   ]
  },
  {
   "cell_type": "code",
   "execution_count": 15,
   "metadata": {},
   "outputs": [],
   "source": [
    "# Creo los RR\n",
    "final['Orders RR'] = final.apply(lambda x: round(x['Orders_CRM'] / rr,0) if x['Month'] == month else x['Orders_CRM'],axis=1)\n",
    "final['Acq RR'] = final.apply(lambda x: round(x['Acq_CRM'] / rr,0) if x['Month'] == month else x['Acq_CRM'],axis=1)\n",
    "final['Final RR'] = final.apply(lambda x: round(x['Final'] / rr,0) if x['Month'] == month else x['Final'],axis=1)\n",
    "final[str(today)] = final['Month'].apply(lambda x: rr if x == month else 1)\n",
    "final.replace([np.nan,np.inf,-np.inf],0,inplace=True)"
   ]
  },
  {
   "cell_type": "code",
   "execution_count": 16,
   "metadata": {},
   "outputs": [],
   "source": [
    "# Filtro las Budget NONE\n",
    "final = final[final['Budget'] != 'NONE'].copy()"
   ]
  },
  {
   "cell_type": "code",
   "execution_count": 17,
   "metadata": {},
   "outputs": [],
   "source": [
    "# Coloco las marcas de Semanas\n",
    "final['Week Type'] = 'Current'\n",
    "final['Week Type'] = final.apply(lambda x: 'Last 5 Complete' if week_min <= x['Week'] <= week_max else x['Week Type'],axis=1)\n",
    "final['Week Type'] = final.apply(lambda x: 'Before' if x['Week'] < week_min else x['Week Type'],axis=1)"
   ]
  },
  {
   "cell_type": "markdown",
   "metadata": {},
   "source": [
    "### CARGA"
   ]
  },
  {
   "cell_type": "code",
   "execution_count": 18,
   "metadata": {},
   "outputs": [
    {
     "name": "stdout",
     "output_type": "stream",
     "text": [
      "Carga Correcta!\n"
     ]
    }
   ],
   "source": [
    "carga(final,'1Y5SR_oFtBPJzkpz1r944Iv9UoRutW7fg7kvqYGG5WJc','Crudo')"
   ]
  }
 ],
 "metadata": {
  "kernelspec": {
   "display_name": "Python 3",
   "language": "python",
   "name": "python3"
  },
  "language_info": {
   "codemirror_mode": {
    "name": "ipython",
    "version": 3
   },
   "file_extension": ".py",
   "mimetype": "text/x-python",
   "name": "python",
   "nbconvert_exporter": "python",
   "pygments_lexer": "ipython3",
   "version": "3.7.6"
  }
 },
 "nbformat": 4,
 "nbformat_minor": 4
}
