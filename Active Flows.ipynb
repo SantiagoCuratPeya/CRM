{
 "cells": [
  {
   "cell_type": "markdown",
   "metadata": {},
   "source": [
    "### IMPORTS"
   ]
  },
  {
   "cell_type": "code",
   "execution_count": 8,
   "metadata": {},
   "outputs": [],
   "source": [
    "import sys, os\n",
    "sys.path.append(os.path.join(sys.path[0],'Pythons'))"
   ]
  },
  {
   "cell_type": "code",
   "execution_count": 9,
   "metadata": {},
   "outputs": [],
   "source": [
    "from Carga_Descarga import *\n",
    "from CRM_Central import *"
   ]
  },
  {
   "cell_type": "markdown",
   "metadata": {},
   "source": [
    "### QUERIES"
   ]
  },
  {
   "cell_type": "code",
   "execution_count": 10,
   "metadata": {},
   "outputs": [],
   "source": [
    "q = '''WITH barter_table AS (\n",
    "    SELECT DATE(bc.created_at,cn.timezone) AS fecha,\n",
    "           cn.country_name AS country,\n",
    "           IFNULL(u.city,'-') AS city,\n",
    "           bc.campaign_title AS campaign,\n",
    "           bc.discount.type AS discount_type,\n",
    "           bc.discount.amount AS discount_amount,\n",
    "           bc.discount.max_amount AS discount_max_amount,\n",
    "           bc.rules.min_amount AS min_amount,\n",
    "           COUNT(DISTINCT bc.id) AS vouchers,\n",
    "           MAX(DATE(bc.rules.expires_at,cn.timezone)) AS finish\n",
    "    FROM `peya-data-origins-pro.cl_barter.creates` AS bc\n",
    "    LEFT JOIN `peya-bi-tools-pro.il_core.dim_country` AS cn ON bc.rules.country.iso_code = cn.iso_code_2\n",
    "    LEFT JOIN `peya-argentina.user_santiago_curat.city_usuarios` AS u ON bc.owner_id = u.user AND cn.country_name = u.country\n",
    "    WHERE DATE(bc.created_at) >= DATE_ADD(CURRENT_DATE(),INTERVAL -4 DAY)\n",
    "          AND UPPER(bc.campaign_title) NOT LIKE '%%OTHER_CC_%%'\n",
    "          AND UPPER(bc.campaign_title) NOT LIKE '%%OTHER_AUTOCOMP_%%'\n",
    "          AND UPPER(bc.campaign_title) NOT LIKE '%%OTHER_EMPLOYEE_%%'\n",
    "          AND UPPER(bc.campaign_title) NOT LIKE '%%OTHER_OTHER_%%'\n",
    "          AND UPPER(bc.campaign_title) NOT LIKE '%%OTHER_NCR_%%'\n",
    "    GROUP BY 1,2,3,4,5,6,7,8)\n",
    "SELECT DISTINCT bt.country AS Country,\n",
    "       bt.city AS City,\n",
    "       bt.campaign AS Campaign,\n",
    "       CONCAT('Disc Amount: ',bt.discount_amount,' - Max Amount: ',bt.discount_max_amount,' - MOV: ',bt.min_amount) AS Variation,\n",
    "       MAX(bt.finish) AS Finish,\n",
    "       SUM(IFNULL(bt.vouchers,0)) AS Vouchers\n",
    "FROM barter_table AS bt\n",
    "WHERE bt.fecha >= DATE_ADD(CURRENT_DATE(),INTERVAL -3 DAY)\n",
    "GROUP BY 1,2,3,bt.discount_amount,bt.discount_max_amount,bt.min_amount'''"
   ]
  },
  {
   "cell_type": "code",
   "execution_count": 11,
   "metadata": {},
   "outputs": [
    {
     "name": "stderr",
     "output_type": "stream",
     "text": [
      "Downloading: 100%|███████████████████████████████████████████████████████████| 28226/28226 [00:04<00:00, 5976.79rows/s]\n"
     ]
    }
   ],
   "source": [
    "# Descago la data\n",
    "bq_crudo = pd.io.gbq.read_gbq(q, project_id='peya-argentina', dialect='standard')"
   ]
  },
  {
   "cell_type": "code",
   "execution_count": 12,
   "metadata": {},
   "outputs": [],
   "source": [
    "# Copio la data\n",
    "crudo = bq_crudo.copy()"
   ]
  },
  {
   "cell_type": "markdown",
   "metadata": {},
   "source": [
    "### TRABAJO"
   ]
  },
  {
   "cell_type": "code",
   "execution_count": 13,
   "metadata": {},
   "outputs": [],
   "source": [
    "# Doy formato a las columnas\n",
    "cols_str = ['Campaign','Country','City','Variation','Finish']\n",
    "cols_float = [i for i in crudo.columns if i not in cols_str]\n",
    "crudo[cols_float] = crudo[cols_float].astype(float)\n",
    "crudo[cols_str] = crudo[cols_str].apply(lambda x: x.astype(str).str.upper())\n",
    "# Saco los espacios de los nombres de campañas\n",
    "crudo['Campaign'] = crudo['Campaign'].str.replace(' ', '')\n",
    "# Doy formato a la fecha\n",
    "crudo['Finish'] = pd.to_datetime(crudo['Finish'], format='%Y-%m-%d').dt.strftime('%Y-%m-%d')\n",
    "# Hago un listado de los paises\n",
    "countries = list(crudo['Country'].unique())\n",
    "# Ordeno la base\n",
    "crudo.sort_values(by=['Country','Campaign','City','Vouchers'],inplace=True)"
   ]
  },
  {
   "cell_type": "code",
   "execution_count": 14,
   "metadata": {},
   "outputs": [],
   "source": [
    "# Creo las columnas para los segmentos\n",
    "crudo['Benefit'] = crudo['Campaign'].apply(lambda x: filtros(x,'BENEFICIOS'))\n",
    "crudo['Type'] = crudo['Campaign'].apply(lambda x: filtros(x,'TIPOS'))\n",
    "crudo['Segment'] = crudo['Campaign'].apply(lambda x: filtros(x,'SEGMENTOS'))\n",
    "crudo['Level'] = crudo['Campaign'].apply(lambda x: filtros(x,'NIVELES'))\n",
    "crudo['Campaña'] = crudo['Campaign'].apply(lambda x: filtros(x,'CAMPAIGNS'))\n",
    "crudo['Automated'] = crudo['Campaign'].apply(lambda x: filtros(x,'AUTOMATIONS'))\n",
    "crudo['Budget'] = crudo['Campaign'].apply(lambda x: filtros(x,'BUDGET'))"
   ]
  },
  {
   "cell_type": "code",
   "execution_count": 15,
   "metadata": {},
   "outputs": [],
   "source": [
    "# Hago una PT por Ciudad sacado las Variations\n",
    "index = ['Country','City','Benefit','Type','Segment','Level','Campaña','Automated','Budget']\n",
    "values = ['Vouchers','Finish']\n",
    "pt_active = crudo.pivot_table(index=index,values=values,aggfunc={'Vouchers':np.sum,'Finish':np.max}).reset_index()"
   ]
  },
  {
   "cell_type": "code",
   "execution_count": 16,
   "metadata": {},
   "outputs": [],
   "source": [
    "# Divido los DF por Country\n",
    "active_arg = pt_active[pt_active['Country'] == 'ARGENTINA'].copy()\n",
    "active_chi = pt_active[pt_active['Country'] == 'CHILE'].copy()"
   ]
  },
  {
   "cell_type": "markdown",
   "metadata": {},
   "source": [
    "### CARGA"
   ]
  },
  {
   "cell_type": "code",
   "execution_count": 15,
   "metadata": {},
   "outputs": [
    {
     "name": "stdout",
     "output_type": "stream",
     "text": [
      "Carga Correcta!\n"
     ]
    }
   ],
   "source": [
    "# Carga Argentina\n",
    "carga(active_arg,'1NJtY4CpejWDyEDSBOFEdWJIVgq7Fvd_U0O6UlUBZuUk','Crudo Active')"
   ]
  },
  {
   "cell_type": "code",
   "execution_count": 7,
   "metadata": {},
   "outputs": [],
   "source": [
    "# Carga Chile\n",
    "carga(active_chi,'1WrgzvPGpTIqK5GQiMEk4FkfUB7LVE21d1BI670yx_Os','Crudo Active')"
   ]
  }
 ],
 "metadata": {
  "kernelspec": {
   "display_name": "Python 3",
   "language": "python",
   "name": "python3"
  },
  "language_info": {
   "codemirror_mode": {
    "name": "ipython",
    "version": 3
   },
   "file_extension": ".py",
   "mimetype": "text/x-python",
   "name": "python",
   "nbconvert_exporter": "python",
   "pygments_lexer": "ipython3",
   "version": "3.7.6"
  }
 },
 "nbformat": 4,
 "nbformat_minor": 4
}
