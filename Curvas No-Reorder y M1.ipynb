{
 "cells": [
  {
   "cell_type": "markdown",
   "metadata": {},
   "source": [
    "### IMPORTS"
   ]
  },
  {
   "cell_type": "code",
   "execution_count": 1,
   "metadata": {},
   "outputs": [],
   "source": [
    "import sys, os\n",
    "sys.path.append(os.path.join(sys.path[0],'Pythons'))"
   ]
  },
  {
   "cell_type": "code",
   "execution_count": 2,
   "metadata": {},
   "outputs": [],
   "source": [
    "from Carga_Descarga import *\n",
    "from CRM_Central import *"
   ]
  },
  {
   "cell_type": "code",
   "execution_count": 307,
   "metadata": {},
   "outputs": [],
   "source": [
    "from scipy.optimize import curve_fit\n",
    "import copy\n",
    "import matplotlib.pyplot as plt\n",
    "from numpy import arange"
   ]
  },
  {
   "cell_type": "markdown",
   "metadata": {},
   "source": [
    "### QUERIES"
   ]
  },
  {
   "cell_type": "code",
   "execution_count": 448,
   "metadata": {},
   "outputs": [],
   "source": [
    "q_m1 = '''WITH acq_table AS (\n",
    "    SELECT o.user.id AS user,\n",
    "           o.registered_date AS fecha,\n",
    "           cn.country_name AS country,\n",
    "           CASE WHEN tc.order_id IS NOT NULL THEN 'Con Voucher' ELSE 'Sin Voucher' END AS voucher,\n",
    "    FROM `peya-bi-tools-pro.il_core.fact_orders` AS o\n",
    "    LEFT JOIN `peya-bi-tools-pro.il_core.dim_country` AS cn ON o.country_id = cn.country_id\n",
    "    LEFT JOIN `peya-bi-tools-pro.il_growth.fact_talon_coupons` AS tc ON o.order_id = tc.order_id\n",
    "    WHERE o.registered_date BETWEEN DATE('2021-04-01') AND DATE('2021-06-30')\n",
    "          AND o.is_acquisition = 1),\n",
    "    cohorts_table AS (\n",
    "    SELECT acq.user AS user,\n",
    "           acq.country AS country,\n",
    "           FORMAT_DATE('%Y-%m',acq.fecha) AS acq_month,\n",
    "           acq.voucher AS voucher,\n",
    "           MIN(o.registered_date) AS m1_fecha\n",
    "    FROM acq_table AS acq\n",
    "    LEFT JOIN `peya-bi-tools-pro.il_core.fact_orders` AS o ON acq.user = o.user.id\n",
    "    WHERE o.registered_date BETWEEN DATE('2021-04-01') AND DATE('2021-07-31')\n",
    "          AND o.registered_date BETWEEN DATE_TRUNC(DATE_ADD(acq.fecha,INTERVAL 1 MONTH),MONTH) AND LAST_DAY(DATE_ADD(acq.fecha,INTERVAL 1 MONTH))\n",
    "          AND o.order_status = 'CONFIRMED'\n",
    "    GROUP BY 1,2,3,4),\n",
    "    acq_final_table AS (\n",
    "    SELECT FORMAT_DATE('%Y-%m',acq.fecha) AS acq_month,\n",
    "           acq.country AS country,\n",
    "           acq.voucher AS voucher,\n",
    "           COUNT(DISTINCT acq.user) AS users\n",
    "    FROM acq_table AS acq \n",
    "    GROUP BY 1,2,3)\n",
    "SELECT ct.acq_month AS Month,\n",
    "       ct.country AS Country,\n",
    "       ct.voucher AS Voucher,\n",
    "       ct.m1_fecha AS M1_Fecha,\n",
    "       IFNULL(aft.users,0) AS Acq,\n",
    "       COUNT(DISTINCT ct.user) AS Reorders\n",
    "FROM cohorts_table AS ct\n",
    "LEFT JOIN acq_final_table AS aft ON ct.acq_month = aft.acq_month AND ct.country = aft.country AND ct.voucher = aft.voucher\n",
    "GROUP BY 1,2,3,4,5\n",
    "ORDER BY 2,1,4,3'''\n",
    "\n",
    "q_reo = '''WITH users_table AS (\n",
    "    SELECT o.user.id AS user,\n",
    "           DATE_TRUNC(o.registered_date,MONTH) AS fecha,\n",
    "           cn.country_name AS country,\n",
    "           SUM(IFNULL(o.is_acquisition,0)) AS acq\n",
    "    FROM `peya-bi-tools-pro.il_core.fact_orders` AS o\n",
    "    LEFT JOIN `peya-bi-tools-pro.il_core.dim_country` AS cn ON o.country_id = cn.country_id\n",
    "    WHERE o.registered_date BETWEEN DATE('2021-04-01') AND DATE('2021-06-30')\n",
    "          AND o.order_status = 'CONFIRMED'\n",
    "    GROUP BY 1,2,3),\n",
    "    cohorts_table AS (\n",
    "    SELECT ut.user AS user,\n",
    "           ut.country AS country,\n",
    "           FORMAT_DATE('%Y-%m',ut.fecha) AS user_month,\n",
    "           MIN(o.registered_date) AS reorder_fecha\n",
    "    FROM users_table AS ut\n",
    "    LEFT JOIN `peya-bi-tools-pro.il_core.fact_orders` AS o ON ut.user = o.user.id\n",
    "    WHERE o.registered_date BETWEEN DATE('2021-04-01') AND DATE('2021-07-31')\n",
    "          AND o.registered_date BETWEEN DATE_TRUNC(DATE_ADD(ut.fecha,INTERVAL 1 MONTH),MONTH) AND LAST_DAY(DATE_ADD(ut.fecha,INTERVAL 1 MONTH))\n",
    "          AND o.order_status = 'CONFIRMED'\n",
    "          AND ut.acq = 0\n",
    "    GROUP BY 1,2,3),\n",
    "    users_final_table AS (\n",
    "    SELECT FORMAT_DATE('%Y-%m',ut.fecha) AS user_month,\n",
    "           ut.country AS country,\n",
    "           COUNT(DISTINCT ut.user) AS users\n",
    "    FROM users_table AS ut\n",
    "    WHERE ut.acq = 0\n",
    "    GROUP BY 1,2)\n",
    "SELECT ct.user_month AS Month,\n",
    "       ct.country AS Country,\n",
    "       ct.reorder_fecha AS Reorder_Fecha,\n",
    "       IFNULL(uft.users,0) AS Users,\n",
    "       COUNT(DISTINCT ct.user) AS Reorders\n",
    "FROM cohorts_table AS ct\n",
    "LEFT JOIN users_final_table AS uft ON ct.user_month = uft.user_month AND ct.country = uft.country\n",
    "GROUP BY 1,2,3,4\n",
    "ORDER BY 2,1,3'''"
   ]
  },
  {
   "cell_type": "code",
   "execution_count": 449,
   "metadata": {},
   "outputs": [
    {
     "name": "stderr",
     "output_type": "stream",
     "text": [
      "Downloading: 100%|█████████████████████████████████████████████████████████████| 2751/2751 [00:01<00:00, 2657.47rows/s]\n"
     ]
    }
   ],
   "source": [
    "# Descargo la data\n",
    "bq_m1 = pd.io.gbq.read_gbq(q_m1, project_id='peya-argentina', dialect='standard')"
   ]
  },
  {
   "cell_type": "code",
   "execution_count": 450,
   "metadata": {},
   "outputs": [
    {
     "name": "stderr",
     "output_type": "stream",
     "text": [
      "Downloading: 100%|█████████████████████████████████████████████████████████████| 1342/1342 [00:00<00:00, 2825.31rows/s]\n"
     ]
    }
   ],
   "source": [
    "bq_reo = pd.io.gbq.read_gbq(q_reo, project_id='peya-argentina', dialect='standard')"
   ]
  },
  {
   "cell_type": "code",
   "execution_count": 696,
   "metadata": {},
   "outputs": [],
   "source": [
    "# Copio las bases\n",
    "m1_open = bq_m1.copy()\n",
    "reo = bq_reo.copy()"
   ]
  },
  {
   "cell_type": "markdown",
   "metadata": {},
   "source": [
    "### TRABAJO"
   ]
  },
  {
   "cell_type": "markdown",
   "metadata": {},
   "source": [
    "#### CURVE FITTING FUNCTION"
   ]
  },
  {
   "cell_type": "code",
   "execution_count": 640,
   "metadata": {},
   "outputs": [],
   "source": [
    "# Declaro la funcion objetivo\n",
    "def objective(x,a,b,c,d):\n",
    "    a = float(a)\n",
    "    b = float(b)\n",
    "    c = float(c)\n",
    "    d = float(d)\n",
    "    return (a * x**3) + (b * x**2) + (c * x) + d"
   ]
  },
  {
   "cell_type": "markdown",
   "metadata": {},
   "source": [
    "#### M1"
   ]
  },
  {
   "cell_type": "code",
   "execution_count": 703,
   "metadata": {},
   "outputs": [
    {
     "data": {
      "text/html": [
       "<div>\n",
       "<style scoped>\n",
       "    .dataframe tbody tr th:only-of-type {\n",
       "        vertical-align: middle;\n",
       "    }\n",
       "\n",
       "    .dataframe tbody tr th {\n",
       "        vertical-align: top;\n",
       "    }\n",
       "\n",
       "    .dataframe thead th {\n",
       "        text-align: right;\n",
       "    }\n",
       "</style>\n",
       "<table border=\"1\" class=\"dataframe\">\n",
       "  <thead>\n",
       "    <tr style=\"text-align: right;\">\n",
       "      <th></th>\n",
       "      <th>Month</th>\n",
       "      <th>Country</th>\n",
       "      <th>Voucher</th>\n",
       "      <th>M1_Fecha</th>\n",
       "      <th>Acq</th>\n",
       "      <th>Reorders</th>\n",
       "    </tr>\n",
       "  </thead>\n",
       "  <tbody>\n",
       "    <tr>\n",
       "      <th>122</th>\n",
       "      <td>2021-06</td>\n",
       "      <td>Argentina</td>\n",
       "      <td>Con Voucher</td>\n",
       "      <td>2021-07-01</td>\n",
       "      <td>81965</td>\n",
       "      <td>1363</td>\n",
       "    </tr>\n",
       "    <tr>\n",
       "      <th>123</th>\n",
       "      <td>2021-06</td>\n",
       "      <td>Argentina</td>\n",
       "      <td>Sin Voucher</td>\n",
       "      <td>2021-07-01</td>\n",
       "      <td>134132</td>\n",
       "      <td>4846</td>\n",
       "    </tr>\n",
       "    <tr>\n",
       "      <th>124</th>\n",
       "      <td>2021-06</td>\n",
       "      <td>Argentina</td>\n",
       "      <td>Con Voucher</td>\n",
       "      <td>2021-07-02</td>\n",
       "      <td>81965</td>\n",
       "      <td>1358</td>\n",
       "    </tr>\n",
       "    <tr>\n",
       "      <th>125</th>\n",
       "      <td>2021-06</td>\n",
       "      <td>Argentina</td>\n",
       "      <td>Sin Voucher</td>\n",
       "      <td>2021-07-02</td>\n",
       "      <td>134132</td>\n",
       "      <td>5001</td>\n",
       "    </tr>\n",
       "    <tr>\n",
       "      <th>126</th>\n",
       "      <td>2021-06</td>\n",
       "      <td>Argentina</td>\n",
       "      <td>Con Voucher</td>\n",
       "      <td>2021-07-03</td>\n",
       "      <td>81965</td>\n",
       "      <td>1335</td>\n",
       "    </tr>\n",
       "    <tr>\n",
       "      <th>...</th>\n",
       "      <td>...</td>\n",
       "      <td>...</td>\n",
       "      <td>...</td>\n",
       "      <td>...</td>\n",
       "      <td>...</td>\n",
       "      <td>...</td>\n",
       "    </tr>\n",
       "    <tr>\n",
       "      <th>179</th>\n",
       "      <td>2021-06</td>\n",
       "      <td>Argentina</td>\n",
       "      <td>Sin Voucher</td>\n",
       "      <td>2021-07-29</td>\n",
       "      <td>134132</td>\n",
       "      <td>483</td>\n",
       "    </tr>\n",
       "    <tr>\n",
       "      <th>180</th>\n",
       "      <td>2021-06</td>\n",
       "      <td>Argentina</td>\n",
       "      <td>Con Voucher</td>\n",
       "      <td>2021-07-30</td>\n",
       "      <td>81965</td>\n",
       "      <td>200</td>\n",
       "    </tr>\n",
       "    <tr>\n",
       "      <th>181</th>\n",
       "      <td>2021-06</td>\n",
       "      <td>Argentina</td>\n",
       "      <td>Sin Voucher</td>\n",
       "      <td>2021-07-30</td>\n",
       "      <td>134132</td>\n",
       "      <td>715</td>\n",
       "    </tr>\n",
       "    <tr>\n",
       "      <th>182</th>\n",
       "      <td>2021-06</td>\n",
       "      <td>Argentina</td>\n",
       "      <td>Con Voucher</td>\n",
       "      <td>2021-07-31</td>\n",
       "      <td>81965</td>\n",
       "      <td>197</td>\n",
       "    </tr>\n",
       "    <tr>\n",
       "      <th>183</th>\n",
       "      <td>2021-06</td>\n",
       "      <td>Argentina</td>\n",
       "      <td>Sin Voucher</td>\n",
       "      <td>2021-07-31</td>\n",
       "      <td>134132</td>\n",
       "      <td>779</td>\n",
       "    </tr>\n",
       "  </tbody>\n",
       "</table>\n",
       "<p>62 rows × 6 columns</p>\n",
       "</div>"
      ],
      "text/plain": [
       "       Month    Country      Voucher   M1_Fecha     Acq  Reorders\n",
       "122  2021-06  Argentina  Con Voucher 2021-07-01   81965      1363\n",
       "123  2021-06  Argentina  Sin Voucher 2021-07-01  134132      4846\n",
       "124  2021-06  Argentina  Con Voucher 2021-07-02   81965      1358\n",
       "125  2021-06  Argentina  Sin Voucher 2021-07-02  134132      5001\n",
       "126  2021-06  Argentina  Con Voucher 2021-07-03   81965      1335\n",
       "..       ...        ...          ...        ...     ...       ...\n",
       "179  2021-06  Argentina  Sin Voucher 2021-07-29  134132       483\n",
       "180  2021-06  Argentina  Con Voucher 2021-07-30   81965       200\n",
       "181  2021-06  Argentina  Sin Voucher 2021-07-30  134132       715\n",
       "182  2021-06  Argentina  Con Voucher 2021-07-31   81965       197\n",
       "183  2021-06  Argentina  Sin Voucher 2021-07-31  134132       779\n",
       "\n",
       "[62 rows x 6 columns]"
      ]
     },
     "execution_count": 703,
     "metadata": {},
     "output_type": "execute_result"
    }
   ],
   "source": [
    "m1_open[(m1_open['Country'] == 'Argentina')&(m1_open['Month'] == '2021-06')]"
   ]
  },
  {
   "cell_type": "code",
   "execution_count": 641,
   "metadata": {},
   "outputs": [],
   "source": [
    "# Agrupo el M1 total\n",
    "index = ['Month','Country','M1_Fecha']\n",
    "values = ['Acq','Reorders']\n",
    "m1 = m1_open.pivot_table(index=index,values=values,aggfunc='sum',fill_value=0).reset_index()\n",
    "m1v = m1_open[m1_open['Voucher'] == 'Con Voucher'].pivot_table(index=index,values=values,aggfunc='sum',fill_value=0).reset_index()"
   ]
  },
  {
   "cell_type": "markdown",
   "metadata": {},
   "source": [
    "##### M1 TOTAL"
   ]
  },
  {
   "cell_type": "code",
   "execution_count": 642,
   "metadata": {},
   "outputs": [],
   "source": [
    "# Creo PT General por mes\n",
    "pt_m1 = m1.pivot_table(index=['Month','Country'],values=['Acq','Reorders'],aggfunc={'Acq':np.median,'Reorders':np.sum},fill_value=0).reset_index()\n",
    "pt_m1['M1'] = pt_m1['Reorders'] / pt_m1['Acq']\n",
    "pt_m1.replace([np.nan,np.inf,-np.inf],'-',inplace=True)\n",
    "pt_m1.sort_values(by=['Country','Month'],inplace=True)"
   ]
  },
  {
   "cell_type": "code",
   "execution_count": 643,
   "metadata": {},
   "outputs": [],
   "source": [
    "# Creo columna acumulada de M1\n",
    "m1['Cum_Reorders'] = m1.groupby(by=['Country','Month'])['Reorders'].cumsum()\n",
    "m1['Cum_M1'] = m1['Cum_Reorders'] / m1['Acq']\n",
    "m1.replace([np.nan,np.inf,-np.inf],'-',inplace=True)\n",
    "# Creo las columnas necesarias\n",
    "we = ['Friday','Saturday','Sunday']\n",
    "m1['Weekday'] = m1['M1_Fecha'].dt.day_name()\n",
    "m1['Weekday Value'] = m1['Weekday'].apply(lambda x: 1.4 if x in we else 1)\n",
    "m1['Cum_Weekday'] = m1.groupby(by=['Country','Month'])['Weekday Value'].cumsum()\n",
    "m1 = m1.merge(m1.groupby(['Country','Month'],sort=False)['Weekday Value'].sum().reset_index(name='Month Value'),on=['Country','Month'],how='left')\n",
    "m1 = m1.merge(m1.groupby(['Country','Month'],sort=False)['Cum_M1'].max().reset_index(name='Month M1'),on=['Country','Month'],how='left')\n",
    "m1['%Month'] = m1['Cum_Weekday'] / m1['Month Value']\n",
    "m1['%M1'] = m1['Cum_M1'] / m1['Month M1']\n",
    "m1.replace([np.nan,np.inf,-np.inf],'-',inplace=True)"
   ]
  },
  {
   "cell_type": "code",
   "execution_count": 644,
   "metadata": {},
   "outputs": [],
   "source": [
    "# Carmbio el formato a la fecha de M1\n",
    "m1[['Month','M1_Fecha']] = m1[['Month','M1_Fecha']].astype(str)\n",
    "# Borro a Colombia y Brasil de la lista\n",
    "m1 = m1[~m1['Country'].isin(['Brasil','Colombia'])].copy()"
   ]
  },
  {
   "cell_type": "code",
   "execution_count": 645,
   "metadata": {},
   "outputs": [],
   "source": [
    "# Armo diccionario para el modelo\n",
    "lista_m1 = []\n",
    "for i in m1['Country'].unique():\n",
    "    for j in m1[m1['Country'] == i]['Month'].unique():\n",
    "        dic = {}\n",
    "        dic['Country'] = i\n",
    "        dic['Month'] = j\n",
    "        dic['X'] = [0] + m1[(m1['Country'] == i)&(m1['Month'] == j)]['%Month'].tolist()\n",
    "        dic['Y'] = [0] + m1[(m1['Country'] == i)&(m1['Month'] == j)]['%M1'].tolist()\n",
    "        lista_m1.append(dic)"
   ]
  },
  {
   "cell_type": "code",
   "execution_count": 646,
   "metadata": {},
   "outputs": [],
   "source": [
    "# Creo las curvas de M1\n",
    "for i in lista_m1:\n",
    "    popt,_ = curve_fit(objective,i['X'],i['Y'])\n",
    "    a,b,c,d = popt\n",
    "    i['A'] = a\n",
    "    i['B'] = b\n",
    "    i['C'] = c\n",
    "    i['D'] = d"
   ]
  },
  {
   "cell_type": "code",
   "execution_count": 647,
   "metadata": {},
   "outputs": [],
   "source": [
    "# Creo el DF de M1\n",
    "final_m1 = copy.deepcopy(lista_m1)\n",
    "for i in final_m1:\n",
    "    i.pop('X',None)\n",
    "    i.pop('Y',None)\n",
    "final_m1 = pd.DataFrame(final_m1)\n",
    "# Creo las columnas de Means\n",
    "final_m1 = final_m1.merge(final_m1.groupby(['Country'],sort=False)['A'].mean().reset_index(name='A_Media'),on=['Country'],how='left')\n",
    "final_m1 = final_m1.merge(final_m1.groupby(['Country'],sort=False)['B'].mean().reset_index(name='B_Media'),on=['Country'],how='left')\n",
    "final_m1 = final_m1.merge(final_m1.groupby(['Country'],sort=False)['C'].mean().reset_index(name='C_Media'),on=['Country'],how='left')\n",
    "final_m1 = final_m1.merge(final_m1.groupby(['Country'],sort=False)['D'].mean().reset_index(name='D_Media'),on=['Country'],how='left')"
   ]
  },
  {
   "cell_type": "code",
   "execution_count": 648,
   "metadata": {},
   "outputs": [
    {
     "data": {
      "image/png": "[encoded data removed]",
      "text/plain": [
       "<Figure size 432x288 with 1 Axes>"
      ]
     },
     "metadata": {
      "needs_background": "light"
     },
     "output_type": "display_data"
    }
   ],
   "source": [
    "# Lineas\n",
    "x_line = arange(0,1,0.1)\n",
    "cn = 'Chile'\n",
    "dic = {}\n",
    "for i in final_m1[final_m1['Country'] == cn]['Month'].unique():\n",
    "    a = final_m1[(final_m1['Country'] == cn)&(final_m1['Month'] == i)]['A']\n",
    "    b = final_m1[(final_m1['Country'] == cn)&(final_m1['Month'] == i)]['B']\n",
    "    c = final_m1[(final_m1['Country'] == cn)&(final_m1['Month'] == i)]['C']\n",
    "    d = final_m1[(final_m1['Country'] == cn)&(final_m1['Month'] == i)]['D']\n",
    "    dic[i] = objective(x_line,a,b,c,d)\n",
    "    if i == final_m1[final_m1['Country'] == cn]['Month'].max():\n",
    "        am = final_m1[(final_m1['Country'] == cn)&(final_m1['Month'] == i)]['A_Media']\n",
    "        bm = final_m1[(final_m1['Country'] == cn)&(final_m1['Month'] == i)]['B_Media']\n",
    "        cm = final_m1[(final_m1['Country'] == cn)&(final_m1['Month'] == i)]['C_Media']\n",
    "        dm = final_m1[(final_m1['Country'] == cn)&(final_m1['Month'] == i)]['D_Media']\n",
    "        dic['Media'] = objective(x_line,am,bm,cm,dm)\n",
    "for i in dic.keys():\n",
    "    plt.plot(x_line,dic[i],label=i)\n",
    "plt.xlabel('x')\n",
    "plt.ylabel('y')\n",
    "plt.legend(loc='best', fancybox=True, shadow=True)\n",
    "plt.grid(True)\n",
    "plt.show()"
   ]
  },
  {
   "cell_type": "code",
   "execution_count": 649,
   "metadata": {},
   "outputs": [],
   "source": [
    "# Testeo el error de los vouchers en el modelo\n",
    "params_m1 = {}\n",
    "for i in final_m1['Country'].unique():\n",
    "    l = []\n",
    "    l.append(final_m1[final_m1['Country'] == i]['A_Media'].mean())\n",
    "    l.append(final_m1[final_m1['Country'] == i]['B_Media'].mean())\n",
    "    l.append(final_m1[final_m1['Country'] == i]['C_Media'].mean())\n",
    "    l.append(final_m1[final_m1['Country'] == i]['D_Media'].mean())\n",
    "    params_m1[i] = l\n",
    "datos_m1 = {}\n",
    "for i in m1['Country'].unique():\n",
    "    l = []\n",
    "    for j in m1[m1['Country'] == i]['Month'].unique():\n",
    "        dic = {}\n",
    "        dic['Month'] = j\n",
    "        dic['X'] = [0] + m1[(m1['Country'] == i)&(m1['Month'] == j)]['%Month'].tolist()\n",
    "        dic['Y'] = [0] + m1[(m1['Country'] == i)&(m1['Month'] == j)]['%M1'].tolist()\n",
    "        l.append(dic)\n",
    "    datos_m1[i] = l\n",
    "for i in datos_m1.keys():\n",
    "    for j in datos_m1[i]:\n",
    "        j['Res'] = j['Y'] - objective(np.array(j['X']),params_m1[i][0],params_m1[i][1],params_m1[i][2],params_m1[i][3])\n",
    "        j['SS_Res'] = np.sum(j['Res']**2)\n",
    "        j['SS_Tot'] = np.sum((j['Y'] - np.mean(j['Y']))**2)\n",
    "        j['R_Sq'] = 1 - j['SS_Res'] / j['SS_Tot']"
   ]
  },
  {
   "cell_type": "code",
   "execution_count": 650,
   "metadata": {},
   "outputs": [
    {
     "name": "stdout",
     "output_type": "stream",
     "text": [
      "Argentina-2021-04->R_Sq: 0.9977\n",
      "Argentina-2021-05->R_Sq: 0.9984\n",
      "Argentina-2021-06->R_Sq: 0.9978\n",
      "Bolivia-2021-04->R_Sq: 0.9973\n",
      "Bolivia-2021-05->R_Sq: 0.999\n",
      "Bolivia-2021-06->R_Sq: 0.9968\n",
      "Chile-2021-04->R_Sq: 0.9968\n",
      "Chile-2021-05->R_Sq: 0.9988\n",
      "Chile-2021-06->R_Sq: 0.9987\n",
      "Costa Rica-2021-04->R_Sq: 0.9986\n",
      "Costa Rica-2021-05->R_Sq: 0.9994\n",
      "Costa Rica-2021-06->R_Sq: 0.9958\n",
      "Ecuador-2021-04->R_Sq: 0.9668\n",
      "Ecuador-2021-05->R_Sq: 0.9865\n",
      "Ecuador-2021-06->R_Sq: 0.996\n",
      "El Salvador-2021-04->R_Sq: 0.9926\n",
      "El Salvador-2021-05->R_Sq: 0.9919\n",
      "El Salvador-2021-06->R_Sq: 0.9974\n",
      "Guatemala-2021-04->R_Sq: 0.9982\n",
      "Guatemala-2021-05->R_Sq: 0.9871\n",
      "Guatemala-2021-06->R_Sq: 0.9924\n",
      "Honduras-2021-04->R_Sq: 0.9933\n",
      "Honduras-2021-05->R_Sq: 0.9972\n",
      "Honduras-2021-06->R_Sq: 0.9864\n",
      "Panamá-2021-04->R_Sq: 0.9889\n",
      "Panamá-2021-05->R_Sq: 0.9945\n",
      "Panamá-2021-06->R_Sq: 0.9952\n",
      "Paraguay-2021-04->R_Sq: 0.9718\n",
      "Paraguay-2021-05->R_Sq: 0.975\n",
      "Paraguay-2021-06->R_Sq: 0.9961\n",
      "Perú-2021-04->R_Sq: 0.9912\n",
      "Perú-2021-05->R_Sq: 0.9982\n",
      "Perú-2021-06->R_Sq: 0.9984\n",
      "República Dominicana-2021-04->R_Sq: 0.9976\n",
      "República Dominicana-2021-05->R_Sq: 0.9954\n",
      "República Dominicana-2021-06->R_Sq: 0.9969\n",
      "Uruguay-2021-04->R_Sq: 0.9961\n",
      "Uruguay-2021-05->R_Sq: 0.9967\n",
      "Uruguay-2021-06->R_Sq: 0.9958\n",
      "Venezuela-2021-04->R_Sq: 0.9967\n",
      "Venezuela-2021-05->R_Sq: 0.9915\n",
      "Venezuela-2021-06->R_Sq: 0.9825\n",
      "Nicaragua-2021-06->R_Sq: 0.9988\n"
     ]
    }
   ],
   "source": [
    "# Veo los resultados\n",
    "for i in datos_m1.keys():\n",
    "    for j in datos_m1[i]:\n",
    "        print(i+'-'+j['Month']+'->R_Sq: '+str(round(j['R_Sq'],4)))"
   ]
  },
  {
   "cell_type": "markdown",
   "metadata": {},
   "source": [
    "##### M1 VOUCHER"
   ]
  },
  {
   "cell_type": "code",
   "execution_count": 651,
   "metadata": {},
   "outputs": [],
   "source": [
    "# Creo columna acumulada de M1 Vouchers\n",
    "m1v['Cum_Reorders'] = m1v.groupby(by=['Country','Month'])['Reorders'].cumsum()\n",
    "m1v['Cum_M1'] = m1v['Cum_Reorders'] / m1v['Acq']\n",
    "m1v.replace([np.nan,np.inf,-np.inf],'-',inplace=True)\n",
    "# Creo las columnas necesarias\n",
    "we = ['Friday','Saturday','Sunday']\n",
    "m1v['Weekday'] = m1v['M1_Fecha'].dt.day_name()\n",
    "m1v['Weekday Value'] = m1v['Weekday'].apply(lambda x: 1.4 if x in we else 1)\n",
    "m1v['Cum_Weekday'] = m1v.groupby(by=['Country','Month'])['Weekday Value'].cumsum()\n",
    "m1v = m1v.merge(m1v.groupby(['Country','Month'],sort=False)['Weekday Value'].sum().reset_index(name='Month Value'),on=['Country','Month'],how='left')\n",
    "m1v = m1v.merge(m1v.groupby(['Country','Month'],sort=False)['Cum_M1'].max().reset_index(name='Month M1'),on=['Country','Month'],how='left')\n",
    "m1v['%Month'] = m1v['Cum_Weekday'] / m1v['Month Value']\n",
    "m1v['%M1'] = m1v['Cum_M1'] / m1v['Month M1']\n",
    "m1v.replace([np.nan,np.inf,-np.inf],'-',inplace=True)"
   ]
  },
  {
   "cell_type": "code",
   "execution_count": 652,
   "metadata": {},
   "outputs": [],
   "source": [
    "# Carmbio el formato a la fecha de M1 Vouchers\n",
    "m1v[['Month','M1_Fecha']] = m1v[['Month','M1_Fecha']].astype(str)\n",
    "# Borro a Colombia y Brasil de la lista\n",
    "m1v = m1v[~m1v['Country'].isin(['Brasil','Colombia'])].copy()"
   ]
  },
  {
   "cell_type": "code",
   "execution_count": 653,
   "metadata": {},
   "outputs": [],
   "source": [
    "# Armo diccionario para el modelo\n",
    "lista_m1v = []\n",
    "for i in m1v['Country'].unique():\n",
    "    for j in m1v[m1v['Country'] == i]['Month'].unique():\n",
    "        dic = {}\n",
    "        dic['Country'] = i\n",
    "        dic['Month'] = j\n",
    "        dic['X'] = [0] + m1v[(m1v['Country'] == i)&(m1v['Month'] == j)]['%Month'].tolist()\n",
    "        dic['Y'] = [0] + m1v[(m1v['Country'] == i)&(m1v['Month'] == j)]['%M1'].tolist()\n",
    "        lista_m1v.append(dic)"
   ]
  },
  {
   "cell_type": "code",
   "execution_count": 654,
   "metadata": {},
   "outputs": [],
   "source": [
    "# Creo las curvas de M1 Vouchers\n",
    "for i in lista_m1v:\n",
    "    popt,_ = curve_fit(objective,i['X'],i['Y'])\n",
    "    a,b,c,d = popt\n",
    "    i['A'] = a\n",
    "    i['B'] = b\n",
    "    i['C'] = c\n",
    "    i['D'] = d"
   ]
  },
  {
   "cell_type": "code",
   "execution_count": 655,
   "metadata": {},
   "outputs": [],
   "source": [
    "# Creo el DF de M1 Vouchers\n",
    "final_m1v = copy.deepcopy(lista_m1v)\n",
    "for i in final_m1v:\n",
    "    i.pop('X',None)\n",
    "    i.pop('Y',None)\n",
    "final_m1v = pd.DataFrame(final_m1v)\n",
    "# Creo las columnas de Means\n",
    "final_m1v = final_m1v.merge(final_m1v.groupby(['Country'],sort=False)['A'].mean().reset_index(name='A_Media'),on=['Country'],how='left')\n",
    "final_m1v = final_m1v.merge(final_m1v.groupby(['Country'],sort=False)['B'].mean().reset_index(name='B_Media'),on=['Country'],how='left')\n",
    "final_m1v = final_m1v.merge(final_m1v.groupby(['Country'],sort=False)['C'].mean().reset_index(name='C_Media'),on=['Country'],how='left')\n",
    "final_m1v = final_m1v.merge(final_m1v.groupby(['Country'],sort=False)['D'].mean().reset_index(name='D_Media'),on=['Country'],how='left')"
   ]
  },
  {
   "cell_type": "code",
   "execution_count": 693,
   "metadata": {},
   "outputs": [
    {
     "data": {
      "image/png": "[encoded data removed]",
      "text/plain": [
       "<Figure size 432x288 with 1 Axes>"
      ]
     },
     "metadata": {
      "needs_background": "light"
     },
     "output_type": "display_data"
    }
   ],
   "source": [
    "# Lineas\n",
    "x_line = arange(0,1,0.1)\n",
    "cn = 'Bolivia'\n",
    "dic = {}\n",
    "for i in final_m1v[final_m1v['Country'] == cn]['Month'].unique():\n",
    "    a = final_m1v[(final_m1v['Country'] == cn)&(final_m1v['Month'] == i)]['A']\n",
    "    b = final_m1v[(final_m1v['Country'] == cn)&(final_m1v['Month'] == i)]['B']\n",
    "    c = final_m1v[(final_m1v['Country'] == cn)&(final_m1v['Month'] == i)]['C']\n",
    "    d = final_m1v[(final_m1v['Country'] == cn)&(final_m1v['Month'] == i)]['D']\n",
    "    dic[i] = objective(x_line,a,b,c,d)\n",
    "    if i == final_m1v[final_m1v['Country'] == cn]['Month'].max():\n",
    "        am = final_m1v[(final_m1v['Country'] == cn)&(final_m1v['Month'] == i)]['A_Media']\n",
    "        bm = final_m1v[(final_m1v['Country'] == cn)&(final_m1v['Month'] == i)]['B_Media']\n",
    "        cm = final_m1v[(final_m1v['Country'] == cn)&(final_m1v['Month'] == i)]['C_Media']\n",
    "        dm = final_m1v[(final_m1v['Country'] == cn)&(final_m1v['Month'] == i)]['D_Media']\n",
    "        dic['Media'] = objective(x_line,am,bm,cm,dm)\n",
    "for i in dic.keys():\n",
    "    plt.plot(x_line,dic[i],label=i)\n",
    "plt.xlabel('x')\n",
    "plt.ylabel('y')\n",
    "plt.legend(loc='best', fancybox=True, shadow=True)\n",
    "plt.grid(True)\n",
    "plt.show()"
   ]
  },
  {
   "cell_type": "code",
   "execution_count": 657,
   "metadata": {},
   "outputs": [],
   "source": [
    "# Testeo el error de los vouchers en el modelo total\n",
    "params_m1 = {}\n",
    "for i in final_m1['Country'].unique():\n",
    "    l = []\n",
    "    l.append(final_m1[final_m1['Country'] == i]['A_Media'].mean())\n",
    "    l.append(final_m1[final_m1['Country'] == i]['B_Media'].mean())\n",
    "    l.append(final_m1[final_m1['Country'] == i]['C_Media'].mean())\n",
    "    l.append(final_m1[final_m1['Country'] == i]['D_Media'].mean())\n",
    "    params_m1[i] = l\n",
    "datos_m1v = {}\n",
    "for i in m1v['Country'].unique():\n",
    "    l = []\n",
    "    for j in m1v[m1v['Country'] == i]['Month'].unique():\n",
    "        dic = {}\n",
    "        dic['Month'] = j\n",
    "        dic['X'] = [0] + m1v[(m1v['Country'] == i)&(m1v['Month'] == j)]['%Month'].tolist()\n",
    "        dic['Y'] = [0] + m1v[(m1v['Country'] == i)&(m1v['Month'] == j)]['%M1'].tolist()\n",
    "        l.append(dic)\n",
    "    datos_m1v[i] = l\n",
    "for i in datos_m1v.keys():\n",
    "    for j in datos_m1v[i]:\n",
    "        j['Res'] = j['Y'] - objective(np.array(j['X']),params_m1[i][0],params_m1[i][1],params_m1[i][2],params_m1[i][3])\n",
    "        j['SS_Res'] = np.sum(j['Res']**2)\n",
    "        j['SS_Tot'] = np.sum((j['Y'] - np.mean(j['Y']))**2)\n",
    "        j['R_Sq'] = 1 - j['SS_Res'] / j['SS_Tot']"
   ]
  },
  {
   "cell_type": "code",
   "execution_count": 658,
   "metadata": {},
   "outputs": [
    {
     "name": "stdout",
     "output_type": "stream",
     "text": [
      "Argentina-2021-04->R_Sq: 0.9791\n",
      "Argentina-2021-05->R_Sq: 0.9827\n",
      "Argentina-2021-06->R_Sq: 0.995\n",
      "Bolivia-2021-04->R_Sq: 0.885\n",
      "Bolivia-2021-05->R_Sq: 0.9819\n",
      "Bolivia-2021-06->R_Sq: 0.9154\n",
      "Chile-2021-04->R_Sq: 0.9245\n",
      "Chile-2021-05->R_Sq: 0.9957\n",
      "Chile-2021-06->R_Sq: 0.9894\n",
      "Costa Rica-2021-04->R_Sq: 0.9858\n",
      "Costa Rica-2021-05->R_Sq: 0.9958\n",
      "Costa Rica-2021-06->R_Sq: 0.9596\n",
      "Ecuador-2021-04->R_Sq: 0.9973\n",
      "Ecuador-2021-05->R_Sq: 0.9723\n",
      "Ecuador-2021-06->R_Sq: 0.9714\n",
      "El Salvador-2021-04->R_Sq: 0.9213\n",
      "El Salvador-2021-05->R_Sq: 0.9407\n",
      "El Salvador-2021-06->R_Sq: 0.994\n",
      "Guatemala-2021-04->R_Sq: 0.9889\n",
      "Guatemala-2021-05->R_Sq: 0.9349\n",
      "Guatemala-2021-06->R_Sq: 0.9953\n",
      "Honduras-2021-04->R_Sq: 0.959\n",
      "Honduras-2021-05->R_Sq: 0.9677\n",
      "Honduras-2021-06->R_Sq: 0.9856\n",
      "Panamá-2021-04->R_Sq: 0.8554\n",
      "Panamá-2021-05->R_Sq: 0.9823\n",
      "Panamá-2021-06->R_Sq: 0.996\n",
      "Paraguay-2021-04->R_Sq: 0.9764\n",
      "Paraguay-2021-05->R_Sq: 0.631\n",
      "Paraguay-2021-06->R_Sq: 0.7393\n",
      "Perú-2021-04->R_Sq: 0.9897\n",
      "Perú-2021-05->R_Sq: 0.9716\n",
      "Perú-2021-06->R_Sq: 0.9603\n",
      "República Dominicana-2021-04->R_Sq: 0.9864\n",
      "República Dominicana-2021-05->R_Sq: 0.9915\n",
      "República Dominicana-2021-06->R_Sq: 0.987\n",
      "Uruguay-2021-04->R_Sq: 0.9895\n",
      "Uruguay-2021-05->R_Sq: 0.9928\n",
      "Uruguay-2021-06->R_Sq: 0.9911\n",
      "Venezuela-2021-04->R_Sq: 0.9623\n",
      "Venezuela-2021-05->R_Sq: 0.9783\n",
      "Venezuela-2021-06->R_Sq: 0.9465\n",
      "Nicaragua-2021-06->R_Sq: 0.9834\n"
     ]
    }
   ],
   "source": [
    "# Veo los resultados\n",
    "for i in datos_m1v.keys():\n",
    "    for j in datos_m1v[i]:\n",
    "        print(i+'-'+j['Month']+'->R_Sq: '+str(round(j['R_Sq'],4)))"
   ]
  },
  {
   "cell_type": "markdown",
   "metadata": {},
   "source": [
    "#### REORDER"
   ]
  },
  {
   "cell_type": "code",
   "execution_count": 659,
   "metadata": {},
   "outputs": [],
   "source": [
    "# Creo PT General por mes\n",
    "pt_reo = reo.pivot_table(index=['Month','Country'],values=['Users','Reorders'],aggfunc={'Users':np.median,'Reorders':np.sum},fill_value=0).reset_index()\n",
    "pt_reo['%Reorder'] = pt_reo['Reorders'] / pt_reo['Users']\n",
    "pt_reo.replace([np.nan,np.inf,-np.inf],'-',inplace=True)\n",
    "pt_reo.sort_values(by=['Country','Month'],inplace=True)"
   ]
  },
  {
   "cell_type": "code",
   "execution_count": 660,
   "metadata": {},
   "outputs": [],
   "source": [
    "# Creo columna acumulada de M1\n",
    "reo['Cum_Reorders'] = reo.groupby(by=['Country','Month'])['Reorders'].cumsum()\n",
    "reo['Cum_Reorder'] = reo['Cum_Reorders'] / reo['Users']\n",
    "reo.replace([np.nan,np.inf,-np.inf],'-',inplace=True)\n",
    "# Creo las columnas necesarias\n",
    "we = ['Friday','Saturday','Sunday']\n",
    "reo['Weekday'] = reo['Reorder_Fecha'].dt.day_name()\n",
    "reo['Weekday Value'] = reo['Weekday'].apply(lambda x: 1.4 if x in we else 1)\n",
    "reo['Cum_Weekday'] = reo.groupby(by=['Country','Month'])['Weekday Value'].cumsum()\n",
    "reo = reo.merge(reo.groupby(['Country','Month'],sort=False)['Weekday Value'].sum().reset_index(name='Month Value'),on=['Country','Month'],how='left')\n",
    "reo = reo.merge(reo.groupby(['Country','Month'],sort=False)['Cum_Reorder'].max().reset_index(name='Month Reorder'),on=['Country','Month'],how='left')\n",
    "reo['%Month'] = reo['Cum_Weekday'] / reo['Month Value']\n",
    "reo['%Reorder'] = reo['Cum_Reorder'] / reo['Month Reorder']\n",
    "reo.replace([np.nan,np.inf,-np.inf],'-',inplace=True)"
   ]
  },
  {
   "cell_type": "code",
   "execution_count": 661,
   "metadata": {},
   "outputs": [],
   "source": [
    "# Carmbio el formato a la fecha de Reorder\n",
    "reo[['Month','Reorder_Fecha']] = reo[['Month','Reorder_Fecha']].astype(str)\n",
    "# Borro a Colombia y Brasil de la lista\n",
    "reo = reo[~reo['Country'].isin(['Brasil','Colombia'])].copy()"
   ]
  },
  {
   "cell_type": "code",
   "execution_count": 662,
   "metadata": {},
   "outputs": [],
   "source": [
    "# Armo diccionario para el modelo\n",
    "lista_reorder = []\n",
    "for i in reo['Country'].unique():\n",
    "    for j in reo[reo['Country'] == i]['Month'].unique():\n",
    "        dic = {}\n",
    "        dic['Country'] = i\n",
    "        dic['Month'] = j\n",
    "        dic['X'] = [0] + reo[(reo['Country'] == i)&(reo['Month'] == j)]['%Month'].tolist()\n",
    "        dic['Y'] = [0] + reo[(reo['Country'] == i)&(reo['Month'] == j)]['%Reorder'].tolist()\n",
    "        lista_reorder.append(dic)"
   ]
  },
  {
   "cell_type": "code",
   "execution_count": 663,
   "metadata": {},
   "outputs": [],
   "source": [
    "# Creo las curvas de Reorder\n",
    "for i in lista_reorder:\n",
    "    popt,_ = curve_fit(objective,i['X'],i['Y'])\n",
    "    a,b,c,d = popt\n",
    "    i['A'] = a\n",
    "    i['B'] = b\n",
    "    i['C'] = c\n",
    "    i['D'] = d"
   ]
  },
  {
   "cell_type": "code",
   "execution_count": 664,
   "metadata": {},
   "outputs": [],
   "source": [
    "# Creo el DF de Reorder\n",
    "final_reo = copy.deepcopy(lista_reorder)\n",
    "for i in final_reo:\n",
    "    i.pop('X',None)\n",
    "    i.pop('Y',None)\n",
    "final_reo = pd.DataFrame(final_reo)\n",
    "# Creo las columnas de Means\n",
    "final_reo = final_reo.merge(final_reo.groupby(['Country'],sort=False)['A'].mean().reset_index(name='A_Media'),on=['Country'],how='left')\n",
    "final_reo = final_reo.merge(final_reo.groupby(['Country'],sort=False)['B'].mean().reset_index(name='B_Media'),on=['Country'],how='left')\n",
    "final_reo = final_reo.merge(final_reo.groupby(['Country'],sort=False)['C'].mean().reset_index(name='C_Media'),on=['Country'],how='left')\n",
    "final_reo = final_reo.merge(final_reo.groupby(['Country'],sort=False)['D'].mean().reset_index(name='D_Media'),on=['Country'],how='left')"
   ]
  },
  {
   "cell_type": "code",
   "execution_count": 672,
   "metadata": {},
   "outputs": [
    {
     "data": {
      "image/png": "[encoded data removed]",
      "text/plain": [
       "<Figure size 432x288 with 1 Axes>"
      ]
     },
     "metadata": {
      "needs_background": "light"
     },
     "output_type": "display_data"
    }
   ],
   "source": [
    "# Lineas\n",
    "x_line = arange(0,1,0.1)\n",
    "cn = 'Argentina'\n",
    "dic = {}\n",
    "for i in final_reo[final_reo['Country'] == cn]['Month'].unique():\n",
    "    a = final_reo[(final_reo['Country'] == cn)&(final_reo['Month'] == i)]['A']\n",
    "    b = final_reo[(final_reo['Country'] == cn)&(final_reo['Month'] == i)]['B']\n",
    "    c = final_reo[(final_reo['Country'] == cn)&(final_reo['Month'] == i)]['C']\n",
    "    d = final_reo[(final_reo['Country'] == cn)&(final_reo['Month'] == i)]['D']\n",
    "    dic[i] = objective(x_line,a,b,c,d)\n",
    "    if i == final_reo[final_reo['Country'] == cn]['Month'].max():\n",
    "        am = final_reo[(final_reo['Country'] == cn)&(final_reo['Month'] == i)]['A_Media']\n",
    "        bm = final_reo[(final_reo['Country'] == cn)&(final_reo['Month'] == i)]['B_Media']\n",
    "        cm = final_reo[(final_reo['Country'] == cn)&(final_reo['Month'] == i)]['C_Media']\n",
    "        dm = final_reo[(final_reo['Country'] == cn)&(final_reo['Month'] == i)]['D_Media']\n",
    "        dic['Media'] = objective(x_line,am,bm,cm,dm)\n",
    "for i in dic.keys():\n",
    "    plt.plot(x_line,dic[i],label=i)\n",
    "plt.xlabel('x')\n",
    "plt.ylabel('y')\n",
    "plt.legend(loc='best', fancybox=True, shadow=True)\n",
    "plt.grid(True)\n",
    "plt.show()"
   ]
  },
  {
   "cell_type": "code",
   "execution_count": 668,
   "metadata": {},
   "outputs": [],
   "source": [
    "# Testeo el error de los vouchers en el modelo total\n",
    "params_reo = {}\n",
    "for i in final_reo['Country'].unique():\n",
    "    l = []\n",
    "    l.append(final_reo[final_reo['Country'] == i]['A_Media'].mean())\n",
    "    l.append(final_reo[final_reo['Country'] == i]['B_Media'].mean())\n",
    "    l.append(final_reo[final_reo['Country'] == i]['C_Media'].mean())\n",
    "    l.append(final_reo[final_reo['Country'] == i]['D_Media'].mean())\n",
    "    params_reo[i] = l\n",
    "datos_reo = {}\n",
    "for i in reo['Country'].unique():\n",
    "    l = []\n",
    "    for j in reo[reo['Country'] == i]['Month'].unique():\n",
    "        dic = {}\n",
    "        dic['Month'] = j\n",
    "        dic['X'] = [0] + reo[(reo['Country'] == i)&(reo['Month'] == j)]['%Month'].tolist()\n",
    "        dic['Y'] = [0] + reo[(reo['Country'] == i)&(reo['Month'] == j)]['%Reorder'].tolist()\n",
    "        l.append(dic)\n",
    "    datos_reo[i] = l\n",
    "for i in datos_reo.keys():\n",
    "    for j in datos_reo[i]:\n",
    "        j['Res'] = j['Y'] - objective(np.array(j['X']),params_reo[i][0],params_reo[i][1],params_reo[i][2],params_reo[i][3])\n",
    "        j['SS_Res'] = np.sum(j['Res']**2)\n",
    "        j['SS_Tot'] = np.sum((j['Y'] - np.mean(j['Y']))**2)\n",
    "        j['R_Sq'] = 1 - j['SS_Res'] / j['SS_Tot']"
   ]
  },
  {
   "cell_type": "code",
   "execution_count": 669,
   "metadata": {},
   "outputs": [
    {
     "name": "stdout",
     "output_type": "stream",
     "text": [
      "Argentina-2021-04->R_Sq: 0.9959\n",
      "Argentina-2021-05->R_Sq: 0.9969\n",
      "Argentina-2021-06->R_Sq: 0.9965\n",
      "Bolivia-2021-04->R_Sq: 0.993\n",
      "Bolivia-2021-05->R_Sq: 0.9959\n",
      "Bolivia-2021-06->R_Sq: 0.9969\n",
      "Chile-2021-04->R_Sq: 0.9973\n",
      "Chile-2021-05->R_Sq: 0.9981\n",
      "Chile-2021-06->R_Sq: 0.9983\n",
      "Costa Rica-2021-04->R_Sq: 0.9842\n",
      "Costa Rica-2021-05->R_Sq: 0.9984\n",
      "Costa Rica-2021-06->R_Sq: 0.9884\n",
      "Ecuador-2021-04->R_Sq: 0.9843\n",
      "Ecuador-2021-05->R_Sq: 0.9912\n",
      "Ecuador-2021-06->R_Sq: 0.9976\n",
      "El Salvador-2021-04->R_Sq: 0.9942\n",
      "El Salvador-2021-05->R_Sq: 0.9933\n",
      "El Salvador-2021-06->R_Sq: 0.9945\n",
      "Guatemala-2021-04->R_Sq: 0.976\n",
      "Guatemala-2021-05->R_Sq: 0.9935\n",
      "Guatemala-2021-06->R_Sq: 0.996\n",
      "Honduras-2021-04->R_Sq: 0.9324\n",
      "Honduras-2021-05->R_Sq: 0.969\n",
      "Honduras-2021-06->R_Sq: 0.9965\n",
      "Panamá-2021-04->R_Sq: 0.9975\n",
      "Panamá-2021-05->R_Sq: 0.9967\n",
      "Panamá-2021-06->R_Sq: 0.9968\n",
      "Paraguay-2021-04->R_Sq: 0.9965\n",
      "Paraguay-2021-05->R_Sq: 0.9965\n",
      "Paraguay-2021-06->R_Sq: 0.9935\n",
      "Perú-2021-04->R_Sq: 0.9892\n",
      "Perú-2021-05->R_Sq: 0.9967\n",
      "Perú-2021-06->R_Sq: 0.9985\n",
      "República Dominicana-2021-04->R_Sq: 0.9963\n",
      "República Dominicana-2021-05->R_Sq: 0.9938\n",
      "República Dominicana-2021-06->R_Sq: 0.9926\n",
      "Uruguay-2021-04->R_Sq: 0.9937\n",
      "Uruguay-2021-05->R_Sq: 0.9954\n",
      "Uruguay-2021-06->R_Sq: 0.9904\n",
      "Venezuela-2021-04->R_Sq: 0.9884\n",
      "Venezuela-2021-05->R_Sq: 0.9967\n",
      "Venezuela-2021-06->R_Sq: 0.9907\n"
     ]
    }
   ],
   "source": [
    "# Veo los resultados\n",
    "for i in datos_reo.keys():\n",
    "    for j in datos_reo[i]:\n",
    "        print(i+'-'+j['Month']+'->R_Sq: '+str(round(j['R_Sq'],4)))"
   ]
  },
  {
   "cell_type": "markdown",
   "metadata": {},
   "source": [
    "#### DF R_SQ"
   ]
  },
  {
   "cell_type": "code",
   "execution_count": 690,
   "metadata": {},
   "outputs": [],
   "source": [
    "# Veo los resultados\n",
    "l = []\n",
    "for i in datos_reo.keys():\n",
    "    for j in datos_reo[i]:\n",
    "        dic = {}\n",
    "        dic['Tipo'] = 'Reorder'\n",
    "        dic['Country'] = i\n",
    "        dic['Month'] = j['Month']\n",
    "        dic['R_Sq'] = round(j['R_Sq'],6)\n",
    "        l.append(dic)\n",
    "for i in datos_m1.keys():\n",
    "    for j in datos_m1[i]:\n",
    "        dic = {}\n",
    "        dic['Tipo'] = 'M1'\n",
    "        dic['Country'] = i\n",
    "        dic['Month'] = j['Month']\n",
    "        dic['R_Sq'] = round(j['R_Sq'],6)\n",
    "        l.append(dic)\n",
    "for i in datos_m1v.keys():\n",
    "    for j in datos_m1v[i]:\n",
    "        dic = {}\n",
    "        dic['Tipo'] = 'M1 Vouchers'\n",
    "        dic['Country'] = i\n",
    "        dic['Month'] = j['Month']\n",
    "        dic['R_Sq'] = round(j['R_Sq'],6)\n",
    "        l.append(dic)\n",
    "r_sq = pd.DataFrame(l)"
   ]
  },
  {
   "cell_type": "markdown",
   "metadata": {},
   "source": [
    "### CARGA"
   ]
  },
  {
   "cell_type": "code",
   "execution_count": 444,
   "metadata": {},
   "outputs": [
    {
     "name": "stdout",
     "output_type": "stream",
     "text": [
      "Carga Correcta!\n"
     ]
    }
   ],
   "source": [
    "carga(m1,'1oPgQD_OAlJyVMUWunOSTLxzUwvc3FSbSWF5xV4xMbk8','Crudo M1')"
   ]
  },
  {
   "cell_type": "code",
   "execution_count": 445,
   "metadata": {},
   "outputs": [
    {
     "name": "stdout",
     "output_type": "stream",
     "text": [
      "Carga Correcta!\n"
     ]
    }
   ],
   "source": [
    "carga(final_m1,'1oPgQD_OAlJyVMUWunOSTLxzUwvc3FSbSWF5xV4xMbk8','Curvas M1')"
   ]
  },
  {
   "cell_type": "code",
   "execution_count": 446,
   "metadata": {},
   "outputs": [
    {
     "name": "stdout",
     "output_type": "stream",
     "text": [
      "Carga Correcta!\n"
     ]
    }
   ],
   "source": [
    "carga(reo,'1oPgQD_OAlJyVMUWunOSTLxzUwvc3FSbSWF5xV4xMbk8','Crudo Reorder')"
   ]
  },
  {
   "cell_type": "code",
   "execution_count": 447,
   "metadata": {},
   "outputs": [
    {
     "name": "stdout",
     "output_type": "stream",
     "text": [
      "Carga Correcta!\n"
     ]
    }
   ],
   "source": [
    "carga(final_reo,'1oPgQD_OAlJyVMUWunOSTLxzUwvc3FSbSWF5xV4xMbk8','Curvas Reorder')"
   ]
  },
  {
   "cell_type": "code",
   "execution_count": 691,
   "metadata": {},
   "outputs": [
    {
     "name": "stdout",
     "output_type": "stream",
     "text": [
      "Carga Correcta!\n"
     ]
    }
   ],
   "source": [
    "carga(r_sq,'1oPgQD_OAlJyVMUWunOSTLxzUwvc3FSbSWF5xV4xMbk8','R_Square')"
   ]
  }
 ],
 "metadata": {
  "kernelspec": {
   "display_name": "Python 3",
   "language": "python",
   "name": "python3"
  },
  "language_info": {
   "codemirror_mode": {
    "name": "ipython",
    "version": 3
   },
   "file_extension": ".py",
   "mimetype": "text/x-python",
   "name": "python",
   "nbconvert_exporter": "python",
   "pygments_lexer": "ipython3",
   "version": "3.7.6"
  }
 },
 "nbformat": 4,
 "nbformat_minor": 4
}
