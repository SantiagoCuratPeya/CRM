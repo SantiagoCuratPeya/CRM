{
 "cells": [
  {
   "cell_type": "markdown",
   "metadata": {},
   "source": [
    "### IMPORTS"
   ]
  },
  {
   "cell_type": "code",
   "execution_count": 1,
   "metadata": {},
   "outputs": [],
   "source": [
    "import sys, os\n",
    "sys.path.append(os.path.join(sys.path[0],'Pythons'))"
   ]
  },
  {
   "cell_type": "code",
   "execution_count": 2,
   "metadata": {},
   "outputs": [],
   "source": [
    "from Carga_Descarga import *\n",
    "from CRM_Central import *"
   ]
  },
  {
   "cell_type": "markdown",
   "metadata": {},
   "source": [
    "### GOOGLE SHEETS"
   ]
  },
  {
   "cell_type": "code",
   "execution_count": 3,
   "metadata": {},
   "outputs": [
    {
     "name": "stdout",
     "output_type": "stream",
     "text": [
      "Descarga Correcta!\n"
     ]
    }
   ],
   "source": [
    "comp = descarga('1d4cMi-V04c80Dpen4S70Q7zYqqho3ZBIVctlRIBLwiw','Competencias')"
   ]
  },
  {
   "cell_type": "code",
   "execution_count": 4,
   "metadata": {},
   "outputs": [],
   "source": [
    "comp_type = {}\n",
    "for i in comp['Country'].unique():\n",
    "    comp_type[i] = comp[comp['Country'] == i]['Tipo'].unique()[0]"
   ]
  },
  {
   "cell_type": "markdown",
   "metadata": {},
   "source": [
    "### QUERIES"
   ]
  },
  {
   "cell_type": "code",
   "execution_count": 5,
   "metadata": {},
   "outputs": [],
   "source": [
    "q_crudo = '''WITH acq_table AS (\n",
    "    SELECT o.user.id AS user\n",
    "    FROM `peya-bi-tools-pro.il_core.fact_orders` AS o\n",
    "    WHERE o.registered_date >= DATE('2021-06-01')\n",
    "          AND o.is_acquisition = 1),\n",
    "    users_table AS (\n",
    "    SELECT o.user.id AS user,\n",
    "           CASE WHEN acq.user IS NOT NULL THEN TRUE ELSE FALSE END AS new_user,\n",
    "           cn.country_name AS country,\n",
    "           SUM(o.shipping_amount_no_discount + amount_no_discount) AS total_amount,\n",
    "           SUM(o.voucher_discount_amount) AS voucher_dc,\n",
    "           IFNULL(SAFE_DIVIDE(SUM(o.voucher_discount_amount),SUM(o.shipping_amount_no_discount + amount_no_discount)),0) AS adr,\n",
    "           CASE WHEN IFNULL(SAFE_DIVIDE(SUM(o.voucher_discount_amount),SUM(o.shipping_amount_no_discount + amount_no_discount)),0) < 0.1 THEN 'Under 10'\n",
    "                WHEN IFNULL(SAFE_DIVIDE(SUM(o.voucher_discount_amount),SUM(o.shipping_amount_no_discount + amount_no_discount)),0) < 0.2 THEN 'Under 20'\n",
    "                WHEN IFNULL(SAFE_DIVIDE(SUM(o.voucher_discount_amount),SUM(o.shipping_amount_no_discount + amount_no_discount)),0) < 0.3 THEN 'Under 30'\n",
    "                WHEN IFNULL(SAFE_DIVIDE(SUM(o.voucher_discount_amount),SUM(o.shipping_amount_no_discount + amount_no_discount)),0) < 0.4 THEN 'Under 40'\n",
    "                WHEN IFNULL(SAFE_DIVIDE(SUM(o.voucher_discount_amount),SUM(o.shipping_amount_no_discount + amount_no_discount)),0) < 0.5 THEN 'Under 50'\n",
    "                WHEN IFNULL(SAFE_DIVIDE(SUM(o.voucher_discount_amount),SUM(o.shipping_amount_no_discount + amount_no_discount)),0) < 0.6 THEN 'Under 60'\n",
    "                WHEN IFNULL(SAFE_DIVIDE(SUM(o.voucher_discount_amount),SUM(o.shipping_amount_no_discount + amount_no_discount)),0) < 0.7 THEN 'Under 70'\n",
    "                WHEN IFNULL(SAFE_DIVIDE(SUM(o.voucher_discount_amount),SUM(o.shipping_amount_no_discount + amount_no_discount)),0) < 0.8 THEN 'Under 80'\n",
    "                WHEN IFNULL(SAFE_DIVIDE(SUM(o.voucher_discount_amount),SUM(o.shipping_amount_no_discount + amount_no_discount)),0) < 0.9 THEN 'Under 90'\n",
    "                ELSE 'Over 90' END AS adr_cluster\n",
    "    FROM `peya-bi-tools-pro.il_core.fact_orders` AS o\n",
    "    LEFT JOIN `peya-bi-tools-pro.il_core.dim_user` AS u ON o.user.id = u.user_id\n",
    "    INNER JOIN `peya-bi-tools-pro.il_core.dim_country` AS cn ON o.country_id = cn.country_id AND cn.active\n",
    "    LEFT JOIN acq_table AS acq ON o.user.id = acq.user\n",
    "    WHERE o.registered_date >= DATE_ADD(CURRENT_DATE(),INTERVAL -181 DAY)\n",
    "        AND o.order_status = 'CONFIRMED'\n",
    "    GROUP BY 1,2,3),\n",
    "    cluster_table AS (\n",
    "    SELECT ut.country AS country,\n",
    "           ut.new_user AS new_user,\n",
    "           ut.adr_cluster AS adr_cluster,\n",
    "           COUNT(DISTINCT ut.user) AS cluster_users\n",
    "    FROM users_table AS ut\n",
    "    GROUP BY 1,2,3),\n",
    "    orders_table AS (\n",
    "    SELECT o.user.id AS user,\n",
    "           o.order_id AS order_id,\n",
    "           o.registered_date AS fecha,\n",
    "           cn.country_name AS country,\n",
    "           IFNULL(c.city_name,'-') AS city,\n",
    "           IFNULL(a.area_name,'-') AS area,\n",
    "           CASE WHEN tc.order_id IS NOT NULL THEN TRUE ELSE FALSE END AS with_voucher,\n",
    "           tca.talon_campaign_name AS campaign,\n",
    "           o.total_amount_with_delivery_costs AS gmv,\n",
    "           CASE WHEN bi.payment_mode != 'TOTAL_AMOUNT' THEN TRUE ELSE FALSE END AS shopper,\n",
    "           CASE WHEN tc.order_id IS NOT NULL THEN tc.coupon_used_amount ELSE NULL END AS used_amount\n",
    "    FROM `peya-bi-tools-pro.il_core.fact_orders` AS o\n",
    "    LEFT JOIN `peya-bi-tools-pro.il_core.dim_country` AS cn ON o.country_id = cn.country_id\n",
    "    LEFT JOIN `peya-bi-tools-pro.il_growth.fact_talon_coupons` AS tc ON o.order_id = tc.order_id\n",
    "    LEFT JOIN `peya-bi-tools-pro.il_growth.dim_talon_campaigns` AS tca ON tc.talon_campaign_id = tca.talon_campaign_id\n",
    "    LEFT JOIN `peya-bi-tools-pro.il_core.dim_partner` AS p ON o.restaurant.id = p.partner_id\n",
    "    LEFT JOIN `peya-bi-tools-pro.il_core.dim_billing_info` AS bi ON p.billingInfo.billing_info_id = bi.billing_info_id\n",
    "    LEFT JOIN `peya-bi-tools-pro.il_core.dim_city` AS c ON o.city.city_id = c.city_id\n",
    "    LEFT JOIN `peya-bi-tools-pro.il_core.dim_area` AS a ON o.address.area.id = a.area_id\n",
    "    WHERE o.registered_date BETWEEN DATE('2021-05-01') AND DATE('2021-08-31')\n",
    "          AND o.order_status = 'CONFIRMED')\n",
    "SELECT ut.country AS Country,\n",
    "       ut.adr_cluster AS ADR_Cluster,\n",
    "       CASE WHEN ct.new_user THEN 'New' ELSE 'Old' END AS User_Type, \n",
    "       ct.cluster_users AS Cluster_Users,\n",
    "       ot.city AS City,\n",
    "       ot.area AS Area,\n",
    "       IFNULL(ot.campaign,'-') AS Campaign,\n",
    "       FORMAT_DATE('%Y-%m',ot.fecha) AS Month,\n",
    "       COUNT(DISTINCT ot.order_id) AS Total_Orders,\n",
    "       COUNT(DISTINCT CASE WHEN ot.with_voucher THEN ot.order_id ELSE NULL END) AS Voucher_Orders,\n",
    "       SUM(ot.gmv) AS GMV,\n",
    "       IFNULL(SUM(CASE WHEN ot.shopper = FALSE THEN ot.used_amount ELSE 0 END),0) AS Amount,\n",
    "       IFNULL(SUM(CASE WHEN ot.shopper THEN ot.used_amount ELSE 0 END),0) AS Amount_Shopper,\n",
    "FROM users_table AS ut\n",
    "LEFT JOIN cluster_table AS ct ON ut.country = ct.country AND ut.adr_cluster = ct.adr_cluster AND ut.new_user = ct.new_user\n",
    "LEFT JOIN orders_table AS ot ON ut.user = ot.user AND ut.country = ot.country\n",
    "WHERE ut.country IN ('Argentina','Chile')\n",
    "GROUP BY 1,2,3,4,5,6,7,8\n",
    "ORDER BY 1,2'''"
   ]
  },
  {
   "cell_type": "code",
   "execution_count": 6,
   "metadata": {},
   "outputs": [
    {
     "name": "stderr",
     "output_type": "stream",
     "text": [
      "Downloading: 100%|█████████████████████████████████████████████████████████| 930458/930458 [03:16<00:00, 4739.24rows/s]\n"
     ]
    }
   ],
   "source": [
    "# Descargo la data\n",
    "bq_crudo = pd.io.gbq.read_gbq(q_crudo, project_id='peya-argentina', dialect='standard')"
   ]
  },
  {
   "cell_type": "code",
   "execution_count": 7,
   "metadata": {},
   "outputs": [],
   "source": [
    "# Copio las bases\n",
    "crudo = bq_crudo.copy()"
   ]
  },
  {
   "cell_type": "markdown",
   "metadata": {},
   "source": [
    "### TRABAJO"
   ]
  },
  {
   "cell_type": "code",
   "execution_count": 8,
   "metadata": {},
   "outputs": [],
   "source": [
    "# Trabajo Crudo\n",
    "cols = ['Country','ADR_Cluster','City','Area','User_Type','Campaign','Month']\n",
    "val = [i for i in crudo.columns if i not in cols]\n",
    "crudo[val] = crudo[val].astype(float)\n",
    "crudo[cols] = crudo[cols].apply(lambda x: x.astype(str).str.upper())\n",
    "crudo['Campaign'] = crudo['Campaign'].str.replace(' ', '')"
   ]
  },
  {
   "cell_type": "code",
   "execution_count": 9,
   "metadata": {},
   "outputs": [],
   "source": [
    "# Trabajo CRM\n",
    "crudo['Type'] = crudo.apply(lambda x: filtros(x['Campaign'],'TIPOS'),axis=1)\n",
    "crudo['Type'] = crudo.apply(lambda x: '-' if x['Campaign'] == '-' else x['Type'],axis=1)\n",
    "crudo['Segment'] = crudo['Campaign'].apply(lambda x: filtros(x,'SEGMENTOS'))\n",
    "crudo['Segment'] = crudo.apply(lambda x: '-' if x['Campaign'] == '-' else x['Segment'],axis=1)\n",
    "crudo['Level'] = crudo['Campaign'].apply(lambda x: filtros(x,'NIVELES'))\n",
    "crudo['Level'] = crudo.apply(lambda x: '-' if x['Campaign'] == '-' else x['Level'],axis=1)\n",
    "crudo['Campaña'] = crudo['Campaign'].apply(lambda x: filtros(x,'CAMPAIGNS'))\n",
    "crudo['Campaña'] = crudo.apply(lambda x: '-' if x['Campaign'] == '-' else x['Campaña'],axis=1)\n",
    "crudo['Automated'] = crudo['Campaign'].apply(lambda x: filtros(x,'AUTOMATIONS'))\n",
    "crudo['Automated'] = crudo.apply(lambda x: '-' if x['Campaign'] == '-' else x['Automated'],axis=1)\n",
    "crudo['Budget'] = crudo['Campaign'].apply(lambda x: filtros(x,'BUDGET'))\n",
    "crudo['Budget'] = crudo.apply(lambda x: '-' if x['Campaign'] == '-' else x['Budget'],axis=1)\n",
    "crudo['Trial'] = crudo['Campaign'].apply(lambda x: filtros(x,'TRIAL'))\n",
    "crudo['Trial'] = crudo.apply(lambda x: '-' if x['Campaign'] == '-' else x['Trial'],axis=1)\n",
    "# Coloco el IVA\n",
    "crudo = func_iva(crudo)\n",
    "# Marco las campañas a filtrar\n",
    "crudo['Filtrar'] = crudo['Campaign'].apply(filtrar_cam)\n",
    "# Saco el IVA\n",
    "used = 'Amount'\n",
    "used_shopper = 'Amount_Shopper'\n",
    "crudo['Final'] = crudo[used_shopper] / (1 + crudo['IVA']) * crudo['Extra'] + crudo[used]"
   ]
  },
  {
   "cell_type": "code",
   "execution_count": 10,
   "metadata": {},
   "outputs": [],
   "source": [
    "# Filtro las campañas de Voucher Campaigns\n",
    "crudo['Tipo'] = crudo['Type'].apply(lambda x: '-' if x == 'VOUCHER CAMPAIGNS' else 'OK')\n",
    "crudo['Budget'] = crudo['Budget'].apply(lambda x: '-' if x in ['DMARTS','NONE','-'] else x)"
   ]
  },
  {
   "cell_type": "code",
   "execution_count": 11,
   "metadata": {},
   "outputs": [],
   "source": [
    "# Coloco el tipo de Competencia\n",
    "crudo['Competitive Type'] = crudo['Country'].apply(lambda x: comp_type[x] if x in list(comp_type.keys()) else '-')\n",
    "crudo['Union'] = crudo.apply(lambda x: str(x['Country'])+'-'+str(x['City'])+'-'+str(x['Area']) if x['Competitive Type'] == 'CITY-AREA' else str(x['Country'])+'-'+str(x['City'])+'-',axis=1)\n",
    "# Hago un merge con la competencia\n",
    "crudo = crudo.merge(comp[['Union','Competencia']],on=['Union'],how='left')\n",
    "crudo['Competencia'].replace([np.nan,np.inf,-np.inf],'LOW',inplace=True)\n",
    "# Marco pais sin Competencia\n",
    "crudo['Pais Competido'] = crudo['Country'].apply(lambda x: 'SI' if x in list(comp_type.keys()) else 'NO')"
   ]
  },
  {
   "cell_type": "code",
   "execution_count": 12,
   "metadata": {},
   "outputs": [],
   "source": [
    "# Creo la PT\n",
    "index = ['Country','Month','ADR_Cluster','User_Type','Competencia','Budget','Filtrar','Tipo']\n",
    "values = ['Cluster_Users','Total_Orders','Voucher_Orders','GMV','Final']\n",
    "aggfunc = {'Cluster_Users':'mean',\n",
    "           'Total_Orders':'sum',\n",
    "           'Voucher_Orders':'sum',\n",
    "           'GMV':'sum',\n",
    "           'Final':'sum'}\n",
    "final = crudo.pivot_table(index=index,values=values,aggfunc=aggfunc,fill_value=0).reset_index()"
   ]
  },
  {
   "cell_type": "markdown",
   "metadata": {},
   "source": [
    "### CARGA"
   ]
  },
  {
   "cell_type": "code",
   "execution_count": 20,
   "metadata": {},
   "outputs": [
    {
     "name": "stdout",
     "output_type": "stream",
     "text": [
      "Carga Correcta!\n"
     ]
    }
   ],
   "source": [
    "carga(final,'1gVjnzSHHAGwbK6_QxvRWlehF0W28F6w2h9ZmBbhazQ8','Crudo')"
   ]
  }
 ],
 "metadata": {
  "kernelspec": {
   "display_name": "Python 3",
   "language": "python",
   "name": "python3"
  },
  "language_info": {
   "codemirror_mode": {
    "name": "ipython",
    "version": 3
   },
   "file_extension": ".py",
   "mimetype": "text/x-python",
   "name": "python",
   "nbconvert_exporter": "python",
   "pygments_lexer": "ipython3",
   "version": "3.7.6"
  }
 },
 "nbformat": 4,
 "nbformat_minor": 4
}
