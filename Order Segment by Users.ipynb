{
 "cells": [
  {
   "cell_type": "markdown",
   "metadata": {},
   "source": [
    "### IMPORTS"
   ]
  },
  {
   "cell_type": "code",
   "execution_count": 1,
   "metadata": {},
   "outputs": [],
   "source": [
    "import sys, os\n",
    "sys.path.append(os.path.join(sys.path[0],'Pythons'))"
   ]
  },
  {
   "cell_type": "code",
   "execution_count": 2,
   "metadata": {},
   "outputs": [],
   "source": [
    "from Carga_Descarga import *\n",
    "from CRM_Central import *"
   ]
  },
  {
   "cell_type": "markdown",
   "metadata": {},
   "source": [
    "### CONSTANTES"
   ]
  },
  {
   "cell_type": "code",
   "execution_count": 3,
   "metadata": {},
   "outputs": [],
   "source": [
    "# Fechas\n",
    "today = datetime.date.today()\n",
    "if today.day == 1:\n",
    "    end = str(today - relativedelta(days=1))\n",
    "    start = str((today - relativedelta(months=13)).replace(day=1))\n",
    "else:\n",
    "    start = str((today - relativedelta(months=12)).replace(day=1))\n",
    "    end = str(today + relativedelta(months=1) - relativedelta(days=(today + relativedelta(months=1)).day))"
   ]
  },
  {
   "cell_type": "markdown",
   "metadata": {},
   "source": [
    "### QUERIES"
   ]
  },
  {
   "cell_type": "code",
   "execution_count": 4,
   "metadata": {},
   "outputs": [],
   "source": [
    "q = '''WITH dates_table AS (\n",
    "    SELECT DISTINCT FORMAT_DATE('%Y-%m',d.date) AS month\n",
    "    FROM `peya-bi-tools-pro.il_core.dim_date` AS d\n",
    "    WHERE d.date BETWEEN DATE('{0}') AND DATE('{1}')), \n",
    "    cross_table AS (\n",
    "    SELECT DISTINCT dt.month AS month,\n",
    "           o.country_id AS country,\n",
    "           o.user.id AS user\n",
    "    FROM `peya-bi-tools-pro.il_core.fact_orders` AS o\n",
    "    CROSS JOIN dates_table AS dt\n",
    "    WHERE o.registered_date BETWEEN DATE('{0}') AND DATE('{1}')\n",
    "          AND o.order_status= 'CONFIRMED'),\n",
    "    orders_table AS (\n",
    "    SELECT FORMAT_DATE('%Y-%m',o.registered_date) AS month,\n",
    "           o.user.id AS user,\n",
    "           o.country_id AS country,\n",
    "           COUNT(DISTINCT o.order_id) AS orders\n",
    "    FROM `peya-bi-tools-pro.il_core.fact_orders` AS o\n",
    "    WHERE o.registered_date BETWEEN DATE('{0}') AND DATE('{1}')\n",
    "          AND o.order_status = 'CONFIRMED'\n",
    "    GROUP BY 1,2,3),\n",
    "    users_table AS (\n",
    "    SELECT ct.month AS month,\n",
    "           ct.user AS user,\n",
    "           ct.country AS country,\n",
    "           IFNULL(ot.orders,0) AS orders\n",
    "    FROM cross_table AS ct\n",
    "    LEFT JOIN orders_table AS ot ON ct.user = ot.user AND ct.month = ot.month AND ct.country = ot.country),\n",
    "    final_table AS (\n",
    "    SELECT ut.month AS month,\n",
    "           ut.user AS user,\n",
    "           ut.country AS country,\n",
    "           ut.orders AS orders,\n",
    "           LAG(ut.orders,1,0) OVER (PARTITION BY ut.user,ut.country ORDER BY ut.month ASC) AS orders_lm\n",
    "    FROM users_table AS ut)\n",
    "SELECT cn.country_name AS Country,\n",
    "       ft.month AS Month,\n",
    "       COUNT(DISTINCT CASE WHEN ft.orders > 0 THEN ft.user ELSE NULL END) AS Active_Users,\n",
    "       SUM(ft.orders) AS Confirmed_Orders,\n",
    "       COUNT(DISTINCT CASE WHEN ft.orders >= 7 THEN ft.user ELSE NULL END) AS Users_Over7_TM,\n",
    "       COUNT(DISTINCT CASE WHEN ft.orders_lm >= 7 THEN ft.user ELSE NULL END) AS Users_Over7_LM,\n",
    "       SUM(CASE WHEN ft.orders >= 7 THEN ft.orders ELSE 0 END) AS Orders_Over7_TM,\n",
    "       SUM(CASE WHEN ft.orders_lm >= 7 THEN ft.orders_lm ELSE 0 END) AS Orders_Over7_LM,\n",
    "       COUNT(DISTINCT CASE WHEN ft.orders >= 7 AND ft.orders_lm >= 7 THEN ft.user ELSE NULL END) AS Repeated_Users_Over7,\n",
    "       SUM(CASE WHEN ft.orders >= 7 AND ft.orders_lm >= 7 THEN ft.orders ELSE 0 END) AS Repeated_Orders_Over7_TM,\n",
    "       SUM(CASE WHEN ft.orders >= 7 AND ft.orders_lm >= 7 THEN ft.orders_lm ELSE 0 END) AS Repeated_Orders_Over7_LM\n",
    "FROM final_table AS ft\n",
    "LEFT JOIN `peya-bi-tools-pro.il_core.dim_country` AS cn ON ft.country = cn.country_id\n",
    "GROUP BY 1,2\n",
    "ORDER BY 1,2 ASC'''.format(start,end)"
   ]
  },
  {
   "cell_type": "code",
   "execution_count": 5,
   "metadata": {},
   "outputs": [
    {
     "name": "stderr",
     "output_type": "stream",
     "text": [
      "Downloading: 100%|████████████████████████████████████████████████████████████████| 208/208 [00:00<00:00, 539.16rows/s]\n"
     ]
    }
   ],
   "source": [
    "# Descargo la data\n",
    "bq_crudo = pd.io.gbq.read_gbq(q, project_id='peya-argentina', dialect='standard')"
   ]
  },
  {
   "cell_type": "code",
   "execution_count": 6,
   "metadata": {},
   "outputs": [],
   "source": [
    "# Copio las bases\n",
    "crudo = bq_crudo.copy()"
   ]
  },
  {
   "cell_type": "markdown",
   "metadata": {},
   "source": [
    "### TRABAJO"
   ]
  },
  {
   "cell_type": "code",
   "execution_count": 7,
   "metadata": {},
   "outputs": [],
   "source": [
    "# Creo las columnas faltantes\n",
    "crudo['Freq'] = crudo['Confirmed_Orders'] / crudo['Active_Users']\n",
    "crudo['Freq7_TM'] = crudo['Orders_Over7_TM'] / crudo['Users_Over7_TM']\n",
    "crudo['Freq7_LM'] = crudo['Orders_Over7_LM'] / crudo['Users_Over7_LM']\n",
    "crudo['Repeating_Users7'] = crudo['Repeated_Users_Over7'] / crudo['Users_Over7_LM']\n",
    "crudo['Freq_Repeating_TM'] = crudo['Orders_Over7_TM'] / crudo['Repeated_Users_Over7']\n",
    "crudo['Freq_Repeating_LM'] = crudo['Orders_Over7_LM'] / crudo['Repeated_Users_Over7']"
   ]
  },
  {
   "cell_type": "code",
   "execution_count": 8,
   "metadata": {},
   "outputs": [],
   "source": [
    "# Reemplazo por 0 los outliers\n",
    "crudo.replace([np.nan,np.inf,-np.inf],0,inplace=True)"
   ]
  },
  {
   "cell_type": "code",
   "execution_count": 9,
   "metadata": {},
   "outputs": [],
   "source": [
    "# Hago un drop del primer mes (no sirve para calcular)\n",
    "crudo = crudo[crudo['Month'] != crudo['Month'].min()].copy()"
   ]
  },
  {
   "cell_type": "markdown",
   "metadata": {},
   "source": [
    "### CARGA"
   ]
  },
  {
   "cell_type": "code",
   "execution_count": 10,
   "metadata": {},
   "outputs": [
    {
     "name": "stdout",
     "output_type": "stream",
     "text": [
      "Carga Correcta!\n"
     ]
    }
   ],
   "source": [
    "carga(crudo,'1ajuNIPZXJIgT393ySCK7_Q_xWEg5Yjb10TlxJgkwYog','Crudo')"
   ]
  }
 ],
 "metadata": {
  "kernelspec": {
   "display_name": "Python 3",
   "language": "python",
   "name": "python3"
  },
  "language_info": {
   "codemirror_mode": {
    "name": "ipython",
    "version": 3
   },
   "file_extension": ".py",
   "mimetype": "text/x-python",
   "name": "python",
   "nbconvert_exporter": "python",
   "pygments_lexer": "ipython3",
   "version": "3.7.6"
  }
 },
 "nbformat": 4,
 "nbformat_minor": 4
}
