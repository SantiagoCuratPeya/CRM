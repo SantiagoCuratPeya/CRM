{
 "cells": [
  {
   "cell_type": "markdown",
   "metadata": {},
   "source": [
    "### IMPORTS"
   ]
  },
  {
   "cell_type": "code",
   "execution_count": 1,
   "metadata": {},
   "outputs": [],
   "source": [
    "import pandas as pd\n",
    "import numpy as np\n",
    "import pandas_gbq\n",
    "import datetime\n",
    "from dateutil.relativedelta import relativedelta\n",
    "from gspread_pandas import Spread, conf"
   ]
  },
  {
   "cell_type": "markdown",
   "metadata": {},
   "source": [
    "### CREDENCIALES"
   ]
  },
  {
   "cell_type": "code",
   "execution_count": 2,
   "metadata": {},
   "outputs": [],
   "source": [
    "cred = conf.get_config('C:\\\\Users\\\\santiago.curat\\\\Pandas\\\\PEYA', 'PedidosYa-8b8c4d19f61c.json')"
   ]
  },
  {
   "cell_type": "markdown",
   "metadata": {},
   "source": [
    "### QUERIES"
   ]
  },
  {
   "cell_type": "code",
   "execution_count": 56,
   "metadata": {},
   "outputs": [],
   "source": [
    "q_adr = '''WITH barter_table AS (\n",
    "    SELECT bt.trade.order_id AS order_id,\n",
    "           bc.campaign_title AS campaign,\n",
    "           bt.trade.amount_used AS amount_used,\n",
    "           bc.discount.type AS discount_type,\n",
    "           bc.discount.amount AS discount_amount,\n",
    "           bc.discount.max_amount AS discount_max_amount,\n",
    "           bc.rules.min_amount AS min_amount\n",
    "    FROM `peya-data-origins-pro.cl_barter.trades` AS bt\n",
    "    INNER JOIN `peya-data-origins-pro.cl_barter.creates` AS bc ON bt.id = bc.id\n",
    "    WHERE DATE(bt.tradedAt) BETWEEN DATE_TRUNC(DATE_ADD(CURRENT_DATE(), INTERVAL -3 MONTH),MONTH) AND CURRENT_DATE()\n",
    "          AND DATE(bc.created_at) BETWEEN DATE_TRUNC(DATE_ADD(CURRENT_DATE(), INTERVAL -3 MONTH),MONTH) AND CURRENT_DATE()),\n",
    "    orders_table AS (\n",
    "    SELECT o.order_id AS order_id,\n",
    "           c.city_name AS city,\n",
    "           SUM(IFNULL(od.discount_amount,0)) AS total_disc,\n",
    "           SUM(CASE WHEN UPPER(od.discount_type_name) = 'VOUCHER' THEN IFNULL(od.discount_amount,0) ELSE 0 END) AS total_voucher_disc\n",
    "    FROM `peya-bi-tools-pro.il_core.fact_orders` AS o,\n",
    "    UNNEST(discounts) AS od\n",
    "    LEFT JOIN `peya-bi-tools-pro.il_core.dim_city` AS c ON o.city.city_id = c.city_id\n",
    "    WHERE o.registered_date BETWEEN DATE_TRUNC(DATE_ADD(CURRENT_DATE(), INTERVAL -2 MONTH),MONTH) AND CURRENT_DATE()\n",
    "          AND o.order_status = 'CONFIRMED'\n",
    "    GROUP BY 1,2),\n",
    "    acq_table AS (\n",
    "    SELECT o.user.id AS user,\n",
    "           cn.country_name AS country,\n",
    "           cn.currency_id AS currency_id,\n",
    "           IFNULL(ot.city,'-') AS city,\n",
    "           o.registered_date AS fecha,\n",
    "           o.shipping_amount_no_discount + o.amount_no_discount AS total_paid,\n",
    "           o.order_id AS order_id,\n",
    "           ot.total_disc AS total_discount,\n",
    "           ot.total_voucher_disc AS total_voucher_disc,\n",
    "           bt.campaign AS campaign,\n",
    "           bt.amount_used AS amount_used,\n",
    "           bt.discount_type AS discount_type,\n",
    "           bt.discount_amount AS discount_amount,\n",
    "           bt.discount_max_amount AS discount_max_amount,\n",
    "           bt.min_amount AS min_amount\n",
    "    FROM `peya-bi-tools-pro.il_core.fact_orders` AS o\n",
    "    LEFT JOIN barter_table AS bt ON o.order_id = bt.order_id\n",
    "    LEFT JOIN orders_table AS ot ON o.order_id = ot.order_id\n",
    "    LEFT JOIN `peya-bi-tools-pro.il_core.dim_country` AS cn ON o.country_id = cn.country_id\n",
    "    WHERE o.registered_date BETWEEN DATE_TRUNC(DATE_ADD(CURRENT_DATE(), INTERVAL -2 MONTH),MONTH) AND CURRENT_DATE()\n",
    "          AND o.order_status = 'CONFIRMED'),\n",
    "    acq_final_table AS (\n",
    "    SELECT acq.user AS user,\n",
    "           acq.country AS country,\n",
    "           acq.currency_id AS currency_id,\n",
    "           acq.city AS city,\n",
    "           acq.fecha AS fecha,\n",
    "           acq.campaign AS campaign,\n",
    "           acq.discount_type AS discount_type,\n",
    "           acq.discount_amount AS discount_amount,\n",
    "           acq.discount_max_amount AS discount_max_amount,\n",
    "           acq.min_amount AS min_amount,\n",
    "           SUM(o.total_paid) AS total_paid,\n",
    "           SUM(o.total_discount) AS total_disc,\n",
    "           SUM(o.total_voucher_disc) AS total_voucher_disc,\n",
    "           SUM(o.amount_used) AS amount_used,\n",
    "           COUNT(DISTINCT o.order_id) AS orders\n",
    "    FROM acq_table AS acq\n",
    "    LEFT JOIN acq_table AS o ON acq.user = o.user\n",
    "    WHERE o.fecha >= DATE_ADD(acq.fecha, INTERVAL 1 DAY)\n",
    "          AND acq.campaign IS NOT NULL\n",
    "    GROUP BY 1,2,3,4,5,6,7,8,9,10)\n",
    "SELECT FORMAT_DATE('%Y-%m',aft.fecha) AS Month,\n",
    "       aft.country AS Country,\n",
    "       aft.city AS City,\n",
    "       aft.campaign AS Campaign,\n",
    "       aft.discount_type AS Discount_Type,\n",
    "       aft.discount_amount AS Amount,\n",
    "       aft.discount_max_amount AS Max_Amount,\n",
    "       aft.min_amount AS MOV,\n",
    "       COUNT(DISTINCT aft.user) AS Users,\n",
    "       SUM(IFNULL(aft.total_paid,0)) AS Total_Paid,\n",
    "       SUM(IFNULL(aft.total_disc,0)) AS Total_Disc,\n",
    "       SUM(IFNULL(aft.total_voucher_disc,0)) AS Total_Voucher_Disc,\n",
    "       SUM(IFNULL(aft.amount_used,0)) AS Total_Amount_Used,\n",
    "       SUM(IFNULL(aft.total_paid / ce.rate_us,0)) AS Total_Paid_USD,\n",
    "       SUM(IFNULL(aft.total_disc / ce.rate_us,0)) AS Total_Disc_USD,\n",
    "       SUM(IFNULL(aft.total_voucher_disc / ce.rate_us,0)) AS Total_Voucher_Disc_USD,\n",
    "       SUM(IFNULL(aft.amount_used / ce.rate_us,0)) AS Total_Amount_Used_USD,\n",
    "       SUM(IFNULL(aft.orders,0)) AS Orders\n",
    "FROM acq_final_table AS aft\n",
    "LEFT JOIN `peya-bi-tools-pro.il_core.dim_currency_exchange` AS ce ON aft.currency_id = ce.currency_id AND DATE_TRUNC(aft.fecha,MONTH) = ce.currency_exchange_date\n",
    "WHERE aft.campaign LIKE '%%CENTRAL%%'\n",
    "GROUP BY 1,2,3,4,5,6,7,8'''"
   ]
  },
  {
   "cell_type": "code",
   "execution_count": 57,
   "metadata": {},
   "outputs": [
    {
     "name": "stderr",
     "output_type": "stream",
     "text": [
      "Downloading: 100%|███████████████████████████████████████████████████████████████████████████████████████████████████████████| 56176/56176 [00:24<00:00, 2251.95rows/s]\n"
     ]
    }
   ],
   "source": [
    "# Descargo la data\n",
    "bq_adr = pd.io.gbq.read_gbq(q_adr, project_id='peya-argentina', dialect='standard')"
   ]
  },
  {
   "cell_type": "code",
   "execution_count": 58,
   "metadata": {},
   "outputs": [],
   "source": [
    "# Copio la data\n",
    "adr = bq_adr.copy()"
   ]
  },
  {
   "cell_type": "markdown",
   "metadata": {},
   "source": [
    "### TRABAJO"
   ]
  },
  {
   "cell_type": "code",
   "execution_count": 59,
   "metadata": {},
   "outputs": [],
   "source": [
    "# Doy formato a las columnas\n",
    "cols_str = ['Campaign','Country','Month','City','Discount_Type']\n",
    "cols_float = [i for i in adr.columns if i not in cols_str]\n",
    "adr[cols_float] = adr[cols_float].astype(float)\n",
    "adr[cols_str] = adr[cols_str].apply(lambda x: x.astype(str).str.upper())\n",
    "# Saco los espacios de los nombres de campañas\n",
    "adr['Campaign'] = adr['Campaign'].str.replace(' ', '')\n",
    "# Doy formato a la fecha\n",
    "adr['Month'] = pd.to_datetime(adr['Month'], format='%Y-%m').dt.strftime('%Y-%m')\n",
    "# Hago un listado de los paises\n",
    "countries = list(adr['Country'].unique())"
   ]
  },
  {
   "cell_type": "code",
   "execution_count": 60,
   "metadata": {},
   "outputs": [],
   "source": [
    "# Creo las columnas faltantes\n",
    "adr['ADR_Total_Disc'] = adr['Total_Disc'] / adr['Total_Paid']\n",
    "adr['ADR_Voucher_Disc'] = adr['Total_Voucher_Disc'] / adr['Total_Paid']\n",
    "adr['ADR_CRM_Used'] = adr['Total_Amount_Used'] / adr['Total_Paid']\n",
    "adr.replace([np.nan,np.inf,-np.inf],0,inplace=True)"
   ]
  }
 ],
 "metadata": {
  "kernelspec": {
   "display_name": "Python 3",
   "language": "python",
   "name": "python3"
  },
  "language_info": {
   "codemirror_mode": {
    "name": "ipython",
    "version": 3
   },
   "file_extension": ".py",
   "mimetype": "text/x-python",
   "name": "python",
   "nbconvert_exporter": "python",
   "pygments_lexer": "ipython3",
   "version": "3.7.6"
  }
 },
 "nbformat": 4,
 "nbformat_minor": 4
}
