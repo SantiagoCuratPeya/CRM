{
 "cells": [
  {
   "cell_type": "markdown",
   "metadata": {},
   "source": [
    "### IMPORTS"
   ]
  },
  {
   "cell_type": "code",
   "execution_count": 1,
   "metadata": {},
   "outputs": [],
   "source": [
    "import sys, os\n",
    "sys.path.append(os.path.join(sys.path[0],'Pythons'))"
   ]
  },
  {
   "cell_type": "code",
   "execution_count": 2,
   "metadata": {},
   "outputs": [],
   "source": [
    "from Carga_Descarga import *\n",
    "from CRM_Central import *"
   ]
  },
  {
   "cell_type": "code",
   "execution_count": 3,
   "metadata": {},
   "outputs": [],
   "source": [
    "pd.set_option('display.float_format', lambda x: '%.5f' % x)"
   ]
  },
  {
   "cell_type": "markdown",
   "metadata": {},
   "source": [
    "### CONSTANTES"
   ]
  },
  {
   "cell_type": "code",
   "execution_count": 4,
   "metadata": {},
   "outputs": [],
   "source": [
    "# Fechas\n",
    "today = datetime.date.today()\n",
    "idx = (today.weekday() + 1) % 7\n",
    "fin = today - datetime.timedelta(days=idx)\n",
    "start = str(fin - datetime.timedelta(6*7-1))\n",
    "start_tc = str(fin - datetime.timedelta(6*7-1) - relativedelta(months=12))\n",
    "if today.day == 1:\n",
    "    end = str(today - relativedelta(days=1))\n",
    "else:\n",
    "    end = str(today + relativedelta(months=1) - relativedelta(days=(today + relativedelta(months=1)).day))"
   ]
  },
  {
   "cell_type": "code",
   "execution_count": 5,
   "metadata": {},
   "outputs": [],
   "source": [
    "# Fechas Weekly\n",
    "today = datetime.date.today()\n",
    "idx = (today.weekday() + 1) % 7\n",
    "fin = today - datetime.timedelta(days=idx)\n",
    "inicio = fin - datetime.timedelta(1*7-1)\n",
    "fin = str(fin)\n",
    "inicio = str(inicio)"
   ]
  },
  {
   "cell_type": "markdown",
   "metadata": {},
   "source": [
    "### GOOGLE SHEETS"
   ]
  },
  {
   "cell_type": "code",
   "execution_count": 6,
   "metadata": {},
   "outputs": [
    {
     "name": "stdout",
     "output_type": "stream",
     "text": [
      "Descarga Correcta!\n"
     ]
    }
   ],
   "source": [
    "# Descargo los filtros de Campañas\n",
    "fc = descarga('1d4cMi-V04c80Dpen4S70Q7zYqqho3ZBIVctlRIBLwiw','Filtrar')\n",
    "# Mando a mayusculas\n",
    "fc[fc.columns[0]] = fc[fc.columns[0]].str.upper()\n",
    "fc = fc[fc.columns[0]].tolist()"
   ]
  },
  {
   "cell_type": "markdown",
   "metadata": {},
   "source": [
    "### FUNCIONES"
   ]
  },
  {
   "cell_type": "code",
   "execution_count": 7,
   "metadata": {},
   "outputs": [],
   "source": [
    "def filtrar_cam(i):\n",
    "    val = 'No'\n",
    "    for j in fc:\n",
    "        if j in i:\n",
    "            val = 'Si'\n",
    "            break\n",
    "    return val        "
   ]
  },
  {
   "cell_type": "markdown",
   "metadata": {},
   "source": [
    "### QUERIES"
   ]
  },
  {
   "cell_type": "code",
   "execution_count": 17,
   "metadata": {},
   "outputs": [],
   "source": [
    "q_crudo = '''WITH coupons_table AS (\n",
    "    SELECT cn.country_name AS country,\n",
    "           tc.talon_campaign_id AS campaign_id,\n",
    "           tc.coupon_id AS coupon_id,\n",
    "           o.registered_date AS fecha,\n",
    "           CASE WHEN bi.payment_mode = 'TOTAL_AMOUNT' THEN 'Si' ELSE 'No' END AS payment_shopper,\n",
    "           COUNT(DISTINCT o.order_id) AS redeemed,\n",
    "           COUNT(DISTINCT CASE WHEN o.order_status = 'CONFIRMED' THEN o.order_id ELSE NULL END) AS redeemed_confirmed,\n",
    "           COUNT(DISTINCT CASE WHEN o.is_acquisition = 1 THEN o.order_id ELSE NULL END) AS acquisitions,\n",
    "           SUM(tc.coupon_used_amount) AS used_amount,\n",
    "           SUM(tc.coupon_used_amount / ce.rate_us) AS used_amount_usd,\n",
    "           SUM(CASE WHEN o.order_status = 'CONFIRMED' THEN tc.coupon_used_amount ELSE 0 END) AS used_amount_confirmed,\n",
    "           SUM(CASE WHEN o.order_status = 'CONFIRMED' THEN tc.coupon_used_amount / ce.rate_us ELSE 0 END) AS used_amount_confirmed_usd\n",
    "    FROM `peya-bi-tools-pro.il_core.fact_orders` AS o\n",
    "    INNER JOIN `peya-bi-tools-pro.il_growth.fact_talon_coupons` AS tc ON o.order_id = tc.order_id\n",
    "    LEFT JOIN `peya-bi-tools-pro.il_core.dim_partner` AS p ON o.restaurant.id = p.partner_id\n",
    "    LEFT JOIN `peya-bi-tools-pro.il_core.dim_billing_info` AS bi ON p.billingInfo.billing_info_id = bi.billing_info_id\n",
    "    LEFT JOIN `peya-bi-tools-pro.il_core.dim_country` AS cn ON tc.coupon_country_id = cn.country_id\n",
    "    LEFT JOIN `peya-bi-tools-pro.il_core.dim_currency_exchange` AS ce ON cn.currency_id = ce.currency_id AND DATE_TRUNC(o.registered_date,MONTH) = ce.currency_exchange_date\n",
    "    WHERE o.registered_date BETWEEN DATE('{0}') AND DATE('{1}')\n",
    "          AND DATE(tc.coupon_created_at) >= DATE('{2}')\n",
    "    GROUP BY 1,2,3,4,5)\n",
    "SELECT ct.fecha AS Fecha,\n",
    "       ct.country AS Country,\n",
    "       tca.talon_campaign_name AS Campaign,\n",
    "       ct.payment_shopper AS Payment_Shopper,\n",
    "       SUM(ct.redeemed) AS Redeemed,\n",
    "       SUM(ct.redeemed_confirmed) AS Redeemed_Confirmed,\n",
    "       SUM(ct.acquisitions) AS Acq,\n",
    "       SUM(ct.used_amount) AS Used_Amount,\n",
    "       SUM(ct.used_amount_usd) AS Used_Amount_USD,\n",
    "       SUM(ct.used_amount_confirmed) AS Used_Amount_Confirmed,\n",
    "       SUM(ct.used_amount_confirmed_usd) AS Used_Amount_Confirmed_USD\n",
    "FROM coupons_table AS ct\n",
    "LEFT JOIN `peya-bi-tools-pro.il_growth.dim_talon_campaigns` AS tca ON ct.campaign_id = tca.talon_campaign_id\n",
    "GROUP BY 1,2,3,4'''.format(start,end,start_tc)\n",
    "\n",
    "q_wallet = '''WITH wallet_table AS (\n",
    "    SELECT wa.order_id AS order_id,\n",
    "           d.campaignCode AS campaign,\n",
    "           d.amount AS amount\n",
    "    FROM `peya-bi-tools-pro.il_wallet.fact_wallet_attributions` AS wa,\n",
    "    UNNEST (attributionDetails) AS d\n",
    "    WHERE wa.operation = 'Purchase'),\n",
    "    coupons_table AS (\n",
    "    SELECT cn.country_name AS country,\n",
    "           o.registered_date AS fecha,\n",
    "           wa.campaign AS campaign,\n",
    "           CASE WHEN bi.payment_mode = 'TOTAL_AMOUNT' THEN 'Si' ELSE 'No' END AS payment_shopper,\n",
    "           COUNT(DISTINCT o.order_id) AS redeemed,\n",
    "           COUNT(DISTINCT CASE WHEN o.order_status = 'CONFIRMED' THEN o.order_id ELSE NULL END) AS redeemed_confirmed,\n",
    "           COUNT(DISTINCT CASE WHEN o.is_acquisition = 1 THEN o.order_id ELSE NULL END) AS acquisitions,\n",
    "           SUM(CASE WHEN o.order_status = 'CONFIRMED' AND o.registered_date < DATE('2020-06-09') THEN w.amount\n",
    "                    WHEN o.order_status = 'CONFIRMED' AND o.registered_date >= DATE('2020-06-09') THEN wa.amount\n",
    "                    ELSE 0 END) AS used_amount_confirmed,\n",
    "           SUM(CASE WHEN o.order_status = 'CONFIRMED' AND o.registered_date < DATE('2020-06-09') THEN w.amount / ce.rate_us\n",
    "                    WHEN o.order_status = 'CONFIRMED' AND o.registered_date >= DATE('2020-06-09') THEN wa.amount / ce.rate_us\n",
    "                    ELSE 0 END) AS used_amount_confirmed_usd,\n",
    "           SUM(CASE WHEN o.registered_date < DATE('2020-06-09') THEN w.amount\n",
    "                    WHEN o.registered_date >= DATE('2020-06-09') THEN wa.amount\n",
    "                    ELSE 0 END) AS used_amount,\n",
    "           SUM(CASE WHEN o.registered_date < DATE('2020-06-09') THEN w.amount / ce.rate_us\n",
    "                    WHEN o.registered_date >= DATE('2020-06-09') THEN wa.amount / ce.rate_us\n",
    "                    ELSE 0 END) AS used_amount_usd\n",
    "    FROM `peya-bi-tools-pro.il_core.fact_orders` AS o\n",
    "    INNER JOIN `peya-bi-tools-pro.il_core.fact_order_funding` AS w ON o.order_id = w.order_id AND w.type IN (25,35)\n",
    "    LEFT JOIN `peya-bi-tools-pro.il_core.dim_partner` AS p ON o.restaurant.id = p.partner_id\n",
    "    LEFT JOIN `peya-bi-tools-pro.il_core.dim_billing_info` AS bi ON p.billingInfo.billing_info_id = bi.billing_info_id\n",
    "    LEFT JOIN wallet_table AS wa ON o.order_id = wa.order_id\n",
    "    LEFT JOIN `peya-bi-tools-pro.il_core.dim_country` AS cn ON o.country_id = cn.country_id\n",
    "    LEFT JOIN `peya-bi-tools-pro.il_core.dim_currency_exchange` AS ce ON cn.currency_id = ce.currency_id AND DATE_TRUNC(o.registered_date,MONTH) = ce.currency_exchange_date\n",
    "    WHERE o.registered_date BETWEEN DATE('{0}') AND DATE('{1}')\n",
    "    GROUP BY 1,2,3,4)\n",
    "SELECT ct.fecha AS Fecha,\n",
    "       ct.country AS Country,\n",
    "       ct.campaign AS Campaign,\n",
    "       ct.payment_shopper AS Payment_Shopper,\n",
    "       SUM(ct.redeemed) AS Redeemed,\n",
    "       SUM(ct.redeemed_confirmed) AS Redeemed_Confirmed,\n",
    "       SUM(ct.acquisitions) AS Acq,\n",
    "       SUM(ct.used_amount) AS Used_Amount,\n",
    "       SUM(ct.used_amount_usd) AS Used_Amount_USD,\n",
    "       SUM(ct.used_amount_confirmed) AS Used_Amount_Confirmed,\n",
    "       SUM(ct.used_amount_confirmed_usd) AS Used_Amount_Confirmed_USD\n",
    "FROM coupons_table AS ct\n",
    "GROUP BY 1,2,3,4'''.format(start,end)\n",
    "\n",
    "q_ord = '''SELECT cn.country_name AS Country,\n",
    "       o.registered_date AS Fecha,\n",
    "       COUNT(DISTINCT o.order_id) AS Orders,\n",
    "       COUNT(DISTINCT CASE WHEN o.is_acquisition = 1 THEN o.order_id ELSE NULL END) AS Acq,\n",
    "       COUNT(DISTINCT o.user.id) AS Active_Users,\n",
    "FROM `peya-bi-tools-pro.il_core.fact_orders` AS o\n",
    "LEFT JOIN `peya-bi-tools-pro.il_core.dim_country` AS cn ON o.country_id = cn.country_id\n",
    "WHERE o.registered_date BETWEEN DATE('{0}') AND DATE('{1}')\n",
    "      AND o.order_status = 'CONFIRMED'\n",
    "GROUP BY 1,2'''.format(start,end)"
   ]
  },
  {
   "cell_type": "code",
   "execution_count": 9,
   "metadata": {},
   "outputs": [
    {
     "name": "stderr",
     "output_type": "stream",
     "text": [
      "Downloading: 100%|███████████████████████████████████████████████████████████| 32327/32327 [00:07<00:00, 4180.77rows/s]\n"
     ]
    }
   ],
   "source": [
    "# Descargo la data\n",
    "bq_crudo = pd.io.gbq.read_gbq(q_crudo, project_id='peya-argentina', dialect='standard')"
   ]
  },
  {
   "cell_type": "code",
   "execution_count": 10,
   "metadata": {},
   "outputs": [
    {
     "name": "stderr",
     "output_type": "stream",
     "text": [
      "Downloading: 100%|███████████████████████████████████████████████████████████| 99703/99703 [00:20<00:00, 4791.22rows/s]\n"
     ]
    }
   ],
   "source": [
    "bq_wallet = pd.io.gbq.read_gbq(q_wallet, project_id='peya-argentina', dialect='standard')"
   ]
  },
  {
   "cell_type": "code",
   "execution_count": 18,
   "metadata": {},
   "outputs": [
    {
     "name": "stderr",
     "output_type": "stream",
     "text": [
      "Downloading: 100%|███████████████████████████████████████████████████████████████| 664/664 [00:00<00:00, 1571.72rows/s]\n"
     ]
    }
   ],
   "source": [
    "bq_ord = pd.io.gbq.read_gbq(q_ord, project_id='peya-argentina', dialect='standard')"
   ]
  },
  {
   "cell_type": "code",
   "execution_count": 29,
   "metadata": {},
   "outputs": [],
   "source": [
    "# Copio las bases\n",
    "crudo = bq_crudo.copy()\n",
    "wallet = bq_wallet.copy()\n",
    "orders = bq_ord.copy()"
   ]
  },
  {
   "cell_type": "markdown",
   "metadata": {},
   "source": [
    "### TRABAJO"
   ]
  },
  {
   "cell_type": "markdown",
   "metadata": {},
   "source": [
    "#### FORMATEO ORDERS"
   ]
  },
  {
   "cell_type": "code",
   "execution_count": 30,
   "metadata": {},
   "outputs": [],
   "source": [
    "# Doy formato a las columnas\n",
    "cols_str = ['Fecha','Country']\n",
    "cols_float = [i for i in orders.columns if i not in cols_str]\n",
    "orders[cols_float] = orders[cols_float].astype(float)\n",
    "orders[cols_str] = orders[cols_str].apply(lambda x: x.astype(str).str.upper())\n",
    "# Doy formato a la fecha\n",
    "orders['Fecha'] = pd.to_datetime(orders['Fecha'], format='%Y-%m-%d').dt.strftime('%Y-%m-%d')\n",
    "orders['Month'] = pd.to_datetime(orders['Fecha'], format='%Y-%m').dt.strftime('%Y-%m')\n",
    "orders['Week'] = pd.to_datetime(orders['Fecha'], format='%Y-%m-%d').dt.strftime('%V')\n",
    "# Marco las de la ultima semana completa\n",
    "orders.loc[(orders['Fecha'] >= inicio)&(orders['Fecha'] <= fin),'Week Type'] = 'Last Complete Week'\n",
    "orders.loc[orders['Fecha'] > fin,'Week Type'] = 'Current Week'\n",
    "orders.loc[orders['Week Type'].isna(),'Week Type'] = 'Week Before'"
   ]
  },
  {
   "cell_type": "code",
   "execution_count": 35,
   "metadata": {},
   "outputs": [],
   "source": [
    "# Creo una PT sin fecha\n",
    "index = ['Country','Month','Week','Week Type']\n",
    "values = ['Orders','Acq','Active_Users']\n",
    "pt_orders = orders.pivot_table(index=index,values=values,aggfunc='sum',fill_value=0).reset_index()"
   ]
  },
  {
   "cell_type": "code",
   "execution_count": 36,
   "metadata": {},
   "outputs": [],
   "source": [
    "# Ordeno la PT Final\n",
    "pt_orders.sort_values(by=['Month','Week','Country'],inplace=True,ascending=True)\n",
    "# Marco las semanas finalizadas\n",
    "pt_orders['Week Finished'] = pt_orders['Week Type'].apply(lambda x: 'Si' if x != 'Current Week' else 'No')"
   ]
  },
  {
   "cell_type": "markdown",
   "metadata": {},
   "source": [
    "#### FORMATEO CRUDO"
   ]
  },
  {
   "cell_type": "code",
   "execution_count": 12,
   "metadata": {},
   "outputs": [],
   "source": [
    "# Doy formato a las columnas\n",
    "cols_str = ['Fecha','Country','Campaign','Payment_Shopper']\n",
    "cols_float = [i for i in crudo.columns if i not in cols_str]\n",
    "crudo[cols_float] = crudo[cols_float].astype(float)\n",
    "crudo[cols_str] = crudo[cols_str].apply(lambda x: x.astype(str).str.upper())\n",
    "# Saco los espacios de los nombres de campañas\n",
    "crudo['Campaign'] = crudo['Campaign'].str.replace(' ', '')\n",
    "# Doy formato a la fecha\n",
    "crudo['Fecha'] = pd.to_datetime(crudo['Fecha'], format='%Y-%m-%d').dt.strftime('%Y-%m-%d')\n",
    "crudo['Month'] = pd.to_datetime(crudo['Fecha'], format='%Y-%m').dt.strftime('%Y-%m')\n",
    "crudo['Week'] = pd.to_datetime(crudo['Fecha'], format='%Y-%m-%d').dt.strftime('%V')\n",
    "# Marco las de la ultima semana completa\n",
    "crudo.loc[(crudo['Fecha'] >= inicio)&(crudo['Fecha'] <= fin),'Week Type'] = 'Last Complete Week'\n",
    "crudo.loc[crudo['Fecha'] > fin,'Week Type'] = 'Current Week'\n",
    "crudo.loc[crudo['Week Type'].isna(),'Week Type'] = 'Week Before'"
   ]
  },
  {
   "cell_type": "code",
   "execution_count": 13,
   "metadata": {},
   "outputs": [],
   "source": [
    "# Creo las columnas para los segmentos\n",
    "crudo['Budget'] = crudo['Campaign'].apply(lambda x: filtros(x,'BUDGET'))\n",
    "crudo['Type'] = crudo['Campaign'].apply(lambda x: filtros(x,'TIPOS'))\n",
    "# Marco las campañas a filtrar\n",
    "crudo['Filtrar'] = crudo['Campaign'].apply(filtrar_cam)\n",
    "crudo = crudo[crudo['Filtrar'] == 'No'].copy()"
   ]
  },
  {
   "cell_type": "markdown",
   "metadata": {},
   "source": [
    "#### FORMATEO WALLET"
   ]
  },
  {
   "cell_type": "code",
   "execution_count": 14,
   "metadata": {},
   "outputs": [],
   "source": [
    "# Doy formato a las columnas\n",
    "cols_str = ['Fecha','Country','Campaign','Payment_Shopper']\n",
    "cols_float = [i for i in wallet.columns if i not in cols_str]\n",
    "wallet[cols_float] = wallet[cols_float].astype(float)\n",
    "wallet[cols_str] = wallet[cols_str].apply(lambda x: x.astype(str).str.upper())\n",
    "# Saco los espacios de los nombres de campañas\n",
    "wallet['Campaign'] = wallet['Campaign'].str.replace(' ', '')\n",
    "# Doy formato a la fecha\n",
    "wallet['Fecha'] = pd.to_datetime(wallet['Fecha'], format='%Y-%m-%d').dt.strftime('%Y-%m-%d')\n",
    "wallet['Month'] = pd.to_datetime(wallet['Fecha'], format='%Y-%m').dt.strftime('%Y-%m')\n",
    "wallet['Week'] = pd.to_datetime(wallet['Fecha'], format='%Y-%m-%d').dt.strftime('%V')\n",
    "# Marco las de la ultima semana completa\n",
    "wallet.loc[(wallet['Fecha'] >= inicio)&(wallet['Fecha'] <= fin),'Week Type'] = 'Last Complete Week'\n",
    "wallet.loc[wallet['Fecha'] > fin,'Week Type'] = 'Current Week'\n",
    "wallet.loc[wallet['Week Type'].isna(),'Week Type'] = 'Week Before'"
   ]
  },
  {
   "cell_type": "code",
   "execution_count": 15,
   "metadata": {},
   "outputs": [],
   "source": [
    "# Creo las columnas para los segmentos\n",
    "wallet['Budget'] = wallet['Campaign'].apply(lambda x: filtros(x,'BUDGET'))\n",
    "wallet['Type'] = 'WALLET'\n",
    "# Marco las campañas a filtrar\n",
    "wallet['Filtrar'] = wallet['Campaign'].apply(filtrar_cam)\n",
    "wallet = wallet[wallet['Filtrar'] == 'No'].copy()"
   ]
  },
  {
   "cell_type": "markdown",
   "metadata": {},
   "source": [
    "#### FINAL"
   ]
  },
  {
   "cell_type": "code",
   "execution_count": 16,
   "metadata": {},
   "outputs": [],
   "source": [
    "# Uno ambos DF\n",
    "final = pd.concat([crudo,wallet]).copy()\n",
    "# Creo una PT\n",
    "index = ['Month','Week','Week Type','Country','Payment_Shopper','Type','Budget']\n",
    "values = ['Redeemed','Redeemed_Confirmed','Acq','Used_Amount','Used_Amount_USD',\n",
    "          'Used_Amount_Confirmed','Used_Amount_Confirmed_USD']\n",
    "pt = final.pivot_table(index=index,values=values,aggfunc='sum',fill_value=0).reset_index()\n",
    "# Coloco el IVA\n",
    "pt = func_iva(pt)\n",
    "# Saco el IVA\n",
    "used = 'Used_Amount_Confirmed'\n",
    "used_usd = 'Used_Amount_Confirmed_USD'\n",
    "pt.loc[pt['Payment_Shopper'] == 'NO','Used_Final'] = pt[used] / (1 + pt['IVA']) * pt['Extra']\n",
    "pt.loc[pt['Payment_Shopper'] == 'SI','Used_Final'] = pt[used]\n",
    "pt.loc[pt['Payment_Shopper'] == 'NO','Used_USD_Final'] = pt[used_usd] / (1 + pt['IVA']) * pt['Extra']\n",
    "pt.loc[pt['Payment_Shopper'] == 'SI','Used_USD_Final'] = pt[used_usd]"
   ]
  },
  {
   "cell_type": "code",
   "execution_count": 17,
   "metadata": {},
   "outputs": [],
   "source": [
    "# Ordeno la PT Final\n",
    "pt.sort_values(by=['Month','Week','Country'],inplace=True,ascending=True)\n",
    "# Marco las semanas finalizadas\n",
    "pt['Week Finished'] = pt['Week Type'].apply(lambda x: 'Si' if x != 'Current Week' else 'No')"
   ]
  },
  {
   "cell_type": "markdown",
   "metadata": {},
   "source": [
    "### CARGA"
   ]
  },
  {
   "cell_type": "code",
   "execution_count": 38,
   "metadata": {},
   "outputs": [
    {
     "name": "stdout",
     "output_type": "stream",
     "text": [
      "Carga Correcta!\n"
     ]
    }
   ],
   "source": [
    "carga(pt_orders,'1y3HUUDmt73Z3z6rE_KefkFjySSVNfChQwCm0-aUpoq0','Crudo General')"
   ]
  },
  {
   "cell_type": "code",
   "execution_count": 18,
   "metadata": {},
   "outputs": [
    {
     "name": "stdout",
     "output_type": "stream",
     "text": [
      "Carga Correcta!\n"
     ]
    }
   ],
   "source": [
    "carga(pt,'1y3HUUDmt73Z3z6rE_KefkFjySSVNfChQwCm0-aUpoq0','Crudo')"
   ]
  }
 ],
 "metadata": {
  "kernelspec": {
   "display_name": "Python 3",
   "language": "python",
   "name": "python3"
  },
  "language_info": {
   "codemirror_mode": {
    "name": "ipython",
    "version": 3
   },
   "file_extension": ".py",
   "mimetype": "text/x-python",
   "name": "python",
   "nbconvert_exporter": "python",
   "pygments_lexer": "ipython3",
   "version": "3.7.6"
  }
 },
 "nbformat": 4,
 "nbformat_minor": 4
}
