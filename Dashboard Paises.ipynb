{
 "cells": [
  {
   "cell_type": "markdown",
   "metadata": {},
   "source": [
    "### IMPORTS"
   ]
  },
  {
   "cell_type": "code",
   "execution_count": 1,
   "metadata": {},
   "outputs": [],
   "source": [
    "import sys, os\n",
    "sys.path.append(os.path.join(sys.path[0],'Pythons'))"
   ]
  },
  {
   "cell_type": "code",
   "execution_count": 2,
   "metadata": {},
   "outputs": [],
   "source": [
    "from Carga_Descarga import *\n",
    "from CRM_Central import *"
   ]
  },
  {
   "cell_type": "code",
   "execution_count": 3,
   "metadata": {},
   "outputs": [],
   "source": [
    "pd.set_option('display.float_format', lambda x: '%.5f' % x)"
   ]
  },
  {
   "cell_type": "markdown",
   "metadata": {},
   "source": [
    "### GOOGLE SHEETS"
   ]
  },
  {
   "cell_type": "code",
   "execution_count": 4,
   "metadata": {},
   "outputs": [
    {
     "name": "stdout",
     "output_type": "stream",
     "text": [
      "Descarga Correcta!\n"
     ]
    }
   ],
   "source": [
    "# Descargo los filtros de Campañas\n",
    "fc = descarga('1d4cMi-V04c80Dpen4S70Q7zYqqho3ZBIVctlRIBLwiw','Filtrar')\n",
    "# Mando a mayusculas\n",
    "fc[fc.columns[0]] = fc[fc.columns[0]].str.upper()\n",
    "fc = fc[fc.columns[0]].tolist()"
   ]
  },
  {
   "cell_type": "markdown",
   "metadata": {},
   "source": [
    "### FUNCIONES"
   ]
  },
  {
   "cell_type": "code",
   "execution_count": 5,
   "metadata": {},
   "outputs": [],
   "source": [
    "def filtrar_cam(i):\n",
    "    val = 'No'\n",
    "    for j in fc:\n",
    "        if j in i:\n",
    "            val = 'Si'\n",
    "            break\n",
    "    return val        "
   ]
  },
  {
   "cell_type": "markdown",
   "metadata": {},
   "source": [
    "### QUERIES"
   ]
  },
  {
   "cell_type": "code",
   "execution_count": 6,
   "metadata": {},
   "outputs": [],
   "source": [
    "# 60GB\n",
    "q_tc = '''WITH coupons_table AS (\n",
    "    SELECT cn.country_name AS country,\n",
    "           IFNULL(c.city_name,'-') AS city,\n",
    "           tc.talon_campaign_id AS campaign_id,\n",
    "           tc.coupon_id AS coupon_id,\n",
    "           o.registered_date AS fecha,\n",
    "           COUNT(DISTINCT o.order_id) AS redeemed,\n",
    "           COUNT(DISTINCT CASE WHEN o.order_status = 'CONFIRMED' THEN o.order_id ELSE NULL END) AS redeemed_confirmed,\n",
    "           COUNT(DISTINCT CASE WHEN o.is_acquisition = 1 THEN o.order_id ELSE NULL END) AS acquisitions,\n",
    "           --SUM(CASE WHEN bi.payment_mode = 'TOTAL_AMOUNT' THEN tc.coupon_used_amount ELSE 0 END) AS used_amount,\n",
    "           --SUM(CASE WHEN bi.payment_mode != 'TOTAL_AMOUNT' THEN tc.coupon_used_amount ELSE 0 END) AS used_amount_shopper,\n",
    "           --SUM(CASE WHEN bi.payment_mode = 'TOTAL_AMOUNT' THEN tc.coupon_used_amount / ce.rate_us ELSE 0 END) AS used_amount_usd,\n",
    "           --SUM(CASE WHEN bi.payment_mode != 'TOTAL_AMOUNT' THEN tc.coupon_used_amount / ce.rate_us ELSE 0 END) AS used_amount_usd_shopper,\n",
    "           SUM(CASE WHEN o.order_status = 'CONFIRMED' AND bi.payment_mode = 'TOTAL_AMOUNT' THEN tc.coupon_used_amount ELSE 0 END) AS used_amount_confirmed,\n",
    "           SUM(CASE WHEN o.order_status = 'CONFIRMED' AND bi.payment_mode != 'TOTAL_AMOUNT' THEN tc.coupon_used_amount ELSE 0 END) AS used_amount_confirmed_shopper,\n",
    "           SUM(CASE WHEN o.order_status = 'CONFIRMED' AND bi.payment_mode = 'TOTAL_AMOUNT' THEN tc.coupon_used_amount / ce.rate_us ELSE 0 END) AS used_amount_confirmed_usd,\n",
    "           SUM(CASE WHEN o.order_status = 'CONFIRMED' AND bi.payment_mode != 'TOTAL_AMOUNT' THEN tc.coupon_used_amount / ce.rate_us ELSE 0 END) AS used_amount_confirmed_usd_shopper\n",
    "    FROM `peya-bi-tools-pro.il_core.fact_orders` AS o\n",
    "    INNER JOIN `peya-bi-tools-pro.il_growth.fact_talon_coupons` AS tc ON o.order_id = tc.order_id\n",
    "    LEFT JOIN `peya-bi-tools-pro.il_core.dim_partner` AS p ON o.restaurant.id = p.partner_id\n",
    "    LEFT JOIN `peya-bi-tools-pro.il_core.dim_billing_info` AS bi ON p.billingInfo.billing_info_id = bi.billing_info_id\n",
    "    LEFT JOIN `peya-bi-tools-pro.il_core.dim_country` AS cn ON tc.coupon_country_id = cn.country_id\n",
    "    LEFT JOIN `peya-bi-tools-pro.il_core.dim_city` AS c ON o.city.city_id = c.city_id\n",
    "    LEFT JOIN `peya-bi-tools-pro.il_core.dim_currency_exchange` AS ce ON cn.currency_id = ce.currency_id AND DATE_TRUNC(o.registered_date,MONTH) = ce.currency_exchange_date\n",
    "    LEFT JOIN `peya-argentina.user_santiago_curat.city_usuarios` AS u ON tc.user_id = u.user AND cn.country_name = u.country\n",
    "    WHERE o.registered_date BETWEEN DATE_ADD(CURRENT_DATE(),INTERVAL -30 DAY) AND CURRENT_DATE()\n",
    "          AND DATE(tc.coupon_created_at) >= DATE_ADD(CURRENT_DATE(),INTERVAL -395 DAY)\n",
    "    GROUP BY 1,2,3,4,5),\n",
    "    creation_table AS (\n",
    "    SELECT cn.country_name AS country,\n",
    "           IFNULL(u.city,'-') AS city,\n",
    "           tc.talon_campaign_id AS campaign_id,\n",
    "           COUNT(DISTINCT CASE WHEN tc.coupon_usage_limit = 1 THEN tc.coupon_id ELSE NULL END) AS created1,\n",
    "           SUM(CASE WHEN tc.coupon_usage_limit > 1 THEN tc.coupon_usage_limit ELSE 0 END) AS created2\n",
    "    FROM `peya-bi-tools-pro.il_growth.fact_talon_coupons` AS tc\n",
    "    LEFT JOIN `peya-bi-tools-pro.il_core.dim_country` AS cn ON tc.coupon_country_id = cn.country_id\n",
    "    LEFT JOIN `peya-argentina.user_santiago_curat.city_usuarios` AS u ON tc.user_id = u.user AND cn.country_name = u.country\n",
    "    WHERE DATE(tc.coupon_created_at) >= DATE_ADD(CURRENT_DATE(),INTERVAL -395 DAY)\n",
    "          AND (DATE(tc.coupon_end) >= DATE_ADD(CURRENT_DATE(),INTERVAL -30 DAY) OR tc.coupon_start IS NULL)\n",
    "    GROUP BY 1,2,3),\n",
    "    coupons_final AS (\n",
    "    SELECT ct.country AS country,\n",
    "           ct.city AS city,\n",
    "           ct.campaign_id AS campaign_id,\n",
    "           SUM(ct.redeemed) AS redeemed,\n",
    "           SUM(ct.redeemed_confirmed) AS redeemed_confirmed,\n",
    "           SUM(ct.acquisitions) AS acq,\n",
    "           --SUM(ct.used_amount) AS used_amount,\n",
    "           --SUM(ct.used_amount_shopper) AS used_amount_shopper,\n",
    "           --SUM(ct.used_amount_usd) AS used_amount_usd,\n",
    "           --SUM(ct.used_amount_usd_shopper) AS used_amount_usd_shopper,\n",
    "           SUM(ct.used_amount_confirmed) AS used_amount_confirmed,\n",
    "           SUM(ct.used_amount_confirmed_shopper) AS used_amount_confirmed_shopper,\n",
    "           SUM(ct.used_amount_confirmed_usd) AS used_amount_confirmed_usd,\n",
    "           SUM(ct.used_amount_confirmed_usd_shopper) AS used_amount_confirmed_usd_shopper\n",
    "    FROM coupons_table AS ct\n",
    "    GROUP BY 1,2,3),\n",
    "    creation_final AS (\n",
    "    SELECT ct.country AS country,\n",
    "           ct.city AS city,\n",
    "           ct.campaign_id AS campaign_id,\n",
    "           SUM(ct.created1) + SUM(ct.created2) AS created\n",
    "    FROM creation_table AS ct\n",
    "    GROUP BY 1,2,3)\n",
    "SELECT IFNULL(crf.country,cf.country) AS Country,\n",
    "       IFNULL(crf.city,cf.city) AS City,\n",
    "       IFNULL(tca.talon_campaign_name,'-') AS Campaign,\n",
    "       SUM(crf.created) AS Created,\n",
    "       SUM(cf.redeemed) AS Redeemed,\n",
    "       SUM(cf.redeemed_confirmed) AS Redeemed_Confirmed,\n",
    "       SUM(cf.acq) AS Acq,\n",
    "       --SUM(cf.used_amount) AS Used_Amount,\n",
    "       --SUM(cf.used_amount_shopper) AS Used_Amount_Shopper,\n",
    "       --SUM(cf.used_amount_usd) AS Used_Amount_USD,\n",
    "       --SUM(cf.used_amount_usd_shopper) AS Used_Amount_USD_Shopper,\n",
    "       SUM(cf.used_amount_confirmed) AS Used_Amount_Confirmed,\n",
    "       SUM(cf.used_amount_confirmed_shopper) AS Used_Amount_Confirmed_Shopper,\n",
    "       SUM(cf.used_amount_confirmed_usd) AS Used_Amount_Confirmed_USD,\n",
    "       SUM(cf.used_amount_confirmed_usd_shopper) AS Used_Amount_Confirmed_USD_Shopper\n",
    "FROM creation_final AS crf\n",
    "FULL OUTER JOIN coupons_final AS cf ON crf.country = cf.country \n",
    "                                       AND crf.city = cf.city\n",
    "                                       AND crf.campaign_id = cf.campaign_id\n",
    "LEFT JOIN `peya-bi-tools-pro.il_growth.dim_talon_campaigns` AS tca ON crf.campaign_id = tca.talon_campaign_id OR cf.campaign_id = tca.talon_campaign_id\n",
    "GROUP BY 1,2,3'''\n",
    "\n",
    "# 2GB\n",
    "q_fl = '''SELECT DISTINCT cn.country_name AS Country,\n",
    "       IFNULL(u.city,'-') AS City,\n",
    "       tca.talon_campaign_name AS Campaign\n",
    "FROM `peya-bi-tools-pro.il_growth.fact_talon_coupons` AS tc\n",
    "LEFT JOIN `peya-bi-tools-pro.il_core.dim_country` AS cn ON tc.coupon_country_id = cn.country_id\n",
    "LEFT JOIN `peya-argentina.user_santiago_curat.city_usuarios` AS u ON tc.user_id = u.user AND cn.country_name = u.country\n",
    "LEFT JOIN `peya-bi-tools-pro.il_growth.dim_talon_campaigns` AS tca ON tc.talon_campaign_id = tca.talon_campaign_id\n",
    "WHERE DATE(tc.coupon_created_at) >= DATE_ADD(CURRENT_DATE(),INTERVAL -3 DAY)'''\n",
    "\n",
    "# 23GB\n",
    "q_st = '''WITH coupons_table AS (\n",
    "    SELECT tc.order_id AS order_id,\n",
    "           tc.user_id AS user_id,\n",
    "           tca.talon_campaign_name AS campaign,\n",
    "           tc.coupon_used_amount AS amount_used\n",
    "    FROM `peya-bi-tools-pro.il_growth.fact_talon_coupons` AS tc\n",
    "    LEFT JOIN `peya-bi-tools-pro.il_growth.dim_talon_campaigns` AS tca ON tc.talon_campaign_id = tca.talon_campaign_id\n",
    "    WHERE tc.order_id IS NOT NULL\n",
    "          AND DATE(tc.order_registered_date) BETWEEN DATE_TRUNC(DATE_ADD(CURRENT_DATE(), INTERVAL -4 MONTH),MONTH) AND CURRENT_DATE()),\n",
    "    orders_table AS (\n",
    "    SELECT o.user.id AS user,\n",
    "           cn.country_name AS country,\n",
    "           IFNULL(c.city_name,'-') AS city,\n",
    "           o.order_status AS status,\n",
    "           o.order_id AS order_id,\n",
    "           o.registered_date AS fecha,\n",
    "           CASE WHEN ct.campaign IS NULL THEN 0 ELSE 1 END AS crm,\n",
    "           IFNULL(o.shipping_amount_no_discount + o.amount_no_discount,0) AS total_paid,\n",
    "           SUM(od.discount_amount) AS total_disc,\n",
    "           SUM(CASE WHEN UPPER(od.discount_type_name) = 'VOUCHER' THEN od.discount_amount ELSE 0 END) AS total_voucher_disc\n",
    "    FROM `peya-bi-tools-pro.il_core.fact_orders` AS o,\n",
    "    UNNEST(discounts) AS od\n",
    "    LEFT JOIN `peya-bi-tools-pro.il_core.dim_country` AS cn ON o.country_id = cn.country_id\n",
    "    LEFT JOIN `peya-bi-tools-pro.il_core.dim_city` AS c ON o.city.city_id = c.city_id\n",
    "    LEFT JOIN coupons_table AS ct ON o.order_id = ct.order_id\n",
    "    WHERE o.registered_date BETWEEN DATE_TRUNC(DATE_ADD(CURRENT_DATE(), INTERVAL -4 MONTH),MONTH) AND CURRENT_DATE()\n",
    "    GROUP BY 1,2,3,4,5,6,7,8),\n",
    "    acq_table AS (\n",
    "    SELECT ot.user AS user,\n",
    "           ot.country AS country,\n",
    "           ot.city AS city,\n",
    "           ot.fecha AS fecha,\n",
    "           ct.campaign AS campaign,\n",
    "           SUM(ct.amount_used) AS amount_used\n",
    "    FROM orders_table AS ot\n",
    "    INNER JOIN coupons_table AS ct ON ot.order_id = ct.order_id\n",
    "    GROUP BY 1,2,3,4,5),\n",
    "    cohorts_table AS (\n",
    "    SELECT acq.user AS user,\n",
    "           acq.country AS country,\n",
    "           acq.campaign AS campaign,\n",
    "           acq.city AS city,\n",
    "           acq.fecha AS fecha,\n",
    "           acq.amount_used AS original_amount_used,\n",
    "           CASE WHEN DATE_DIFF(ot.fecha,acq.fecha,DAY) = 0 THEN 'ORIGINALS'\n",
    "                WHEN DATE_DIFF(ot.fecha,acq.fecha,DAY) BETWEEN 1 AND 30 THEN 'M1'\n",
    "                WHEN DATE_DIFF(ot.fecha,acq.fecha,DAY) BETWEEN 31 AND 60 THEN 'M2'\n",
    "                WHEN DATE_DIFF(ot.fecha,acq.fecha,DAY) BETWEEN 61 AND 90 THEN 'M3' END AS cohort,\n",
    "           IFNULL(COUNT(DISTINCT CASE WHEN ot.status != 'CONFIRMED' THEN NULL ELSE ot.order_id END),0) AS orders,\n",
    "           SUM(CASE WHEN ot.status != 'CONFIRMED' THEN 0 ELSE ot.total_paid END) AS total_paid,\n",
    "           SUM(CASE WHEN ot.status != 'CONFIRMED' THEN 0 ELSE ot.total_disc END) AS total_disc,\n",
    "           SUM(CASE WHEN ot.status != 'CONFIRMED' THEN 0 ELSE ot.total_voucher_disc END) AS total_voucher_disc\n",
    "    FROM acq_table AS acq\n",
    "    LEFT JOIN orders_table AS ot ON acq.user = ot.user\n",
    "    WHERE ot.fecha BETWEEN acq.fecha AND CURRENT_DATE()\n",
    "    GROUP BY 1,2,3,4,5,6,7)\n",
    "SELECT FORMAT_DATE('%Y-%m', ct.fecha) AS Month,\n",
    "       ct.country AS Country,\n",
    "       ct.city AS City,\n",
    "       ct.campaign AS Campaign,\n",
    "       SUM(ct.original_amount_used) AS Original_Amount_Used,\n",
    "       COUNT(DISTINCT CASE WHEN ct.cohort = 'ORIGINALS' THEN ct.user ELSE NULL END) AS Acquisitions,\n",
    "       COUNT(DISTINCT CASE WHEN ct.cohort = 'M1' AND ct.orders > 0 THEN ct.user ELSE NULL END) AS M1_Users,\n",
    "       SUM(CASE WHEN ct.cohort = 'M1' THEN ct.orders ELSE 0 END) AS M1_Orders,\n",
    "       COUNT(DISTINCT CASE WHEN ct.cohort = 'M2' AND ct.orders > 0 THEN ct.user ELSE NULL END) AS M2_Users,\n",
    "       SUM(CASE WHEN ct.cohort = 'M2' THEN ct.orders ELSE 0 END) AS M2_Orders,\n",
    "       COUNT(DISTINCT CASE WHEN ct.cohort = 'M3' AND ct.orders > 0 THEN ct.user ELSE NULL END) AS M3_Users,\n",
    "       SUM(CASE WHEN ct.cohort = 'M3' THEN ct.orders ELSE 0 END) AS M3_Orders,\n",
    "       SUM(CASE WHEN ct.cohort = 'M1' THEN ct.total_paid ELSE 0 END) AS M1_Total_Paid,\n",
    "       SUM(CASE WHEN ct.cohort = 'M1' THEN ct.total_disc ELSE 0 END) AS M1_Total_Disc,\n",
    "       SUM(CASE WHEN ct.cohort = 'M1' THEN ct.total_voucher_disc ELSE 0 END) AS M1_Total_Voucher_Disc,\n",
    "       SUM(CASE WHEN ct.cohort = 'M2' THEN ct.total_paid ELSE 0 END) AS M2_Total_Paid,\n",
    "       SUM(CASE WHEN ct.cohort = 'M2' THEN ct.total_disc ELSE 0 END) AS M2_Total_Disc,\n",
    "       SUM(CASE WHEN ct.cohort = 'M2' THEN ct.total_voucher_disc ELSE 0 END) AS M2_Total_Voucher_Disc,\n",
    "       SUM(CASE WHEN ct.cohort = 'M3' THEN ct.total_paid ELSE 0 END) AS M3_Total_Paid,\n",
    "       SUM(CASE WHEN ct.cohort = 'M3' THEN ct.total_disc ELSE 0 END) AS M3_Total_Disc,\n",
    "       SUM(CASE WHEN ct.cohort = 'M3' THEN ct.total_voucher_disc ELSE 0 END) AS M3_Total_Voucher_Disc\n",
    "FROM cohorts_table AS ct\n",
    "GROUP BY 1,2,3,4'''"
   ]
  },
  {
   "cell_type": "code",
   "execution_count": 7,
   "metadata": {},
   "outputs": [
    {
     "name": "stderr",
     "output_type": "stream",
     "text": [
      "Downloading: 100%|███████████████████████████████████████████████████████████| 59258/59258 [00:12<00:00, 4790.33rows/s]\n"
     ]
    }
   ],
   "source": [
    "# Descargo la data\n",
    "bq_tc = pd.io.gbq.read_gbq(q_tc, project_id='peya-argentina', dialect='standard')"
   ]
  },
  {
   "cell_type": "code",
   "execution_count": 8,
   "metadata": {},
   "outputs": [
    {
     "name": "stderr",
     "output_type": "stream",
     "text": [
      "Downloading: 100%|██████████████████████████████████████████████████████████| 12717/12717 [00:01<00:00, 12637.43rows/s]\n"
     ]
    }
   ],
   "source": [
    "bq_fl = pd.io.gbq.read_gbq(q_fl, project_id='peya-argentina', dialect='standard')"
   ]
  },
  {
   "cell_type": "code",
   "execution_count": 9,
   "metadata": {},
   "outputs": [
    {
     "name": "stderr",
     "output_type": "stream",
     "text": [
      "Downloading: 100%|█████████████████████████████████████████████████████████| 109782/109782 [00:45<00:00, 2431.57rows/s]\n"
     ]
    }
   ],
   "source": [
    "bq_st = pd.io.gbq.read_gbq(q_st, project_id='peya-argentina', dialect='standard')"
   ]
  },
  {
   "cell_type": "code",
   "execution_count": 14,
   "metadata": {},
   "outputs": [],
   "source": [
    "# Copio las bases\n",
    "tc = bq_tc.copy()\n",
    "fl = bq_fl.copy()\n",
    "st = bq_st.copy()"
   ]
  },
  {
   "cell_type": "markdown",
   "metadata": {},
   "source": [
    "### TRABAJO"
   ]
  },
  {
   "cell_type": "markdown",
   "metadata": {},
   "source": [
    "#### TRABAJO COUPONS"
   ]
  },
  {
   "cell_type": "code",
   "execution_count": 15,
   "metadata": {},
   "outputs": [],
   "source": [
    "# Doy formato a las columnas\n",
    "cols_str = ['Campaign','Country','City']\n",
    "cols_float = [i for i in tc.columns if i not in cols_str]\n",
    "tc[cols_float] = tc[cols_float].astype(float)\n",
    "tc[cols_str] = tc[cols_str].apply(lambda x: x.astype(str).str.upper())\n",
    "# Saco los espacios de los nombres de campañas\n",
    "tc['Campaign'] = tc['Campaign'].str.replace(' ', '')"
   ]
  },
  {
   "cell_type": "code",
   "execution_count": 16,
   "metadata": {},
   "outputs": [],
   "source": [
    "# Creo las columnas para los segmentos\n",
    "tc['Benefit'] = tc['Campaign'].apply(lambda x: filtros(x,'BENEFICIOS'))\n",
    "tc['Type'] = tc['Campaign'].apply(lambda x: filtros(x,'TIPOS'))\n",
    "tc['Segment'] = tc['Campaign'].apply(lambda x: filtros(x,'SEGMENTOS'))\n",
    "tc['Level'] = tc['Campaign'].apply(lambda x: filtros(x,'NIVELES'))\n",
    "tc['Campaña'] = tc['Campaign'].apply(lambda x: filtros(x,'CAMPAIGNS'))\n",
    "tc['Automated'] = tc['Campaign'].apply(lambda x: filtros(x,'AUTOMATIONS'))\n",
    "tc['Budget'] = tc['Campaign'].apply(lambda x: filtros(x,'BUDGET'))\n",
    "tc['Trial'] = tc['Campaign'].apply(lambda x: filtros(x,'TRIAL'))\n",
    "# Coloco el IVA\n",
    "tc = func_iva(tc)\n",
    "# Marco las campañas a filtrar\n",
    "tc['Filtrar'] = tc['Campaign'].apply(filtrar_cam)\n",
    "tc = tc[tc['Filtrar'] == 'No'].copy()"
   ]
  },
  {
   "cell_type": "code",
   "execution_count": 17,
   "metadata": {},
   "outputs": [],
   "source": [
    "# Saco el IVA\n",
    "used_usd = 'Used_Amount_Confirmed_USD'\n",
    "used_shopper_usd = 'Used_Amount_Confirmed_USD_Shopper'\n",
    "used = 'Used_Amount_Confirmed'\n",
    "used_shopper = 'Used_Amount_Confirmed_Shopper'\n",
    "tc['Used_Final_USD'] = tc[used_shopper_usd] / (1 + tc['IVA']) * tc['Extra'] + tc[used_usd]\n",
    "tc['Used_Final'] = tc[used_shopper] / (1 + tc['IVA']) * tc['Extra'] + tc[used]"
   ]
  },
  {
   "cell_type": "markdown",
   "metadata": {},
   "source": [
    "#### TRABAJO FLOWS"
   ]
  },
  {
   "cell_type": "code",
   "execution_count": 18,
   "metadata": {},
   "outputs": [],
   "source": [
    "# Doy formato a las columnas\n",
    "fl = fl.apply(lambda x: x.astype(str).str.upper())\n",
    "# Saco los espacios de los nombres de campañas\n",
    "fl['Campaign'] = fl['Campaign'].str.replace(' ', '')\n",
    "# Creo las columnas para los segmentos\n",
    "fl['Benefit'] = fl['Campaign'].apply(lambda x: filtros(x,'BENEFICIOS'))\n",
    "fl['Type'] = fl['Campaign'].apply(lambda x: filtros(x,'TIPOS'))\n",
    "fl['Segment'] = fl['Campaign'].apply(lambda x: filtros(x,'SEGMENTOS'))\n",
    "fl['Level'] = fl['Campaign'].apply(lambda x: filtros(x,'NIVELES'))\n",
    "fl['Campaña'] = fl['Campaign'].apply(lambda x: filtros(x,'CAMPAIGNS'))\n",
    "fl['Automated'] = fl['Campaign'].apply(lambda x: filtros(x,'AUTOMATIONS'))\n",
    "fl['Budget'] = fl['Campaign'].apply(lambda x: filtros(x,'BUDGET'))\n",
    "fl['Trial'] = fl['Campaign'].apply(lambda x: filtros(x,'TRIAL'))\n",
    "# Marco las campañas a filtrar\n",
    "fl['Filtrar'] = fl['Campaign'].apply(filtrar_cam)\n",
    "fl = fl[fl['Filtrar'] == 'No'].copy()\n",
    "# Divido los DF por Country\n",
    "fl_arg = fl[fl['Country'] == 'ARGENTINA'].copy()\n",
    "fl_chi = fl[fl['Country'] == 'CHILE'].copy()"
   ]
  },
  {
   "cell_type": "markdown",
   "metadata": {},
   "source": [
    "#### TRABAJO STATS"
   ]
  },
  {
   "cell_type": "code",
   "execution_count": 19,
   "metadata": {},
   "outputs": [],
   "source": [
    "# Doy formato a las columnas\n",
    "cols_str = ['Campaign','Country','Month','City']\n",
    "cols_float = [i for i in st.columns if i not in cols_str]\n",
    "st[cols_float] = st[cols_float].astype(float)\n",
    "st[cols_str] = st[cols_str].apply(lambda x: x.astype(str).str.upper())\n",
    "# Saco los espacios de los nombres de campañas\n",
    "st['Campaign'] = st['Campaign'].str.replace(' ', '')\n",
    "# Doy formato a la fecha\n",
    "st['Month'] = pd.to_datetime(st['Month'], format='%Y-%m').dt.strftime('%Y-%m')\n",
    "# Ordeno la base\n",
    "st.sort_values(by=['Country','Month','Campaign','City'],inplace=True)"
   ]
  },
  {
   "cell_type": "code",
   "execution_count": 20,
   "metadata": {},
   "outputs": [],
   "source": [
    "# Llevo a cabo la limpieza del Reorder\n",
    "cols_final = ['M1_Users_Final','M2_Users_Final','M3_Users_Final',\n",
    "              'M1_Orders_Final','M2_Orders_Final','M3_Orders_Final',\n",
    "              'Acq_M1','Acq_M2','Acq_M3']\n",
    "\n",
    "for i in cols_final:\n",
    "    st[i] = 0\n",
    "# Completo las columnas que cree\n",
    "cols_toFill_m1 = ['M1_Users_Final','M1_Orders_Final','Acq_M1']\n",
    "cols_fill_m1 = ['M1_Users','M1_Orders','Acquisitions']\n",
    "cols_toFill_m2 = ['M2_Users_Final','M2_Orders_Final','Acq_M2']\n",
    "cols_fill_m2 = ['M2_Users','M2_Orders','Acquisitions']\n",
    "cols_toFill_m3 = ['M3_Users_Final','M3_Orders_Final','Acq_M3']\n",
    "cols_fill_m3 = ['M3_Users','M3_Orders','Acquisitions']\n",
    "months = st.sort_values(by=['Month'],ascending=False)['Month'].unique().tolist()\n",
    "if len(months) > 3:\n",
    "    # Para todos los meses coloco los valores en M1\n",
    "    st[cols_toFill_m1] = st[cols_fill_m1].values\n",
    "    # Para el tercer y cuarto mes coloco los valores en M2\n",
    "    st.loc[st['Month'].isin(months[2:]),cols_toFill_m2] = st[st['Month'].isin(months[2:])][cols_fill_m2].values\n",
    "    # Para el cuarto mes coloco los valores en M3\n",
    "    st.loc[st['Month'] == months[-1],cols_toFill_m3] = st[st['Month'] == months[-1]][cols_fill_m3].values\n",
    "else:\n",
    "    # Para todos los meses coloco los valores en M1\n",
    "    st[cols_toFill_m1] = st[cols_fill_m1].values\n",
    "    # Para el segundo mes coloco los valores en M2\n",
    "    st.loc[st['Month'].isin(months[1:]),cols_toFill_m2] = st[st['Month'].isin(months[1:])][cols_fill_m2].values\n",
    "    # Para el cuarto mes coloco los valores en M3\n",
    "    st.loc[st['Month'] == months[-1],cols_toFill_m3] = st[st['Month'] == months[-1]][cols_fill_m3].values"
   ]
  },
  {
   "cell_type": "code",
   "execution_count": 21,
   "metadata": {},
   "outputs": [],
   "source": [
    "# Hago una PT sacando el Month\n",
    "index = ['Country','City','Campaign']\n",
    "values = [i for i in st.columns if i not in index+['Month']]\n",
    "pt_st = st.pivot_table(index=index,values=values,aggfunc='sum').reset_index()"
   ]
  },
  {
   "cell_type": "code",
   "execution_count": 22,
   "metadata": {},
   "outputs": [],
   "source": [
    "# Creo las columnas para los segmentos\n",
    "pt_st['Benefit'] = pt_st['Campaign'].apply(lambda x: filtros(x,'BENEFICIOS'))\n",
    "pt_st['Type'] = pt_st['Campaign'].apply(lambda x: filtros(x,'TIPOS'))\n",
    "pt_st['Segment'] = pt_st['Campaign'].apply(lambda x: filtros(x,'SEGMENTOS'))\n",
    "pt_st['Level'] = pt_st['Campaign'].apply(lambda x: filtros(x,'NIVELES'))\n",
    "pt_st['Campaña'] = pt_st['Campaign'].apply(lambda x: filtros(x,'CAMPAIGNS'))\n",
    "pt_st['Automated'] = pt_st['Campaign'].apply(lambda x: filtros(x,'AUTOMATIONS'))\n",
    "pt_st['Budget'] = pt_st['Campaign'].apply(lambda x: filtros(x,'BUDGET'))\n",
    "pt_st['Trial'] = pt_st['Campaign'].apply(lambda x: filtros(x,'TRIAL'))\n",
    "# Marco las campañas a filtrar\n",
    "pt_st['Filtrar'] = pt_st['Campaign'].apply(filtrar_cam)\n",
    "pt_st = pt_st[pt_st['Filtrar'] == 'No'].copy()"
   ]
  },
  {
   "cell_type": "markdown",
   "metadata": {},
   "source": [
    "#### UNION COUPONS Y STATS"
   ]
  },
  {
   "cell_type": "code",
   "execution_count": 23,
   "metadata": {},
   "outputs": [],
   "source": [
    "# Merge entre TC y Stats\n",
    "on = ['Country','City','Campaign']\n",
    "cols = ['Country','City','Campaign','Acq_M1','Acq_M2','Acq_M3','Acquisitions','M1_Orders','M1_Orders_Final','M1_Total_Disc',\n",
    "        'M1_Total_Paid','M1_Total_Voucher_Disc','M1_Users','M1_Users_Final','M2_Orders','M2_Orders_Final','M2_Total_Disc','M2_Total_Paid',\n",
    "        'M2_Total_Voucher_Disc','M2_Users','M2_Users_Final','M3_Orders','M3_Orders_Final','M3_Total_Disc','M3_Total_Paid',\n",
    "        'M3_Total_Voucher_Disc','M3_Users','M3_Users_Final','Original_Amount_Used']\n",
    "final = tc.merge(pt_st[cols],on=on,how='left').copy()\n",
    "final.replace([np.nan,np.inf,-np.inf],'-',inplace=True)"
   ]
  },
  {
   "cell_type": "code",
   "execution_count": 25,
   "metadata": {},
   "outputs": [],
   "source": [
    "# Ordeno las columnas\n",
    "cols = ['Campaign','Country','City','Type','Segment','Level','Campaña','Automated','Budget','Trial']\n",
    "cols_resto = [i for i in final.columns if i not in cols]\n",
    "final = final[cols+cols_resto].copy()"
   ]
  },
  {
   "cell_type": "code",
   "execution_count": 26,
   "metadata": {},
   "outputs": [],
   "source": [
    "# Divido por pais\n",
    "cols_sort = ['City','Campaign']\n",
    "final_arg = final[final['Country'] == 'ARGENTINA'].sort_values(by=cols_sort,ascending=False).copy()\n",
    "final_chi = final[final['Country'] == 'CHILE'].sort_values(by=cols_sort,ascending=False).copy()\n",
    "# Dropeo la columna country para achicar el DF\n",
    "final_arg.drop(['Country'],axis=1,inplace=True)\n",
    "final_chi.drop(['Country'],axis=1,inplace=True)"
   ]
  },
  {
   "cell_type": "markdown",
   "metadata": {},
   "source": [
    "#### TIPOS DE CAMPAÑAS"
   ]
  },
  {
   "cell_type": "code",
   "execution_count": 38,
   "metadata": {},
   "outputs": [],
   "source": [
    "# Creo un DF con las unique combinations\n",
    "cols = ['Budget','Type','Segment','Trial','Level','Campaña','Automated','Country']\n",
    "campaign_type = final.groupby(cols).size().reset_index().drop([0], axis = 1)\n",
    "# Ordeno el DF\n",
    "cols = ['Budget','Type','Segment']\n",
    "campaign_type.sort_values(by=cols,ascending=False,inplace=True)\n",
    "# Divido por pais\n",
    "ct_arg = campaign_type[campaign_type['Country'] == 'ARGENTINA'].copy()\n",
    "ct_chi = campaign_type[campaign_type['Country'] == 'CHILE'].copy()"
   ]
  },
  {
   "cell_type": "markdown",
   "metadata": {},
   "source": [
    "### CARGA"
   ]
  },
  {
   "cell_type": "code",
   "execution_count": 40,
   "metadata": {},
   "outputs": [
    {
     "name": "stdout",
     "output_type": "stream",
     "text": [
      "Carga Correcta!\n"
     ]
    }
   ],
   "source": [
    "# Carga Argentina\n",
    "#carga(final_arg,'1_hOX88CV2BwFCPw37PH20116liF8nFdS4iEXLDL3LHM','Crudo Performance')\n",
    "carga(ct_arg,'1_hOX88CV2BwFCPw37PH20116liF8nFdS4iEXLDL3LHM','Filtro Campaigns')\n",
    "#carga(fl_arg,'1_hOX88CV2BwFCPw37PH20116liF8nFdS4iEXLDL3LHM','Crudo Active')"
   ]
  },
  {
   "cell_type": "code",
   "execution_count": 42,
   "metadata": {},
   "outputs": [
    {
     "name": "stdout",
     "output_type": "stream",
     "text": [
      "Carga Correcta!\n"
     ]
    }
   ],
   "source": [
    "# Carga Chile\n",
    "carga(final_chi,'1CuWUY3WQhXHsZvpk7QMCEq9GJhSZU487as9_tFSBYF4','Crudo Performance')\n",
    "#carga(ct_chi,'1CuWUY3WQhXHsZvpk7QMCEq9GJhSZU487as9_tFSBYF4','Filtro Campaigns')\n",
    "#carga(fl_chi,'1CuWUY3WQhXHsZvpk7QMCEq9GJhSZU487as9_tFSBYF4','Crudo Active')"
   ]
  }
 ],
 "metadata": {
  "kernelspec": {
   "display_name": "Python 3",
   "language": "python",
   "name": "python3"
  },
  "language_info": {
   "codemirror_mode": {
    "name": "ipython",
    "version": 3
   },
   "file_extension": ".py",
   "mimetype": "text/x-python",
   "name": "python",
   "nbconvert_exporter": "python",
   "pygments_lexer": "ipython3",
   "version": "3.7.6"
  }
 },
 "nbformat": 4,
 "nbformat_minor": 4
}
