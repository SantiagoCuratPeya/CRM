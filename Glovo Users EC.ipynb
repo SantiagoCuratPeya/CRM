{
 "cells": [
  {
   "cell_type": "markdown",
   "metadata": {},
   "source": [
    "### IMPORTS"
   ]
  },
  {
   "cell_type": "code",
   "execution_count": 1,
   "metadata": {},
   "outputs": [],
   "source": [
    "import sys, os\n",
    "sys.path.append(os.path.join(sys.path[0],'Pythons'))"
   ]
  },
  {
   "cell_type": "code",
   "execution_count": 2,
   "metadata": {},
   "outputs": [],
   "source": [
    "from Carga_Descarga import *\n",
    "from CRM_Central import *"
   ]
  },
  {
   "cell_type": "markdown",
   "metadata": {},
   "source": [
    "### QUERIES"
   ]
  },
  {
   "cell_type": "code",
   "execution_count": 244,
   "metadata": {},
   "outputs": [],
   "source": [
    "q_seg = '''WITH users_table AS (    \n",
    "    SELECT FORMAT_DATE('%Y-%m',god.order_date) AS month,\n",
    "        god.user_id AS user,\n",
    "        gec.segment AS segment,\n",
    "        SUM(god.qty_orders) AS orders  \n",
    "    FROM `peya-delivery-and-support.automated_tables_reports.glovo_orders_date` AS god\n",
    "    LEFT JOIN `peya-growth-and-onboarding.automated_tables_reports.glovo_user_segmentation_ec` AS gec ON god.user_id = gec.user_id\n",
    "    WHERE god.country_code = 'EC'\n",
    "        AND god.order_status = 'CONFIRMED'\n",
    "        AND god.order_date BETWEEN DATE('2020-12-01') AND DATE('2021-02-28') \n",
    "    GROUP BY 1,2,3)\n",
    "SELECT ut.month AS Month,\n",
    "       IFNULL(ut.segment,'-') AS Segment,\n",
    "       CASE WHEN UPPER(ut.segment) LIKE '%%LOYAL%%' THEN 'Loyal' ELSE 'No Loyal' END AS Loyalty,\n",
    "       CASE WHEN ut.orders >= 7 THEN '+7' ELSE '-7' END AS Tipo,\n",
    "       COUNT(DISTINCT ut.user) AS Users,\n",
    "       SUM(ut.orders) AS Orders\n",
    "FROM users_table AS ut\n",
    "GROUP BY 1,2,3,4'''\n",
    "\n",
    "q_ord = '''WITH users_table AS (    \n",
    "    SELECT FORMAT_DATE('%Y-%m',god.order_date) AS month,\n",
    "        god.user_id AS user,\n",
    "        SUM(god.qty_orders) AS orders  \n",
    "    FROM `peya-delivery-and-support.automated_tables_reports.glovo_orders_date` AS god\n",
    "    WHERE god.country_code = 'EC'\n",
    "        AND god.order_status = 'CONFIRMED'\n",
    "        AND god.order_date BETWEEN DATE('2021-02-01') AND DATE('2021-02-28') \n",
    "    GROUP BY 1,2)\n",
    "SELECT FORMAT_DATE('%Y-%m',o.registered_date) AS Month,\n",
    "       IFNULL(gec.segment,'-') AS Segment,\n",
    "       CASE WHEN UPPER(gec.segment) LIKE '%%LOYAL%%' THEN 'Loyal' ELSE 'No Loyal' END AS Loyalty,\n",
    "       CASE WHEN ut.orders >= 7 THEN '+7' ELSE '-7' END AS Tipo,\n",
    "       COUNT(DISTINCT CASE WHEN o.order_status = 'CONFIRMED' THEN o.user.id ELSE NULL END) AS Users,\n",
    "       COUNT(DISTINCT CASE WHEN o.order_status = 'CONFIRMED' THEN o.order_id ELSE NULL END) AS Orders\n",
    "FROM `peya-bi-tools-pro.il_core.fact_orders` AS o \n",
    "LEFT JOIN `peya-growth-and-onboarding.automated_tables_reports.glovo_user_segmentation_ec` AS gec ON o.user.id = gec.user_id\n",
    "LEFT JOIN `peya-bi-tools-pro.il_core.dim_country` AS cn ON o.country_id = cn.country_id\n",
    "LEFT JOIN users_table AS ut ON o.user.id = ut.user\n",
    "WHERE o.registered_date >= DATE('2021-03-01')\n",
    "      AND cn.country_name = 'Ecuador'\n",
    "GROUP BY 1,2,3,4\n",
    "ORDER BY 1 ASC'''\n",
    "\n",
    "q_t = '''WITH users_table AS (    \n",
    "    SELECT FORMAT_DATE('%Y-%m',o.registered_date) AS month,\n",
    "        o.user.id AS user,\n",
    "        COUNT(DISTINCT o.order_id) AS orders\n",
    "    FROM `peya-bi-tools-pro.il_core.fact_orders` AS o \n",
    "    LEFT JOIN `peya-bi-tools-pro.il_core.dim_country` AS cn ON o.country_id = cn.country_id\n",
    "    WHERE cn.country_name = 'Ecuador'\n",
    "        AND o.order_status = 'CONFIRMED'\n",
    "        AND o.registered_date BETWEEN DATE('2021-03-01') AND DATE('2021-06-30') \n",
    "    GROUP BY 1,2)\n",
    "SELECT ut.month AS Month,\n",
    "       CASE WHEN ut.orders >= 1 AND ut.orders <= 3 THEN '1-3' \n",
    "            WHEN ut.orders >= 4 AND ut.orders <= 6 THEN '4-6'\n",
    "            WHEN ut.orders >=7 THEN '+7' ELSE '-' END AS Tipo,\n",
    "       COUNT(DISTINCT ut.user) AS Users,\n",
    "       SUM(ut.orders) AS Orders,\n",
    "       SUM(ut.orders) /  COUNT(DISTINCT ut.user) AS Freq\n",
    "FROM users_table AS ut\n",
    "GROUP BY 1,2\n",
    "ORDER BY 1 ASC'''"
   ]
  },
  {
   "cell_type": "code",
   "execution_count": 136,
   "metadata": {},
   "outputs": [
    {
     "name": "stderr",
     "output_type": "stream",
     "text": [
      "Downloading: 100%|███████████████████████████████████████████████████████████████████| 40/40 [00:00<00:00, 92.94rows/s]\n"
     ]
    }
   ],
   "source": [
    "# Descargo la data\n",
    "bq_seg = pd.io.gbq.read_gbq(q_seg, project_id='peya-argentina', dialect='standard')"
   ]
  },
  {
   "cell_type": "code",
   "execution_count": 188,
   "metadata": {},
   "outputs": [
    {
     "name": "stderr",
     "output_type": "stream",
     "text": [
      "Downloading: 100%|██████████████████████████████████████████████████████████████████| 90/90 [00:00<00:00, 232.37rows/s]\n"
     ]
    }
   ],
   "source": [
    "bq_ord = pd.io.gbq.read_gbq(q_ord, project_id='peya-argentina', dialect='standard')"
   ]
  },
  {
   "cell_type": "code",
   "execution_count": 245,
   "metadata": {},
   "outputs": [
    {
     "name": "stderr",
     "output_type": "stream",
     "text": [
      "Downloading: 100%|███████████████████████████████████████████████████████████████████| 12/12 [00:00<00:00, 32.59rows/s]\n"
     ]
    }
   ],
   "source": [
    "bq_t = pd.io.gbq.read_gbq(q_t, project_id='peya-argentina', dialect='standard')"
   ]
  },
  {
   "cell_type": "code",
   "execution_count": 246,
   "metadata": {},
   "outputs": [],
   "source": [
    "# Copio las bases\n",
    "seg = bq_seg.copy()\n",
    "orders = bq_ord.copy()\n",
    "t = bq_t.copy()"
   ]
  },
  {
   "cell_type": "markdown",
   "metadata": {},
   "source": [
    "### TRABAJO"
   ]
  },
  {
   "cell_type": "code",
   "execution_count": 247,
   "metadata": {},
   "outputs": [],
   "source": [
    "# Trabajo la segmentacion de base\n",
    "pts_t = []\n",
    "for i in t.sort_values(by=['Month'],ascending=True)['Month'].unique():\n",
    "    pts_t.append(t[t['Month'] == i].copy())\n",
    "for i in pts_t:\n",
    "    i['%Orders'] = i['Orders'] / i['Orders'].sum()\n",
    "    i['%Users'] = i['Users'] / i['Users'].sum()\n",
    "    i['Freq'] = i['Orders'] / i['Users']"
   ]
  },
  {
   "cell_type": "code",
   "execution_count": 260,
   "metadata": {},
   "outputs": [
    {
     "data": {
      "text/html": [
       "<div>\n",
       "<style scoped>\n",
       "    .dataframe tbody tr th:only-of-type {\n",
       "        vertical-align: middle;\n",
       "    }\n",
       "\n",
       "    .dataframe tbody tr th {\n",
       "        vertical-align: top;\n",
       "    }\n",
       "\n",
       "    .dataframe thead th {\n",
       "        text-align: right;\n",
       "    }\n",
       "</style>\n",
       "<table border=\"1\" class=\"dataframe\">\n",
       "  <thead>\n",
       "    <tr style=\"text-align: right;\">\n",
       "      <th></th>\n",
       "      <th>Month</th>\n",
       "      <th>Tipo</th>\n",
       "      <th>Users</th>\n",
       "      <th>Orders</th>\n",
       "      <th>Freq</th>\n",
       "      <th>%Orders</th>\n",
       "      <th>%Users</th>\n",
       "    </tr>\n",
       "  </thead>\n",
       "  <tbody>\n",
       "    <tr>\n",
       "      <th>9</th>\n",
       "      <td>2021-06</td>\n",
       "      <td>1-3</td>\n",
       "      <td>1825928</td>\n",
       "      <td>2978575</td>\n",
       "      <td>1.631266</td>\n",
       "      <td>0.351961</td>\n",
       "      <td>0.716122</td>\n",
       "    </tr>\n",
       "    <tr>\n",
       "      <th>10</th>\n",
       "      <td>2021-06</td>\n",
       "      <td>4-6</td>\n",
       "      <td>419985</td>\n",
       "      <td>1996517</td>\n",
       "      <td>4.753782</td>\n",
       "      <td>0.235917</td>\n",
       "      <td>0.164717</td>\n",
       "    </tr>\n",
       "    <tr>\n",
       "      <th>11</th>\n",
       "      <td>2021-06</td>\n",
       "      <td>+7</td>\n",
       "      <td>303830</td>\n",
       "      <td>3487706</td>\n",
       "      <td>11.479136</td>\n",
       "      <td>0.412122</td>\n",
       "      <td>0.119161</td>\n",
       "    </tr>\n",
       "  </tbody>\n",
       "</table>\n",
       "</div>"
      ],
      "text/plain": [
       "      Month Tipo    Users   Orders       Freq   %Orders    %Users\n",
       "9   2021-06  1-3  1825928  2978575   1.631266  0.351961  0.716122\n",
       "10  2021-06  4-6   419985  1996517   4.753782  0.235917  0.164717\n",
       "11  2021-06   +7   303830  3487706  11.479136  0.412122  0.119161"
      ]
     },
     "execution_count": 260,
     "metadata": {},
     "output_type": "execute_result"
    }
   ],
   "source": [
    "pts_t[3]"
   ]
  },
  {
   "cell_type": "code",
   "execution_count": 199,
   "metadata": {},
   "outputs": [],
   "source": [
    "# Hago una PT para explicar la fuerza del grupo de usuarios\n",
    "index = ['Month','Loyalty','Tipo']\n",
    "values = ['Users','Orders']\n",
    "pt_seg = seg.pivot_table(index=index,values=values,aggfunc='sum',fill_value=0).reset_index()\n",
    "pts_seg = []\n",
    "for i in seg.sort_values(by=['Month'],ascending=True)['Month'].unique():\n",
    "    pts_seg.append(pt_seg[pt_seg['Month'] == i].copy())\n",
    "for i in pts_seg:\n",
    "    i['%Orders'] = i['Orders'] / i['Orders'].sum()\n",
    "    i['%Users'] = i['Users'] / i['Users'].sum()\n",
    "    i['Freq'] = i['Orders'] / i['Users']"
   ]
  },
  {
   "cell_type": "code",
   "execution_count": 200,
   "metadata": {},
   "outputs": [
    {
     "data": {
      "text/html": [
       "<div>\n",
       "<style scoped>\n",
       "    .dataframe tbody tr th:only-of-type {\n",
       "        vertical-align: middle;\n",
       "    }\n",
       "\n",
       "    .dataframe tbody tr th {\n",
       "        vertical-align: top;\n",
       "    }\n",
       "\n",
       "    .dataframe thead th {\n",
       "        text-align: right;\n",
       "    }\n",
       "</style>\n",
       "<table border=\"1\" class=\"dataframe\">\n",
       "  <thead>\n",
       "    <tr style=\"text-align: right;\">\n",
       "      <th></th>\n",
       "      <th>Month</th>\n",
       "      <th>Loyalty</th>\n",
       "      <th>Tipo</th>\n",
       "      <th>Orders</th>\n",
       "      <th>Users</th>\n",
       "      <th>%Orders</th>\n",
       "      <th>%Users</th>\n",
       "      <th>Freq</th>\n",
       "    </tr>\n",
       "  </thead>\n",
       "  <tbody>\n",
       "    <tr>\n",
       "      <th>0</th>\n",
       "      <td>2020-12</td>\n",
       "      <td>Loyal</td>\n",
       "      <td>+7</td>\n",
       "      <td>178636</td>\n",
       "      <td>15547</td>\n",
       "      <td>0.382918</td>\n",
       "      <td>0.104340</td>\n",
       "      <td>11.490062</td>\n",
       "    </tr>\n",
       "    <tr>\n",
       "      <th>1</th>\n",
       "      <td>2020-12</td>\n",
       "      <td>Loyal</td>\n",
       "      <td>-7</td>\n",
       "      <td>154460</td>\n",
       "      <td>50826</td>\n",
       "      <td>0.331095</td>\n",
       "      <td>0.341107</td>\n",
       "      <td>3.038996</td>\n",
       "    </tr>\n",
       "    <tr>\n",
       "      <th>2</th>\n",
       "      <td>2020-12</td>\n",
       "      <td>No Loyal</td>\n",
       "      <td>+7</td>\n",
       "      <td>9421</td>\n",
       "      <td>311</td>\n",
       "      <td>0.020195</td>\n",
       "      <td>0.002087</td>\n",
       "      <td>30.292605</td>\n",
       "    </tr>\n",
       "    <tr>\n",
       "      <th>3</th>\n",
       "      <td>2020-12</td>\n",
       "      <td>No Loyal</td>\n",
       "      <td>-7</td>\n",
       "      <td>123996</td>\n",
       "      <td>82319</td>\n",
       "      <td>0.265793</td>\n",
       "      <td>0.552465</td>\n",
       "      <td>1.506287</td>\n",
       "    </tr>\n",
       "  </tbody>\n",
       "</table>\n",
       "</div>"
      ],
      "text/plain": [
       "     Month   Loyalty Tipo  Orders  Users   %Orders    %Users       Freq\n",
       "0  2020-12     Loyal   +7  178636  15547  0.382918  0.104340  11.490062\n",
       "1  2020-12     Loyal   -7  154460  50826  0.331095  0.341107   3.038996\n",
       "2  2020-12  No Loyal   +7    9421    311  0.020195  0.002087  30.292605\n",
       "3  2020-12  No Loyal   -7  123996  82319  0.265793  0.552465   1.506287"
      ]
     },
     "execution_count": 200,
     "metadata": {},
     "output_type": "execute_result"
    }
   ],
   "source": [
    "pts_seg[0]"
   ]
  },
  {
   "cell_type": "code",
   "execution_count": 201,
   "metadata": {},
   "outputs": [
    {
     "data": {
      "text/plain": [
       "(466513, 149003, 3.1308966933551674)"
      ]
     },
     "execution_count": 201,
     "metadata": {},
     "output_type": "execute_result"
    }
   ],
   "source": [
    "pts_seg[0]['Orders'].sum(),pts_seg[0]['Users'].sum(),pts_seg[0]['Orders'].sum()/pts_seg[0]['Users'].sum()"
   ]
  },
  {
   "cell_type": "code",
   "execution_count": 202,
   "metadata": {},
   "outputs": [
    {
     "data": {
      "text/html": [
       "<div>\n",
       "<style scoped>\n",
       "    .dataframe tbody tr th:only-of-type {\n",
       "        vertical-align: middle;\n",
       "    }\n",
       "\n",
       "    .dataframe tbody tr th {\n",
       "        vertical-align: top;\n",
       "    }\n",
       "\n",
       "    .dataframe thead th {\n",
       "        text-align: right;\n",
       "    }\n",
       "</style>\n",
       "<table border=\"1\" class=\"dataframe\">\n",
       "  <thead>\n",
       "    <tr style=\"text-align: right;\">\n",
       "      <th></th>\n",
       "      <th>Month</th>\n",
       "      <th>Loyalty</th>\n",
       "      <th>Tipo</th>\n",
       "      <th>Orders</th>\n",
       "      <th>Users</th>\n",
       "      <th>%Orders</th>\n",
       "      <th>%Users</th>\n",
       "      <th>Freq</th>\n",
       "    </tr>\n",
       "  </thead>\n",
       "  <tbody>\n",
       "    <tr>\n",
       "      <th>4</th>\n",
       "      <td>2021-01</td>\n",
       "      <td>Loyal</td>\n",
       "      <td>+7</td>\n",
       "      <td>170763</td>\n",
       "      <td>14721</td>\n",
       "      <td>0.367578</td>\n",
       "      <td>0.096949</td>\n",
       "      <td>11.599959</td>\n",
       "    </tr>\n",
       "    <tr>\n",
       "      <th>5</th>\n",
       "      <td>2021-01</td>\n",
       "      <td>Loyal</td>\n",
       "      <td>-7</td>\n",
       "      <td>143693</td>\n",
       "      <td>48339</td>\n",
       "      <td>0.309308</td>\n",
       "      <td>0.318349</td>\n",
       "      <td>2.972610</td>\n",
       "    </tr>\n",
       "    <tr>\n",
       "      <th>6</th>\n",
       "      <td>2021-01</td>\n",
       "      <td>No Loyal</td>\n",
       "      <td>+7</td>\n",
       "      <td>10538</td>\n",
       "      <td>475</td>\n",
       "      <td>0.022684</td>\n",
       "      <td>0.003128</td>\n",
       "      <td>22.185263</td>\n",
       "    </tr>\n",
       "    <tr>\n",
       "      <th>7</th>\n",
       "      <td>2021-01</td>\n",
       "      <td>No Loyal</td>\n",
       "      <td>-7</td>\n",
       "      <td>139569</td>\n",
       "      <td>88308</td>\n",
       "      <td>0.300431</td>\n",
       "      <td>0.581574</td>\n",
       "      <td>1.580480</td>\n",
       "    </tr>\n",
       "  </tbody>\n",
       "</table>\n",
       "</div>"
      ],
      "text/plain": [
       "     Month   Loyalty Tipo  Orders  Users   %Orders    %Users       Freq\n",
       "4  2021-01     Loyal   +7  170763  14721  0.367578  0.096949  11.599959\n",
       "5  2021-01     Loyal   -7  143693  48339  0.309308  0.318349   2.972610\n",
       "6  2021-01  No Loyal   +7   10538    475  0.022684  0.003128  22.185263\n",
       "7  2021-01  No Loyal   -7  139569  88308  0.300431  0.581574   1.580480"
      ]
     },
     "execution_count": 202,
     "metadata": {},
     "output_type": "execute_result"
    }
   ],
   "source": [
    "pts_seg[1]"
   ]
  },
  {
   "cell_type": "code",
   "execution_count": 203,
   "metadata": {},
   "outputs": [
    {
     "data": {
      "text/plain": [
       "(464563, 151843, 3.0594956632837866)"
      ]
     },
     "execution_count": 203,
     "metadata": {},
     "output_type": "execute_result"
    }
   ],
   "source": [
    "pts_seg[1]['Orders'].sum(),pts_seg[1]['Users'].sum(),pts_seg[1]['Orders'].sum()/pts_seg[1]['Users'].sum()"
   ]
  },
  {
   "cell_type": "code",
   "execution_count": 204,
   "metadata": {},
   "outputs": [
    {
     "data": {
      "text/html": [
       "<div>\n",
       "<style scoped>\n",
       "    .dataframe tbody tr th:only-of-type {\n",
       "        vertical-align: middle;\n",
       "    }\n",
       "\n",
       "    .dataframe tbody tr th {\n",
       "        vertical-align: top;\n",
       "    }\n",
       "\n",
       "    .dataframe thead th {\n",
       "        text-align: right;\n",
       "    }\n",
       "</style>\n",
       "<table border=\"1\" class=\"dataframe\">\n",
       "  <thead>\n",
       "    <tr style=\"text-align: right;\">\n",
       "      <th></th>\n",
       "      <th>Month</th>\n",
       "      <th>Loyalty</th>\n",
       "      <th>Tipo</th>\n",
       "      <th>Orders</th>\n",
       "      <th>Users</th>\n",
       "      <th>%Orders</th>\n",
       "      <th>%Users</th>\n",
       "      <th>Freq</th>\n",
       "    </tr>\n",
       "  </thead>\n",
       "  <tbody>\n",
       "    <tr>\n",
       "      <th>8</th>\n",
       "      <td>2021-02</td>\n",
       "      <td>Loyal</td>\n",
       "      <td>+7</td>\n",
       "      <td>132474</td>\n",
       "      <td>11897</td>\n",
       "      <td>0.319909</td>\n",
       "      <td>0.086132</td>\n",
       "      <td>11.135076</td>\n",
       "    </tr>\n",
       "    <tr>\n",
       "      <th>9</th>\n",
       "      <td>2021-02</td>\n",
       "      <td>Loyal</td>\n",
       "      <td>-7</td>\n",
       "      <td>129609</td>\n",
       "      <td>46314</td>\n",
       "      <td>0.312990</td>\n",
       "      <td>0.335303</td>\n",
       "      <td>2.798484</td>\n",
       "    </tr>\n",
       "    <tr>\n",
       "      <th>10</th>\n",
       "      <td>2021-02</td>\n",
       "      <td>No Loyal</td>\n",
       "      <td>+7</td>\n",
       "      <td>20296</td>\n",
       "      <td>1014</td>\n",
       "      <td>0.049012</td>\n",
       "      <td>0.007341</td>\n",
       "      <td>20.015779</td>\n",
       "    </tr>\n",
       "    <tr>\n",
       "      <th>11</th>\n",
       "      <td>2021-02</td>\n",
       "      <td>No Loyal</td>\n",
       "      <td>-7</td>\n",
       "      <td>131720</td>\n",
       "      <td>78901</td>\n",
       "      <td>0.318088</td>\n",
       "      <td>0.571225</td>\n",
       "      <td>1.669434</td>\n",
       "    </tr>\n",
       "  </tbody>\n",
       "</table>\n",
       "</div>"
      ],
      "text/plain": [
       "      Month   Loyalty Tipo  Orders  Users   %Orders    %Users       Freq\n",
       "8   2021-02     Loyal   +7  132474  11897  0.319909  0.086132  11.135076\n",
       "9   2021-02     Loyal   -7  129609  46314  0.312990  0.335303   2.798484\n",
       "10  2021-02  No Loyal   +7   20296   1014  0.049012  0.007341  20.015779\n",
       "11  2021-02  No Loyal   -7  131720  78901  0.318088  0.571225   1.669434"
      ]
     },
     "execution_count": 204,
     "metadata": {},
     "output_type": "execute_result"
    }
   ],
   "source": [
    "pts_seg[2]"
   ]
  },
  {
   "cell_type": "code",
   "execution_count": 205,
   "metadata": {},
   "outputs": [
    {
     "data": {
      "text/plain": [
       "(414099, 138126, 2.9979801051214108)"
      ]
     },
     "execution_count": 205,
     "metadata": {},
     "output_type": "execute_result"
    }
   ],
   "source": [
    "pts_seg[2]['Orders'].sum(),pts_seg[2]['Users'].sum(),pts_seg[2]['Orders'].sum()/pts_seg[2]['Users'].sum()"
   ]
  },
  {
   "cell_type": "code",
   "execution_count": 206,
   "metadata": {},
   "outputs": [],
   "source": [
    "# Hago una PT para explicar la fuerza del grupo de usuarios actualmente\n",
    "index = ['Month','Loyalty','Tipo']\n",
    "values = ['Users','Orders']\n",
    "pt_ord = orders.pivot_table(index=index,values=values,aggfunc='sum',fill_value=0).reset_index()\n",
    "pts = []\n",
    "for i in pt_ord.sort_values(by=['Month'],ascending=True)['Month'].unique():\n",
    "    pts.append(pt_ord[pt_ord['Month'] == i].copy())\n",
    "for i in pts:\n",
    "    i['%Orders'] = i['Orders'] / i['Orders'].sum()\n",
    "    i['%Users'] = i['Users'] / i['Users'].sum()\n",
    "    i['Freq'] = i['Orders'] / i['Users']"
   ]
  },
  {
   "cell_type": "code",
   "execution_count": 207,
   "metadata": {},
   "outputs": [
    {
     "data": {
      "text/html": [
       "<div>\n",
       "<style scoped>\n",
       "    .dataframe tbody tr th:only-of-type {\n",
       "        vertical-align: middle;\n",
       "    }\n",
       "\n",
       "    .dataframe tbody tr th {\n",
       "        vertical-align: top;\n",
       "    }\n",
       "\n",
       "    .dataframe thead th {\n",
       "        text-align: right;\n",
       "    }\n",
       "</style>\n",
       "<table border=\"1\" class=\"dataframe\">\n",
       "  <thead>\n",
       "    <tr style=\"text-align: right;\">\n",
       "      <th></th>\n",
       "      <th>Month</th>\n",
       "      <th>Loyalty</th>\n",
       "      <th>Tipo</th>\n",
       "      <th>Orders</th>\n",
       "      <th>Users</th>\n",
       "      <th>%Orders</th>\n",
       "      <th>%Users</th>\n",
       "      <th>Freq</th>\n",
       "    </tr>\n",
       "  </thead>\n",
       "  <tbody>\n",
       "    <tr>\n",
       "      <th>0</th>\n",
       "      <td>2021-03</td>\n",
       "      <td>Loyal</td>\n",
       "      <td>+7</td>\n",
       "      <td>20231</td>\n",
       "      <td>6275</td>\n",
       "      <td>0.124073</td>\n",
       "      <td>0.060633</td>\n",
       "      <td>3.224064</td>\n",
       "    </tr>\n",
       "    <tr>\n",
       "      <th>1</th>\n",
       "      <td>2021-03</td>\n",
       "      <td>Loyal</td>\n",
       "      <td>-7</td>\n",
       "      <td>38819</td>\n",
       "      <td>22123</td>\n",
       "      <td>0.238070</td>\n",
       "      <td>0.213765</td>\n",
       "      <td>1.754690</td>\n",
       "    </tr>\n",
       "    <tr>\n",
       "      <th>2</th>\n",
       "      <td>2021-03</td>\n",
       "      <td>No Loyal</td>\n",
       "      <td>+7</td>\n",
       "      <td>1085</td>\n",
       "      <td>408</td>\n",
       "      <td>0.006654</td>\n",
       "      <td>0.003942</td>\n",
       "      <td>2.659314</td>\n",
       "    </tr>\n",
       "    <tr>\n",
       "      <th>3</th>\n",
       "      <td>2021-03</td>\n",
       "      <td>No Loyal</td>\n",
       "      <td>-7</td>\n",
       "      <td>102922</td>\n",
       "      <td>74686</td>\n",
       "      <td>0.631203</td>\n",
       "      <td>0.721660</td>\n",
       "      <td>1.378063</td>\n",
       "    </tr>\n",
       "  </tbody>\n",
       "</table>\n",
       "</div>"
      ],
      "text/plain": [
       "     Month   Loyalty Tipo  Orders  Users   %Orders    %Users      Freq\n",
       "0  2021-03     Loyal   +7   20231   6275  0.124073  0.060633  3.224064\n",
       "1  2021-03     Loyal   -7   38819  22123  0.238070  0.213765  1.754690\n",
       "2  2021-03  No Loyal   +7    1085    408  0.006654  0.003942  2.659314\n",
       "3  2021-03  No Loyal   -7  102922  74686  0.631203  0.721660  1.378063"
      ]
     },
     "execution_count": 207,
     "metadata": {},
     "output_type": "execute_result"
    }
   ],
   "source": [
    "pts[0]"
   ]
  },
  {
   "cell_type": "code",
   "execution_count": 208,
   "metadata": {},
   "outputs": [
    {
     "data": {
      "text/plain": [
       "(163057, 103492, 1.5755517334673212)"
      ]
     },
     "execution_count": 208,
     "metadata": {},
     "output_type": "execute_result"
    }
   ],
   "source": [
    "pts[0]['Orders'].sum(),pts[0]['Users'].sum(),pts[0]['Orders'].sum()/pts[0]['Users'].sum()"
   ]
  },
  {
   "cell_type": "code",
   "execution_count": 209,
   "metadata": {},
   "outputs": [
    {
     "data": {
      "text/html": [
       "<div>\n",
       "<style scoped>\n",
       "    .dataframe tbody tr th:only-of-type {\n",
       "        vertical-align: middle;\n",
       "    }\n",
       "\n",
       "    .dataframe tbody tr th {\n",
       "        vertical-align: top;\n",
       "    }\n",
       "\n",
       "    .dataframe thead th {\n",
       "        text-align: right;\n",
       "    }\n",
       "</style>\n",
       "<table border=\"1\" class=\"dataframe\">\n",
       "  <thead>\n",
       "    <tr style=\"text-align: right;\">\n",
       "      <th></th>\n",
       "      <th>Month</th>\n",
       "      <th>Loyalty</th>\n",
       "      <th>Tipo</th>\n",
       "      <th>Orders</th>\n",
       "      <th>Users</th>\n",
       "      <th>%Orders</th>\n",
       "      <th>%Users</th>\n",
       "      <th>Freq</th>\n",
       "    </tr>\n",
       "  </thead>\n",
       "  <tbody>\n",
       "    <tr>\n",
       "      <th>4</th>\n",
       "      <td>2021-04</td>\n",
       "      <td>Loyal</td>\n",
       "      <td>+7</td>\n",
       "      <td>36798</td>\n",
       "      <td>6536</td>\n",
       "      <td>0.099594</td>\n",
       "      <td>0.038167</td>\n",
       "      <td>5.630049</td>\n",
       "    </tr>\n",
       "    <tr>\n",
       "      <th>5</th>\n",
       "      <td>2021-04</td>\n",
       "      <td>Loyal</td>\n",
       "      <td>-7</td>\n",
       "      <td>80655</td>\n",
       "      <td>29087</td>\n",
       "      <td>0.218294</td>\n",
       "      <td>0.169852</td>\n",
       "      <td>2.772888</td>\n",
       "    </tr>\n",
       "    <tr>\n",
       "      <th>6</th>\n",
       "      <td>2021-04</td>\n",
       "      <td>No Loyal</td>\n",
       "      <td>+7</td>\n",
       "      <td>1756</td>\n",
       "      <td>422</td>\n",
       "      <td>0.004753</td>\n",
       "      <td>0.002464</td>\n",
       "      <td>4.161137</td>\n",
       "    </tr>\n",
       "    <tr>\n",
       "      <th>7</th>\n",
       "      <td>2021-04</td>\n",
       "      <td>No Loyal</td>\n",
       "      <td>-7</td>\n",
       "      <td>250270</td>\n",
       "      <td>135204</td>\n",
       "      <td>0.677359</td>\n",
       "      <td>0.789517</td>\n",
       "      <td>1.851055</td>\n",
       "    </tr>\n",
       "  </tbody>\n",
       "</table>\n",
       "</div>"
      ],
      "text/plain": [
       "     Month   Loyalty Tipo  Orders   Users   %Orders    %Users      Freq\n",
       "4  2021-04     Loyal   +7   36798    6536  0.099594  0.038167  5.630049\n",
       "5  2021-04     Loyal   -7   80655   29087  0.218294  0.169852  2.772888\n",
       "6  2021-04  No Loyal   +7    1756     422  0.004753  0.002464  4.161137\n",
       "7  2021-04  No Loyal   -7  250270  135204  0.677359  0.789517  1.851055"
      ]
     },
     "execution_count": 209,
     "metadata": {},
     "output_type": "execute_result"
    }
   ],
   "source": [
    "pts[1]"
   ]
  },
  {
   "cell_type": "code",
   "execution_count": 210,
   "metadata": {},
   "outputs": [
    {
     "data": {
      "text/plain": [
       "(369479, 171249, 2.1575542046960856)"
      ]
     },
     "execution_count": 210,
     "metadata": {},
     "output_type": "execute_result"
    }
   ],
   "source": [
    "pts[1]['Orders'].sum(),pts[1]['Users'].sum(),pts[1]['Orders'].sum()/pts[1]['Users'].sum()"
   ]
  },
  {
   "cell_type": "code",
   "execution_count": 211,
   "metadata": {},
   "outputs": [
    {
     "data": {
      "text/html": [
       "<div>\n",
       "<style scoped>\n",
       "    .dataframe tbody tr th:only-of-type {\n",
       "        vertical-align: middle;\n",
       "    }\n",
       "\n",
       "    .dataframe tbody tr th {\n",
       "        vertical-align: top;\n",
       "    }\n",
       "\n",
       "    .dataframe thead th {\n",
       "        text-align: right;\n",
       "    }\n",
       "</style>\n",
       "<table border=\"1\" class=\"dataframe\">\n",
       "  <thead>\n",
       "    <tr style=\"text-align: right;\">\n",
       "      <th></th>\n",
       "      <th>Month</th>\n",
       "      <th>Loyalty</th>\n",
       "      <th>Tipo</th>\n",
       "      <th>Orders</th>\n",
       "      <th>Users</th>\n",
       "      <th>%Orders</th>\n",
       "      <th>%Users</th>\n",
       "      <th>Freq</th>\n",
       "    </tr>\n",
       "  </thead>\n",
       "  <tbody>\n",
       "    <tr>\n",
       "      <th>8</th>\n",
       "      <td>2021-05</td>\n",
       "      <td>Loyal</td>\n",
       "      <td>+7</td>\n",
       "      <td>35594</td>\n",
       "      <td>5947</td>\n",
       "      <td>0.085850</td>\n",
       "      <td>0.032745</td>\n",
       "      <td>5.985203</td>\n",
       "    </tr>\n",
       "    <tr>\n",
       "      <th>9</th>\n",
       "      <td>2021-05</td>\n",
       "      <td>Loyal</td>\n",
       "      <td>-7</td>\n",
       "      <td>81917</td>\n",
       "      <td>26475</td>\n",
       "      <td>0.197577</td>\n",
       "      <td>0.145774</td>\n",
       "      <td>3.094127</td>\n",
       "    </tr>\n",
       "    <tr>\n",
       "      <th>10</th>\n",
       "      <td>2021-05</td>\n",
       "      <td>No Loyal</td>\n",
       "      <td>+7</td>\n",
       "      <td>1675</td>\n",
       "      <td>367</td>\n",
       "      <td>0.004040</td>\n",
       "      <td>0.002021</td>\n",
       "      <td>4.564033</td>\n",
       "    </tr>\n",
       "    <tr>\n",
       "      <th>11</th>\n",
       "      <td>2021-05</td>\n",
       "      <td>No Loyal</td>\n",
       "      <td>-7</td>\n",
       "      <td>295421</td>\n",
       "      <td>148828</td>\n",
       "      <td>0.712533</td>\n",
       "      <td>0.819461</td>\n",
       "      <td>1.984983</td>\n",
       "    </tr>\n",
       "  </tbody>\n",
       "</table>\n",
       "</div>"
      ],
      "text/plain": [
       "      Month   Loyalty Tipo  Orders   Users   %Orders    %Users      Freq\n",
       "8   2021-05     Loyal   +7   35594    5947  0.085850  0.032745  5.985203\n",
       "9   2021-05     Loyal   -7   81917   26475  0.197577  0.145774  3.094127\n",
       "10  2021-05  No Loyal   +7    1675     367  0.004040  0.002021  4.564033\n",
       "11  2021-05  No Loyal   -7  295421  148828  0.712533  0.819461  1.984983"
      ]
     },
     "execution_count": 211,
     "metadata": {},
     "output_type": "execute_result"
    }
   ],
   "source": [
    "pts[2]"
   ]
  },
  {
   "cell_type": "code",
   "execution_count": 212,
   "metadata": {},
   "outputs": [
    {
     "data": {
      "text/plain": [
       "(414607, 181617, 2.2828644895576957)"
      ]
     },
     "execution_count": 212,
     "metadata": {},
     "output_type": "execute_result"
    }
   ],
   "source": [
    "pts[2]['Orders'].sum(),pts[2]['Users'].sum(),pts[2]['Orders'].sum()/pts[2]['Users'].sum()"
   ]
  },
  {
   "cell_type": "code",
   "execution_count": 213,
   "metadata": {},
   "outputs": [
    {
     "data": {
      "text/html": [
       "<div>\n",
       "<style scoped>\n",
       "    .dataframe tbody tr th:only-of-type {\n",
       "        vertical-align: middle;\n",
       "    }\n",
       "\n",
       "    .dataframe tbody tr th {\n",
       "        vertical-align: top;\n",
       "    }\n",
       "\n",
       "    .dataframe thead th {\n",
       "        text-align: right;\n",
       "    }\n",
       "</style>\n",
       "<table border=\"1\" class=\"dataframe\">\n",
       "  <thead>\n",
       "    <tr style=\"text-align: right;\">\n",
       "      <th></th>\n",
       "      <th>Month</th>\n",
       "      <th>Loyalty</th>\n",
       "      <th>Tipo</th>\n",
       "      <th>Orders</th>\n",
       "      <th>Users</th>\n",
       "      <th>%Orders</th>\n",
       "      <th>%Users</th>\n",
       "      <th>Freq</th>\n",
       "    </tr>\n",
       "  </thead>\n",
       "  <tbody>\n",
       "    <tr>\n",
       "      <th>12</th>\n",
       "      <td>2021-06</td>\n",
       "      <td>Loyal</td>\n",
       "      <td>+7</td>\n",
       "      <td>28285</td>\n",
       "      <td>5344</td>\n",
       "      <td>0.089329</td>\n",
       "      <td>0.037052</td>\n",
       "      <td>5.292852</td>\n",
       "    </tr>\n",
       "    <tr>\n",
       "      <th>13</th>\n",
       "      <td>2021-06</td>\n",
       "      <td>Loyal</td>\n",
       "      <td>-7</td>\n",
       "      <td>62551</td>\n",
       "      <td>22482</td>\n",
       "      <td>0.197547</td>\n",
       "      <td>0.155876</td>\n",
       "      <td>2.782270</td>\n",
       "    </tr>\n",
       "    <tr>\n",
       "      <th>14</th>\n",
       "      <td>2021-06</td>\n",
       "      <td>No Loyal</td>\n",
       "      <td>+7</td>\n",
       "      <td>1297</td>\n",
       "      <td>317</td>\n",
       "      <td>0.004096</td>\n",
       "      <td>0.002198</td>\n",
       "      <td>4.091483</td>\n",
       "    </tr>\n",
       "    <tr>\n",
       "      <th>15</th>\n",
       "      <td>2021-06</td>\n",
       "      <td>No Loyal</td>\n",
       "      <td>-7</td>\n",
       "      <td>224505</td>\n",
       "      <td>116087</td>\n",
       "      <td>0.709027</td>\n",
       "      <td>0.804874</td>\n",
       "      <td>1.933937</td>\n",
       "    </tr>\n",
       "  </tbody>\n",
       "</table>\n",
       "</div>"
      ],
      "text/plain": [
       "      Month   Loyalty Tipo  Orders   Users   %Orders    %Users      Freq\n",
       "12  2021-06     Loyal   +7   28285    5344  0.089329  0.037052  5.292852\n",
       "13  2021-06     Loyal   -7   62551   22482  0.197547  0.155876  2.782270\n",
       "14  2021-06  No Loyal   +7    1297     317  0.004096  0.002198  4.091483\n",
       "15  2021-06  No Loyal   -7  224505  116087  0.709027  0.804874  1.933937"
      ]
     },
     "execution_count": 213,
     "metadata": {},
     "output_type": "execute_result"
    }
   ],
   "source": [
    "pts[3]"
   ]
  },
  {
   "cell_type": "code",
   "execution_count": 214,
   "metadata": {},
   "outputs": [
    {
     "data": {
      "text/plain": [
       "(316638, 144230, 2.195368508632046)"
      ]
     },
     "execution_count": 214,
     "metadata": {},
     "output_type": "execute_result"
    }
   ],
   "source": [
    "pts[3]['Orders'].sum(),pts[3]['Users'].sum(),pts[3]['Orders'].sum()/pts[3]['Users'].sum()"
   ]
  }
 ],
 "metadata": {
  "kernelspec": {
   "display_name": "Python 3",
   "language": "python",
   "name": "python3"
  },
  "language_info": {
   "codemirror_mode": {
    "name": "ipython",
    "version": 3
   },
   "file_extension": ".py",
   "mimetype": "text/x-python",
   "name": "python",
   "nbconvert_exporter": "python",
   "pygments_lexer": "ipython3",
   "version": "3.7.6"
  }
 },
 "nbformat": 4,
 "nbformat_minor": 4
}
