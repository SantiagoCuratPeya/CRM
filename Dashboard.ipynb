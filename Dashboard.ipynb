{
 "cells": [
  {
   "cell_type": "markdown",
   "metadata": {},
   "source": [
    "### IMPORTS"
   ]
  },
  {
   "cell_type": "code",
   "execution_count": 1,
   "metadata": {},
   "outputs": [],
   "source": [
    "import pandas as pd\n",
    "import numpy as np\n",
    "import pandas_gbq\n",
    "import datetime\n",
    "from dateutil.relativedelta import relativedelta\n",
    "from gspread_pandas import Spread, conf"
   ]
  },
  {
   "cell_type": "markdown",
   "metadata": {},
   "source": [
    "### CREDENCIALES"
   ]
  },
  {
   "cell_type": "code",
   "execution_count": 5,
   "metadata": {},
   "outputs": [],
   "source": [
    "cred = conf.get_config('C:\\\\Users\\\\santiago.curat\\\\Pandas\\\\PEYA', 'PedidosYa-8b8c4d19f61c.json')"
   ]
  },
  {
   "cell_type": "markdown",
   "metadata": {},
   "source": [
    "### CONSTANTES"
   ]
  },
  {
   "cell_type": "code",
   "execution_count": 6,
   "metadata": {},
   "outputs": [],
   "source": [
    "# Fechas\n",
    "today = datetime.date.today()\n",
    "if today.day == 1:\n",
    "    tm = str(today - relativedelta(days=1))\n",
    "    lm = str((today - relativedelta(months=6)).replace(day=1))\n",
    "else:\n",
    "    tm = str(today + relativedelta(months=1) - relativedelta(days=(today + relativedelta(months=1)).day))\n",
    "    lm = str((today - relativedelta(months=5)).replace(day=1))"
   ]
  },
  {
   "cell_type": "markdown",
   "metadata": {},
   "source": [
    "### QUERIES"
   ]
  },
  {
   "cell_type": "code",
   "execution_count": 7,
   "metadata": {},
   "outputs": [],
   "source": [
    "q_orders = '''SELECT cn.country_name AS Country,\n",
    "       FORMAT_DATE('%Y-%m',o.registered_date) AS Month,\n",
    "       o.business_type.business_type_name AS Business,\n",
    "       COUNT(DISTINCT o.order_id) AS Total,\n",
    "       COUNT(DISTINCT CASE WHEN o.order_status = 'CONFIRMED' THEN o.order_id ELSE NULL END) AS Confirmed,\n",
    "       COUNT(DISTINCT CASE WHEN o.order_status = 'CONFIRMED' AND o.with_logistics THEN o.order_id ELSE NULL END) AS Logistic,\n",
    "       COUNT(DISTINCT CASE WHEN o.order_status IN ('REJECTED','PENDING','CANCELLED') THEN o.order_id ELSE NULL END) AS FR_Num,\n",
    "       COUNT(DISTINCT CASE WHEN o.order_status IN ('REJECTED','PENDING','CANCELLED') AND o.fail_rate_owner = 'PedidosYa' THEN o.order_id ELSE NULL END) AS PFR_Num,\n",
    "       COUNT(DISTINCT CASE WHEN o.order_status IN ('REJECTED','PENDING','CANCELLED') AND o.fail_rate_owner = 'Restaurant' THEN o.order_id ELSE NULL END) AS VFR_Num,\n",
    "       COUNT(DISTINCT CASE WHEN o.order_status IN ('REJECTED','PENDING','CANCELLED') AND o.fail_rate_owner = 'User' THEN o.order_id ELSE NULL END) AS UFR_Num,\n",
    "       COUNT(DISTINCT CASE WHEN o.order_status IN ('REJECTED','PENDING','CANCELLED') AND o.fail_rate_owner = 'Rider' THEN o.order_id ELSE NULL END) AS RFR_Num,\n",
    "       COUNT(DISTINCT o.user.id) AS Total_Users,\n",
    "       COUNT(DISTINCT CASE WHEN o.order_status = 'CONFIRMED' THEN o.user.id ELSE NULL END) AS Active_Users,\n",
    "       COUNT(DISTINCT CASE WHEN o.shipping_amount_no_discount = 0 AND o.order_status = 'CONFIRMED' THEN o.order_id ELSE NULL END) AS DF_Free,\n",
    "       COUNT(DISTINCT CASE WHEN o.shipping_amount_no_discount = 0 AND o.with_logistics AND o.order_status = 'CONFIRMED' THEN o.order_id ELSE NULL END) AS DF_Free_Log,\n",
    "       SUM(CASE WHEN o.order_status = 'CONFIRMED' THEN o.commission_amount / ce.rate_eu ELSE NULL END) AS Confirmed_Revenue,\n",
    "       SUM(CASE WHEN o.with_logistics AND o.order_status = 'CONFIRMED' THEN o.commission_amount / ce.rate_eu ELSE 0 END) AS Confirmed_Revenue_Log,\n",
    "       COUNT(DISTINCT CASE WHEN o.has_voucher_discount > 0 AND o.order_status = 'CONFIRMED' THEN o.order_id ELSE NULL END) AS Confirmed_Vouchers,\n",
    "       COUNT(DISTINCT CASE WHEN o.has_joker_discount > 0 AND o.order_status = 'CONFIRMED' THEN o.order_id ELSE NULL END) AS Confirmed_Jokers,\n",
    "       COUNT(DISTINCT CASE WHEN o.has_joker_discount > 0 AND o.with_logistics AND o.order_status = 'CONFIRMED' THEN o.order_id ELSE NULL END) AS Confirmed_Jokers_Log,\n",
    "       SUM(CASE WHEN o.with_logistics AND o.order_status = 'CONFIRMED' THEN (o.total_amount + o.discount_paid_by_company + o.shipping_amount - o.shipping_amount_no_discount) / ce.rate_eu ELSE 0 END) AS GFV_Gross_Log,\n",
    "       SUM(CASE WHEN o.with_logistics = FALSE AND o.order_status = 'CONFIRMED' THEN (o.total_amount + o.shipping_amount + o.discount_paid_by_company) / ce.rate_eu ELSE 0 END) AS GMV_Gross_Mktp,\n",
    "       SUM(CASE WHEN o.order_status = 'CONFIRMED' THEN (o.total_amount + o.discount_paid_by_company + o.shipping_amount - o.shipping_amount_no_discount) / ce.rate_eu ELSE 0 END) AS GFV_Gross_Total,\n",
    "       SUM(CASE WHEN o.order_status = 'CONFIRMED' THEN o.shipping_amount_no_discount / ce.rate_eu ELSE 0 END) AS DF_No_Discount_Total,\n",
    "       SUM(CASE WHEN o.with_logistics AND o.order_status = 'CONFIRMED' THEN o.shipping_amount_no_discount / ce.rate_eu ELSE 0 END) AS DF_No_Discount_Log,\n",
    "       SUM(CASE WHEN o.order_status = 'CONFIRMED' THEN o.discount_paid_by_company / ce.rate_eu ELSE 0 END) AS Discounts_PEYA_Total\n",
    "FROM `peya-bi-tools-pro.il_core.fact_orders` AS o\n",
    "LEFT JOIN `peya-bi-tools-pro.il_core.dim_country` AS cn ON o.country_id = cn.country_id\n",
    "LEFT JOIN `peya-bi-tools-pro.il_core.dim_currency_exchange` AS ce ON cn.currency_id = ce.currency_id AND DATE_TRUNC(o.registered_date,month) = ce.currency_exchange_date\n",
    "WHERE o.registered_date BETWEEN DATE('{0}') AND DATE('{1}')\n",
    "GROUP BY 1,2,3'''.format(lm,tm)\n",
    "\n",
    "q_online = '''SELECT cn.country_name AS Country,\n",
    "       FORMAT_DATE('%Y-%m',DATE(pm.full_date)) AS Month,\n",
    "       p.business_type.business_type_name AS Business,\n",
    "       COUNT(DISTINCT CASE WHEN pm.is_online THEN p.partner_id ELSE NULL END) AS Online,\n",
    "       COUNT(DISTINCT CASE WHEN pm.is_churned THEN p.partner_id ELSE NULL END) AS Churns,\n",
    "       COUNT(DISTINCT CASE WHEN pm.is_online AND pm.has_confirmed_orders = FALSE THEN p.partner_id ELSE NULL END) AS Zombies\n",
    "FROM `peya-bi-tools-pro.il_core.fact_partners_monthly` AS pm\n",
    "LEFT JOIN `peya-bi-tools-pro.il_core.dim_partner` AS p ON pm.restaurant_id = p.partner_id\n",
    "LEFT JOIN `peya-bi-tools-pro.il_core.dim_country` AS cn ON p.country_id = cn.country_id\n",
    "WHERE DATE(pm.full_date) BETWEEN DATE('{0}') AND DATE('{1}')\n",
    "      AND cn.country_name IS NOT NULL\n",
    "GROUP BY 1,2,3'''.format(lm,tm)\n",
    "\n",
    "q_freq = '''SELECT cn.country_name AS Country,\n",
    "       FORMAT_DATE('%Y-%m',o.registered_date) AS Month,\n",
    "       COUNT(DISTINCT CASE WHEN o.order_status = 'CONFIRMED' THEN o.order_id ELSE NULL END) AS Confirmed,\n",
    "       COUNT(DISTINCT CASE WHEN o.order_status = 'CONFIRMED' THEN o.user.id ELSE NULL END) AS Active_Users\n",
    "FROM `peya-bi-tools-pro.il_core.fact_orders` AS o\n",
    "LEFT JOIN `peya-bi-tools-pro.il_core.dim_country` AS cn ON o.country_id = cn.country_id\n",
    "WHERE o.registered_date BETWEEN DATE('{0}') AND DATE('{1}')\n",
    "GROUP BY 1,2'''.format(lm,tm)\n",
    "\n",
    "q_disc = '''SELECT cn.country_name AS Country,\n",
    "       FORMAT_DATE('%Y-%m',o.registered_date) AS Month,\n",
    "       IFNULL(dt.discount_type_name,'-') AS Discount_Type,\n",
    "       IFNULL(od.discount_paid_by,'-') AS Paid_By,\n",
    "       COUNT(DISTINCT o.order_id) AS Confirmed,\n",
    "       ROUND(IFNULL(SUM(od.discount_amount / ce.rate_eu),0),2) AS Amount\n",
    "FROM `peya-bi-tools-pro.il_core.fact_orders` AS o,\n",
    "UNNEST (discounts) AS od\n",
    "LEFT JOIN `peya-bi-tools-pro.il_core.dim_discount_type` AS dt ON od.discount_type_id = dt.discount_type_id\n",
    "LEFT JOIN `peya-bi-tools-pro.il_core.dim_country` AS cn ON o.country_id = cn.country_id\n",
    "LEFT JOIN `peya-bi-tools-pro.il_core.dim_currency_exchange` AS ce ON cn.currency_id = ce.currency_id AND DATE_TRUNC(o.registered_date,month) = ce.currency_exchange_date\n",
    "WHERE o.registered_date BETWEEN DATE('{0}') AND DATE('{1}')\n",
    "      AND o.order_status = 'CONFIRMED'\n",
    "GROUP BY 1,2,3,4\n",
    "ORDER BY 4,1,2,3,5 DESC'''.format(lm,tm)"
   ]
  },
  {
   "cell_type": "code",
   "execution_count": 8,
   "metadata": {},
   "outputs": [
    {
     "name": "stderr",
     "output_type": "stream",
     "text": [
      "Downloading: 100%|████████████████████████████████████████████████████████████████| 695/695 [00:01<00:00, 436.75rows/s]\n"
     ]
    }
   ],
   "source": [
    "# Descargo la data\n",
    "hue_orders = pd.io.gbq.read_gbq(q_orders, project_id='peya-argentina', dialect='standard')"
   ]
  },
  {
   "cell_type": "code",
   "execution_count": 9,
   "metadata": {},
   "outputs": [
    {
     "name": "stderr",
     "output_type": "stream",
     "text": [
      "Downloading: 100%|███████████████████████████████████████████████████████████████| 835/835 [00:00<00:00, 1719.17rows/s]\n"
     ]
    }
   ],
   "source": [
    "hue_online = pd.io.gbq.read_gbq(q_online, project_id='peya-argentina', dialect='standard')"
   ]
  },
  {
   "cell_type": "code",
   "execution_count": 10,
   "metadata": {},
   "outputs": [
    {
     "name": "stderr",
     "output_type": "stream",
     "text": [
      "Downloading: 100%|███████████████████████████████████████████████████████████████████| 81/81 [00:01<00:00, 60.36rows/s]\n"
     ]
    }
   ],
   "source": [
    "hue_freq = pd.io.gbq.read_gbq(q_freq, project_id='peya-argentina', dialect='standard')"
   ]
  },
  {
   "cell_type": "code",
   "execution_count": 11,
   "metadata": {},
   "outputs": [
    {
     "name": "stderr",
     "output_type": "stream",
     "text": [
      "Downloading: 100%|████████████████████████████████████████████████████████████████| 570/570 [00:01<00:00, 508.60rows/s]\n"
     ]
    }
   ],
   "source": [
    "hue_disc = pd.io.gbq.read_gbq(q_disc, project_id='peya-argentina', dialect='standard')"
   ]
  },
  {
   "cell_type": "code",
   "execution_count": 12,
   "metadata": {},
   "outputs": [],
   "source": [
    "# Copio las bases\n",
    "orders = hue_orders.copy()\n",
    "online = hue_online.copy()\n",
    "freq = hue_freq.copy()\n",
    "disc = hue_disc.copy()"
   ]
  },
  {
   "cell_type": "markdown",
   "metadata": {},
   "source": [
    "### TRABAJO"
   ]
  },
  {
   "cell_type": "code",
   "execution_count": 13,
   "metadata": {},
   "outputs": [],
   "source": [
    "# Doy el mismo formato a todos los Months\n",
    "orders['Month'] = pd.to_datetime(orders['Month'], format='%Y-%m').dt.strftime('%Y-%m')\n",
    "online['Month'] = pd.to_datetime(online['Month'], format='%Y-%m').dt.strftime('%Y-%m')\n",
    "freq['Month'] = pd.to_datetime(freq['Month'], format='%Y-%m').dt.strftime('%Y-%m')\n",
    "disc['Month'] = pd.to_datetime(disc['Month'], format='%Y-%m').dt.strftime('%Y-%m')"
   ]
  },
  {
   "cell_type": "code",
   "execution_count": 14,
   "metadata": {},
   "outputs": [],
   "source": [
    "# Hago un merge\n",
    "final = orders.merge(online,on=['Country','Business','Month'],how='outer')\n",
    "final.replace([np.nan,np.inf,-np.inf],0,inplace=True)"
   ]
  },
  {
   "cell_type": "code",
   "execution_count": 15,
   "metadata": {},
   "outputs": [],
   "source": [
    "# Doy formato a las columnas\n",
    "cols = [i for i in final.columns[3:]]\n",
    "final[cols] = final[cols].astype(float)\n",
    "cols = [i for i in freq.columns[2:]]\n",
    "freq[cols] = freq[cols].astype(float)\n",
    "cols = [i for i in disc.columns[4:]]\n",
    "disc[cols] = disc[cols].astype(float)\n",
    "# Elimino las filas con todos 0\n",
    "final = final[(final[final.columns[3:]] != 0).any(axis=1)].copy()\n",
    "freq = freq[(freq[freq.columns[2:]] != 0).any(axis=1)].copy()\n",
    "disc = disc[(disc[disc.columns[4:]] != 0).any(axis=1)].copy()"
   ]
  },
  {
   "cell_type": "code",
   "execution_count": 16,
   "metadata": {},
   "outputs": [],
   "source": [
    "# Separo Food/NV\n",
    "final['Food/NV'] = final['Business'].apply(lambda x: 'Food' if x in ['Restaurant','Coffee'] else 'NV')\n",
    "final['Restaurant/NV'] = final['Business'].apply(lambda x: 'Restaurant' if x == 'Restaurant' else 'NV')"
   ]
  },
  {
   "cell_type": "code",
   "execution_count": 39,
   "metadata": {},
   "outputs": [],
   "source": [
    "total = disc[disc['Paid_By'] == 'COMPANY'].pivot_table(index=['Month'],columns=['Discount_Type'],values=['Amount'],aggfunc='sum',fill_value=0).reset_index()"
   ]
  },
  {
   "cell_type": "code",
   "execution_count": 45,
   "metadata": {},
   "outputs": [],
   "source": [
    "total['Total'] = total['Amount']['BINS'] + total['Amount']['PARTNERSHIPS'] + total['Amount']['PLUS_SHIPPING_COST'] + total['Amount']['SUBSIDIZED'] + total['Amount']['VOUCHER']\n",
    "total['%Voucher'] = round(total['Amount']['VOUCHER']/total['Total']*100,2)"
   ]
  },
  {
   "cell_type": "code",
   "execution_count": 46,
   "metadata": {},
   "outputs": [
    {
     "data": {
      "text/html": [
       "<div>\n",
       "<style scoped>\n",
       "    .dataframe tbody tr th:only-of-type {\n",
       "        vertical-align: middle;\n",
       "    }\n",
       "\n",
       "    .dataframe tbody tr th {\n",
       "        vertical-align: top;\n",
       "    }\n",
       "\n",
       "    .dataframe thead tr th {\n",
       "        text-align: left;\n",
       "    }\n",
       "</style>\n",
       "<table border=\"1\" class=\"dataframe\">\n",
       "  <thead>\n",
       "    <tr>\n",
       "      <th></th>\n",
       "      <th>Month</th>\n",
       "      <th colspan=\"5\" halign=\"left\">Amount</th>\n",
       "      <th>Total</th>\n",
       "      <th>%Voucher</th>\n",
       "    </tr>\n",
       "    <tr>\n",
       "      <th>Discount_Type</th>\n",
       "      <th></th>\n",
       "      <th>BINS</th>\n",
       "      <th>PARTNERSHIPS</th>\n",
       "      <th>PLUS_SHIPPING_COST</th>\n",
       "      <th>SUBSIDIZED</th>\n",
       "      <th>VOUCHER</th>\n",
       "      <th></th>\n",
       "      <th></th>\n",
       "    </tr>\n",
       "  </thead>\n",
       "  <tbody>\n",
       "    <tr>\n",
       "      <th>0</th>\n",
       "      <td>2021-01</td>\n",
       "      <td>158040.80</td>\n",
       "      <td>0.00</td>\n",
       "      <td>58535.72</td>\n",
       "      <td>598506.51</td>\n",
       "      <td>4537867.98</td>\n",
       "      <td>5352951.01</td>\n",
       "      <td>84.77</td>\n",
       "    </tr>\n",
       "    <tr>\n",
       "      <th>1</th>\n",
       "      <td>2021-02</td>\n",
       "      <td>149856.79</td>\n",
       "      <td>12.73</td>\n",
       "      <td>47022.30</td>\n",
       "      <td>832478.95</td>\n",
       "      <td>4591044.21</td>\n",
       "      <td>5620414.98</td>\n",
       "      <td>81.69</td>\n",
       "    </tr>\n",
       "    <tr>\n",
       "      <th>2</th>\n",
       "      <td>2021-03</td>\n",
       "      <td>329006.42</td>\n",
       "      <td>244.20</td>\n",
       "      <td>50670.34</td>\n",
       "      <td>893519.60</td>\n",
       "      <td>6744439.83</td>\n",
       "      <td>8017880.39</td>\n",
       "      <td>84.12</td>\n",
       "    </tr>\n",
       "    <tr>\n",
       "      <th>3</th>\n",
       "      <td>2021-04</td>\n",
       "      <td>267340.87</td>\n",
       "      <td>1218.62</td>\n",
       "      <td>45757.40</td>\n",
       "      <td>588241.11</td>\n",
       "      <td>7260856.71</td>\n",
       "      <td>8163414.71</td>\n",
       "      <td>88.94</td>\n",
       "    </tr>\n",
       "    <tr>\n",
       "      <th>4</th>\n",
       "      <td>2021-05</td>\n",
       "      <td>279350.17</td>\n",
       "      <td>2807.06</td>\n",
       "      <td>37367.07</td>\n",
       "      <td>701017.74</td>\n",
       "      <td>6833178.97</td>\n",
       "      <td>7853721.01</td>\n",
       "      <td>87.01</td>\n",
       "    </tr>\n",
       "    <tr>\n",
       "      <th>5</th>\n",
       "      <td>2021-06</td>\n",
       "      <td>17216.26</td>\n",
       "      <td>49.61</td>\n",
       "      <td>1790.12</td>\n",
       "      <td>44230.35</td>\n",
       "      <td>361340.34</td>\n",
       "      <td>424626.68</td>\n",
       "      <td>85.10</td>\n",
       "    </tr>\n",
       "  </tbody>\n",
       "</table>\n",
       "</div>"
      ],
      "text/plain": [
       "                 Month     Amount                                             \\\n",
       "Discount_Type                BINS PARTNERSHIPS PLUS_SHIPPING_COST SUBSIDIZED   \n",
       "0              2021-01  158040.80         0.00           58535.72  598506.51   \n",
       "1              2021-02  149856.79        12.73           47022.30  832478.95   \n",
       "2              2021-03  329006.42       244.20           50670.34  893519.60   \n",
       "3              2021-04  267340.87      1218.62           45757.40  588241.11   \n",
       "4              2021-05  279350.17      2807.06           37367.07  701017.74   \n",
       "5              2021-06   17216.26        49.61            1790.12   44230.35   \n",
       "\n",
       "                                Total %Voucher  \n",
       "Discount_Type     VOUCHER                       \n",
       "0              4537867.98  5352951.01    84.77  \n",
       "1              4591044.21  5620414.98    81.69  \n",
       "2              6744439.83  8017880.39    84.12  \n",
       "3              7260856.71  8163414.71    88.94  \n",
       "4              6833178.97  7853721.01    87.01  \n",
       "5               361340.34   424626.68    85.10  "
      ]
     },
     "execution_count": 46,
     "metadata": {},
     "output_type": "execute_result"
    }
   ],
   "source": [
    "total"
   ]
  },
  {
   "cell_type": "markdown",
   "metadata": {},
   "source": [
    "### CARGA"
   ]
  },
  {
   "cell_type": "code",
   "execution_count": 190,
   "metadata": {},
   "outputs": [],
   "source": [
    "# Carga Final\n",
    "sheet_id = '1d1UWKgD0QTMe9_TnYRNaucyMYkv3R5EhQYBAM6gCIgY'\n",
    "wks_name = 'Crudo'\n",
    "sheet = Spread(sheet_id, wks_name, config=cred)\n",
    "sheet.df_to_sheet(final, index=False, sheet=wks_name, replace=True)"
   ]
  },
  {
   "cell_type": "code",
   "execution_count": 163,
   "metadata": {},
   "outputs": [],
   "source": [
    "# Carga Frecuencia\n",
    "sheet_id = '1d1UWKgD0QTMe9_TnYRNaucyMYkv3R5EhQYBAM6gCIgY'\n",
    "wks_name = 'Crudo Freq'\n",
    "sheet = Spread(sheet_id, wks_name, config=cred)\n",
    "sheet.df_to_sheet(freq, index=False, sheet=wks_name, replace=True)"
   ]
  }
 ],
 "metadata": {
  "kernelspec": {
   "display_name": "Python 3",
   "language": "python",
   "name": "python3"
  },
  "language_info": {
   "codemirror_mode": {
    "name": "ipython",
    "version": 3
   },
   "file_extension": ".py",
   "mimetype": "text/x-python",
   "name": "python",
   "nbconvert_exporter": "python",
   "pygments_lexer": "ipython3",
   "version": "3.7.6"
  }
 },
 "nbformat": 4,
 "nbformat_minor": 4
}
