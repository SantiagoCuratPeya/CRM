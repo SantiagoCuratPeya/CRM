{
 "cells": [
  {
   "cell_type": "markdown",
   "metadata": {},
   "source": [
    "### IMPORTS"
   ]
  },
  {
   "cell_type": "code",
   "execution_count": 2,
   "metadata": {},
   "outputs": [],
   "source": [
    "import sys, os\n",
    "sys.path.append(os.path.join(sys.path[0],'Pythons'))"
   ]
  },
  {
   "cell_type": "code",
   "execution_count": 3,
   "metadata": {},
   "outputs": [],
   "source": [
    "from Carga_Descarga import *\n",
    "from CRM_Central import *"
   ]
  },
  {
   "cell_type": "markdown",
   "metadata": {},
   "source": [
    "### QUERIES"
   ]
  },
  {
   "cell_type": "code",
   "execution_count": 4,
   "metadata": {},
   "outputs": [],
   "source": [
    "q = '''WITH barter_table AS (\n",
    "    SELECT bt.trade.order_id AS order_id,\n",
    "           bc.campaign_title AS campaign,\n",
    "           bc.discount.type AS discount_type,\n",
    "           bc.discount.amount AS discount_amount,\n",
    "           bc.discount.max_amount AS discount_max_amount,\n",
    "           bc.rules.min_amount AS min_amount,\n",
    "           bt.trade.amount_used AS amount_used           \n",
    "    FROM `peya-data-origins-pro.cl_barter.trades` AS bt \n",
    "    LEFT JOIN `peya-data-origins-pro.cl_barter.creates` AS bc ON bt.id = bc.id\n",
    "    WHERE DATE(bc.created_at) BETWEEN DATE_TRUNC(DATE_ADD(CURRENT_DATE(), INTERVAL -4 MONTH),MONTH) AND CURRENT_DATE()\n",
    "          AND DATE(bt.tradedAt) BETWEEN DATE_TRUNC(DATE_ADD(CURRENT_DATE(), INTERVAL -4 MONTH),MONTH) AND CURRENT_DATE()\n",
    "          AND bt.trade.type = 'CONSUME'),\n",
    "    orders_table AS (\n",
    "    SELECT o.user.id AS user,\n",
    "           cn.country_name AS country,\n",
    "           IFNULL(c.city_name,'-') AS city,\n",
    "           o.order_status AS status,\n",
    "           o.order_id AS order_id,\n",
    "           o.registered_date AS fecha,\n",
    "           CASE WHEN bt.campaign IS NULL THEN 0 ELSE 1 END AS crm,\n",
    "           CASE WHEN o.with_logistics THEN o.commission_amount + o.shipping_amount ELSE o.commission_amount END AS revenue,\n",
    "           IFNULL(o.shipping_amount_no_discount + o.amount_no_discount,0) AS total_paid,\n",
    "           IFNULL(o.shipping_amount_no_discount + o.amount_no_discount,0) / ce.rate_us AS total_paid_usd,\n",
    "           IFNULL(bt.amount_used,0) AS amount_used,\n",
    "           IFNULL(bt.amount_used,0) / ce.rate_us AS amount_used_usd,\n",
    "           SUM(od.discount_amount) AS total_disc,\n",
    "           SUM(od.discount_amount) / ce.rate_us AS total_disc_usd,\n",
    "           SUM(CASE WHEN UPPER(od.discount_type_name) = 'VOUCHER' THEN od.discount_amount ELSE 0 END) AS total_voucher_disc,\n",
    "           SUM(CASE WHEN UPPER(od.discount_type_name) = 'VOUCHER' THEN od.discount_amount ELSE 0 END) / ce.rate_us AS total_voucher_disc_usd\n",
    "    FROM `peya-bi-tools-pro.il_core.fact_orders` AS o,\n",
    "    UNNEST(discounts) AS od\n",
    "    LEFT JOIN barter_table AS bt ON o.order_id = bt.order_id\n",
    "    LEFT JOIN `peya-bi-tools-pro.il_core.dim_country` AS cn ON o.country_id = cn.country_id\n",
    "    LEFT JOIN `peya-bi-tools-pro.il_core.dim_city` AS c ON o.city.city_id = c.city_id\n",
    "    LEFT JOIN `peya-bi-tools-pro.il_core.dim_currency_exchange` AS ce ON cn.currency_id = ce.currency_id AND DATE_TRUNC(o.registered_date,MONTH) = ce.currency_exchange_date\n",
    "    WHERE o.registered_date BETWEEN DATE_TRUNC(DATE_ADD(CURRENT_DATE(), INTERVAL -3 MONTH),MONTH) AND CURRENT_DATE()\n",
    "    GROUP BY 1,2,3,4,5,6,7,8,9,10,11,12,ce.rate_us),\n",
    "    acq_table AS (\n",
    "    SELECT ot.user AS user,\n",
    "           ot.country AS country,\n",
    "           ot.city AS city,\n",
    "           ot.fecha AS fecha,\n",
    "           bt.campaign AS campaign,\n",
    "           bt.discount_type AS discount_type,\n",
    "           bt.discount_amount AS discount_amount,\n",
    "           bt.discount_max_amount AS discount_max_amount,\n",
    "           bt.min_amount AS min_amount,\n",
    "           SUM(bt.amount_used) AS amount_used\n",
    "    FROM orders_table AS ot\n",
    "    LEFT JOIN barter_table AS bt ON ot.order_id = bt.order_id\n",
    "    WHERE bt.campaign IS NOT NULL\n",
    "    GROUP BY 1,2,3,4,5,6,7,8,9),\n",
    "    cohorts_table AS (\n",
    "    SELECT acq.user AS user,\n",
    "           acq.country AS country,\n",
    "           acq.campaign AS campaign,\n",
    "           acq.city AS city,\n",
    "           acq.discount_type AS discount_type,\n",
    "           acq.discount_amount AS discount_amount,\n",
    "           acq.discount_max_amount AS discount_max_amount,\n",
    "           acq.min_amount AS min_amount,\n",
    "           acq.fecha AS fecha,\n",
    "           acq.amount_used AS original_amount_used,\n",
    "           CASE WHEN DATE_DIFF(ot.fecha,acq.fecha,DAY) = 0 THEN 'ORIGINALS'\n",
    "                WHEN DATE_DIFF(ot.fecha,acq.fecha,DAY) BETWEEN 1 AND 30 THEN 'M1'\n",
    "                WHEN DATE_DIFF(ot.fecha,acq.fecha,DAY) BETWEEN 31 AND 60 THEN 'M2'\n",
    "                WHEN DATE_DIFF(ot.fecha,acq.fecha,DAY) BETWEEN 61 AND 90 THEN 'M3' END AS cohort,\n",
    "           IFNULL(COUNT(DISTINCT CASE WHEN ot.status != 'CONFIRMED' THEN NULL ELSE ot.order_id END),0) AS orders,\n",
    "           SUM(CASE WHEN ot.status != 'CONFIRMED' THEN 0 ELSE ot.revenue END) AS revenue,\n",
    "           SUM(CASE WHEN ot.status != 'CONFIRMED' THEN 0 ELSE ot.total_paid END) AS total_paid,\n",
    "           SUM(CASE WHEN ot.status != 'CONFIRMED' THEN 0 ELSE ot.total_paid_usd END) AS total_paid_usd,\n",
    "           SUM(CASE WHEN ot.status != 'CONFIRMED' THEN 0 ELSE ot.total_disc END) AS total_disc,\n",
    "           SUM(CASE WHEN ot.status != 'CONFIRMED' THEN 0 ELSE ot.total_disc_usd END) AS total_disc_usd,\n",
    "           SUM(CASE WHEN ot.status != 'CONFIRMED' THEN 0 ELSE ot.total_voucher_disc END) AS total_voucher_disc,\n",
    "           SUM(CASE WHEN ot.status != 'CONFIRMED' THEN 0 ELSE ot.total_voucher_disc_usd END) AS total_voucher_disc_usd,\n",
    "           SUM(CASE WHEN ot.status != 'CONFIRMED' THEN 0 ELSE ot.amount_used END) AS amount_used,\n",
    "           SUM(CASE WHEN ot.status != 'CONFIRMED' THEN 0 ELSE ot.amount_used_usd END) AS amount_used_usd\n",
    "    FROM acq_table AS acq\n",
    "    LEFT JOIN orders_table AS ot ON acq.user = ot.user\n",
    "    WHERE ot.fecha BETWEEN acq.fecha AND DATE_ADD(acq.fecha, INTERVAL 180 DAY)\n",
    "    GROUP BY 1,2,3,4,5,6,7,8,9,10,ot.fecha,ot.status)\n",
    "SELECT FORMAT_DATE('%Y-%m', ct.fecha) AS Month,\n",
    "       ct.country AS Country,\n",
    "       ct.city AS City,\n",
    "       ct.campaign AS Campaign,\n",
    "       ct.discount_type AS Discount_Type,\n",
    "       CONCAT('Disc Amount: ',ct.discount_amount,' - Max Amount: ',ct.discount_max_amount,' - MOV: ',ct.min_amount) AS Variation,\n",
    "       SUM(ct.original_amount_used) AS Original_Amount_Used,\n",
    "       COUNT(DISTINCT CASE WHEN ct.cohort = 'ORIGINALS' THEN ct.user ELSE NULL END) AS Acquisitions,\n",
    "       COUNT(DISTINCT CASE WHEN ct.cohort = 'M1' AND ct.orders > 0 THEN ct.user ELSE NULL END) AS M1_Users,\n",
    "       SUM(CASE WHEN ct.cohort = 'M1' THEN ct.orders ELSE 0 END) AS M1_Orders,\n",
    "       COUNT(DISTINCT CASE WHEN ct.cohort = 'M2' AND ct.orders > 0 THEN ct.user ELSE NULL END) AS M2_Users,\n",
    "       SUM(CASE WHEN ct.cohort = 'M2' THEN ct.orders ELSE 0 END) AS M2_Orders,\n",
    "       COUNT(DISTINCT CASE WHEN ct.cohort = 'M3' AND ct.orders > 0 THEN ct.user ELSE NULL END) AS M3_Users,\n",
    "       SUM(CASE WHEN ct.cohort = 'M3' THEN ct.orders ELSE 0 END) AS M3_Orders,\n",
    "       SUM(CASE WHEN ct.cohort = 'M1' THEN ct.revenue ELSE 0 END) AS M1_Revenue,\n",
    "       SUM(CASE WHEN ct.cohort = 'M1' THEN ct.total_paid ELSE 0 END) AS M1_Total_Paid,\n",
    "       SUM(CASE WHEN ct.cohort = 'M1' THEN ct.total_paid_usd ELSE 0 END) AS M1_Total_Paid_USD,\n",
    "       SUM(CASE WHEN ct.cohort = 'M1' THEN ct.total_disc ELSE 0 END) AS M1_Total_Disc,\n",
    "       SUM(CASE WHEN ct.cohort = 'M1' THEN ct.total_disc_usd ELSE 0 END) AS M1_Total_Disc_USD,\n",
    "       SUM(CASE WHEN ct.cohort = 'M1' THEN ct.total_voucher_disc ELSE 0 END) AS M1_Total_Voucher_Disc,\n",
    "       SUM(CASE WHEN ct.cohort = 'M1' THEN ct.total_voucher_disc_usd ELSE 0 END) AS M1_Total_Voucher_Disc_USD,\n",
    "       SUM(CASE WHEN ct.cohort = 'M1' THEN ct.amount_used ELSE 0 END) AS M1_Amount_Used,\n",
    "       SUM(CASE WHEN ct.cohort = 'M1' THEN ct.amount_used_usd ELSE 0 END) AS M1_Amount_Used_USD,\n",
    "       SUM(CASE WHEN ct.cohort = 'M2' THEN ct.revenue ELSE 0 END) AS M2_Revenue,\n",
    "       SUM(CASE WHEN ct.cohort = 'M2' THEN ct.total_paid ELSE 0 END) AS M2_Total_Paid,\n",
    "       SUM(CASE WHEN ct.cohort = 'M2' THEN ct.total_paid_usd ELSE 0 END) AS M2_Total_Paid_USD,\n",
    "       SUM(CASE WHEN ct.cohort = 'M2' THEN ct.total_disc ELSE 0 END) AS M2_Total_Disc,\n",
    "       SUM(CASE WHEN ct.cohort = 'M2' THEN ct.total_disc_usd ELSE 0 END) AS M2_Total_Disc_USD,\n",
    "       SUM(CASE WHEN ct.cohort = 'M2' THEN ct.total_voucher_disc ELSE 0 END) AS M2_Total_Voucher_Disc,\n",
    "       SUM(CASE WHEN ct.cohort = 'M2' THEN ct.total_voucher_disc_usd ELSE 0 END) AS M2_Total_Voucher_Disc_USD,\n",
    "       SUM(CASE WHEN ct.cohort = 'M2' THEN ct.amount_used ELSE 0 END) AS M2_Amount_Used,\n",
    "       SUM(CASE WHEN ct.cohort = 'M2' THEN ct.amount_used_usd ELSE 0 END) AS M2_Amount_Used_USD,\n",
    "       SUM(CASE WHEN ct.cohort = 'M3' THEN ct.revenue ELSE 0 END) AS M3_Revenue,\n",
    "       SUM(CASE WHEN ct.cohort = 'M3' THEN ct.total_paid ELSE 0 END) AS M3_Total_Paid,\n",
    "       SUM(CASE WHEN ct.cohort = 'M3' THEN ct.total_paid_usd ELSE 0 END) AS M3_Total_Paid_USD,\n",
    "       SUM(CASE WHEN ct.cohort = 'M3' THEN ct.total_disc ELSE 0 END) AS M3_Total_Disc,\n",
    "       SUM(CASE WHEN ct.cohort = 'M3' THEN ct.total_disc_usd ELSE 0 END) AS M3_Total_Disc_USD,\n",
    "       SUM(CASE WHEN ct.cohort = 'M3' THEN ct.total_voucher_disc ELSE 0 END) AS M3_Total_Voucher_Disc,\n",
    "       SUM(CASE WHEN ct.cohort = 'M3' THEN ct.total_voucher_disc_usd ELSE 0 END) AS M3_Total_Voucher_Disc_USD,\n",
    "       SUM(CASE WHEN ct.cohort = 'M3' THEN ct.amount_used ELSE 0 END) AS M3_Amount_Used,\n",
    "       SUM(CASE WHEN ct.cohort = 'M3' THEN ct.amount_used_usd ELSE 0 END) AS M3_Amount_Used_USD,\n",
    "FROM cohorts_table AS ct\n",
    "WHERE UPPER(ct.campaign) NOT LIKE '%%OTHER_CC_%%'\n",
    "      AND UPPER(ct.campaign) NOT LIKE '%%OTHER_AUTOCOMP_%%'\n",
    "      AND UPPER(ct.campaign) NOT LIKE '%%OTHER_EMPLOYEE_%%'\n",
    "      AND UPPER(ct.campaign) NOT LIKE '%%OTHER_OTHER_%%'\n",
    "      AND UPPER(ct.campaign) NOT LIKE '%%OTHER_NCR_%%'\n",
    "GROUP BY 1,2,3,4,5,6'''"
   ]
  },
  {
   "cell_type": "code",
   "execution_count": 5,
   "metadata": {},
   "outputs": [
    {
     "name": "stderr",
     "output_type": "stream",
     "text": [
      "Downloading: 100%|█████████████████████████████████████████████████████████| 108102/108102 [01:29<00:00, 1201.22rows/s]\n"
     ]
    }
   ],
   "source": [
    "# Descargo la data\n",
    "bq_crudo = pd.io.gbq.read_gbq(q, project_id='peya-argentina', dialect='standard')"
   ]
  },
  {
   "cell_type": "code",
   "execution_count": 6,
   "metadata": {},
   "outputs": [],
   "source": [
    "# Copio las bases\n",
    "crudo = bq_crudo.copy()"
   ]
  },
  {
   "cell_type": "markdown",
   "metadata": {},
   "source": [
    "### TRABAJO"
   ]
  },
  {
   "cell_type": "code",
   "execution_count": 7,
   "metadata": {},
   "outputs": [],
   "source": [
    "# Doy formato a las columnas\n",
    "cols_str = ['Campaign','Country','Month','City','Discount_Type','Variation']\n",
    "cols_float = [i for i in crudo.columns if i not in cols_str]\n",
    "crudo[cols_float] = crudo[cols_float].astype(float)\n",
    "crudo[cols_str] = crudo[cols_str].apply(lambda x: x.astype(str).str.upper())\n",
    "# Saco los espacios de los nombres de campañas\n",
    "crudo['Campaign'] = crudo['Campaign'].str.replace(' ', '')\n",
    "# Doy formato a la fecha\n",
    "crudo['Month'] = pd.to_datetime(crudo['Month'], format='%Y-%m').dt.strftime('%Y-%m')\n",
    "# Hago un listado de los paises\n",
    "countries = list(crudo['Country'].unique())\n",
    "# Ordeno la base\n",
    "crudo.sort_values(by=['Country','Month','Campaign','City'],inplace=True)"
   ]
  },
  {
   "cell_type": "code",
   "execution_count": 8,
   "metadata": {},
   "outputs": [],
   "source": [
    "# Llevo a cabo la limpieza del Reorder\n",
    "cols_final = ['M1_Users_Final','M2_Users_Final','M3_Users_Final',\n",
    "              'M1_Orders_Final','M2_Orders_Final','M3_Orders_Final',\n",
    "              'Acq_M1','Acq_M2','Acq_M3']\n",
    "\n",
    "for i in cols_final:\n",
    "    crudo[i] = 0\n",
    "# Completo las columnas que cree\n",
    "cols_toFill_m1 = ['M1_Users_Final','M1_Orders_Final','Acq_M1']\n",
    "cols_fill_m1 = ['M1_Users','M1_Orders','Acquisitions']\n",
    "cols_toFill_m2 = ['M2_Users_Final','M2_Orders_Final','Acq_M2']\n",
    "cols_fill_m2 = ['M2_Users','M2_Orders','Acquisitions']\n",
    "cols_toFill_m3 = ['M3_Users_Final','M3_Orders_Final','Acq_M3']\n",
    "cols_fill_m3 = ['M3_Users','M3_Orders','Acquisitions']\n",
    "months = crudo.sort_values(by=['Month'],ascending=False)['Month'].unique().tolist()\n",
    "if len(months) > 3:\n",
    "    # Para todos los meses coloco los valores en M1\n",
    "    crudo[cols_toFill_m1] = crudo[cols_fill_m1].values\n",
    "    # Para el tercer y cuarto mes coloco los valores en M2\n",
    "    crudo.loc[crudo['Month'].isin(months[2:]),cols_toFill_m2] = crudo[crudo['Month'].isin(months[2:])][cols_fill_m2].values\n",
    "    # Para el cuarto mes coloco los valores en M3\n",
    "    crudo.loc[crudo['Month'] == months[-1],cols_toFill_m3] = crudo[crudo['Month'] == months[-1]][cols_fill_m3].values\n",
    "else:\n",
    "    # Para todos los meses coloco los valores en M1\n",
    "    crudo[cols_toFill_m1] = crudo[cols_fill_m1].values\n",
    "    # Para el segundo mes coloco los valores en M2\n",
    "    crudo.loc[crudo['Month'].isin(months[1:]),cols_toFill_m2] = crudo[crudo['Month'].isin(months[1:])][cols_fill_m2].values\n",
    "    # Para el cuarto mes coloco los valores en M3\n",
    "    crudo.loc[crudo['Month'] == months[-1],cols_toFill_m3] = crudo[crudo['Month'] == months[-1]][cols_fill_m3].values"
   ]
  },
  {
   "cell_type": "code",
   "execution_count": 9,
   "metadata": {},
   "outputs": [],
   "source": [
    "# Hago una PT sacando el Month\n",
    "index = ['Country','City','Campaign','Discount_Type','Variation']\n",
    "values = list(set(crudo.columns) - set(index + ['Month']))\n",
    "pt = crudo.pivot_table(index=index,values=values,aggfunc='sum').reset_index()"
   ]
  },
  {
   "cell_type": "code",
   "execution_count": 10,
   "metadata": {},
   "outputs": [],
   "source": [
    "# Creo las columnas para los segmentos\n",
    "pt['Benefit'] = pt['Campaign'].apply(lambda x: filtros(x,'BENEFICIOS'))\n",
    "pt['Type'] = pt['Campaign'].apply(lambda x: filtros(x,'TIPOS'))\n",
    "pt['Segment'] = pt['Campaign'].apply(lambda x: filtros(x,'SEGMENTOS'))\n",
    "pt['Level'] = pt['Campaign'].apply(lambda x: filtros(x,'NIVELES'))\n",
    "pt['Campaña'] = pt['Campaign'].apply(lambda x: filtros(x,'CAMPAIGNS'))\n",
    "pt['Automated'] = pt['Campaign'].apply(lambda x: filtros(x,'AUTOMATIONS'))\n",
    "pt['Budget'] = pt['Campaign'].apply(lambda x: filtros(x,'BUDGET'))"
   ]
  },
  {
   "cell_type": "code",
   "execution_count": 18,
   "metadata": {},
   "outputs": [],
   "source": [
    "pt.to_csv('Stats.csv',index=False)"
   ]
  }
 ],
 "metadata": {
  "kernelspec": {
   "display_name": "Python 3",
   "language": "python",
   "name": "python3"
  },
  "language_info": {
   "codemirror_mode": {
    "name": "ipython",
    "version": 3
   },
   "file_extension": ".py",
   "mimetype": "text/x-python",
   "name": "python",
   "nbconvert_exporter": "python",
   "pygments_lexer": "ipython3",
   "version": "3.7.6"
  }
 },
 "nbformat": 4,
 "nbformat_minor": 4
}
