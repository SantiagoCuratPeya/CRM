{
 "cells": [
  {
   "cell_type": "markdown",
   "metadata": {},
   "source": [
    "### IMPORTS"
   ]
  },
  {
   "cell_type": "code",
   "execution_count": 1,
   "metadata": {},
   "outputs": [],
   "source": [
    "import sys, os\n",
    "sys.path.append(os.path.join(sys.path[0],'Pythons'))"
   ]
  },
  {
   "cell_type": "code",
   "execution_count": 2,
   "metadata": {},
   "outputs": [],
   "source": [
    "from Carga_Descarga import *\n",
    "from CRM_Central import *"
   ]
  },
  {
   "cell_type": "markdown",
   "metadata": {},
   "source": [
    "### GOOGLE SHEETS"
   ]
  },
  {
   "cell_type": "code",
   "execution_count": 3,
   "metadata": {},
   "outputs": [
    {
     "name": "stdout",
     "output_type": "stream",
     "text": [
      "Descarga Correcta!\n"
     ]
    }
   ],
   "source": [
    "comp = descarga('1d4cMi-V04c80Dpen4S70Q7zYqqho3ZBIVctlRIBLwiw','Competencias')"
   ]
  },
  {
   "cell_type": "code",
   "execution_count": 4,
   "metadata": {},
   "outputs": [],
   "source": [
    "comp_type = {}\n",
    "for i in comp['Country'].unique():\n",
    "    comp_type[i] = comp[comp['Country'] == i]['Tipo'].unique()[0]"
   ]
  },
  {
   "cell_type": "markdown",
   "metadata": {},
   "source": [
    "### QUERIES"
   ]
  },
  {
   "cell_type": "code",
   "execution_count": 5,
   "metadata": {},
   "outputs": [],
   "source": [
    "q = '''SELECT cn.country_name AS Country,\n",
    "       c.city_name AS City,\n",
    "       a.area_name AS Area,\n",
    "       FORMAT_DATE('%Y-%m',o.registered_date) AS Month,\n",
    "       tca.talon_campaign_name AS Campaign,\n",
    "       COUNT(DISTINCT o.order_id) AS Confirmed,\n",
    "       COUNT(DISTINCT CASE WHEN o.is_acquisition = 1 THEN o.order_id ELSE NULL END) AS Acq,\n",
    "       SUM(CASE WHEN bi.payment_mode = 'TOTAL_AMOUNT' THEN tc.coupon_used_amount / ce.rate_us ELSE 0 END) AS Amount,\n",
    "       SUM(CASE WHEN bi.payment_mode != 'TOTAL_AMOUNT' THEN tc.coupon_used_amount / ce.rate_us ELSE 0 END) AS Amount_Shopper\n",
    "FROM `peya-bi-tools-pro.il_core.fact_orders` AS o\n",
    "INNER JOIN `peya-bi-tools-pro.il_growth.fact_talon_coupons` AS tc ON o.order_id = tc.order_id\n",
    "LEFT JOIN `peya-bi-tools-pro.il_growth.dim_talon_campaigns` AS tca ON tc.talon_campaign_id = tca.talon_campaign_id\n",
    "LEFT JOIN `peya-bi-tools-pro.il_core.dim_country` AS cn ON o.country_id = cn.country_id\n",
    "LEFT JOIN `peya-bi-tools-pro.il_core.dim_city` AS c ON o.city.city_id = c.city_id\n",
    "LEFT JOIN `peya-bi-tools-pro.il_core.dim_area` AS a ON o.address.area.id = a.area_id\n",
    "LEFT JOIN `peya-bi-tools-pro.il_core.dim_currency_exchange` AS ce ON cn.currency_id = ce.currency_id AND DATE_TRUNC(o.registered_date,MONTH) = ce.currency_exchange_date\n",
    "LEFT JOIN `peya-bi-tools-pro.il_core.dim_partner` AS p ON o.restaurant.id = p.partner_id\n",
    "LEFT JOIN `peya-bi-tools-pro.il_core.dim_billing_info` AS bi ON p.billingInfo.billing_info_id = bi.billing_info_id\n",
    "WHERE o.registered_date >= DATE_TRUNC(DATE_ADD(CURRENT_DATE(),INTERVAL -1 MONTH),MONTH)\n",
    "      AND cn.country_name IN ('Argentina','Chile')\n",
    "      AND o.order_status = 'CONFIRMED'\n",
    "GROUP BY 1,2,3,4,5'''"
   ]
  },
  {
   "cell_type": "code",
   "execution_count": 6,
   "metadata": {},
   "outputs": [
    {
     "name": "stderr",
     "output_type": "stream",
     "text": [
      "Downloading: 100%|█████████████████████████████████████████████████████████| 144473/144473 [00:23<00:00, 6024.33rows/s]\n"
     ]
    }
   ],
   "source": [
    "# Descargo la data\n",
    "bq_crudo = pd.io.gbq.read_gbq(q, project_id='peya-argentina', dialect='standard')"
   ]
  },
  {
   "cell_type": "code",
   "execution_count": 47,
   "metadata": {},
   "outputs": [],
   "source": [
    "# Copio las bases\n",
    "crudo = bq_crudo.copy()"
   ]
  },
  {
   "cell_type": "markdown",
   "metadata": {},
   "source": [
    "### TRABAJO"
   ]
  },
  {
   "cell_type": "code",
   "execution_count": 48,
   "metadata": {},
   "outputs": [],
   "source": [
    "# Doy formato a las columnas\n",
    "cols_str = ['Campaign','Country','City','Area','Month']\n",
    "cols_float = [i for i in crudo.columns if i not in cols_str]\n",
    "crudo[cols_float] = crudo[cols_float].astype(float)\n",
    "crudo[cols_str] = crudo[cols_str].apply(lambda x: x.astype(str).str.upper())\n",
    "# Saco los espacios de los nombres de campañas\n",
    "crudo['Campaign'] = crudo['Campaign'].str.replace(' ', '')"
   ]
  },
  {
   "cell_type": "code",
   "execution_count": 49,
   "metadata": {},
   "outputs": [],
   "source": [
    "# Creo las columnas para los segmentos\n",
    "crudo['Benefit'] = crudo['Campaign'].apply(lambda x: filtros(x,'BENEFICIOS'))\n",
    "crudo['Type'] = crudo['Campaign'].apply(lambda x: filtros(x,'TIPOS'))\n",
    "crudo['Segment'] = crudo['Campaign'].apply(lambda x: filtros(x,'SEGMENTOS'))\n",
    "crudo['Level'] = crudo['Campaign'].apply(lambda x: filtros(x,'NIVELES'))\n",
    "crudo['Campaña'] = crudo['Campaign'].apply(lambda x: filtros(x,'CAMPAIGNS'))\n",
    "crudo['Automated'] = crudo['Campaign'].apply(lambda x: filtros(x,'AUTOMATIONS'))\n",
    "crudo['Budget'] = crudo['Campaign'].apply(lambda x: filtros(x,'BUDGET'))\n",
    "crudo['Trial'] = crudo['Campaign'].apply(lambda x: filtros(x,'TRIAL'))\n",
    "# Coloco el IVA\n",
    "crudo = func_iva(crudo)\n",
    "# Marco las campañas a filtrar\n",
    "crudo['Filtrar'] = crudo['Campaign'].apply(filtrar_cam)\n",
    "crudo = crudo[crudo['Filtrar'] == 'No'].copy()"
   ]
  },
  {
   "cell_type": "code",
   "execution_count": 38,
   "metadata": {},
   "outputs": [],
   "source": [
    "# Saco el IVA\n",
    "used = 'Amount'\n",
    "used_shopper = 'Amount_Shopper'\n",
    "crudo['Spend'] = crudo[used_shopper] / (1 + crudo['IVA']) * crudo['Extra'] + crudo[used]"
   ]
  },
  {
   "cell_type": "code",
   "execution_count": 39,
   "metadata": {},
   "outputs": [],
   "source": [
    "# Coloco el tipo de Competencia\n",
    "crudo['Competitive Type'] = crudo['Country'].apply(lambda x: comp_type[x])\n",
    "crudo['Union'] = crudo.apply(lambda x: str(x['City'])+'-'+str(x['Area']) if x['Competitive Type'] == 'CITY-AREA' else '-'+str(x['Area']),axis=1)\n",
    "# Hago un merge con la competencia\n",
    "crudo = crudo.merge(comp[['Union','Competencia']],on=['Union'],how='left')\n",
    "crudo.replace([np.nan,np.inf,-np.inf],'NONE',inplace=True)"
   ]
  },
  {
   "cell_type": "code",
   "execution_count": 12,
   "metadata": {},
   "outputs": [],
   "source": [
    "# Hago la PT Final\n",
    "index = ['Month','Country','City','Area','Type','Budget','Trial','Segment','Competencia']\n",
    "values = ['Confirmed','Acq','Spend']\n",
    "pt = crudo.pivot_table(index=index,values=values,aggfunc='sum',fill_value=0).reset_index()\n",
    "pt.sort_values(['Country','City','Area','Month'],inplace=True)"
   ]
  },
  {
   "cell_type": "code",
   "execution_count": 13,
   "metadata": {},
   "outputs": [],
   "source": [
    "# Filtro los Budget NONE\n",
    "pt = pt[(pt['Budget'] != 'NONE')&(pt['Country'] == 'ARGENTINA')].copy()"
   ]
  },
  {
   "cell_type": "markdown",
   "metadata": {},
   "source": [
    "### CARGA"
   ]
  },
  {
   "cell_type": "code",
   "execution_count": 14,
   "metadata": {},
   "outputs": [
    {
     "name": "stdout",
     "output_type": "stream",
     "text": [
      "Carga Correcta!\n"
     ]
    }
   ],
   "source": [
    "carga(pt,'17WbrZFLD-JxfZu5d7eKuXDMxp6fbVlJ7jZgEE8h5jkc','Crudo')"
   ]
  }
 ],
 "metadata": {
  "kernelspec": {
   "display_name": "Python 3",
   "language": "python",
   "name": "python3"
  },
  "language_info": {
   "codemirror_mode": {
    "name": "ipython",
    "version": 3
   },
   "file_extension": ".py",
   "mimetype": "text/x-python",
   "name": "python",
   "nbconvert_exporter": "python",
   "pygments_lexer": "ipython3",
   "version": "3.7.6"
  }
 },
 "nbformat": 4,
 "nbformat_minor": 4
}
