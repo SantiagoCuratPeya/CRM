{
 "cells": [
  {
   "cell_type": "markdown",
   "metadata": {},
   "source": [
    "### IMPORTS"
   ]
  },
  {
   "cell_type": "code",
   "execution_count": 2,
   "metadata": {},
   "outputs": [],
   "source": [
    "import sys, os\n",
    "sys.path.append(os.path.join(sys.path[0],'Pythons'))"
   ]
  },
  {
   "cell_type": "code",
   "execution_count": 3,
   "metadata": {},
   "outputs": [],
   "source": [
    "from Carga_Descarga import *\n",
    "from CRM_Central import *"
   ]
  },
  {
   "cell_type": "code",
   "execution_count": 4,
   "metadata": {},
   "outputs": [],
   "source": [
    "pd.set_option('display.float_format', lambda x: '%.5f' % x)"
   ]
  },
  {
   "cell_type": "markdown",
   "metadata": {},
   "source": [
    "### QUERIES"
   ]
  },
  {
   "cell_type": "code",
   "execution_count": 144,
   "metadata": {},
   "outputs": [],
   "source": [
    "q_crm = '''SELECT vd.country_name AS Country,\n",
    "       FORMAT_DATE('%Y-%m',vd.date) AS Month,\n",
    "       vd.campaign_name AS Campaign,\n",
    "       vd.coupon_type AS Type,\n",
    "       SUM(CASE WHEN vd.payment_shopper = 0 THEN vd.coupon_used_amount_confirmed / ce.rate_us ELSE 0 END) AS Amount_Shopper,\n",
    "       SUM(CASE WHEN vd.payment_shopper = 1 THEN vd.coupon_used_amount_confirmed / ce.rate_us ELSE 0 END) AS Amount\n",
    "FROM `peya-growth-and-onboarding.automated_tables_reports.peya_vouchers_daily` AS vd\n",
    "LEFT JOIN `peya-bi-tools-pro.il_core.dim_country` AS cn ON UPPER(vd.country_name) = UPPER(cn.country_name)\n",
    "LEFT JOIN `peya-bi-tools-pro.il_core.dim_currency_exchange` AS ce ON cn.currency_id = ce.currency_id AND DATE_TRUNC(vd.date,MONTH) = ce.currency_exchange_date\n",
    "WHERE vd.date BETWEEN DATE('2021-03-01') AND DATE('2021-06-30')\n",
    "GROUP BY 1,2,3,4'''\n",
    "\n",
    "q_ord = '''SELECT cn.country_name AS Country,\n",
    "       FORMAT_DATE('%Y-%m',o.registered_date) AS Month,\n",
    "       COUNT(DISTINCT CASE WHEN o.order_status = 'CONFIRMED' THEN o.order_id ELSE NULL END) AS Confirmed,\n",
    "       SUM(o.is_acquisition) AS Acq\n",
    "FROM `peya-bi-tools-pro.il_core.fact_orders` AS o\n",
    "LEFT JOIN `peya-bi-tools-pro.il_core.dim_country` AS cn ON o.country_id = cn.country_id\n",
    "WHERE o.registered_date BETWEEN DATE('2021-03-01') AND DATE('2021-06-30')\n",
    "      AND cn.country_name != 'Colombia'\n",
    "GROUP BY 1,2\n",
    "ORDER BY 1,2'''"
   ]
  },
  {
   "cell_type": "code",
   "execution_count": 145,
   "metadata": {},
   "outputs": [
    {
     "name": "stderr",
     "output_type": "stream",
     "text": [
      "Downloading: 100%|█████████████████████████████████████████████████████████| 165850/165850 [00:27<00:00, 5930.75rows/s]\n"
     ]
    }
   ],
   "source": [
    "# Descargo la data\n",
    "bq_crm = pd.io.gbq.read_gbq(q_crm, project_id='peya-argentina', dialect='standard')"
   ]
  },
  {
   "cell_type": "code",
   "execution_count": 146,
   "metadata": {},
   "outputs": [
    {
     "name": "stderr",
     "output_type": "stream",
     "text": [
      "Downloading: 100%|██████████████████████████████████████████████████████████████████| 57/57 [00:00<00:00, 116.30rows/s]\n"
     ]
    }
   ],
   "source": [
    "bq_ord = pd.io.gbq.read_gbq(q_ord, project_id='peya-argentina', dialect='standard')"
   ]
  },
  {
   "cell_type": "code",
   "execution_count": 152,
   "metadata": {},
   "outputs": [],
   "source": [
    "# Copio las bases\n",
    "crm = bq_crm.copy()\n",
    "orders = bq_ord.copy()"
   ]
  },
  {
   "cell_type": "markdown",
   "metadata": {},
   "source": [
    "### TRABAJO"
   ]
  },
  {
   "cell_type": "code",
   "execution_count": 153,
   "metadata": {},
   "outputs": [],
   "source": [
    "# Doy formato a las columnas\n",
    "cols_str = ['Type','Country','Month','Campaign']\n",
    "cols_float = [i for i in crm.columns if i not in cols_str]\n",
    "crm[cols_float] = crm[cols_float].astype(float)\n",
    "crm[cols_str] = crm[cols_str].apply(lambda x: x.astype(str).str.upper())\n",
    "# Saco los espacios de los nombres de campañas\n",
    "crm['Campaign'] = crm['Campaign'].str.replace(' ', '')\n",
    "# Coloco el IVA\n",
    "crm = func_iva(crm)\n",
    "# Marco las campañas a filtrar\n",
    "crm['Filtrar'] = crm['Campaign'].apply(filtrar_cam)\n",
    "crm = crm[crm['Filtrar'] == 'No'].copy()\n",
    "# Marco el Budget\n",
    "crm['Budget'] = crm['Campaign'].apply(lambda x: filtros(x,'BUDGET'))\n",
    "crm = crm[crm['Budget'] != 'NONE'].copy()"
   ]
  },
  {
   "cell_type": "code",
   "execution_count": 155,
   "metadata": {},
   "outputs": [],
   "source": [
    "# Saco el IVA\n",
    "used = 'Amount'\n",
    "used_shopper = 'Amount_Shopper'\n",
    "crm['Final'] = crm[used_shopper] / (1 + crm['IVA']) * crm['Extra'] + crm[used]"
   ]
  },
  {
   "cell_type": "code",
   "execution_count": 156,
   "metadata": {},
   "outputs": [],
   "source": [
    "# Hago una PT\n",
    "index = ['Country','Month','Type']\n",
    "values = ['Final']\n",
    "pt = crm.pivot_table(index=index,values=values,aggfunc='sum',fill_value=0).reset_index()"
   ]
  },
  {
   "cell_type": "code",
   "execution_count": 157,
   "metadata": {},
   "outputs": [],
   "source": [
    "# Hago una PT nueva\n",
    "pt = pd.DataFrame(pt.pivot_table(index=['Country','Month'],columns=['Type'],values=['Final'],aggfunc='sum',fill_value=0).to_records())"
   ]
  },
  {
   "cell_type": "code",
   "execution_count": 158,
   "metadata": {},
   "outputs": [],
   "source": [
    "# Doy formato a las columnas\n",
    "cols_str = ['Country','Month']\n",
    "cols_float = [i for i in orders.columns if i not in cols_str]\n",
    "orders[cols_float] = orders[cols_float].astype(float)\n",
    "orders[cols_str] = orders[cols_str].apply(lambda x: x.astype(str).str.upper())"
   ]
  },
  {
   "cell_type": "code",
   "execution_count": 159,
   "metadata": {},
   "outputs": [],
   "source": [
    "# Hago un Merge final\n",
    "final = orders.merge(pt,on=['Country','Month'],how='left')"
   ]
  },
  {
   "cell_type": "markdown",
   "metadata": {},
   "source": [
    "### CARGA"
   ]
  },
  {
   "cell_type": "code",
   "execution_count": 162,
   "metadata": {},
   "outputs": [
    {
     "name": "stdout",
     "output_type": "stream",
     "text": [
      "Carga Correcta!\n"
     ]
    }
   ],
   "source": [
    "carga(final,'1XV1UI2YTRUG_GLsASYIlVB9CA-fqbGLb7uCwFus_FOo','Crudo')"
   ]
  }
 ],
 "metadata": {
  "kernelspec": {
   "display_name": "Python 3",
   "language": "python",
   "name": "python3"
  },
  "language_info": {
   "codemirror_mode": {
    "name": "ipython",
    "version": 3
   },
   "file_extension": ".py",
   "mimetype": "text/x-python",
   "name": "python",
   "nbconvert_exporter": "python",
   "pygments_lexer": "ipython3",
   "version": "3.7.6"
  }
 },
 "nbformat": 4,
 "nbformat_minor": 4
}
