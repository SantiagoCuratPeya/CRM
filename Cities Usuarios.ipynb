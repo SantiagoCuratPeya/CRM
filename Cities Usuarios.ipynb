{
 "cells": [
  {
   "cell_type": "markdown",
   "metadata": {},
   "source": [
    "### IMPORTS"
   ]
  },
  {
   "cell_type": "code",
   "execution_count": 181,
   "metadata": {},
   "outputs": [],
   "source": [
    "import pandas as pd\n",
    "import numpy as np\n",
    "import pandas_gbq\n",
    "import datetime\n",
    "from dateutil.relativedelta import relativedelta\n",
    "from gspread_pandas import Spread, conf"
   ]
  },
  {
   "cell_type": "markdown",
   "metadata": {},
   "source": [
    "### CREDENCIALES"
   ]
  },
  {
   "cell_type": "code",
   "execution_count": 182,
   "metadata": {},
   "outputs": [],
   "source": [
    "cred = conf.get_config('C:\\\\Users\\\\santiago.curat\\\\Pandas\\\\PEYA', 'PedidosYa-8b8c4d19f61c.json')"
   ]
  },
  {
   "cell_type": "markdown",
   "metadata": {},
   "source": [
    "### QUERIES"
   ]
  },
  {
   "cell_type": "code",
   "execution_count": 189,
   "metadata": {},
   "outputs": [],
   "source": [
    "q = '''SELECT uc.country AS Country,\n",
    "       uc.city AS City,\n",
    "       uc.based AS Based,\n",
    "       COUNT(DISTINCT uc.user) AS Users\n",
    "FROM `peya-argentina.user_santiago_curat.city_usuarios` AS uc\n",
    "GROUP BY 1,2,3\n",
    "ORDER BY 1,2,3,4 DESC'''"
   ]
  },
  {
   "cell_type": "code",
   "execution_count": 197,
   "metadata": {},
   "outputs": [
    {
     "name": "stderr",
     "output_type": "stream",
     "text": [
      "\n",
      "Downloading:   0%|                                                                                                                          | 0/2797 [00:00<?, ?rows/s]\u001b[A\n",
      "Downloading: 100%|█████████████████████████████████████████████████████████████████████████████████████████████████████████████| 2797/2797 [00:00<00:00, 5667.49rows/s]\u001b[A\n"
     ]
    }
   ],
   "source": [
    "# Descargo la data\n",
    "bq_crudo = pd.io.gbq.read_gbq(q, project_id='peya-argentina', dialect='standard')"
   ]
  },
  {
   "cell_type": "code",
   "execution_count": 198,
   "metadata": {},
   "outputs": [],
   "source": [
    "# Copio la base\n",
    "crudo = bq_crudo.copy()"
   ]
  },
  {
   "cell_type": "markdown",
   "metadata": {},
   "source": [
    "### TRABAJO"
   ]
  },
  {
   "cell_type": "code",
   "execution_count": 199,
   "metadata": {},
   "outputs": [],
   "source": [
    "# Doy formato a las columnas\n",
    "crudo['Users'] = crudo['Users'].astype(int)"
   ]
  },
  {
   "cell_type": "code",
   "execution_count": 200,
   "metadata": {},
   "outputs": [],
   "source": [
    "# Creo una PT para ver el Based\n",
    "based = crudo.pivot_table(index=['Based'],values=['Users'],aggfunc='sum',fill_value=0).reset_index()\n",
    "# Coloco los porcentajes\n",
    "based['Users MM'] = based['Users'] / 1000000\n",
    "based['Total MM'] = based['Users'].sum() / 1000000\n",
    "based['%'] = round(based['Users'] / based['Users'].sum() * 100,2)"
   ]
  },
  {
   "cell_type": "code",
   "execution_count": 178,
   "metadata": {},
   "outputs": [],
   "source": [
    "# Creo una PT por pais\n",
    "paises = crudo.pivot_table(index=['Country','City'],values=['Users'],aggfunc='sum',fill_value=0).reset_index()\n",
    "# Filtro Argentina\n",
    "arg = paises[paises['Country'] == 'Argentina'].copy()\n",
    "arg['Users MM'] = arg['Users'] / 1000000\n",
    "arg['Total MM'] = arg['Users'].sum() / 1000000\n",
    "arg['%'] = round(arg['Users'] / arg['Users'].sum() * 100,2)\n",
    "arg.sort_values(by=['Users'],ascending=False,inplace=True)\n",
    "arg['Acum'] = arg['%'].cumsum(axis=0)\n",
    "# Filtro Chile\n",
    "chi = paises[paises['Country'] == 'Chile'].copy()\n",
    "chi['Users MM'] = chi['Users'] / 1000000\n",
    "chi['Total MM'] = chi['Users'].sum() / 1000000\n",
    "chi['%'] = round(chi['Users'] / chi['Users'].sum() * 100,2)\n",
    "chi.sort_values(by=['Users'],ascending=False,inplace=True)\n",
    "chi['Acum'] = chi['%'].cumsum(axis=0)\n",
    "# Filtro Uruguay\n",
    "uru = paises[paises['Country'] == 'Uruguay'].copy()\n",
    "uru['Users MM'] = uru['Users'] / 1000000\n",
    "uru['Total MM'] = uru['Users'].sum() / 1000000\n",
    "uru['%'] = round(uru['Users'] / uru['Users'].sum() * 100,2)\n",
    "uru.sort_values(by=['Users'],ascending=False,inplace=True)\n",
    "uru['Acum'] = uru['%'].cumsum(axis=0)"
   ]
  },
  {
   "cell_type": "code",
   "execution_count": 201,
   "metadata": {},
   "outputs": [
    {
     "data": {
      "text/html": [
       "<div>\n",
       "<style scoped>\n",
       "    .dataframe tbody tr th:only-of-type {\n",
       "        vertical-align: middle;\n",
       "    }\n",
       "\n",
       "    .dataframe tbody tr th {\n",
       "        vertical-align: top;\n",
       "    }\n",
       "\n",
       "    .dataframe thead th {\n",
       "        text-align: right;\n",
       "    }\n",
       "</style>\n",
       "<table border=\"1\" class=\"dataframe\">\n",
       "  <thead>\n",
       "    <tr style=\"text-align: right;\">\n",
       "      <th></th>\n",
       "      <th>Based</th>\n",
       "      <th>Users</th>\n",
       "      <th>Users MM</th>\n",
       "      <th>Total MM</th>\n",
       "      <th>%</th>\n",
       "    </tr>\n",
       "  </thead>\n",
       "  <tbody>\n",
       "    <tr>\n",
       "      <th>0</th>\n",
       "      <td>-</td>\n",
       "      <td>36061527</td>\n",
       "      <td>36.061527</td>\n",
       "      <td>62.71161</td>\n",
       "      <td>57.50</td>\n",
       "    </tr>\n",
       "    <tr>\n",
       "      <th>1</th>\n",
       "      <td>ADDRESS BASED</td>\n",
       "      <td>21192724</td>\n",
       "      <td>21.192724</td>\n",
       "      <td>62.71161</td>\n",
       "      <td>33.79</td>\n",
       "    </tr>\n",
       "    <tr>\n",
       "      <th>2</th>\n",
       "      <td>MOST ADDRESSED BASED</td>\n",
       "      <td>634633</td>\n",
       "      <td>0.634633</td>\n",
       "      <td>62.71161</td>\n",
       "      <td>1.01</td>\n",
       "    </tr>\n",
       "    <tr>\n",
       "      <th>3</th>\n",
       "      <td>ORDER BASED</td>\n",
       "      <td>4822726</td>\n",
       "      <td>4.822726</td>\n",
       "      <td>62.71161</td>\n",
       "      <td>7.69</td>\n",
       "    </tr>\n",
       "  </tbody>\n",
       "</table>\n",
       "</div>"
      ],
      "text/plain": [
       "                  Based     Users   Users MM  Total MM      %\n",
       "0                     -  36061527  36.061527  62.71161  57.50\n",
       "1         ADDRESS BASED  21192724  21.192724  62.71161  33.79\n",
       "2  MOST ADDRESSED BASED    634633   0.634633  62.71161   1.01\n",
       "3           ORDER BASED   4822726   4.822726  62.71161   7.69"
      ]
     },
     "execution_count": 201,
     "metadata": {},
     "output_type": "execute_result"
    }
   ],
   "source": [
    "based"
   ]
  }
 ],
 "metadata": {
  "kernelspec": {
   "display_name": "Python 3",
   "language": "python",
   "name": "python3"
  },
  "language_info": {
   "codemirror_mode": {
    "name": "ipython",
    "version": 3
   },
   "file_extension": ".py",
   "mimetype": "text/x-python",
   "name": "python",
   "nbconvert_exporter": "python",
   "pygments_lexer": "ipython3",
   "version": "3.7.6"
  }
 },
 "nbformat": 4,
 "nbformat_minor": 4
}
