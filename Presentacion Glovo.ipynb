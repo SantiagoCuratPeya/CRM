{
 "cells": [
  {
   "cell_type": "markdown",
   "metadata": {},
   "source": [
    "### IMPORTS"
   ]
  },
  {
   "cell_type": "code",
   "execution_count": 2,
   "metadata": {},
   "outputs": [],
   "source": [
    "import sys, os\n",
    "sys.path.append(os.path.join(sys.path[0],'Pythons'))"
   ]
  },
  {
   "cell_type": "code",
   "execution_count": 3,
   "metadata": {},
   "outputs": [],
   "source": [
    "from Carga_Descarga import *\n",
    "from CRM_Central import *"
   ]
  },
  {
   "cell_type": "code",
   "execution_count": 4,
   "metadata": {},
   "outputs": [],
   "source": [
    "pd.set_option('display.float_format', lambda x: '%.5f' % x)"
   ]
  },
  {
   "cell_type": "markdown",
   "metadata": {},
   "source": [
    "### GOOGLE SHEETS"
   ]
  },
  {
   "cell_type": "code",
   "execution_count": 72,
   "metadata": {},
   "outputs": [
    {
     "name": "stdout",
     "output_type": "stream",
     "text": [
      "Descarga Correcta!\n"
     ]
    }
   ],
   "source": [
    "# Descargo los filtros de Campañas\n",
    "fc = descarga('1d4cMi-V04c80Dpen4S70Q7zYqqho3ZBIVctlRIBLwiw','Filtrar')\n",
    "# Mando a mayusculas\n",
    "fc[fc.columns[0]] = fc[fc.columns[0]].str.upper()\n",
    "fc = fc[fc.columns[0]].tolist()"
   ]
  },
  {
   "cell_type": "markdown",
   "metadata": {},
   "source": [
    "### FUNCIONES"
   ]
  },
  {
   "cell_type": "code",
   "execution_count": 71,
   "metadata": {},
   "outputs": [],
   "source": [
    "def filtrar_cam(i):\n",
    "    val = 'No'\n",
    "    for j in fc:\n",
    "        if j in i:\n",
    "            val = 'Si'\n",
    "            break\n",
    "    return val        "
   ]
  },
  {
   "cell_type": "markdown",
   "metadata": {},
   "source": [
    "### QUERIES"
   ]
  },
  {
   "cell_type": "code",
   "execution_count": 97,
   "metadata": {},
   "outputs": [],
   "source": [
    "q_gen = '''WITH orders_table AS (\n",
    "    SELECT o.user.id AS user,\n",
    "           o.order_id AS order_id,\n",
    "           o.registered_date AS fecha,\n",
    "           CASE WHEN o.is_acquisition = 1 THEN True ELSE False END AS is_acquisition,\n",
    "           cn.country_name AS country\n",
    "    FROM `peya-bi-tools-pro.il_core.fact_orders` AS o\n",
    "    LEFT JOIN `peya-bi-tools-pro.il_core.dim_country` AS cn ON o.country_id = cn.country_id\n",
    "    WHERE o.registered_date >= DATE('2021-01-01')\n",
    "          AND o.order_status = 'CONFIRMED'),\n",
    "    users_table AS (\n",
    "    SELECT u.user_id AS user,\n",
    "           cn.country_name AS country\n",
    "    FROM `peya-data-origins-pro.cl_glovo_migration.glovo_customer_migrated` AS gcm\n",
    "    INNER JOIN `peya-bi-tools-pro.il_core.dim_user` AS u ON gcm.peya_id = u.user_id\n",
    "    LEFT JOIN `peya-bi-tools-pro.il_core.dim_country` AS cn ON u.country_id = cn.country_id\n",
    "    WHERE cn.country_name IN ('Perú','Ecuador','Honduras','Costa Rica','Guatemala')),\n",
    "    cross_table AS (\n",
    "    SELECT DISTINCT FORMAT_DATE('%Y-%m',d.date) AS month,\n",
    "           cn.country_name AS country\n",
    "    FROM `peya-bi-tools-pro.il_core.dim_date` AS d\n",
    "    CROSS JOIN `peya-bi-tools-pro.il_core.dim_country` AS cn\n",
    "    WHERE cn.country_name IN ('Perú','Ecuador','Honduras','Costa Rica','Guatemala')\n",
    "          AND d.date BETWEEN DATE('2021-01-01') AND DATE('2021-07-31'))\n",
    "SELECT ct.month AS Month,\n",
    "       ct.country AS Country,\n",
    "       COUNT(DISTINCT ut.user) AS Total_Glovo_Users,\n",
    "       COUNT(DISTINCT CASE WHEN ot.is_acquisition THEN ot.user ELSE NULL END) AS Glovo_Acq,\n",
    "       COUNT(DISTINCT ot.order_id) AS Confirmed_Glovo_Orders\n",
    "FROM cross_table AS ct\n",
    "LEFT JOIN users_table AS ut ON ct.country = ut.country\n",
    "LEFT JOIN orders_table AS ot ON ut.user = ot.user AND ut.country = ot.country AND ct.month = FORMAT_DATE('%Y-%m',ot.fecha)\n",
    "GROUP BY 1,2\n",
    "ORDER BY 2,1 ASC'''\n",
    "\n",
    "q_coh = '''WITH acq_table AS (\n",
    "    SELECT u.user_id AS user,\n",
    "           cn.country_name AS country,\n",
    "           o.registered_date AS fecha\n",
    "    FROM `peya-bi-tools-pro.il_core.fact_orders` AS o\n",
    "    INNER JOIN `peya-bi-tools-pro.il_core.dim_user` AS u ON o.user.id = u.user_id AND o.country_id = u.country_id\n",
    "    INNER JOIN `peya-data-origins-pro.cl_glovo_migration.glovo_customer_migrated` AS gcm ON u.user_id = gcm.peya_id\n",
    "    LEFT JOIN `peya-bi-tools-pro.il_core.dim_country` AS cn ON u.country_id = cn.country_id\n",
    "    WHERE o.registered_date >= DATE('2021-01-01')\n",
    "          AND cn.country_name IN ('Perú','Ecuador','Honduras','Costa Rica','Guatemala')\n",
    "          AND o.is_acquisition = 1\n",
    "          AND o.order_status = 'CONFIRMED'),\n",
    "    cohorts_table AS (\n",
    "    SELECT acq.user AS user,\n",
    "           acq.country AS country,\n",
    "           acq.fecha AS fecha,\n",
    "           DATE_DIFF(o.registered_date,acq.fecha,MONTH) AS cohort_month,\n",
    "           IFNULL(COUNT(DISTINCT o.order_id),0) AS orders\n",
    "    FROM acq_table AS acq\n",
    "    LEFT JOIN `peya-bi-tools-pro.il_core.fact_orders` AS o ON acq.user = o.user.id\n",
    "    WHERE o.registered_date >= DATE('2021-01-01')\n",
    "          AND o.registered_date BETWEEN DATE_ADD(acq.fecha,INTERVAL 1 DAY) AND CURRENT_DATE()\n",
    "          AND o.order_status = 'CONFIRMED'\n",
    "    GROUP BY 1,2,3,o.registered_date),\n",
    "    acq_final_table AS (\n",
    "    SELECT FORMAT_DATE('%Y-%m',acq.fecha) AS fecha,\n",
    "           acq.country AS country,\n",
    "           COUNT(DISTINCT acq.user) AS users\n",
    "    FROM acq_table AS acq\n",
    "    GROUP BY 1,2)\n",
    "SELECT FORMAT_DATE('%Y-%m',ct.fecha) AS Month,\n",
    "       ct.country AS Country,\n",
    "       IFNULL(aft.users,0) AS Glovo_Acq,\n",
    "       COUNT(DISTINCT CASE WHEN ct.cohort_month = 1 THEN ct.user ELSE NULL END) AS Active_Glovo_M1,\n",
    "       COUNT(DISTINCT CASE WHEN ct.cohort_month = 2 THEN ct.user ELSE NULL END) AS Active_Glovo_M2,\n",
    "       COUNT(DISTINCT CASE WHEN ct.cohort_month = 3 THEN ct.user ELSE NULL END) AS Active_Glovo_M3\n",
    "FROM cohorts_table AS ct\n",
    "LEFT JOIN acq_final_table AS aft ON FORMAT_DATE('%Y-%m', ct.fecha) = aft.fecha AND ct.country = aft.country\n",
    "GROUP BY 1,2,3\n",
    "ORDER BY 2,1'''\n",
    "\n",
    "q_acq = '''SELECT FORMAT_DATE('%Y-%m',o.registered_date) AS Month,\n",
    "       cn.country_name AS Country,\n",
    "       COUNT(DISTINCT o.order_id) AS Confirmed_Totales,\n",
    "       COUNT(DISTINCT CASE WHEN o.is_acquisition = 1 THEN o.order_id ELSE NULL END) AS Acq_Totales\n",
    "FROM `peya-bi-tools-pro.il_core.fact_orders` AS o\n",
    "LEFT JOIN `peya-bi-tools-pro.il_core.dim_country` AS cn ON o.country_id = cn.country_id\n",
    "WHERE o.registered_date >= DATE('2021-01-01')\n",
    "      AND o.order_status = 'CONFIRMED'\n",
    "      AND cn.country_name IN ('Perú','Ecuador','Honduras','Costa Rica','Guatemala')\n",
    "GROUP BY 1,2\n",
    "ORDER BY 2,1'''\n",
    "\n",
    "q_tc = '''SELECT FORMAT_DATE('%Y-%m',vd.date) AS Month,\n",
    "       vd.country_name AS Country,\n",
    "       vd.campaign_name AS Campaign,\n",
    "       CASE WHEN vd.payment_shopper = 1 THEN 'Si' ELSE 'No' END AS Shopper,\n",
    "       SUM(vd.coupons_redeemed_confirmed) AS Redeemed_Confirmed,\n",
    "       SUM(vd.coupon_orders_acq_confirmed) AS Acquisitions,\n",
    "       SUM(vd.coupon_used_amount_confirmed / ce.rate_us) AS Amount_USD\n",
    "FROM `peya-growth-and-onboarding.automated_tables_reports.peya_vouchers_daiy` AS vd\n",
    "LEFT JOIN `peya-bi-tools-pro.il_core.dim_country` AS cn ON vd.country_name = cn.country_name\n",
    "LEFT JOIN `peya-bi-tools-pro.il_core.dim_currency_exchange` AS ce ON cn.currency_id = ce.currency_id AND DATE_TRUNC(vd.date,MONTH) = ce.currency_exchange_date\n",
    "WHERE vd.date >= DATE('2021-01-01')\n",
    "      AND vd.country_name IN ('Perú','Ecuador','Honduras','Costa Rica','Guatemala')\n",
    "GROUP BY 1,2,3,4\n",
    "ORDER BY 2,1'''\n",
    "\n",
    "q_tcg = '''WITH coupons_table AS (\n",
    "    SELECT cn.country_name AS country,\n",
    "           tc.talon_campaign_id AS campaign_id,\n",
    "           tc.coupon_id AS coupon_id,\n",
    "           o.registered_date AS fecha,\n",
    "           COUNT(DISTINCT o.order_id) AS redeemed,\n",
    "           COUNT(DISTINCT CASE WHEN o.order_status = 'CONFIRMED' THEN o.order_id ELSE NULL END) AS redeemed_confirmed,\n",
    "           COUNT(DISTINCT CASE WHEN o.is_acquisition = 1 THEN o.order_id ELSE NULL END) AS acquisitions,\n",
    "           SUM(CASE WHEN o.order_status = 'CONFIRMED' AND bi.payment_mode = 'TOTAL_AMOUNT' THEN tc.coupon_used_amount / ce.rate_us ELSE 0 END) AS used_amount_confirmed_usd,\n",
    "           SUM(CASE WHEN o.order_status = 'CONFIRMED' AND bi.payment_mode != 'TOTAL_AMOUNT' THEN tc.coupon_used_amount / ce.rate_us ELSE 0 END) AS used_amount_confirmed_usd_shopper\n",
    "    FROM `peya-bi-tools-pro.il_core.fact_orders` AS o\n",
    "    INNER JOIN `peya-bi-tools-pro.il_growth.fact_talon_coupons` AS tc ON o.order_id = tc.order_id\n",
    "    LEFT JOIN `peya-bi-tools-pro.il_core.dim_partner` AS p ON o.restaurant.id = p.partner_id\n",
    "    LEFT JOIN `peya-bi-tools-pro.il_core.dim_billing_info` AS bi ON p.billingInfo.billing_info_id = bi.billing_info_id\n",
    "    INNER JOIN `peya-bi-tools-pro.il_core.dim_user` AS u ON o.user.id = u.user_id AND o.country_id = u.country_id\n",
    "    INNER JOIN `peya-data-origins-pro.cl_glovo_migration.glovo_customer_migrated` AS gcm ON u.user_id = gcm.peya_id\n",
    "    LEFT JOIN `peya-bi-tools-pro.il_core.dim_country` AS cn ON u.country_id = cn.country_id\n",
    "    LEFT JOIN `peya-bi-tools-pro.il_core.dim_currency_exchange` AS ce ON cn.currency_id = ce.currency_id AND DATE_TRUNC(o.registered_date,MONTH) = ce.currency_exchange_date\n",
    "    WHERE o.registered_date >= DATE('2021-01-01')\n",
    "          AND cn.country_name IN ('Perú','Ecuador','Honduras','Costa Rica','Guatemala')\n",
    "          AND DATE(tc.coupon_created_at) >= DATE('2020-01-01')\n",
    "    GROUP BY 1,2,3,4),\n",
    "    coupons_final AS (\n",
    "    SELECT ct.country AS country,\n",
    "           FORMAT_DATE('%Y-%m',ct.fecha) AS month,\n",
    "           ct.campaign_id AS campaign_id,\n",
    "           SUM(ct.redeemed) AS redeemed,\n",
    "           SUM(ct.redeemed_confirmed) AS redeemed_confirmed,\n",
    "           SUM(ct.acquisitions) AS acq,\n",
    "           SUM(ct.used_amount_confirmed_usd) AS used_amount_confirmed_usd,\n",
    "           SUM(ct.used_amount_confirmed_usd_shopper) AS used_amount_confirmed_usd_shopper\n",
    "    FROM coupons_table AS ct\n",
    "    GROUP BY 1,2,3)\n",
    "SELECT cf.country AS Country,\n",
    "       cf.month AS Month,\n",
    "       tca.talon_campaign_name AS Campaign,\n",
    "       SUM(cf.redeemed) AS Redeemed,\n",
    "       SUM(cf.redeemed_confirmed) AS Redeemed_Confirmed,\n",
    "       SUM(cf.acq) AS Acq,\n",
    "       SUM(cf.used_amount_confirmed_usd) AS Used_Amount_Confirmed_USD,\n",
    "       SUM(cf.used_amount_confirmed_usd_shopper) AS Used_Amount_Confirmed_USD_Shopper\n",
    "FROM coupons_final AS cf \n",
    "LEFT JOIN `peya-bi-tools-pro.il_growth.dim_talon_campaigns` AS tca ON cf.campaign_id = tca.talon_campaign_id\n",
    "GROUP BY 1,2,3'''"
   ]
  },
  {
   "cell_type": "code",
   "execution_count": 20,
   "metadata": {},
   "outputs": [
    {
     "name": "stderr",
     "output_type": "stream",
     "text": [
      "Downloading: 100%|██████████████████████████████████████████████████████████████████| 35/35 [00:00<00:00, 110.05rows/s]\n"
     ]
    }
   ],
   "source": [
    "# Descargo la data\n",
    "bq_gen = pd.io.gbq.read_gbq(q_gen, project_id='peya-argentina', dialect='standard')"
   ]
  },
  {
   "cell_type": "code",
   "execution_count": 21,
   "metadata": {},
   "outputs": [
    {
     "name": "stderr",
     "output_type": "stream",
     "text": [
      "Downloading: 100%|███████████████████████████████████████████████████████████████████| 26/26 [00:00<00:00, 74.69rows/s]\n"
     ]
    }
   ],
   "source": [
    "bq_coh = pd.io.gbq.read_gbq(q_coh, project_id='peya-argentina', dialect='standard')"
   ]
  },
  {
   "cell_type": "code",
   "execution_count": 22,
   "metadata": {},
   "outputs": [
    {
     "name": "stderr",
     "output_type": "stream",
     "text": [
      "Downloading: 100%|███████████████████████████████████████████████████████████████████| 27/27 [00:00<00:00, 83.02rows/s]\n"
     ]
    }
   ],
   "source": [
    "bq_acq = pd.io.gbq.read_gbq(q_acq, project_id='peya-argentina', dialect='standard')"
   ]
  },
  {
   "cell_type": "code",
   "execution_count": 51,
   "metadata": {},
   "outputs": [
    {
     "name": "stderr",
     "output_type": "stream",
     "text": [
      "Downloading: 100%|█████████████████████████████████████████████████████████████| 1135/1135 [00:00<00:00, 2321.65rows/s]\n"
     ]
    }
   ],
   "source": [
    "bq_tc = pd.io.gbq.read_gbq(q_tc, project_id='peya-argentina', dialect='standard')"
   ]
  },
  {
   "cell_type": "code",
   "execution_count": 98,
   "metadata": {},
   "outputs": [
    {
     "name": "stderr",
     "output_type": "stream",
     "text": [
      "Downloading: 100%|█████████████████████████████████████████████████████████████| 1017/1017 [00:00<00:00, 1826.88rows/s]\n"
     ]
    }
   ],
   "source": [
    "bq_tcg = pd.io.gbq.read_gbq(q_tcg, project_id='peya-argentina', dialect='standard')"
   ]
  },
  {
   "cell_type": "code",
   "execution_count": 108,
   "metadata": {},
   "outputs": [],
   "source": [
    "# Copio las bases\n",
    "gen = bq_gen.copy()\n",
    "coh = bq_coh.copy()\n",
    "acq = bq_acq.copy()\n",
    "tc = bq_tc.copy()\n",
    "tcg = bq_tcg.copy()"
   ]
  },
  {
   "cell_type": "markdown",
   "metadata": {},
   "source": [
    "### TRABAJO"
   ]
  },
  {
   "cell_type": "code",
   "execution_count": 109,
   "metadata": {},
   "outputs": [],
   "source": [
    "# Formateo Gen\n",
    "cols_st = ['Month','Country']\n",
    "cols_fl = [i for i in gen.columns if i not in cols_st]\n",
    "gen[cols_st] = gen[cols_st].apply(lambda x: x.astype(str).str.upper())\n",
    "gen[cols_fl] = gen[cols_fl].astype(int)\n",
    "gen['Month'] = pd.to_datetime(gen['Month'], format='%Y-%m').dt.strftime('%Y-%m')\n",
    "# Formateo Gen\n",
    "cols_st = ['Month','Country']\n",
    "cols_fl = [i for i in coh.columns if i not in cols_st]\n",
    "coh[cols_st] = coh[cols_st].apply(lambda x: x.astype(str).str.upper())\n",
    "coh[cols_fl] = coh[cols_fl].astype(int)\n",
    "coh['Month'] = pd.to_datetime(coh['Month'], format='%Y-%m').dt.strftime('%Y-%m')\n",
    "# Formateo Acq\n",
    "cols_st = ['Month','Country']\n",
    "cols_fl = [i for i in acq.columns if i not in cols_st]\n",
    "acq[cols_st] = acq[cols_st].apply(lambda x: x.astype(str).str.upper())\n",
    "acq[cols_fl] = acq[cols_fl].astype(int)\n",
    "acq['Month'] = pd.to_datetime(acq['Month'], format='%Y-%m').dt.strftime('%Y-%m')\n",
    "# Formateo TC\n",
    "cols_st = ['Month','Country','Campaign','Shopper']\n",
    "cols_fl = [i for i in tc.columns if i not in cols_st]\n",
    "tc[cols_st] = tc[cols_st].apply(lambda x: x.astype(str).str.upper())\n",
    "tc[cols_fl] = tc[cols_fl].astype(float)\n",
    "tc['Month'] = pd.to_datetime(tc['Month'], format='%Y-%m').dt.strftime('%Y-%m')\n",
    "tc['Campaign'] = tc['Campaign'].str.replace(' ', '')\n",
    "# Formateo TCG\n",
    "cols_st = ['Month','Country','Campaign']\n",
    "cols_fl = [i for i in tcg.columns if i not in cols_st]\n",
    "tcg[cols_st] = tcg[cols_st].apply(lambda x: x.astype(str).str.upper())\n",
    "tcg[cols_fl] = tcg[cols_fl].astype(float)\n",
    "tcg['Month'] = pd.to_datetime(tcg['Month'], format='%Y-%m').dt.strftime('%Y-%m')\n",
    "tcg['Campaign'] = tcg['Campaign'].str.replace(' ', '')"
   ]
  },
  {
   "cell_type": "code",
   "execution_count": 110,
   "metadata": {},
   "outputs": [],
   "source": [
    "# Hago un merge entre las tablas\n",
    "cols = ['Month','Country','Active_Glovo_M1','Active_Glovo_M2','Active_Glovo_M3']\n",
    "final = gen.merge(coh[cols],on=['Month','Country'],how='left')\n",
    "final = final.merge(acq,on=['Month','Country'],how='left')\n",
    "final.replace([np.nan,np.inf,-np.inf],0,inplace=True)"
   ]
  },
  {
   "cell_type": "code",
   "execution_count": 111,
   "metadata": {},
   "outputs": [],
   "source": [
    "# Creo las columnas para los segmentos\n",
    "tc['Benefit'] = tc['Campaign'].apply(lambda x: filtros(x,'BENEFICIOS'))\n",
    "tc['Type'] = tc['Campaign'].apply(lambda x: filtros(x,'TIPOS'))\n",
    "tc['Segment'] = tc['Campaign'].apply(lambda x: filtros(x,'SEGMENTOS'))\n",
    "tc['Level'] = tc['Campaign'].apply(lambda x: filtros(x,'NIVELES'))\n",
    "tc['Campaña'] = tc['Campaign'].apply(lambda x: filtros(x,'CAMPAIGNS'))\n",
    "tc['Automated'] = tc['Campaign'].apply(lambda x: filtros(x,'AUTOMATIONS'))\n",
    "tc['Budget'] = tc['Campaign'].apply(lambda x: filtros(x,'BUDGET'))\n",
    "tc['Trial'] = tc['Campaign'].apply(lambda x: filtros(x,'TRIAL'))\n",
    "# Coloco el IVA\n",
    "tc = func_iva(tc)\n",
    "# Marco las campañas a filtrar\n",
    "tc['Filtrar'] = tc['Campaign'].apply(filtrar_cam)\n",
    "tc = tc[tc['Filtrar'] == 'No'].copy()\n",
    "# Saco el IVA\n",
    "used = 'Amount_USD'\n",
    "tc.loc[tc['Shopper'] == 'NO','Amount_Final'] = tc[used] / (1 + tc['IVA']) * tc['Extra']\n",
    "tc.loc[tc['Shopper'] == 'SI','Amount_Final'] = tc[used]"
   ]
  },
  {
   "cell_type": "code",
   "execution_count": 107,
   "metadata": {},
   "outputs": [
    {
     "data": {
      "text/plain": [
       "Index(['Month', 'Country', 'Campaign', 'Shopper', 'Redeemed_Confirmed',\n",
       "       'Acquisitions', 'Amount_USD', 'Benefit', 'Type', 'Segment', 'Level',\n",
       "       'Campaña', 'Automated', 'Budget', 'Trial', 'IVA_x', 'Extra_x',\n",
       "       'Filtrar', 'Amount_Final', 'IVA_y', 'Extra_y'],\n",
       "      dtype='object')"
      ]
     },
     "execution_count": 107,
     "metadata": {},
     "output_type": "execute_result"
    }
   ],
   "source": [
    "tcg.columns"
   ]
  },
  {
   "cell_type": "code",
   "execution_count": 112,
   "metadata": {},
   "outputs": [],
   "source": [
    "# Creo las columnas para los segmentos\n",
    "tcg['Benefit'] = tcg['Campaign'].apply(lambda x: filtros(x,'BENEFICIOS'))\n",
    "tcg['Type'] = tcg['Campaign'].apply(lambda x: filtros(x,'TIPOS'))\n",
    "tcg['Segment'] = tcg['Campaign'].apply(lambda x: filtros(x,'SEGMENTOS'))\n",
    "tcg['Level'] = tcg['Campaign'].apply(lambda x: filtros(x,'NIVELES'))\n",
    "tcg['Campaña'] = tcg['Campaign'].apply(lambda x: filtros(x,'CAMPAIGNS'))\n",
    "tcg['Automated'] = tcg['Campaign'].apply(lambda x: filtros(x,'AUTOMATIONS'))\n",
    "tcg['Budget'] = tcg['Campaign'].apply(lambda x: filtros(x,'BUDGET'))\n",
    "tcg['Trial'] = tcg['Campaign'].apply(lambda x: filtros(x,'TRIAL'))\n",
    "# Coloco el IVA\n",
    "tcg = func_iva(tcg)\n",
    "# Marco las campañas a filtrar\n",
    "tcg['Filtrar'] = tcg['Campaign'].apply(filtrar_cam)\n",
    "tcg = tcg[tcg['Filtrar'] == 'No'].copy()\n",
    "# Saco el IVA\n",
    "used = 'Used_Amount_Confirmed_USD'\n",
    "used_iva = 'Used_Amount_Confirmed_USD_Shopper'\n",
    "tcg['Amount_Final'] = tcg[used_iva] / (1 + tcg['IVA']) * tcg['Extra'] + tcg[used]"
   ]
  },
  {
   "cell_type": "code",
   "execution_count": 93,
   "metadata": {},
   "outputs": [],
   "source": [
    "# Creo una PT con los gastos Generales\n",
    "index = ['Month','Country','Budget','Type','Segment']\n",
    "values = ['Redeemed_Confirmed','Acquisitions','Amount_Final']\n",
    "final_tc = tc.pivot_table(index=index,values=values,aggfunc='sum',fill_value=0).reset_index().copy()\n",
    "final_tc.sort_values(['Country','Month','Budget','Type','Segment'],inplace=True)"
   ]
  },
  {
   "cell_type": "code",
   "execution_count": 115,
   "metadata": {},
   "outputs": [],
   "source": [
    "# Creo una PT con los gastos de Glovo\n",
    "index = ['Month','Country','Budget','Type','Segment']\n",
    "values = ['Redeemed_Confirmed','Acq','Amount_Final']\n",
    "final_tcg = tcg.pivot_table(index=index,values=values,aggfunc='sum',fill_value=0).reset_index().copy()\n",
    "final_tcg.sort_values(['Country','Month','Budget','Type','Segment'],inplace=True)"
   ]
  },
  {
   "cell_type": "markdown",
   "metadata": {},
   "source": [
    "### CARGA"
   ]
  },
  {
   "cell_type": "code",
   "execution_count": 116,
   "metadata": {},
   "outputs": [
    {
     "name": "stdout",
     "output_type": "stream",
     "text": [
      "Carga Correcta!\n"
     ]
    }
   ],
   "source": [
    "carga(final_tcg,'15ahfbUgf3HQzvJemHcq0-F2WBnad9V_NkcIxKmJWVrY','Gasto Paises CRM Glovo')"
   ]
  },
  {
   "cell_type": "code",
   "execution_count": 96,
   "metadata": {},
   "outputs": [
    {
     "name": "stdout",
     "output_type": "stream",
     "text": [
      "Carga Correcta!\n"
     ]
    }
   ],
   "source": [
    "carga(final_tc,'15ahfbUgf3HQzvJemHcq0-F2WBnad9V_NkcIxKmJWVrY','Gasto Paises CRM')"
   ]
  },
  {
   "cell_type": "code",
   "execution_count": 36,
   "metadata": {},
   "outputs": [
    {
     "name": "stdout",
     "output_type": "stream",
     "text": [
      "Carga Correcta!\n"
     ]
    }
   ],
   "source": [
    "carga(final,'15ahfbUgf3HQzvJemHcq0-F2WBnad9V_NkcIxKmJWVrY','Crudo')"
   ]
  }
 ],
 "metadata": {
  "kernelspec": {
   "display_name": "Python 3",
   "language": "python",
   "name": "python3"
  },
  "language_info": {
   "codemirror_mode": {
    "name": "ipython",
    "version": 3
   },
   "file_extension": ".py",
   "mimetype": "text/x-python",
   "name": "python",
   "nbconvert_exporter": "python",
   "pygments_lexer": "ipython3",
   "version": "3.7.6"
  }
 },
 "nbformat": 4,
 "nbformat_minor": 4
}
