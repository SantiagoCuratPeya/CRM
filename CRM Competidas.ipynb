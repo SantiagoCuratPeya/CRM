{
 "cells": [
  {
   "cell_type": "markdown",
   "metadata": {},
   "source": [
    "### IMPORTS"
   ]
  },
  {
   "cell_type": "code",
   "execution_count": 1,
   "metadata": {},
   "outputs": [],
   "source": [
    "import pandas as pd\n",
    "import numpy as np\n",
    "import pandas_gbq\n",
    "import datetime\n",
    "from dateutil.relativedelta import relativedelta\n",
    "from gspread_pandas import Spread, conf"
   ]
  },
  {
   "cell_type": "markdown",
   "metadata": {},
   "source": [
    "### CREDENCIALES"
   ]
  },
  {
   "cell_type": "code",
   "execution_count": 2,
   "metadata": {},
   "outputs": [],
   "source": [
    "cred = conf.get_config('C:\\\\Users\\\\santiago.curat\\\\Pandas\\\\PEYA', 'PedidosYa-8b8c4d19f61c.json')"
   ]
  },
  {
   "cell_type": "markdown",
   "metadata": {},
   "source": [
    "### GOOGLE SHEETS"
   ]
  },
  {
   "cell_type": "code",
   "execution_count": 100,
   "metadata": {},
   "outputs": [],
   "source": [
    "# Ciudades Argentina\n",
    "sheet_id = '1DZfQAfKlt-9MrTBQ65NhVSMPW8CQd1An_teq-RjQRtM'\n",
    "wks_name = 'Argentina'\n",
    "sheet = Spread(sheet_id, wks_name, config=cred)\n",
    "city_arg = sheet.sheet_to_df(index=0,header_rows=1)"
   ]
  },
  {
   "cell_type": "code",
   "execution_count": 101,
   "metadata": {},
   "outputs": [],
   "source": [
    "# Ciudades Chile\n",
    "sheet_id = '1DZfQAfKlt-9MrTBQ65NhVSMPW8CQd1An_teq-RjQRtM'\n",
    "wks_name = 'Chile'\n",
    "sheet = Spread(sheet_id, wks_name, config=cred)\n",
    "city_ch = sheet.sheet_to_df(index=0,header_rows=1)"
   ]
  },
  {
   "cell_type": "code",
   "execution_count": 102,
   "metadata": {},
   "outputs": [],
   "source": [
    "# Concateno ambas listas\n",
    "competition = pd.concat([city_arg,city_ch],ignore_index=True)\n",
    "# Doy formato a las columnas\n",
    "competition['City_Final'] = competition['City_Final'].str.upper()"
   ]
  },
  {
   "cell_type": "markdown",
   "metadata": {},
   "source": [
    "### CONSTANTES"
   ]
  },
  {
   "cell_type": "code",
   "execution_count": 91,
   "metadata": {},
   "outputs": [],
   "source": [
    "inicio = '2021-04-01'"
   ]
  },
  {
   "cell_type": "markdown",
   "metadata": {},
   "source": [
    "### QUERIES"
   ]
  },
  {
   "cell_type": "code",
   "execution_count": 118,
   "metadata": {},
   "outputs": [],
   "source": [
    "q_orders = '''SELECT cn.country_name AS Country,\n",
    "       IFNULL(c.city_name,'-') AS City,\n",
    "       IFNULL(a.area_name,'-') AS Area,\n",
    "       CASE WHEN c.city_name = 'Buenos Aires' THEN IFNULL(a.area_name,'-') ELSE IFNULL(c.city_name,'-') END AS City_Final,\n",
    "       FORMAT_DATE('%Y-%m',o.registered_date) AS Month,\n",
    "       IFNULL(dt.discount_type_name,'-') AS Discount_Type,\n",
    "       IFNULL(od.discount_paid_by,'-') AS Paid_By,\n",
    "       COUNT(DISTINCT o.order_id) AS Confirmed,\n",
    "       ROUND(IFNULL(SUM(od.discount_amount / ce.rate_us),0),2) AS Amount\n",
    "FROM `peya-bi-tools-pro.il_core.fact_orders` AS o,\n",
    "UNNEST (discounts) AS od\n",
    "LEFT JOIN `peya-bi-tools-pro.il_core.dim_discount_type` AS dt ON od.discount_type_id = dt.discount_type_id\n",
    "LEFT JOIN `peya-bi-tools-pro.il_core.dim_country` AS cn ON o.country_id = cn.country_id\n",
    "LEFT JOIN `peya-bi-tools-pro.il_core.dim_city` AS c ON o.city.city_id = c.city_id\n",
    "LEFT JOIN `peya-bi-tools-pro.il_core.dim_area` AS a ON o.address.area.id = a.area_id\n",
    "LEFT JOIN `peya-bi-tools-pro.il_core.dim_currency_exchange` AS ce ON cn.currency_id = ce.currency_id AND DATE_TRUNC(o.registered_date,month) = ce.currency_exchange_date\n",
    "WHERE o.registered_date >= DATE('{0}')\n",
    "      AND o.order_status = 'CONFIRMED'\n",
    "      AND cn.country_name IN ('Argentina','Chile')\n",
    "      AND dt.discount_type_name IS NOT NULL\n",
    "GROUP BY 1,2,3,4,5,6,7\n",
    "ORDER BY 1,2,3,4,5,6,7 DESC'''.format(inicio)"
   ]
  },
  {
   "cell_type": "code",
   "execution_count": 119,
   "metadata": {},
   "outputs": [
    {
     "name": "stderr",
     "output_type": "stream",
     "text": [
      "Downloading: 100%|███████████████████████████████████████████████████████████| 31367/31367 [00:04<00:00, 7430.57rows/s]\n"
     ]
    }
   ],
   "source": [
    "# Descargo la data\n",
    "bq_orders = pd.io.gbq.read_gbq(q_orders, project_id='peya-argentina', dialect='standard')"
   ]
  },
  {
   "cell_type": "code",
   "execution_count": 134,
   "metadata": {},
   "outputs": [],
   "source": [
    "# Copio las bases\n",
    "orders = bq_orders.copy()"
   ]
  },
  {
   "cell_type": "markdown",
   "metadata": {},
   "source": [
    "### TRABAJO"
   ]
  },
  {
   "cell_type": "code",
   "execution_count": 135,
   "metadata": {},
   "outputs": [],
   "source": [
    "# Doy formato a las columnas\n",
    "strings = ['Country','City','Area','City_Final','Month','Discount_Type','Paid_By']\n",
    "cols = [i for i in orders.columns if i not in strings]\n",
    "orders[cols] = orders[cols].astype(float)"
   ]
  },
  {
   "cell_type": "code",
   "execution_count": 136,
   "metadata": {},
   "outputs": [],
   "source": [
    "# Mando City a mayusculas para el merge\n",
    "orders['City'] = orders['City'].str.upper()\n",
    "orders['Area'] = orders['Area'].str.upper()\n",
    "orders['City_Final'] = orders['City_Final'].str.upper()\n",
    "# Coloco el nivel de competicion\n",
    "orders = orders.merge(competition,on=['City_Final'],how='left')\n",
    "orders.replace([np.nan,np.inf,-np.inf],'-',inplace=True)\n",
    "# Creo la columna de cruce\n",
    "orders['Cruce'] = orders['City']+'-'+orders['Area']"
   ]
  },
  {
   "cell_type": "code",
   "execution_count": 138,
   "metadata": {},
   "outputs": [],
   "source": [
    "# Creo un crudo general por pais\n",
    "index = ['Month','Country','Discount_Type','Paid_By']\n",
    "values = ['Confirmed','Amount']\n",
    "country = orders.pivot_table(index=index,values=values,aggfunc='sum',fill_value=0).reset_index()"
   ]
  },
  {
   "cell_type": "code",
   "execution_count": 139,
   "metadata": {},
   "outputs": [],
   "source": [
    "# Ordeno las tablas\n",
    "orders.sort_values(by=['Month','Country','City','Area','City_Final'],ascending=True,inplace=True)\n",
    "country.sort_values(by=['Month','Country'],ascending=True,inplace=True)"
   ]
  },
  {
   "cell_type": "markdown",
   "metadata": {},
   "source": [
    "### CARGA"
   ]
  },
  {
   "cell_type": "code",
   "execution_count": 130,
   "metadata": {},
   "outputs": [],
   "source": [
    "# Carga Crudo\n",
    "sheet_id = '1GCdaSnPWJj7nrBruw62tNTVrmJ6JPLy2AxGrCdp1Vd0'\n",
    "wks_name = 'Crudo Country'\n",
    "sheet = Spread(sheet_id, wks_name, config=cred)\n",
    "sheet.df_to_sheet(country, index=False, sheet=wks_name, replace=True)"
   ]
  },
  {
   "cell_type": "code",
   "execution_count": 140,
   "metadata": {},
   "outputs": [],
   "source": [
    "# Carga Crudo Ciudades\n",
    "sheet_id = '1GCdaSnPWJj7nrBruw62tNTVrmJ6JPLy2AxGrCdp1Vd0'\n",
    "wks_name = 'Crudo Ciudades'\n",
    "sheet = Spread(sheet_id, wks_name, config=cred)\n",
    "sheet.df_to_sheet(orders, index=False, sheet=wks_name, replace=True)"
   ]
  }
 ],
 "metadata": {
  "kernelspec": {
   "display_name": "Python 3",
   "language": "python",
   "name": "python3"
  },
  "language_info": {
   "codemirror_mode": {
    "name": "ipython",
    "version": 3
   },
   "file_extension": ".py",
   "mimetype": "text/x-python",
   "name": "python",
   "nbconvert_exporter": "python",
   "pygments_lexer": "ipython3",
   "version": "3.7.6"
  }
 },
 "nbformat": 4,
 "nbformat_minor": 4
}
