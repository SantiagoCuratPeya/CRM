{
 "cells": [
  {
   "cell_type": "markdown",
   "metadata": {},
   "source": [
    "### IMPORTS"
   ]
  },
  {
   "cell_type": "code",
   "execution_count": 1,
   "metadata": {},
   "outputs": [],
   "source": [
    "import sys, os\n",
    "sys.path.append(os.path.join(sys.path[0],'Pythons'))"
   ]
  },
  {
   "cell_type": "code",
   "execution_count": 2,
   "metadata": {},
   "outputs": [],
   "source": [
    "from Carga_Descarga import *\n",
    "from CRM_Central import *"
   ]
  },
  {
   "cell_type": "markdown",
   "metadata": {},
   "source": [
    "### CONSTANTES"
   ]
  },
  {
   "cell_type": "code",
   "execution_count": 3,
   "metadata": {},
   "outputs": [],
   "source": [
    "# Fechas\n",
    "today = datetime.date.today()\n",
    "if today.day == 1:\n",
    "    ftm = str(today - relativedelta(days=1))\n",
    "    itm = str((today - relativedelta(days=1)).replace(day=1))\n",
    "    flm = str((today - relativedelta(days=1)).replace(day=1) - relativedelta(days=1))\n",
    "    ilm = str(((today - relativedelta(days=1)).replace(day=1) - relativedelta(days=1)).replace(day=1))\n",
    "else:\n",
    "    itm = str(today.replace(day=1))\n",
    "    ftm = str(today + relativedelta(months=1) - relativedelta(days=(today + relativedelta(months=1)).day))\n",
    "    flm = str(today.replace(day=1) - relativedelta(days=1))\n",
    "    ilm = str((today.replace(day=1) - relativedelta(days=1)).replace(day=1))"
   ]
  },
  {
   "cell_type": "code",
   "execution_count": 4,
   "metadata": {},
   "outputs": [],
   "source": [
    "# Me traigo el rr\n",
    "rr = func_rr()"
   ]
  },
  {
   "cell_type": "markdown",
   "metadata": {},
   "source": [
    "### QUERIES"
   ]
  },
  {
   "cell_type": "code",
   "execution_count": 5,
   "metadata": {},
   "outputs": [],
   "source": [
    "q_ord = '''SELECT cn.country_name AS Country,\n",
    "       COUNT(DISTINCT o.order_id) AS Orders,\n",
    "       COUNT(DISTINCT CASE WHEN o.is_acquisition = 1 THEN o.order_id ELSE NULL END) AS Acq,\n",
    "       COUNT(DISTINCT o.user.id) AS Active_Users,\n",
    "FROM `peya-bi-tools-pro.il_core.fact_orders` AS o\n",
    "LEFT JOIN `peya-bi-tools-pro.il_core.dim_country` AS cn ON o.country_id = cn.country_id\n",
    "WHERE o.registered_date BETWEEN DATE('{0}') AND DATE('{1}')\n",
    "      AND o.order_status = 'CONFIRMED'\n",
    "GROUP BY 1'''.format(itm,ftm)\n",
    "\n",
    "q_m1 = '''WITH users_table AS (\n",
    "    SELECT cn.country_name AS country,\n",
    "           o.user.id AS user,\n",
    "           SUM(o.is_acquisition) AS acq\n",
    "    FROM `peya-bi-tools-pro.il_core.fact_orders` AS o\n",
    "    LEFT JOIN `peya-bi-tools-pro.il_core.dim_country` AS cn ON o.country_id = cn.country_id\n",
    "    WHERE o.registered_date BETWEEN DATE('{2}') AND DATE('{3}')\n",
    "          AND o.order_status = 'CONFIRMED'\n",
    "    GROUP BY 1,2),\n",
    "    reorder_table AS (\n",
    "    SELECT ut.country AS country,\n",
    "           ut.user AS user,\n",
    "           ut.acq AS acq\n",
    "    FROM `peya-bi-tools-pro.il_core.fact_orders` AS o \n",
    "    INNER JOIN users_table AS ut ON o.user.id = ut.user\n",
    "    WHERE o.registered_date BETWEEN DATE('{0}') AND DATE('{1}')\n",
    "          AND o.order_status = 'CONFIRMED'\n",
    "    GROUP BY 1,2,3)\n",
    "SELECT ut.country AS Country,\n",
    "       COUNT(DISTINCT CASE WHEN ut.acq > 0 THEN ut.user ELSE NULL END) AS Acq_LM,\n",
    "       COUNT(DISTINCT CASE WHEN ut.acq = 0 THEN ut.user ELSE NULL END) AS Active_LM,\n",
    "       COUNT(DISTINCT CASE WHEN ut.acq > 0 THEN rt.user ELSE NULL END) AS Acq_Reorder,\n",
    "       COUNT(DISTINCT CASE WHEN ut.acq = 0 THEN rt.user ELSE NULL END) AS Active_Reorder\n",
    "FROM users_table AS ut\n",
    "LEFT JOIN reorder_table AS rt ON ut.country = rt.country AND ut.user = rt.user\n",
    "GROUP BY 1'''.format(itm,ftm,ilm,flm)\n",
    "\n",
    "q_trials = '''WITH orders_table AS (\n",
    "    SELECT o.user.id AS user,\n",
    "           o.registered_date AS fecha,\n",
    "           bt.business_type_name AS business,\n",
    "           CASE WHEN o.is_acquisition = 1 THEN TRUE ELSE FALSE END AS acq,\n",
    "           cn.country_name AS country\n",
    "    FROM `peya-bi-tools-pro.il_core.fact_orders` AS o \n",
    "    LEFT JOIN `peya-bi-tools-pro.il_core.dim_business_type` AS bt ON o.business_type_id = bt.business_type_id\n",
    "    LEFT JOIN `peya-bi-tools-pro.il_core.dim_country` AS cn ON o.country_id = cn.country_id\n",
    "    WHERE o.registered_date < CURRENT_DATE()\n",
    "          AND o.order_status = 'CONFIRMED'),\n",
    "    qc_table AS (\n",
    "    SELECT ot.user AS user,\n",
    "           ot.business AS business,\n",
    "           ot.country AS country,\n",
    "           ot.acq AS acq,\n",
    "    FROM orders_table AS ot\n",
    "    WHERE ot.business NOT IN ('Restaurant','Coffee','Courier','Courier Business')\n",
    "          AND ot.fecha BETWEEN DATE('{0}') AND DATE('{1}')),\n",
    "    history_table AS (\n",
    "    SELECT ot.user AS user,\n",
    "           ot.country AS country,\n",
    "           SUM(CASE WHEN ot.business NOT IN ('Restaurant','Coffee','Courier','Courier Business') THEN 1 ELSE 0 END) AS qc\n",
    "    FROM orders_table AS ot\n",
    "    WHERE ot.fecha < DATE('{0}')\n",
    "          OR ot.acq\n",
    "    GROUP BY 1,2)\n",
    "SELECT qct.country AS Country,\n",
    "       COUNT(DISTINCT qct.user) AS Active_CQ,\n",
    "       COUNT(DISTINCT CASE WHEN qct.acq = FALSE AND (ht.qc = 0 OR ht.qc IS NULL) THEN qct.user ELSE NULL END) AS Adq_QC\n",
    "FROM qc_table AS qct\n",
    "LEFT JOIN history_table AS ht ON qct.user = ht.user AND qct.country = ht.country\n",
    "GROUP BY 1\n",
    "ORDER BY 1'''.format(itm,ftm)\n",
    "\n",
    "q_desired = '''WITH orders_table AS (\n",
    "    SELECT o.registered_date AS fecha,\n",
    "           cn.country_name AS country,\n",
    "           o.order_id AS order_id,\n",
    "           o.user.id AS user,\n",
    "           IFNULL(o.shipping_amount_no_discount + o.amount_no_discount,0) AS total_paid,\n",
    "           SUM(IFNULL(od.discount_amount,0)) AS total_disc\n",
    "    FROM `peya-bi-tools-pro.il_core.fact_orders` AS o,\n",
    "    UNNEST(discounts) AS od\n",
    "    LEFT JOIN `peya-bi-tools-pro.il_core.dim_country` AS cn ON o.country_id = cn.country_id\n",
    "    WHERE o.registered_date BETWEEN DATE_TRUNC(DATE_ADD(CURRENT_DATE(),INTERVAL -6 MONTH),MONTH) AND LAST_DAY(DATE_ADD(CURRENT_DATE(),INTERVAL -1 MONTH))\n",
    "          AND o.order_status = 'CONFIRMED'\n",
    "    GROUP BY 1,2,3,4,5),\n",
    "    users_table AS (\n",
    "    SELECT ot.user AS user,\n",
    "           ot.country AS country,\n",
    "           COUNT(DISTINCT ot.order_id) AS orders,\n",
    "           SAFE_DIVIDE(SUM(ot.total_disc),SUM(total_paid)) AS adr,\n",
    "           MAX(ot.fecha) AS last_order,\n",
    "           CASE WHEN MAX(ot.fecha) <= LAST_DAY(DATE_ADD(CURRENT_DATE(),INTERVAL -2 MONTH)) AND SAFE_DIVIDE(SUM(ot.total_disc),SUM(total_paid)) < 0.3 THEN 'Si' ELSE 'No' END AS desired\n",
    "    FROM orders_table AS ot\n",
    "    GROUP BY 1,2),\n",
    "    returns_table AS (\n",
    "    SELECT cn.country_name AS country,\n",
    "           ut.user AS user,\n",
    "           COUNT(DISTINCT o.order_id) AS orders\n",
    "    FROM `peya-bi-tools-pro.il_core.fact_orders` AS o\n",
    "    LEFT JOIN `peya-bi-tools-pro.il_core.dim_country` AS cn ON o.country_id = cn.country_id\n",
    "    INNER JOIN users_table AS ut ON o.user.id = ut.user\n",
    "    WHERE o.registered_date BETWEEN DATE_TRUNC(CURRENT_DATE(),MONTH) AND LAST_DAY(CURRENT_DATE())\n",
    "          AND o.order_status = 'CONFIRMED'\n",
    "          AND ut.desired = 'Si'\n",
    "    GROUP BY 1,2)\n",
    "SELECT ut.country AS Country,\n",
    "       COUNT(DISTINCT ut.user) AS Desired,\n",
    "       COUNT(DISTINCT rt.user) AS Return_Desired,\n",
    "       SUM(rt.orders) AS Return_Desired_Orders\n",
    "FROM users_table AS ut\n",
    "LEFT JOIN returns_table AS rt ON ut.user = rt.user AND ut.country = rt.country\n",
    "WHERE ut.desired = 'Si'\n",
    "GROUP BY 1'''\n",
    "\n",
    "q_crm = '''WITH wallet_table AS (\n",
    "    SELECT DISTINCT wa.order_id AS order_id,\n",
    "           d.campaignCode AS campaign,\n",
    "           d.amount AS amount\n",
    "    FROM `peya-bi-tools-pro.il_wallet.fact_wallet_attributions` AS wa,\n",
    "    UNNEST (attributionDetails) AS d\n",
    "    WHERE wa.operation = 'Purchase'),\n",
    "    wc_table AS (\n",
    "    SELECT cn.country_name AS country,\n",
    "           o.registered_date AS fecha,\n",
    "           wa.campaign AS campaign,\n",
    "           COUNT(DISTINCT o.order_id) AS orders,\n",
    "           COUNT(DISTINCT CASE WHEN o.is_acquisition = 1 THEN o.order_id ELSE NULL END) AS acq,\n",
    "           SUM(CASE WHEN bi.payment_mode = 'TOTAL_AMOUNT' THEN wa.amount / ce.rate_us ELSE 0 END) AS amount,\n",
    "           SUM(CASE WHEN bi.payment_mode != 'TOTAL_AMOUNT' THEN wa.amount / ce.rate_us ELSE 0 END) AS amount_shopper\n",
    "    FROM `peya-bi-tools-pro.il_core.fact_orders` AS o\n",
    "    INNER JOIN `peya-bi-tools-pro.il_core.fact_order_funding` AS w ON o.order_id = w.order_id AND w.type IN (25,35)\n",
    "    LEFT JOIN `peya-bi-tools-pro.il_core.dim_partner` AS p ON o.restaurant.id = p.partner_id\n",
    "    LEFT JOIN `peya-bi-tools-pro.il_core.dim_billing_info` AS bi ON p.billingInfo.billing_info_id = bi.billing_info_id\n",
    "    LEFT JOIN wallet_table AS wa ON o.order_id = wa.order_id\n",
    "    LEFT JOIN `peya-bi-tools-pro.il_core.dim_country` AS cn ON o.country_id = cn.country_id\n",
    "    LEFT JOIN `peya-bi-tools-pro.il_core.dim_currency_exchange` AS ce ON cn.currency_id = ce.currency_id AND DATE_TRUNC(o.registered_date,MONTH) = ce.currency_exchange_date\n",
    "    WHERE o.registered_date BETWEEN DATE('{0}') AND DATE('{1}')\n",
    "          AND o.order_status = 'CONFIRMED'\n",
    "    GROUP BY 1,2,3)\n",
    "SELECT wct.country AS Country,\n",
    "       wct.campaign AS Campaign,\n",
    "       'WALLET' AS Benefit,\n",
    "       SUM(wct.orders) AS Orders_CRM,\n",
    "       SUM(wct.acq) AS Acq_CRM,\n",
    "       SUM(wct.amount) AS Amount,\n",
    "       SUM(wct.amount_shopper) AS Amount_Shopper\n",
    "FROM wc_table AS wct\n",
    "GROUP BY 1,2\n",
    "\n",
    "UNION ALL\n",
    "\n",
    "SELECT cn.country_name AS Country,\n",
    "       tca.talon_campaign_name AS Campaign,\n",
    "       'TALON COUPON' AS Benefit,\n",
    "       COUNT(DISTINCT o.order_id) AS Orders_CRM,\n",
    "       COUNT(DISTINCT CASE WHEN o.is_acquisition = 1 THEN o.order_id ELSE NULL END) AS Acq_CRM,\n",
    "       SUM(CASE WHEN bi.payment_mode = 'TOTAL_AMOUNT' THEN tc.coupon_used_amount / ce.rate_us ELSE 0 END) AS Amount,\n",
    "       SUM(CASE WHEN bi.payment_mode != 'TOTAL_AMOUNT' THEN tc.coupon_used_amount / ce.rate_us ELSE 0 END) AS Amount_Shopper\n",
    "FROM `peya-bi-tools-pro.il_core.fact_orders` AS o\n",
    "INNER JOIN `peya-bi-tools-pro.il_growth.fact_talon_coupons` AS tc ON o.order_id = tc.order_id\n",
    "LEFT JOIN `peya-bi-tools-pro.il_growth.dim_talon_campaigns` AS tca ON tc.talon_campaign_id = tca.talon_campaign_id\n",
    "LEFT JOIN `peya-bi-tools-pro.il_core.dim_country` AS cn ON o.country_id = cn.country_id\n",
    "LEFT JOIN `peya-bi-tools-pro.il_core.dim_currency_exchange` AS ce ON cn.currency_id = ce.currency_id AND DATE_TRUNC(o.registered_date,MONTH) = ce.currency_exchange_date\n",
    "LEFT JOIN `peya-bi-tools-pro.il_core.dim_partner` AS p ON o.restaurant.id = p.partner_id\n",
    "LEFT JOIN `peya-bi-tools-pro.il_core.dim_billing_info` AS bi ON p.billingInfo.billing_info_id = bi.billing_info_id\n",
    "WHERE o.registered_date BETWEEN DATE('{0}') AND DATE('{1}')\n",
    "      AND o.order_status = 'CONFIRMED'\n",
    "GROUP BY 1,2'''.format(itm,ftm)\n",
    "\n",
    "q_react = '''WITH orders_table AS (\n",
    "    SELECT o.registered_date AS fecha,\n",
    "           cn.country_name AS country,\n",
    "           o.order_id AS order_id,\n",
    "           o.user.id AS user\n",
    "    FROM `peya-bi-tools-pro.il_core.fact_orders` AS o,\n",
    "    UNNEST(discounts) AS od\n",
    "    LEFT JOIN `peya-bi-tools-pro.il_core.dim_country` AS cn ON o.country_id = cn.country_id\n",
    "    WHERE o.registered_date <= CURRENT_DATE()\n",
    "          AND o.order_status = 'CONFIRMED'),\n",
    "    users_table AS (\n",
    "    SELECT ot.user AS user,\n",
    "           ot.country AS country,\n",
    "           COUNT(DISTINCT ot.order_id) AS orders,\n",
    "           MAX(ot.fecha) AS last_order,\n",
    "           CASE WHEN MAX(ot.fecha) <= LAST_DAY(DATE_ADD(CURRENT_DATE(),INTERVAL -2 MONTH)) THEN 'Si' ELSE 'No' END AS reactivate\n",
    "    FROM orders_table AS ot\n",
    "    WHERE ot.fecha <= LAST_DAY(DATE_ADD(CURRENT_DATE(),INTERVAL -1 MONTH))\n",
    "    GROUP BY 1,2),\n",
    "    returns_table AS (\n",
    "    SELECT ot.country AS country,\n",
    "           ut.user AS user,\n",
    "           COUNT(DISTINCT ot.order_id) AS orders\n",
    "    FROM orders_table AS ot\n",
    "    INNER JOIN users_table AS ut ON ot.user = ut.user\n",
    "    WHERE ot.fecha BETWEEN DATE_TRUNC(CURRENT_DATE(),MONTH) AND LAST_DAY(CURRENT_DATE())\n",
    "          AND ut.reactivate = 'Si'\n",
    "    GROUP BY 1,2)\n",
    "SELECT ut.country AS Country,\n",
    "       COUNT(DISTINCT ut.user) AS Reactivated,\n",
    "       COUNT(DISTINCT rt.user) AS Return_Reactivated,\n",
    "       SUM(rt.orders) AS Return_Reactivated_Orders\n",
    "FROM users_table AS ut\n",
    "LEFT JOIN returns_table AS rt ON ut.user = rt.user AND ut.country = rt.country\n",
    "WHERE ut.reactivate = 'Si'\n",
    "GROUP BY 1'''"
   ]
  },
  {
   "cell_type": "code",
   "execution_count": 6,
   "metadata": {},
   "outputs": [
    {
     "name": "stderr",
     "output_type": "stream",
     "text": [
      "Downloading: 100%|███████████████████████████████████████████████████████████████████| 15/15 [00:00<00:00, 43.04rows/s]\n"
     ]
    }
   ],
   "source": [
    "# Descargo la data\n",
    "bq_ord = pd.io.gbq.read_gbq(q_ord, project_id='peya-argentina', dialect='standard')"
   ]
  },
  {
   "cell_type": "code",
   "execution_count": 7,
   "metadata": {},
   "outputs": [
    {
     "name": "stderr",
     "output_type": "stream",
     "text": [
      "Downloading: 100%|███████████████████████████████████████████████████████████████████| 15/15 [00:00<00:00, 24.83rows/s]\n"
     ]
    }
   ],
   "source": [
    "bq_m1 = pd.io.gbq.read_gbq(q_m1, project_id='peya-argentina', dialect='standard')"
   ]
  },
  {
   "cell_type": "code",
   "execution_count": 8,
   "metadata": {},
   "outputs": [
    {
     "name": "stderr",
     "output_type": "stream",
     "text": [
      "Downloading: 100%|███████████████████████████████████████████████████████████████████| 15/15 [00:00<00:00, 41.97rows/s]\n"
     ]
    }
   ],
   "source": [
    "bq_trials = pd.io.gbq.read_gbq(q_trials, project_id='peya-argentina', dialect='standard')"
   ]
  },
  {
   "cell_type": "code",
   "execution_count": 9,
   "metadata": {},
   "outputs": [
    {
     "name": "stderr",
     "output_type": "stream",
     "text": [
      "Downloading: 100%|███████████████████████████████████████████████████████████████████| 16/16 [00:00<00:00, 49.20rows/s]\n"
     ]
    }
   ],
   "source": [
    "bq_desired = pd.io.gbq.read_gbq(q_desired, project_id='peya-argentina', dialect='standard')"
   ]
  },
  {
   "cell_type": "code",
   "execution_count": 10,
   "metadata": {},
   "outputs": [
    {
     "name": "stderr",
     "output_type": "stream",
     "text": [
      "Downloading: 100%|███████████████████████████████████████████████████████████| 32608/32608 [00:03<00:00, 8215.29rows/s]\n"
     ]
    }
   ],
   "source": [
    "bq_crm = pd.io.gbq.read_gbq(q_crm, project_id='peya-argentina', dialect='standard')"
   ]
  },
  {
   "cell_type": "code",
   "execution_count": 11,
   "metadata": {},
   "outputs": [
    {
     "name": "stderr",
     "output_type": "stream",
     "text": [
      "Downloading: 100%|███████████████████████████████████████████████████████████████████| 17/17 [00:00<00:00, 43.07rows/s]\n"
     ]
    }
   ],
   "source": [
    "bq_react = pd.io.gbq.read_gbq(q_react, project_id='peya-argentina', dialect='standard')"
   ]
  },
  {
   "cell_type": "code",
   "execution_count": 12,
   "metadata": {},
   "outputs": [],
   "source": [
    "# Copio la data\n",
    "orders = bq_ord.copy()\n",
    "m1 = bq_m1.copy()\n",
    "trials = bq_trials.copy()\n",
    "desired = bq_desired.copy()\n",
    "crm = bq_crm.copy()\n",
    "react = bq_react.copy()"
   ]
  },
  {
   "cell_type": "markdown",
   "metadata": {},
   "source": [
    "### TRABAJO"
   ]
  },
  {
   "cell_type": "code",
   "execution_count": 13,
   "metadata": {},
   "outputs": [],
   "source": [
    "# Trabajo Orders\n",
    "val = [i for i in orders.columns if i not in ['Country']]\n",
    "orders[val] = orders[val].astype(float)\n",
    "col = ['Country']\n",
    "orders[col] = orders[col].apply(lambda x: x.astype(str).str.upper())\n",
    "# Trabajo M1\n",
    "val = [i for i in m1.columns if i not in ['Country']]\n",
    "m1[val] = m1[val].astype(float)\n",
    "col = ['Country']\n",
    "m1[col] = m1[col].apply(lambda x: x.astype(str).str.upper())\n",
    "# Trabajo Trials\n",
    "val = [i for i in trials.columns if i not in ['Country']]\n",
    "trials[val] = trials[val].astype(float)\n",
    "col = ['Country']\n",
    "trials[col] = trials[col].apply(lambda x: x.astype(str).str.upper())\n",
    "# Trabajo Desired\n",
    "val = [i for i in desired.columns if i not in ['Country']]\n",
    "desired[val] = desired[val].astype(float)\n",
    "col = ['Country']\n",
    "desired[col] = desired[col].apply(lambda x: x.astype(str).str.upper())\n",
    "# Trabajo CRM\n",
    "val = [i for i in crm.columns if i not in ['Country','Campaign','Benefit']]\n",
    "crm[val] = crm[val].astype(float)\n",
    "col = ['Country','Campaign','Benefit']\n",
    "crm[col] = crm[col].apply(lambda x: x.astype(str).str.upper())\n",
    "crm['Campaign'] = crm['Campaign'].str.replace(' ', '')\n",
    "# Trabajo React\n",
    "val = [i for i in react.columns if i not in ['Country']]\n",
    "react[val] = react[val].astype(float)\n",
    "col = ['Country']\n",
    "react[col] = react[col].apply(lambda x: x.astype(str).str.upper())"
   ]
  },
  {
   "cell_type": "code",
   "execution_count": 14,
   "metadata": {},
   "outputs": [],
   "source": [
    "# Trabajo CRM\n",
    "crm['Type'] = crm.apply(lambda x: filtros(x['Campaign'],'TIPOS',x['Benefit']),axis=1)\n",
    "crm['Segment'] = crm['Campaign'].apply(lambda x: filtros(x,'SEGMENTOS'))\n",
    "crm['Level'] = crm['Campaign'].apply(lambda x: filtros(x,'NIVELES'))\n",
    "crm['Campaña'] = crm['Campaign'].apply(lambda x: filtros(x,'CAMPAIGNS'))\n",
    "crm['Automated'] = crm['Campaign'].apply(lambda x: filtros(x,'AUTOMATIONS'))\n",
    "crm['Budget'] = crm['Campaign'].apply(lambda x: filtros(x,'BUDGET'))\n",
    "crm['Trial'] = crm['Campaign'].apply(lambda x: filtros(x,'TRIAL'))\n",
    "# Coloco el IVA\n",
    "crm = func_iva(crm)\n",
    "# Marco las campañas a filtrar\n",
    "crm['Filtrar'] = crm['Campaign'].apply(filtrar_cam)\n",
    "crm = crm[crm['Filtrar'] == 'No'].copy()\n",
    "# Saco el IVA\n",
    "used = 'Amount'\n",
    "used_shopper = 'Amount_Shopper'\n",
    "crm['Final'] = crm[used_shopper] / (1 + crm['IVA']) * crm['Extra'] + crm[used]"
   ]
  },
  {
   "cell_type": "code",
   "execution_count": 15,
   "metadata": {},
   "outputs": [],
   "source": [
    "# Hago una PT de CRM\n",
    "index = ['Country','Type','Budget','Trial']\n",
    "values = ['Orders_CRM','Acq_CRM','Final']\n",
    "final_crm = crm.pivot_table(index=index,values=values,aggfunc='sum',fill_value=0).reset_index()"
   ]
  },
  {
   "cell_type": "code",
   "execution_count": 16,
   "metadata": {},
   "outputs": [],
   "source": [
    "# Hago el merge para unir las tablas\n",
    "final = orders.merge(m1,on=['Country'],how='outer').copy()\n",
    "final = final.merge(trials,on=['Country'],how='outer').copy()\n",
    "final = final.merge(desired,on=['Country'],how='outer').copy()\n",
    "final = final.merge(react,on=['Country'],how='outer').copy()\n",
    "final.replace([np.nan,np.inf,-np.inf],0,inplace=True)"
   ]
  },
  {
   "cell_type": "code",
   "execution_count": 17,
   "metadata": {},
   "outputs": [],
   "source": [
    "# Creo las columnas necesarias\n",
    "final['M1_Adq'] = final['Acq_Reorder'] / final['Acq_LM']\n",
    "final['No_Return'] = (final['Active_LM'] - final['Active_Reorder']) / final['Active_LM']\n",
    "final['%Trials'] = final['Adq_QC'] / final['Active_CQ']\n",
    "final['%Return Desired'] = final['Return_Desired'] / final['Desired']\n",
    "# Creo los RR\n",
    "final['Orders RR'] = round(final['Orders'] / rr,0)\n",
    "final['Acq RR'] = round(final['Acq'] / rr,0)\n",
    "final['Adq_QC RR'] = round(final['Adq_QC'] / rr,0)\n",
    "final['Reactivated RR'] = round(final['Return_Reactivated'] / rr,0)\n",
    "final['Return_Desired RR'] = round(final['Return_Desired'] / rr,0)\n",
    "final['RR'] = rr\n",
    "final.replace([np.nan,np.inf,-np.inf],0,inplace=True)\n",
    "final_crm['Orders_CRM RR'] = round(final_crm['Orders_CRM'] / rr)\n",
    "final_crm['Acq_CRM RR'] = round(final_crm['Acq_CRM'] / rr)\n",
    "final_crm['Final RR'] = round(final_crm['Final'] / rr)\n",
    "final_crm['RR'] = rr\n",
    "final_crm.replace([np.nan,np.inf,-np.inf],0,inplace=True)"
   ]
  },
  {
   "cell_type": "code",
   "execution_count": 18,
   "metadata": {},
   "outputs": [],
   "source": [
    "# Hago un sort por Country\n",
    "final.sort_values(['Country'],ascending=True,inplace=True)\n",
    "final_crm.sort_values(['Country'],ascending=True,inplace=True)"
   ]
  },
  {
   "cell_type": "markdown",
   "metadata": {},
   "source": [
    "### CARGA"
   ]
  },
  {
   "cell_type": "code",
   "execution_count": 19,
   "metadata": {},
   "outputs": [
    {
     "name": "stdout",
     "output_type": "stream",
     "text": [
      "Carga Correcta!\n"
     ]
    }
   ],
   "source": [
    "carga(final,'1SRFsNmj6hx_P0p98u1jM7AQJp0EfaOLdiA-jpHnduLg','Crudo BC')"
   ]
  },
  {
   "cell_type": "code",
   "execution_count": 20,
   "metadata": {},
   "outputs": [
    {
     "name": "stdout",
     "output_type": "stream",
     "text": [
      "Carga Correcta!\n"
     ]
    }
   ],
   "source": [
    "carga(final_crm,'1SRFsNmj6hx_P0p98u1jM7AQJp0EfaOLdiA-jpHnduLg','Crudo CRM BC')"
   ]
  }
 ],
 "metadata": {
  "kernelspec": {
   "display_name": "Python 3",
   "language": "python",
   "name": "python3"
  },
  "language_info": {
   "codemirror_mode": {
    "name": "ipython",
    "version": 3
   },
   "file_extension": ".py",
   "mimetype": "text/x-python",
   "name": "python",
   "nbconvert_exporter": "python",
   "pygments_lexer": "ipython3",
   "version": "3.7.6"
  }
 },
 "nbformat": 4,
 "nbformat_minor": 4
}
