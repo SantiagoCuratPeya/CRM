{
 "cells": [
  {
   "cell_type": "markdown",
   "metadata": {},
   "source": [
    "### IMPORTS"
   ]
  },
  {
   "cell_type": "code",
   "execution_count": 26,
   "metadata": {},
   "outputs": [],
   "source": [
    "import sys, os\n",
    "sys.path.append(os.path.join(sys.path[0],'Pythons'))"
   ]
  },
  {
   "cell_type": "code",
   "execution_count": 2,
   "metadata": {},
   "outputs": [],
   "source": [
    "from Carga_Descarga import *\n",
    "from CRM_Central import *"
   ]
  },
  {
   "cell_type": "code",
   "execution_count": 3,
   "metadata": {},
   "outputs": [],
   "source": [
    "pd.set_option('display.float_format', lambda x: '%.5f' % x)"
   ]
  },
  {
   "cell_type": "markdown",
   "metadata": {},
   "source": [
    "### CONSTANTES"
   ]
  },
  {
   "cell_type": "code",
   "execution_count": 4,
   "metadata": {},
   "outputs": [],
   "source": [
    "# Fechas\n",
    "today = datetime.date.today()\n",
    "if today.day == 1:\n",
    "    end = str(today - relativedelta(days=1))\n",
    "    start = str((today - relativedelta(months=2)).replace(day=1))\n",
    "    start_coupon = str((today - relativedelta(months=2)).replace(day=1) - relativedelta(days=16))\n",
    "else:\n",
    "    start = str((today - relativedelta(months=1)).replace(day=1))\n",
    "    end = str(today + relativedelta(months=1) - relativedelta(days=(today + relativedelta(months=1)).day))\n",
    "    start_coupon = str((today - relativedelta(months=1)).replace(day=1) - relativedelta(days=16))"
   ]
  },
  {
   "cell_type": "markdown",
   "metadata": {},
   "source": [
    "### QUERIES"
   ]
  },
  {
   "cell_type": "code",
   "execution_count": 5,
   "metadata": {},
   "outputs": [],
   "source": [
    "q_tc = '''WITH orders_table AS (\n",
    "    SELECT o.order_id AS order_id,\n",
    "           o.order_status AS order_status,\n",
    "           o.registered_date AS registered_date,\n",
    "           DATETIME(o.registered_at) AS registered_at,\n",
    "           c.city_name AS city,\n",
    "           CASE WHEN o.payment_mode = 'TOTAL_AMOUNT' THEN 1 ELSE 0 END AS iva\n",
    "    FROM `peya-bi-tools-pro.il_core.fact_orders` AS o\n",
    "    LEFT JOIN `peya-bi-tools-pro.il_core.dim_city` AS c ON o.city.city_id = c.city_id\n",
    "    WHERE o.registered_date BETWEEN DATE('{0}') AND CURRENT_DATE()),\n",
    "    barter_creates AS (\n",
    "    SELECT bc.campaign_title AS campaign_title,\n",
    "           bc.id AS id,\n",
    "           bc.created_at AS created_at,\n",
    "           bc.discount.type AS discount_type,\n",
    "           bc.discount.amount AS discount_amount,\n",
    "           bc.discount.max_amount AS discount_max_amount,\n",
    "           bc.rules.min_amount AS min_amount,\n",
    "           bc.owner_id AS owner_id,\n",
    "           DATE(bc.rules.starts_at,cn.timezone) AS starts_at,\n",
    "           DATETIME(bc.rules.starts_at,cn.timezone) AS starts_at_tt,\n",
    "           DATE(bc.rules.expires_at,cn.timezone) AS expires_at,\n",
    "           DATETIME(bc.rules.expires_at,cn.timezone) AS expires_at_tt,\n",
    "           cn.currency_id AS currency_id,\n",
    "           cn.country_name AS country,\n",
    "           IFNULL(u.city,'-') AS city\n",
    "    FROM `peya-data-origins-pro.cl_barter.creates` AS bc\n",
    "    LEFT JOIN `peya-bi-tools-pro.il_core.dim_country` AS cn ON bc.rules.country.iso_code = cn.iso_code_2\n",
    "    LEFT JOIN `peya-argentina.user_santiago_curat.city_usuarios` AS u ON bc.owner_id = u.user AND cn.country_name = u.country\n",
    "    WHERE DATE(bc.created_at) BETWEEN DATE('{1}') AND CURRENT_DATE()\n",
    "          AND bc.valid),\n",
    "    barter_trades AS (\n",
    "    SELECT DISTINCT bt.id AS id,\n",
    "           bt.trade.order_id AS order_id,\n",
    "           bt.trade.amount_used AS amount_used\n",
    "    FROM `peya-data-origins-pro.cl_barter.trades` AS bt\n",
    "    WHERE bt.trade.type = 'CONSUME'),\n",
    "    barter_table AS (\n",
    "    SELECT bc.campaign_title AS campaign_title,\n",
    "           bc.id AS id,\n",
    "           bc.created_at AS created_at,\n",
    "           bc.discount_type AS discount_type,\n",
    "           bc.discount_amount AS discount_amount,\n",
    "           bc.discount_max_amount AS discount_max_amount,\n",
    "           bc.min_amount AS min_amount,\n",
    "           bc.owner_id AS owner_id,\n",
    "           bc.starts_at AS starts_at,\n",
    "           bc.starts_at_tt AS starts_at_tt,\n",
    "           bc.expires_at AS expires_at,\n",
    "           bc.expires_at_tt AS expires_at_tt,\n",
    "           bc.currency_id AS currency_id,\n",
    "           bc.country AS country,\n",
    "           bc.city AS city,\n",
    "           bt.order_id AS order_id,\n",
    "           bt.amount_used AS amount_used\n",
    "    FROM barter_creates AS bc\n",
    "    LEFT JOIN barter_trades AS bt ON bc.id = bt.id),\n",
    "    dates_table AS (\n",
    "        SELECT d.date AS fecha\n",
    "        FROM `peya-bi-tools-pro.il_core.dim_date` AS d\n",
    "        WHERE d.date BETWEEN DATE('{0}') AND DATE('{2}'))\n",
    "SELECT bt.campaign_title AS Campaign,\n",
    "       IFNULL(bt.country,'-') AS Country,\n",
    "       IFNULL(o.city,bt.city) AS City,\n",
    "       FORMAT_DATE('%Y-%m',d.fecha) AS Month,\n",
    "       IFNULL(bt.discount_type,'-') AS Discount_Type,\n",
    "       CONCAT('Disc Amount: ',bt.discount_amount,' - Max Amount: ',bt.discount_max_amount,' - MOV: ',bt.min_amount) AS Variation,\n",
    "       COUNT(DISTINCT bt.id) AS Sent_Vouchers,\n",
    "       COUNT(o.order_id) AS Total_Orders_Vouchers,\n",
    "       COUNT(DISTINCT CASE WHEN o.order_status = 'CONFIRMED' THEN o.order_id ELSE NULL END) AS Confirmed_Orders_Vouchers,\n",
    "       SUM(CASE WHEN o.order_status = 'CONFIRMED' THEN bt.amount_used ELSE 0 END) AS Confirmed_Used_Amount,\n",
    "       SUM(CASE WHEN o.order_status = 'CONFIRMED' THEN bt.amount_used / ce.rate_us ELSE 0 END) AS Confirmed_Used_Amount_USD,\n",
    "       SUM(CASE WHEN o.order_status = 'CONFIRMED' AND o.iva = 0 THEN bt.amount_used ELSE 0 END) AS Confirmed_Used_Amount_Iva,\n",
    "       SUM(CASE WHEN o.order_status = 'CONFIRMED' AND o.iva = 0 THEN bt.amount_used / ce.rate_us ELSE 0 END) AS Confirmed_Used_Amount_USD_Iva,\n",
    "       AVG(CASE WHEN o.order_id IS NOT NULL THEN DATETIME_DIFF(o.registered_at,bt.starts_at_tt,HOUR) / DATETIME_DIFF(bt.expires_at_tt,starts_at_tt,HOUR) ELSE NULL END) AS Ageing,\n",
    "       AVG(CASE WHEN o.order_id IS NOT NULL THEN DATETIME_DIFF(bt.expires_at_tt,starts_at_tt,HOUR) ELSE NULL END) AS Availability\n",
    "FROM dates_table AS d\n",
    "LEFT JOIN barter_table AS bt ON (d.fecha <= bt.expires_at OR bt.expires_at IS NULL) \n",
    "                                AND (d.fecha >= bt.starts_at OR bt.starts_at IS NULL)\n",
    "LEFT JOIN orders_table AS o ON bt.order_id = o.order_id AND d.fecha = o.registered_date\n",
    "LEFT JOIN `peya-bi-tools-pro.il_core.dim_currency_exchange` AS ce ON bt.currency_id = ce.currency_id AND DATE_TRUNC(o.registered_date,MONTH) = ce.currency_exchange_date\n",
    "WHERE UPPER(bt.campaign_title) NOT LIKE '%%OTHER_CC_%%'\n",
    "      AND UPPER(bt.campaign_title) NOT LIKE '%%OTHER_AUTOCOMP_%%'\n",
    "      AND UPPER(bt.campaign_title) NOT LIKE '%%OTHER_EMPLOYEE_%%'\n",
    "      AND UPPER(bt.campaign_title) NOT LIKE '%%OTHER_OTHER_%%'\n",
    "      AND UPPER(bt.campaign_title) NOT LIKE '%%OTHER_NCR_%%'\n",
    "      AND bt.campaign_title != ''\n",
    "GROUP BY 1,2,3,4,5,6\n",
    "ORDER BY 3'''.format(start,start_coupon,end)\n",
    "\n",
    "q_stats = '''WITH barter_table AS (\n",
    "    SELECT bt.trade.order_id AS order_id,\n",
    "           bc.campaign_title AS campaign,\n",
    "           bc.discount.type AS discount_type,\n",
    "           bc.discount.amount AS discount_amount,\n",
    "           bc.discount.max_amount AS discount_max_amount,\n",
    "           bc.rules.min_amount AS min_amount,\n",
    "           bt.trade.amount_used AS amount_used           \n",
    "    FROM `peya-data-origins-pro.cl_barter.trades` AS bt \n",
    "    LEFT JOIN `peya-data-origins-pro.cl_barter.creates` AS bc ON bt.id = bc.id\n",
    "    WHERE DATE(bc.created_at) BETWEEN DATE_TRUNC(DATE_ADD(CURRENT_DATE(), INTERVAL -4 MONTH),MONTH) AND CURRENT_DATE()\n",
    "          AND DATE(bt.tradedAt) BETWEEN DATE_TRUNC(DATE_ADD(CURRENT_DATE(), INTERVAL -4 MONTH),MONTH) AND CURRENT_DATE()\n",
    "          AND bt.trade.type = 'CONSUME'),\n",
    "    orders_table AS (\n",
    "    SELECT o.user.id AS user,\n",
    "           cn.country_name AS country,\n",
    "           IFNULL(c.city_name,'-') AS city,\n",
    "           o.order_status AS status,\n",
    "           o.order_id AS order_id,\n",
    "           o.registered_date AS fecha,\n",
    "           CASE WHEN bt.campaign IS NULL THEN 0 ELSE 1 END AS crm,\n",
    "           CASE WHEN o.with_logistics THEN o.commission_amount + o.shipping_amount ELSE o.commission_amount END AS revenue,\n",
    "           CASE WHEN o.with_logistics THEN (o.commission_amount + o.shipping_amount) / ce.rate_us ELSE o.commission_amount / ce.rate_us END AS revenue_usd,\n",
    "           IFNULL(o.shipping_amount_no_discount + o.amount_no_discount,0) AS total_paid,\n",
    "           IFNULL(o.shipping_amount_no_discount + o.amount_no_discount,0) / ce.rate_us AS total_paid_usd,\n",
    "           IFNULL(bt.amount_used,0) AS amount_used,\n",
    "           IFNULL(bt.amount_used,0) / ce.rate_us AS amount_used_usd,\n",
    "           SUM(od.discount_amount) AS total_disc,\n",
    "           SUM(od.discount_amount) / ce.rate_us AS total_disc_usd,\n",
    "           SUM(CASE WHEN UPPER(od.discount_type_name) = 'VOUCHER' THEN od.discount_amount ELSE 0 END) AS total_voucher_disc,\n",
    "           SUM(CASE WHEN UPPER(od.discount_type_name) = 'VOUCHER' THEN od.discount_amount ELSE 0 END) / ce.rate_us AS total_voucher_disc_usd\n",
    "    FROM `peya-bi-tools-pro.il_core.fact_orders` AS o,\n",
    "    UNNEST(discounts) AS od\n",
    "    LEFT JOIN barter_table AS bt ON o.order_id = bt.order_id\n",
    "    LEFT JOIN `peya-bi-tools-pro.il_core.dim_country` AS cn ON o.country_id = cn.country_id\n",
    "    LEFT JOIN `peya-bi-tools-pro.il_core.dim_city` AS c ON o.city.city_id = c.city_id\n",
    "    LEFT JOIN `peya-bi-tools-pro.il_core.dim_currency_exchange` AS ce ON cn.currency_id = ce.currency_id AND DATE_TRUNC(o.registered_date,MONTH) = ce.currency_exchange_date\n",
    "    WHERE o.registered_date BETWEEN DATE_TRUNC(DATE_ADD(CURRENT_DATE(), INTERVAL -3 MONTH),MONTH) AND CURRENT_DATE()\n",
    "    GROUP BY 1,2,3,4,5,6,7,8,9,10,11,12,13,ce.rate_us),\n",
    "    acq_table AS (\n",
    "    SELECT ot.user AS user,\n",
    "           ot.country AS country,\n",
    "           ot.city AS city,\n",
    "           ot.fecha AS fecha,\n",
    "           bt.campaign AS campaign,\n",
    "           bt.discount_type AS discount_type,\n",
    "           bt.discount_amount AS discount_amount,\n",
    "           bt.discount_max_amount AS discount_max_amount,\n",
    "           bt.min_amount AS min_amount,\n",
    "           SUM(bt.amount_used) AS amount_used,\n",
    "           SUM(ot.amount_used_usd) AS amount_used_usd\n",
    "    FROM orders_table AS ot\n",
    "    LEFT JOIN barter_table AS bt ON ot.order_id = bt.order_id\n",
    "    WHERE bt.campaign IS NOT NULL\n",
    "    GROUP BY 1,2,3,4,5,6,7,8,9),\n",
    "    cohorts_table AS (\n",
    "    SELECT acq.user AS user,\n",
    "           acq.country AS country,\n",
    "           acq.campaign AS campaign,\n",
    "           acq.city AS city,\n",
    "           acq.discount_type AS discount_type,\n",
    "           acq.discount_amount AS discount_amount,\n",
    "           acq.discount_max_amount AS discount_max_amount,\n",
    "           acq.min_amount AS min_amount,\n",
    "           acq.fecha AS fecha,\n",
    "           acq.amount_used AS original_amount_used,\n",
    "           acq.amount_used_usd AS original_amount_used_usd,\n",
    "           CASE WHEN DATE_DIFF(ot.fecha,acq.fecha,DAY) = 0 THEN 'ORIGINALS'\n",
    "                WHEN DATE_DIFF(ot.fecha,acq.fecha,DAY) BETWEEN 1 AND 30 THEN 'M1'\n",
    "                WHEN DATE_DIFF(ot.fecha,acq.fecha,DAY) BETWEEN 31 AND 60 THEN 'M2'\n",
    "                WHEN DATE_DIFF(ot.fecha,acq.fecha,DAY) BETWEEN 61 AND 90 THEN 'M3' END AS cohort,\n",
    "           IFNULL(COUNT(DISTINCT CASE WHEN ot.status != 'CONFIRMED' THEN NULL ELSE ot.order_id END),0) AS orders,\n",
    "           SUM(CASE WHEN ot.status != 'CONFIRMED' THEN 0 ELSE ot.revenue END) AS revenue,\n",
    "           SUM(CASE WHEN ot.status != 'CONFIRMED' THEN 0 ELSE ot.revenue_usd END) AS revenue_usd,\n",
    "           SUM(CASE WHEN ot.status != 'CONFIRMED' THEN 0 ELSE ot.total_paid END) AS total_paid,\n",
    "           SUM(CASE WHEN ot.status != 'CONFIRMED' THEN 0 ELSE ot.total_paid_usd END) AS total_paid_usd,\n",
    "           SUM(CASE WHEN ot.status != 'CONFIRMED' THEN 0 ELSE ot.total_disc END) AS total_disc,\n",
    "           SUM(CASE WHEN ot.status != 'CONFIRMED' THEN 0 ELSE ot.total_disc_usd END) AS total_disc_usd,\n",
    "           SUM(CASE WHEN ot.status != 'CONFIRMED' THEN 0 ELSE ot.total_voucher_disc END) AS total_voucher_disc,\n",
    "           SUM(CASE WHEN ot.status != 'CONFIRMED' THEN 0 ELSE ot.total_voucher_disc_usd END) AS total_voucher_disc_usd,\n",
    "           SUM(CASE WHEN ot.status != 'CONFIRMED' THEN 0 ELSE ot.amount_used END) AS amount_used,\n",
    "           SUM(CASE WHEN ot.status != 'CONFIRMED' THEN 0 ELSE ot.amount_used_usd END) AS amount_used_usd\n",
    "    FROM acq_table AS acq\n",
    "    LEFT JOIN orders_table AS ot ON acq.user = ot.user\n",
    "    WHERE ot.fecha BETWEEN acq.fecha AND DATE_ADD(acq.fecha, INTERVAL 180 DAY)\n",
    "    GROUP BY 1,2,3,4,5,6,7,8,9,10,11,ot.fecha,ot.status)\n",
    "SELECT FORMAT_DATE('%Y-%m', ct.fecha) AS Month,\n",
    "       ct.country AS Country,\n",
    "       ct.city AS City,\n",
    "       ct.campaign AS Campaign,\n",
    "       ct.discount_type AS Discount_Type,\n",
    "       CONCAT('Disc Amount: ',ct.discount_amount,' - Max Amount: ',ct.discount_max_amount,' - MOV: ',ct.min_amount) AS Variation,\n",
    "       SUM(ct.original_amount_used) AS Original_Amount_Used,\n",
    "       SUM(ct.original_amount_used_usd) AS Original_Amount_Used_USD,\n",
    "       COUNT(DISTINCT CASE WHEN ct.cohort = 'ORIGINALS' THEN ct.user ELSE NULL END) AS Acquisitions,\n",
    "       COUNT(DISTINCT CASE WHEN ct.cohort = 'M1' AND ct.orders > 0 THEN ct.user ELSE NULL END) AS M1_Users,\n",
    "       SUM(CASE WHEN ct.cohort = 'M1' THEN ct.orders ELSE 0 END) AS M1_Orders,\n",
    "       COUNT(DISTINCT CASE WHEN ct.cohort = 'M2' AND ct.orders > 0 THEN ct.user ELSE NULL END) AS M2_Users,\n",
    "       SUM(CASE WHEN ct.cohort = 'M2' THEN ct.orders ELSE 0 END) AS M2_Orders,\n",
    "       COUNT(DISTINCT CASE WHEN ct.cohort = 'M3' AND ct.orders > 0 THEN ct.user ELSE NULL END) AS M3_Users,\n",
    "       SUM(CASE WHEN ct.cohort = 'M3' THEN ct.orders ELSE 0 END) AS M3_Orders,\n",
    "       SUM(CASE WHEN ct.cohort = 'M1' THEN ct.revenue ELSE 0 END) AS M1_Revenue,\n",
    "       SUM(CASE WHEN ct.cohort = 'M1' THEN ct.revenue_usd ELSE 0 END) AS M1_Revenue_USD,\n",
    "       SUM(CASE WHEN ct.cohort = 'M1' THEN ct.total_paid ELSE 0 END) AS M1_Total_Paid,\n",
    "       SUM(CASE WHEN ct.cohort = 'M1' THEN ct.total_paid_usd ELSE 0 END) AS M1_Total_Paid_USD,\n",
    "       SUM(CASE WHEN ct.cohort = 'M1' THEN ct.total_disc ELSE 0 END) AS M1_Total_Disc,\n",
    "       SUM(CASE WHEN ct.cohort = 'M1' THEN ct.total_disc_usd ELSE 0 END) AS M1_Total_Disc_USD,\n",
    "       SUM(CASE WHEN ct.cohort = 'M1' THEN ct.total_voucher_disc ELSE 0 END) AS M1_Total_Voucher_Disc,\n",
    "       SUM(CASE WHEN ct.cohort = 'M1' THEN ct.total_voucher_disc_usd ELSE 0 END) AS M1_Total_Voucher_Disc_USD,\n",
    "       SUM(CASE WHEN ct.cohort = 'M1' THEN ct.amount_used ELSE 0 END) AS M1_Amount_Used,\n",
    "       SUM(CASE WHEN ct.cohort = 'M1' THEN ct.amount_used_usd ELSE 0 END) AS M1_Amount_Used_USD,\n",
    "       SUM(CASE WHEN ct.cohort = 'M2' THEN ct.revenue ELSE 0 END) AS M2_Revenue,\n",
    "       SUM(CASE WHEN ct.cohort = 'M2' THEN ct.revenue_usd ELSE 0 END) AS M2_Revenue_USD,\n",
    "       SUM(CASE WHEN ct.cohort = 'M2' THEN ct.total_paid ELSE 0 END) AS M2_Total_Paid,\n",
    "       SUM(CASE WHEN ct.cohort = 'M2' THEN ct.total_paid_usd ELSE 0 END) AS M2_Total_Paid_USD,\n",
    "       SUM(CASE WHEN ct.cohort = 'M2' THEN ct.total_disc ELSE 0 END) AS M2_Total_Disc,\n",
    "       SUM(CASE WHEN ct.cohort = 'M2' THEN ct.total_disc_usd ELSE 0 END) AS M2_Total_Disc_USD,\n",
    "       SUM(CASE WHEN ct.cohort = 'M2' THEN ct.total_voucher_disc ELSE 0 END) AS M2_Total_Voucher_Disc,\n",
    "       SUM(CASE WHEN ct.cohort = 'M2' THEN ct.total_voucher_disc_usd ELSE 0 END) AS M2_Total_Voucher_Disc_USD,\n",
    "       SUM(CASE WHEN ct.cohort = 'M2' THEN ct.amount_used ELSE 0 END) AS M2_Amount_Used,\n",
    "       SUM(CASE WHEN ct.cohort = 'M2' THEN ct.amount_used_usd ELSE 0 END) AS M2_Amount_Used_USD,\n",
    "       SUM(CASE WHEN ct.cohort = 'M3' THEN ct.revenue ELSE 0 END) AS M3_Revenue,\n",
    "       SUM(CASE WHEN ct.cohort = 'M3' THEN ct.revenue_usd ELSE 0 END) AS M3_Revenue_USD,\n",
    "       SUM(CASE WHEN ct.cohort = 'M3' THEN ct.total_paid ELSE 0 END) AS M3_Total_Paid,\n",
    "       SUM(CASE WHEN ct.cohort = 'M3' THEN ct.total_paid_usd ELSE 0 END) AS M3_Total_Paid_USD,\n",
    "       SUM(CASE WHEN ct.cohort = 'M3' THEN ct.total_disc ELSE 0 END) AS M3_Total_Disc,\n",
    "       SUM(CASE WHEN ct.cohort = 'M3' THEN ct.total_disc_usd ELSE 0 END) AS M3_Total_Disc_USD,\n",
    "       SUM(CASE WHEN ct.cohort = 'M3' THEN ct.total_voucher_disc ELSE 0 END) AS M3_Total_Voucher_Disc,\n",
    "       SUM(CASE WHEN ct.cohort = 'M3' THEN ct.total_voucher_disc_usd ELSE 0 END) AS M3_Total_Voucher_Disc_USD,\n",
    "       SUM(CASE WHEN ct.cohort = 'M3' THEN ct.amount_used ELSE 0 END) AS M3_Amount_Used,\n",
    "       SUM(CASE WHEN ct.cohort = 'M3' THEN ct.amount_used_usd ELSE 0 END) AS M3_Amount_Used_USD,\n",
    "FROM cohorts_table AS ct\n",
    "WHERE UPPER(ct.campaign) NOT LIKE '%%OTHER_CC_%%'\n",
    "      AND UPPER(ct.campaign) NOT LIKE '%%OTHER_AUTOCOMP_%%'\n",
    "      AND UPPER(ct.campaign) NOT LIKE '%%OTHER_EMPLOYEE_%%'\n",
    "      AND UPPER(ct.campaign) NOT LIKE '%%OTHER_OTHER_%%'\n",
    "      AND UPPER(ct.campaign) NOT LIKE '%%OTHER_NCR_%%'\n",
    "GROUP BY 1,2,3,4,5,6'''"
   ]
  },
  {
   "cell_type": "code",
   "execution_count": 6,
   "metadata": {},
   "outputs": [
    {
     "name": "stderr",
     "output_type": "stream",
     "text": [
      "Downloading: 100%|███████████████████████████████████████████████████████████| 91340/91340 [00:32<00:00, 2835.79rows/s]\n"
     ]
    }
   ],
   "source": [
    "# Descargo la data\n",
    "bq_tc = pd.io.gbq.read_gbq(q_tc, project_id='peya-argentina', dialect='standard')"
   ]
  },
  {
   "cell_type": "code",
   "execution_count": 7,
   "metadata": {},
   "outputs": [
    {
     "name": "stderr",
     "output_type": "stream",
     "text": [
      "Downloading: 100%|█████████████████████████████████████████████████████████| 126234/126234 [02:03<00:00, 1019.41rows/s]\n"
     ]
    }
   ],
   "source": [
    "bq_stats = pd.io.gbq.read_gbq(q_stats, project_id='peya-argentina', dialect='standard')"
   ]
  },
  {
   "cell_type": "code",
   "execution_count": 8,
   "metadata": {},
   "outputs": [],
   "source": [
    "# Copio los datos\n",
    "tc = bq_tc.copy()\n",
    "stats = bq_stats.copy()"
   ]
  },
  {
   "cell_type": "markdown",
   "metadata": {},
   "source": [
    "### TRABAJO"
   ]
  },
  {
   "cell_type": "markdown",
   "metadata": {},
   "source": [
    "#### TRABAJO LOS CUPONES"
   ]
  },
  {
   "cell_type": "code",
   "execution_count": 9,
   "metadata": {},
   "outputs": [],
   "source": [
    "# Doy formato a las columnas\n",
    "cols_str = ['Campaign','Country','Month','City','Discount_Type','Variation']\n",
    "cols_float = [i for i in tc.columns if i not in cols_str]\n",
    "tc[cols_float] = tc[cols_float].astype(float)\n",
    "tc[cols_str] = tc[cols_str].apply(lambda x: x.astype(str).str.upper())\n",
    "# Saco los espacios de los nombres de campañas\n",
    "tc['Campaign'] = tc['Campaign'].str.replace(' ', '')\n",
    "# Doy formato a la fecha\n",
    "tc['Month'] = pd.to_datetime(tc['Month'], format='%Y-%m').dt.strftime('%Y-%m')"
   ]
  },
  {
   "cell_type": "code",
   "execution_count": 10,
   "metadata": {},
   "outputs": [],
   "source": [
    "# Creo las columnas para los segmentos\n",
    "tc['Benefit'] = tc['Campaign'].apply(lambda x: filtros(x,'BENEFICIOS'))\n",
    "tc['Type'] = tc['Campaign'].apply(lambda x: filtros(x,'TIPOS'))\n",
    "tc['Segment'] = tc['Campaign'].apply(lambda x: filtros(x,'SEGMENTOS'))\n",
    "tc['Level'] = tc['Campaign'].apply(lambda x: filtros(x,'NIVELES'))\n",
    "tc['Campaña'] = tc['Campaign'].apply(lambda x: filtros(x,'CAMPAIGNS'))\n",
    "tc['Automated'] = tc['Campaign'].apply(lambda x: filtros(x,'AUTOMATIONS'))\n",
    "tc['Budget'] = tc['Campaign'].apply(lambda x: filtros(x,'BUDGET'))\n",
    "# Coloco el IVA\n",
    "tc = func_iva(tc)"
   ]
  },
  {
   "cell_type": "code",
   "execution_count": 11,
   "metadata": {},
   "outputs": [],
   "source": [
    "# Saco el IVA\n",
    "used = 'Confirmed_Used_Amount'\n",
    "used_iva = 'Confirmed_Used_Amount_Iva'\n",
    "used_usd = 'Confirmed_Used_Amount_USD'\n",
    "used_usd_iva = 'Confirmed_Used_Amount_USD_Iva'\n",
    "tc['Confirmed_Used_Amount_Final'] = tc[used] - tc[used_iva] + tc[used_iva] / (1 + tc['IVA']) * tc['Extra']\n",
    "tc['Confirmed_Used_Amount_Final_USD'] = tc[used_iva] - tc[used_usd_iva] + tc[used_usd_iva] / (1 + tc['IVA']) * tc['Extra']"
   ]
  },
  {
   "cell_type": "markdown",
   "metadata": {},
   "source": [
    "#### TRABAJO EL ADR Y COHORTS"
   ]
  },
  {
   "cell_type": "code",
   "execution_count": 12,
   "metadata": {},
   "outputs": [],
   "source": [
    "# Doy formato a las columnas\n",
    "cols_str = ['Campaign','Country','Month','City','Discount_Type','Variation']\n",
    "cols_float = [i for i in stats.columns if i not in cols_str]\n",
    "stats[cols_float] = stats[cols_float].astype(float)\n",
    "stats[cols_str] = stats[cols_str].apply(lambda x: x.astype(str).str.upper())\n",
    "# Saco los espacios de los nombres de campañas\n",
    "stats['Campaign'] = stats['Campaign'].str.replace(' ', '')\n",
    "# Doy formato a la fecha\n",
    "stats['Month'] = pd.to_datetime(stats['Month'], format='%Y-%m').dt.strftime('%Y-%m')\n",
    "# Ordeno la base\n",
    "stats.sort_values(by=['Country','Month','Campaign','City'],inplace=True)"
   ]
  },
  {
   "cell_type": "code",
   "execution_count": 13,
   "metadata": {},
   "outputs": [],
   "source": [
    "# Llevo a cabo la limpieza del Reorder\n",
    "cols_final = ['M1_Users_Final','M2_Users_Final','M3_Users_Final',\n",
    "              'M1_Orders_Final','M2_Orders_Final','M3_Orders_Final',\n",
    "              'Acq_M1','Acq_M2','Acq_M3']\n",
    "\n",
    "for i in cols_final:\n",
    "    stats[i] = 0\n",
    "# Completo las columnas que cree\n",
    "cols_toFill_m1 = ['M1_Users_Final','M1_Orders_Final','Acq_M1']\n",
    "cols_fill_m1 = ['M1_Users','M1_Orders','Acquisitions']\n",
    "cols_toFill_m2 = ['M2_Users_Final','M2_Orders_Final','Acq_M2']\n",
    "cols_fill_m2 = ['M2_Users','M2_Orders','Acquisitions']\n",
    "cols_toFill_m3 = ['M3_Users_Final','M3_Orders_Final','Acq_M3']\n",
    "cols_fill_m3 = ['M3_Users','M3_Orders','Acquisitions']\n",
    "months = stats.sort_values(by=['Month'],ascending=False)['Month'].unique().tolist()\n",
    "if len(months) > 3:\n",
    "    # Para todos los meses coloco los valores en M1\n",
    "    stats[cols_toFill_m1] = stats[cols_fill_m1].values\n",
    "    # Para el tercer y cuarto mes coloco los valores en M2\n",
    "    stats.loc[stats['Month'].isin(months[2:]),cols_toFill_m2] = stats[stats['Month'].isin(months[2:])][cols_fill_m2].values\n",
    "    # Para el cuarto mes coloco los valores en M3\n",
    "    stats.loc[stats['Month'] == months[-1],cols_toFill_m3] = stats[stats['Month'] == months[-1]][cols_fill_m3].values\n",
    "else:\n",
    "    # Para todos los meses coloco los valores en M1\n",
    "    stats[cols_toFill_m1] = stats[cols_fill_m1].values\n",
    "    # Para el segundo mes coloco los valores en M2\n",
    "    stats.loc[stats['Month'].isin(months[1:]),cols_toFill_m2] = stats[stats['Month'].isin(months[1:])][cols_fill_m2].values\n",
    "    # Para el cuarto mes coloco los valores en M3\n",
    "    stats.loc[stats['Month'] == months[-1],cols_toFill_m3] = stats[stats['Month'] == months[-1]][cols_fill_m3].values"
   ]
  },
  {
   "cell_type": "code",
   "execution_count": 14,
   "metadata": {},
   "outputs": [],
   "source": [
    "# Hago una PT sacando el Month\n",
    "index = ['Country','City','Campaign','Discount_Type','Variation']\n",
    "values = [i for i in stats.columns if i not in index+['Month']]\n",
    "pt_stats = stats.pivot_table(index=index,values=values,aggfunc='sum').reset_index()"
   ]
  },
  {
   "cell_type": "code",
   "execution_count": 15,
   "metadata": {},
   "outputs": [],
   "source": [
    "# Creo las columnas para los segmentos\n",
    "pt_stats['Benefit'] = pt_stats['Campaign'].apply(lambda x: filtros(x,'BENEFICIOS'))\n",
    "pt_stats['Type'] = pt_stats['Campaign'].apply(lambda x: filtros(x,'TIPOS'))\n",
    "pt_stats['Segment'] = pt_stats['Campaign'].apply(lambda x: filtros(x,'SEGMENTOS'))\n",
    "pt_stats['Level'] = pt_stats['Campaign'].apply(lambda x: filtros(x,'NIVELES'))\n",
    "pt_stats['Campaña'] = pt_stats['Campaign'].apply(lambda x: filtros(x,'CAMPAIGNS'))\n",
    "pt_stats['Automated'] = pt_stats['Campaign'].apply(lambda x: filtros(x,'AUTOMATIONS'))\n",
    "pt_stats['Budget'] = pt_stats['Campaign'].apply(lambda x: filtros(x,'BUDGET'))"
   ]
  },
  {
   "cell_type": "markdown",
   "metadata": {},
   "source": [
    "#### UNION"
   ]
  },
  {
   "cell_type": "code",
   "execution_count": 16,
   "metadata": {},
   "outputs": [],
   "source": [
    "# Creo una columna extra para llevar a cabo la union\n",
    "tc['Union'] = tc['Country'] + ' - ' + tc['City'] + ' - ' + tc['Campaign'] + ' - ' + tc['Discount_Type'] + ' - ' + tc['Variation']\n",
    "pt_stats['Union'] = pt_stats['Country'] + ' - ' + pt_stats['City'] + ' - ' + pt_stats['Campaign'] + ' - ' + pt_stats['Discount_Type'] + ' - ' + pt_stats['Variation']\n",
    "# Hago una lista de diccionarios\n",
    "months = tc.sort_values(by=['Month'],ascending=False)['Month'].unique().tolist()\n",
    "dicc_union = {}\n",
    "for i in months:\n",
    "    dicc_union[i] = tc[tc['Month'] == i]['Union'].to_list()\n",
    "# Coloco el mes en Stats para saber con que mes unir las tablas y evitar repeticiones\n",
    "pt_stats.loc[pt_stats['Union'].isin(dicc_union[months[0]]),'Month'] = months[0]\n",
    "pt_stats.loc[(pt_stats['Union'].isin(dicc_union[months[1]]))&(pt_stats['Month'].isna()),'Month'] = months[1]\n",
    "pt_stats.loc[pt_stats['Month'].isna(),'Month'] = '-'"
   ]
  },
  {
   "cell_type": "code",
   "execution_count": 17,
   "metadata": {},
   "outputs": [],
   "source": [
    "# Filtro aquellas Stats que no se cruzan con nada en TC y las agrego con Month = '-'\n",
    "cols = ['Campaign','Country','City','Month','Variation','Discount_Type','Union','Benefit','Type','Segment',\n",
    "        'Level','Campaña','Automated','Budget']\n",
    "new_cols = list(set(tc.columns) - set(cols))\n",
    "insert_extra = pt_stats[pt_stats['Month'] == '-'][cols].copy()\n",
    "for i in new_cols:\n",
    "    insert_extra[i] = '-'\n",
    "insert_extra['Month'] = '-'\n",
    "tc = tc.append(insert_extra)"
   ]
  },
  {
   "cell_type": "code",
   "execution_count": 18,
   "metadata": {},
   "outputs": [],
   "source": [
    "# Hago el merge de TC y Stats\n",
    "cols = ['Month','Union','M1_Users_Final','M2_Users_Final','M3_Users_Final','Acq_M1','Acq_M2','Acq_M3','M1_Orders_Final',\n",
    "        'M2_Orders_Final','M3_Orders_Final','M1_Total_Paid_USD','M1_Total_Disc_USD','M1_Amount_Used_USD','M1_Revenue_USD',\n",
    "        'M2_Total_Paid_USD','M2_Total_Disc_USD','M2_Amount_Used_USD','M2_Revenue_USD','M3_Total_Paid_USD','M3_Total_Disc_USD',\n",
    "        'M3_Amount_Used_USD','M3_Revenue_USD','Original_Amount_Used_USD']\n",
    "final = tc.merge(pt_stats[cols],on=['Month','Union'],how='left').copy()\n",
    "final.replace([np.nan,np.inf,-np.inf],'-',inplace=True)"
   ]
  },
  {
   "cell_type": "code",
   "execution_count": 19,
   "metadata": {},
   "outputs": [],
   "source": [
    "# Filtro las columnas finales para achicar el DF\n",
    "cols_drop = ['Confirmed_Used_Amount_USD','Confirmed_Used_Amount_USD_Iva','IVA','Extra',\n",
    "             'Confirmed_Used_Amount_Final_USD','Union']\n",
    "final.drop(cols_drop,axis=1,inplace=True)\n",
    "# Ordeno las columnas\n",
    "cols = ['Campaign','Month','Country','City','Discount_Type','Type','Segment','Variation','Level','Campaña','Automated','Budget']\n",
    "cols_resto = [i for i in final.columns if i not in cols]\n",
    "final = final[cols+cols_resto].copy()\n",
    "# Filtro las campañas sin mes (sin movimientos estos ultimos 2 meses) ni Type\n",
    "final = final[(final['Month'] != '-')&(final['Type'] != '-')].copy()"
   ]
  },
  {
   "cell_type": "code",
   "execution_count": 20,
   "metadata": {},
   "outputs": [],
   "source": [
    "# Divido por pais\n",
    "cols_sort = ['City','Campaign','Month']\n",
    "final_arg = final[final['Country'] == 'ARGENTINA'].sort_values(by=cols_sort,ascending=False).copy()\n",
    "final_chi = final[final['Country'] == 'CHILE'].sort_values(by=cols_sort,ascending=False).copy()\n",
    "# Dropeo la columna country para achicar el DF\n",
    "final_arg.drop(['Country'],axis=1,inplace=True)\n",
    "final_chi.drop(['Country'],axis=1,inplace=True)"
   ]
  },
  {
   "cell_type": "markdown",
   "metadata": {},
   "source": [
    "#### TIPOS DE CAMPAÑAS"
   ]
  },
  {
   "cell_type": "code",
   "execution_count": 21,
   "metadata": {},
   "outputs": [],
   "source": [
    "# Creo un DF con las unique combinations\n",
    "cols = ['Budget','Type','Segment','Variation','Discount_Type','Level','Campaña','Automated','Country']\n",
    "campaign_type = final.groupby(cols).size().reset_index().drop([0], axis = 1)\n",
    "# Ordeno el DF\n",
    "cols = ['Budget','Type','Segment']\n",
    "campaign_type.sort_values(by=cols,ascending=False,inplace=True)\n",
    "# Divido por pais\n",
    "ct_arg = campaign_type[campaign_type['Country'] == 'ARGENTINA'].copy()\n",
    "ct_chi = campaign_type[campaign_type['Country'] == 'CHILE'].copy()"
   ]
  },
  {
   "cell_type": "markdown",
   "metadata": {},
   "source": [
    "### CARGA"
   ]
  },
  {
   "cell_type": "code",
   "execution_count": 257,
   "metadata": {},
   "outputs": [
    {
     "name": "stdout",
     "output_type": "stream",
     "text": [
      "Carga Correcta!\n",
      "Carga Correcta!\n"
     ]
    }
   ],
   "source": [
    "# Carga Argentina\n",
    "carga(final_arg,'1NJtY4CpejWDyEDSBOFEdWJIVgq7Fvd_U0O6UlUBZuUk','Crudo Performance')\n",
    "carga(ct_arg,'1NJtY4CpejWDyEDSBOFEdWJIVgq7Fvd_U0O6UlUBZuUk','Filtro Campaigns')"
   ]
  },
  {
   "cell_type": "code",
   "execution_count": 192,
   "metadata": {},
   "outputs": [
    {
     "name": "stdout",
     "output_type": "stream",
     "text": [
      "Carga Correcta!\n"
     ]
    }
   ],
   "source": [
    "# Carga Chile\n",
    "carga(final_chi,'1WrgzvPGpTIqK5GQiMEk4FkfUB7LVE21d1BI670yx_Os','Crudo Performance')\n",
    "carga(ct_chi,'1WrgzvPGpTIqK5GQiMEk4FkfUB7LVE21d1BI670yx_Os','Filtro Campaigns')"
   ]
  }
 ],
 "metadata": {
  "kernelspec": {
   "display_name": "Python 3",
   "language": "python",
   "name": "python3"
  },
  "language_info": {
   "codemirror_mode": {
    "name": "ipython",
    "version": 3
   },
   "file_extension": ".py",
   "mimetype": "text/x-python",
   "name": "python",
   "nbconvert_exporter": "python",
   "pygments_lexer": "ipython3",
   "version": "3.7.6"
  }
 },
 "nbformat": 4,
 "nbformat_minor": 4
}
