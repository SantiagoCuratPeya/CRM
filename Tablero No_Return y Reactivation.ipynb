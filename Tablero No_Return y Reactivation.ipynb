{
 "cells": [
  {
   "cell_type": "markdown",
   "metadata": {},
   "source": [
    "### IMPORTS"
   ]
  },
  {
   "cell_type": "code",
   "execution_count": 1,
   "metadata": {},
   "outputs": [],
   "source": [
    "import sys, os\n",
    "sys.path.append(os.path.join(sys.path[0],'Pythons'))"
   ]
  },
  {
   "cell_type": "code",
   "execution_count": 2,
   "metadata": {},
   "outputs": [],
   "source": [
    "from Carga_Descarga import *\n",
    "from CRM_Central import *"
   ]
  },
  {
   "cell_type": "markdown",
   "metadata": {},
   "source": [
    "### QUERIES"
   ]
  },
  {
   "cell_type": "code",
   "execution_count": 3,
   "metadata": {},
   "outputs": [],
   "source": [
    "q_nr = '''WITH users_table AS (\n",
    "    SELECT o.user.id AS user,\n",
    "           cn.country_name AS country,\n",
    "           COUNT(DISTINCT o.order_id) AS freq,\n",
    "           SUM(o.shipping_amount_no_discount + amount_no_discount) AS total_amount,\n",
    "           SUM(o.voucher_discount_amount) AS voucher_d,\n",
    "           SUM(o.is_acquisition) AS acq\n",
    "    FROM `peya-bi-tools-pro.il_core.fact_orders` AS o\n",
    "    LEFT JOIN `peya-bi-tools-pro.il_core.dim_country` AS cn ON o.country_id = cn.country_id\n",
    "    WHERE o.registered_date BETWEEN DATE_TRUNC(DATE_ADD(CURRENT_DATE(),INTERVAL -1 MONTH),MONTH) AND LAST_DAY(DATE_ADD(CURRENT_DATE(),INTERVAL -1 MONTH))\n",
    "          AND o.order_status = 'CONFIRMED'\n",
    "    GROUP BY 1,2),\n",
    "    no_return_table AS (\n",
    "    SELECT ut.user AS user,\n",
    "           ut.country AS country,\n",
    "           ut.acq AS acq,\n",
    "           SAFE_DIVIDE(ut.voucher_d,ut.total_amount) AS adr,\n",
    "           ut.freq,\n",
    "           CASE WHEN o.user.id IS NULL THEN TRUE ELSE FALSE END AS no_return\n",
    "    FROM users_table AS ut\n",
    "    LEFT JOIN `peya-bi-tools-pro.il_core.fact_orders` AS o ON ut.user = o.user.id \n",
    "                                                              AND o.registered_date BETWEEN DATE_TRUNC(CURRENT_DATE(),MONTH) AND LAST_DAY(CURRENT_DATE())\n",
    "                                                              AND o.order_status = 'CONFIRMED')\n",
    "SELECT nrt.country AS Country,\n",
    "       IFNULL(u.city,'-') AS City,\n",
    "       CASE WHEN nrt.freq = 0 THEN 'Error'\n",
    "            WHEN nrt.freq <= 2 THEN '1-2'\n",
    "            WHEN nrt.freq <= 4 THEN '3-4'\n",
    "            WHEN nrt.freq <= 10 THEN '5-10'\n",
    "            ELSE \"'+10\" END AS Freq_Type,\n",
    "       CASE WHEN nrt.adr < 0.2 THEN 'Light ADR' ELSE 'High ADR' END AS ADR_Type,\n",
    "       COUNT(DISTINCT CASE WHEN nrt.acq = 0 THEN nrt.user ELSE NULL END) AS Active_No_Acq_LM,\n",
    "       COUNT(DISTINCT CASE WHEN nrt.acq = 0 AND nrt.no_return THEN nrt.user ELSE NULL END) AS No_Returns\n",
    "FROM no_return_table AS nrt \n",
    "LEFT JOIN `peya-argentina.user_santiago_curat.city_usuarios` AS u ON nrt.user = u.user AND nrt.country = u.country\n",
    "INNER JOIN `peya-bi-tools-pro.il_core.dim_country` AS cn ON nrt.country = cn.country_name AND cn.active\n",
    "GROUP BY 1,2,3,4\n",
    "ORDER BY 1,2,3,4'''\n",
    "\n",
    "q_re = '''WITH orders_table AS (\n",
    "    SELECT o.registered_date AS fecha,\n",
    "           cn.country_name AS country,\n",
    "           o.order_id AS order_id,\n",
    "           o.user.id AS user,\n",
    "           CASE WHEN tc.order_id IS NOT NULL THEN TRUE ELSE FALSE END AS incentive,\n",
    "           SUM(o.shipping_amount_no_discount + amount_no_discount) AS total_amount,\n",
    "           SUM(o.voucher_discount_amount) AS voucher_d\n",
    "    FROM `peya-bi-tools-pro.il_core.fact_orders` AS o\n",
    "    LEFT JOIN `peya-bi-tools-pro.il_core.dim_country` AS cn ON o.country_id = cn.country_id\n",
    "    LEFT JOIN `peya-bi-tools-pro.il_growth.fact_talon_coupons` AS tc ON o.order_id = tc.order_id\n",
    "    WHERE o.registered_date <= CURRENT_DATE()\n",
    "          AND o.order_status = 'CONFIRMED'\n",
    "          GROUP BY 1,2,3,4,5),\n",
    "    users_table AS (\n",
    "    SELECT ot.user AS user,\n",
    "           ot.country AS country,\n",
    "           COUNT(DISTINCT ot.order_id) AS orders,\n",
    "           MAX(ot.fecha) AS last_order,\n",
    "           CASE WHEN MAX(ot.fecha) <= LAST_DAY(DATE_ADD(CURRENT_DATE(),INTERVAL -2 MONTH)) THEN 'Si' ELSE 'No' END AS reactivate\n",
    "    FROM orders_table AS ot\n",
    "    WHERE ot.fecha <= LAST_DAY(DATE_ADD(CURRENT_DATE(),INTERVAL -1 MONTH))\n",
    "    GROUP BY 1,2),\n",
    "    returns_table AS (\n",
    "    SELECT ot.country AS country,\n",
    "           ut.user AS user,\n",
    "           COUNT(DISTINCT ot.order_id) AS orders\n",
    "    FROM orders_table AS ot\n",
    "    INNER JOIN users_table AS ut ON ot.user = ut.user AND ot.country = ut.country\n",
    "    WHERE ot.fecha BETWEEN DATE_TRUNC(CURRENT_DATE(),MONTH) AND LAST_DAY(CURRENT_DATE())\n",
    "          AND ut.reactivate = 'Si'\n",
    "    GROUP BY 1,2),\n",
    "    incentive_table AS (\n",
    "    SELECT rt.country AS country,\n",
    "           rt.user AS user,\n",
    "           CASE WHEN ot.incentive THEN TRUE ELSE FALSE END AS incentive\n",
    "    FROM returns_table AS rt\n",
    "    INNER JOIN orders_table AS ot ON rt.user = ot.user AND rt.country = ot.country\n",
    "    INNER JOIN (SELECT user AS user, country AS country, MIN(order_id) AS order_id\n",
    "                FROM orders_table\n",
    "                WHERE fecha BETWEEN DATE_TRUNC(CURRENT_DATE(),MONTH) AND LAST_DAY(CURRENT_DATE())\n",
    "                GROUP BY 1,2) AS mo ON ot.order_id = mo.order_id),\n",
    "    freq_table AS (\n",
    "    SELECT ot.country AS country,\n",
    "           ut.user AS user,\n",
    "           COUNT(DISTINCT ot.order_id) AS freq\n",
    "    FROM orders_table AS ot\n",
    "    INNER JOIN users_table AS ut ON ot.user = ut.user AND ot.country = ut.country\n",
    "    WHERE ut.reactivate = 'Si'\n",
    "          AND ot.fecha BETWEEN DATE_TRUNC(ut.last_order,MONTH) AND LAST_DAY(ut.last_order)\n",
    "    GROUP BY 1,2),\n",
    "    adr_table AS (\n",
    "    SELECT ot.country AS country,\n",
    "           ut.user AS user,\n",
    "           IFNULL(SAFE_DIVIDE(SUM(ot.voucher_d),SUM(ot.total_amount)),0) AS adr\n",
    "    FROM orders_table AS ot\n",
    "    INNER JOIN users_table AS ut ON ot.user = ut.user AND ot.country = ut.country\n",
    "    WHERE ut.reactivate = 'Si'\n",
    "          AND ot.fecha BETWEEN DATE_ADD(ut.last_order,INTERVAL -181 DAY) AND LAST_DAY(ut.last_order)\n",
    "    GROUP BY 1,2)\n",
    "SELECT rt.country AS Country,\n",
    "       IFNULL(u.city,'-') AS City,\n",
    "       CASE WHEN ft.freq = 0 THEN 'Error'\n",
    "            WHEN ft.freq <= 2 THEN '1-2'\n",
    "            WHEN ft.freq <= 4 THEN '3-4'\n",
    "            WHEN ft.freq <= 10 THEN '5-10'\n",
    "            ELSE \"'+10\" END AS Freq_Type,\n",
    "       CASE WHEN adr.adr < 0.2 THEN 'Light ADR' ELSE 'High ADR' END AS ADR_Type, \n",
    "       COUNT(DISTINCT rt.user) AS Return_Reactivated,\n",
    "       COUNT(DISTINCT CASE WHEN it.incentive THEN rt.user ELSE NULL END) AS Return_Reactivated_Incentived,\n",
    "       IFNULL(SUM(rt.orders),0) AS Return_Reactivated_Orders\n",
    "FROM returns_table AS rt \n",
    "LEFT JOIN freq_table AS ft ON rt.user = ft.user AND rt.country = ft.country\n",
    "LEFT JOIN adr_table AS adr ON rt.user = adr.user AND rt.country = adr.country\n",
    "LEFT JOIN incentive_table AS it ON rt.user = it.user AND rt.country = it.country\n",
    "LEFT JOIN `peya-argentina.user_santiago_curat.city_usuarios` AS u ON rt.user = u.user AND rt.country = u.country\n",
    "INNER JOIN `peya-bi-tools-pro.il_core.dim_country` AS cn ON rt.country = cn.country_name AND cn.active\n",
    "GROUP BY 1,2,3,4\n",
    "ORDER BY 1,2,3,4'''"
   ]
  },
  {
   "cell_type": "code",
   "execution_count": 4,
   "metadata": {},
   "outputs": [
    {
     "name": "stderr",
     "output_type": "stream",
     "text": [
      "Downloading: 100%|█████████████████████████████████████████████████████████████| 3243/3243 [00:00<00:00, 4271.95rows/s]\n"
     ]
    }
   ],
   "source": [
    "# Descargo la data\n",
    "bq_nr = pd.io.gbq.read_gbq(q_nr, project_id='peya-argentina', dialect='standard')"
   ]
  },
  {
   "cell_type": "code",
   "execution_count": 5,
   "metadata": {},
   "outputs": [
    {
     "name": "stderr",
     "output_type": "stream",
     "text": [
      "Downloading: 100%|█████████████████████████████████████████████████████████████| 2355/2355 [00:00<00:00, 3359.92rows/s]\n"
     ]
    }
   ],
   "source": [
    "bq_re = pd.io.gbq.read_gbq(q_re, project_id='peya-argentina', dialect = 'standard')"
   ]
  },
  {
   "cell_type": "code",
   "execution_count": 6,
   "metadata": {},
   "outputs": [],
   "source": [
    "# Copio las bases\n",
    "nr = bq_nr.copy()\n",
    "re = bq_re.copy()"
   ]
  },
  {
   "cell_type": "markdown",
   "metadata": {},
   "source": [
    "### TRABAJO"
   ]
  },
  {
   "cell_type": "code",
   "execution_count": 7,
   "metadata": {},
   "outputs": [],
   "source": [
    "# Trabajo No Return\n",
    "val = [i for i in nr.columns if i not in ['Country','City','Freq_Type','ADR_Type']]\n",
    "nr[val] = nr[val].astype(float)\n",
    "col = ['Country','City','Freq_Type','ADR_Type']\n",
    "nr[col] = nr[col].apply(lambda x: x.astype(str).str.upper())\n",
    "# Trabajo Reactivated\n",
    "val = [i for i in re.columns if i not in ['Country','City','Freq_Type','ADR_Type']]\n",
    "re[val] = re[val].astype(float)\n",
    "col = ['Country','City','Freq_Type','ADR_Type']\n",
    "re[col] = re[col].apply(lambda x: x.astype(str).str.upper())"
   ]
  },
  {
   "cell_type": "markdown",
   "metadata": {},
   "source": [
    "### CARGA"
   ]
  },
  {
   "cell_type": "code",
   "execution_count": 8,
   "metadata": {},
   "outputs": [
    {
     "name": "stdout",
     "output_type": "stream",
     "text": [
      "Carga Correcta!\n"
     ]
    }
   ],
   "source": [
    "carga(nr,'14qn-smTGmut_pC37amCYBNRHFp9ZKzKEYCfV4YPh3-c','Crudo No Return')"
   ]
  },
  {
   "cell_type": "code",
   "execution_count": 9,
   "metadata": {},
   "outputs": [
    {
     "name": "stdout",
     "output_type": "stream",
     "text": [
      "Carga Correcta!\n"
     ]
    }
   ],
   "source": [
    "carga(re,'14qn-smTGmut_pC37amCYBNRHFp9ZKzKEYCfV4YPh3-c','Crudo Reactivation')"
   ]
  }
 ],
 "metadata": {
  "kernelspec": {
   "display_name": "Python 3",
   "language": "python",
   "name": "python3"
  },
  "language_info": {
   "codemirror_mode": {
    "name": "ipython",
    "version": 3
   },
   "file_extension": ".py",
   "mimetype": "text/x-python",
   "name": "python",
   "nbconvert_exporter": "python",
   "pygments_lexer": "ipython3",
   "version": "3.7.6"
  }
 },
 "nbformat": 4,
 "nbformat_minor": 4
}
