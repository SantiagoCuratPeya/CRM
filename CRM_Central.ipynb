{
 "cells": [
  {
   "cell_type": "code",
   "execution_count": 2,
   "metadata": {},
   "outputs": [],
   "source": [
    "import pandas as pd\n",
    "import numpy as np\n",
    "import pandas_gbq\n",
    "import datetime\n",
    "from dateutil.relativedelta import relativedelta\n",
    "from gspread_pandas import Spread, conf"
   ]
  },
  {
   "cell_type": "code",
   "execution_count": 39,
   "metadata": {},
   "outputs": [],
   "source": [
    "from ast import literal_eval"
   ]
  },
  {
   "cell_type": "code",
   "execution_count": 3,
   "metadata": {},
   "outputs": [],
   "source": [
    "# Credenciales\n",
    "cred = conf.get_config('C:\\\\Users\\\\santiago.curat\\\\Pandas\\\\PEYA', 'PedidosYa-8b8c4d19f61c.json')"
   ]
  },
  {
   "cell_type": "code",
   "execution_count": 4,
   "metadata": {},
   "outputs": [],
   "source": [
    "# Mapeo Campañas\n",
    "sheet_id = '1d4cMi-V04c80Dpen4S70Q7zYqqho3ZBIVctlRIBLwiw'\n",
    "wks_name = 'Mapeo Campañas'\n",
    "sheet = Spread(sheet_id, wks_name, config=cred)\n",
    "mapeo = sheet.sheet_to_df(index=0,header_rows=1)"
   ]
  },
  {
   "cell_type": "code",
   "execution_count": 5,
   "metadata": {},
   "outputs": [],
   "source": [
    "# Dropeo las columnas vacias\n",
    "mapeo.drop([''],axis=1,inplace=True)\n",
    "# Divido el DF en varios\n",
    "cols = len(mapeo.columns)\n",
    "dfs = []\n",
    "for i in range(int(cols/3)):\n",
    "    dfs.append(mapeo.iloc[:,i*3:i*3+3].copy())\n",
    "# Borro las filas vacias de cada DF\n",
    "dfs = [x[x['Columna'] != ''] for x in dfs]\n",
    "dfs = pd.concat(dfs,ignore_index=True).copy()"
   ]
  },
  {
   "cell_type": "code",
   "execution_count": 6,
   "metadata": {},
   "outputs": [],
   "source": [
    "# Creo un diccionario de variables\n",
    "records = {}\n",
    "filters = dfs['Columna'].unique().tolist()\n",
    "for i in filters:\n",
    "    records[i] = {}\n",
    "# Completo el diccionario de variables\n",
    "for i in records:\n",
    "    records[i] = dfs[dfs['Columna'] == i].set_index(['Search']).to_dict()['Value']"
   ]
  },
  {
   "cell_type": "code",
   "execution_count": 7,
   "metadata": {},
   "outputs": [],
   "source": [
    "# Defino la funcion de filtros\n",
    "def filtros(cam,filtro):\n",
    "    try:\n",
    "        dicc = records[filtro]\n",
    "    except:\n",
    "        return 'No Existe Filtro'\n",
    "    flag = 0\n",
    "    try:\n",
    "        for i in dicc:\n",
    "            if i in str(cam):\n",
    "                val = dicc[i]\n",
    "                flag = 1\n",
    "                break\n",
    "        if flag == 0:\n",
    "            val = dicc[list(dicc.keys())[-1]]\n",
    "        return val\n",
    "    except:\n",
    "        return 'Error en Comparacion'"
   ]
  },
  {
   "cell_type": "code",
   "execution_count": 88,
   "metadata": {},
   "outputs": [],
   "source": [
    "# IVA\n",
    "sheet_id = '1d4cMi-V04c80Dpen4S70Q7zYqqho3ZBIVctlRIBLwiw'\n",
    "wks_name = 'IVA'\n",
    "sheet = Spread(sheet_id, wks_name, config=cred)\n",
    "iva = sheet.sheet_to_df(index=0,header_rows=1)"
   ]
  },
  {
   "cell_type": "code",
   "execution_count": 89,
   "metadata": {},
   "outputs": [],
   "source": [
    "# Listas\n",
    "sheet_id = '1d4cMi-V04c80Dpen4S70Q7zYqqho3ZBIVctlRIBLwiw'\n",
    "wks_name = 'Listas'\n",
    "sheet = Spread(sheet_id, wks_name, config=cred)\n",
    "listas = sheet.sheet_to_df(index=0,header_rows=1)"
   ]
  },
  {
   "cell_type": "code",
   "execution_count": 90,
   "metadata": {},
   "outputs": [],
   "source": [
    "# Reemplazo los vacíos por 1\n",
    "iva.replace([''],0,inplace=True)\n",
    "# Paso los valores a mayúsculas\n",
    "iva['Country'] = iva['Country'].str.upper()\n",
    "# Cambio los países con acentos\n",
    "acentos = literal_eval(listas[listas['Tipo'] == 'Paises']['Lista'].values[0])\n",
    "def cambiar_paises(cou):\n",
    "    flag = 0\n",
    "    try:\n",
    "        for i in acentos:\n",
    "            if cou == i:\n",
    "                val = acentos[i]\n",
    "                flag = 1\n",
    "        if flag == 0:\n",
    "            val = cou\n",
    "        return val\n",
    "    except:\n",
    "        return cou\n",
    "iva['Country'] = iva['Country'].apply(cambiar_paises)\n",
    "# Doy formato a las columnas\n",
    "iva[['IVA','Extra']] = iva[['IVA','Extra']].astype(float)"
   ]
  },
  {
   "cell_type": "code",
   "execution_count": 111,
   "metadata": {},
   "outputs": [],
   "source": [
    "def func_iva(df):\n",
    "    try:\n",
    "        df['Country'] = df['Country'].str.upper()\n",
    "        df = df.merge(iva,on=['Country'],how='left').copy()\n",
    "        df['IVA'].replace([np.nan,np.inf,-np.inf],0,inplace=True)\n",
    "        df['Extra'].replace([np.nan,np.inf,-np.inf],1,inplace=True)\n",
    "        return df\n",
    "    except:\n",
    "        if 'Country' in list(df.columns):\n",
    "            print('Surgio otro Error')\n",
    "            return df.copy()\n",
    "        else:\n",
    "            print('No existe la Columna Country')\n",
    "            return df.copy()"
   ]
  },
  {
   "cell_type": "code",
   "execution_count": 117,
   "metadata": {},
   "outputs": [],
   "source": [
    "t = pd.DataFrame.from_dict({'Country':['ARGENTINA','CHILE','PERÚ'],\n",
    "                            'Campaign':[1,2,3]})"
   ]
  },
  {
   "cell_type": "code",
   "execution_count": 119,
   "metadata": {},
   "outputs": [
    {
     "data": {
      "text/plain": [
       "['BENEFICIOS',\n",
       " 'TIPOS',\n",
       " 'SEGMENTOS',\n",
       " 'NIVELES',\n",
       " 'CAMPAIGNS',\n",
       " 'AUTOMATIONS',\n",
       " 'BUDGET']"
      ]
     },
     "execution_count": 119,
     "metadata": {},
     "output_type": "execute_result"
    }
   ],
   "source": [
    "filters"
   ]
  },
  {
   "cell_type": "code",
   "execution_count": 124,
   "metadata": {},
   "outputs": [],
   "source": [
    "t['Beneficios'] = t['Campaign'].apply(lambda x: filtros(x,'BENEFICIOS'))"
   ]
  },
  {
   "cell_type": "code",
   "execution_count": null,
   "metadata": {},
   "outputs": [],
   "source": []
  }
 ],
 "metadata": {
  "kernelspec": {
   "display_name": "Python 3",
   "language": "python",
   "name": "python3"
  },
  "language_info": {
   "codemirror_mode": {
    "name": "ipython",
    "version": 3
   },
   "file_extension": ".py",
   "mimetype": "text/x-python",
   "name": "python",
   "nbconvert_exporter": "python",
   "pygments_lexer": "ipython3",
   "version": "3.7.6"
  }
 },
 "nbformat": 4,
 "nbformat_minor": 4
}
