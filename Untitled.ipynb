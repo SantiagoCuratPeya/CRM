{
 "cells": [
  {
   "cell_type": "code",
   "execution_count": 1,
   "metadata": {},
   "outputs": [],
   "source": [
    "import sys, os\n",
    "sys.path.append(os.path.join(sys.path[0],'Pythons'))"
   ]
  },
  {
   "cell_type": "code",
   "execution_count": 2,
   "metadata": {},
   "outputs": [],
   "source": [
    "from Carga_Descarga import *\n",
    "from CRM_Central import *"
   ]
  },
  {
   "cell_type": "code",
   "execution_count": 3,
   "metadata": {},
   "outputs": [],
   "source": [
    "q_cup = '''WITH wallet_table AS (\n",
    "    SELECT DISTINCT wa.order_id AS order_id,\n",
    "           d.campaignCode AS campaign,\n",
    "           d.amount AS amount\n",
    "    FROM `peya-bi-tools-pro.il_wallet.fact_wallet_attributions` AS wa,\n",
    "    UNNEST (attributionDetails) AS d\n",
    "    WHERE wa.operation = 'Purchase'),\n",
    "    wc_table AS (\n",
    "    SELECT cn.country_name AS country,\n",
    "           o.registered_date AS fecha,\n",
    "           wa.campaign AS campaign,\n",
    "           COUNT(DISTINCT o.order_id) AS orders,\n",
    "           COUNT(DISTINCT CASE WHEN o.is_acquisition = 1 THEN o.order_id ELSE NULL END) AS acq,\n",
    "           SUM(CASE WHEN bi.payment_mode = 'TOTAL_AMOUNT' THEN wa.amount / ce.rate_us ELSE 0 END) AS amount,\n",
    "           SUM(CASE WHEN bi.payment_mode != 'TOTAL_AMOUNT' THEN wa.amount / ce.rate_us ELSE 0 END) AS amount_shopper\n",
    "    FROM `peya-bi-tools-pro.il_core.fact_orders` AS o\n",
    "    INNER JOIN `peya-bi-tools-pro.il_core.fact_order_funding` AS w ON o.order_id = w.order_id AND w.type IN (25,35)\n",
    "    LEFT JOIN `peya-bi-tools-pro.il_core.dim_partner` AS p ON o.restaurant.id = p.partner_id\n",
    "    LEFT JOIN `peya-bi-tools-pro.il_core.dim_billing_info` AS bi ON p.billingInfo.billing_info_id = bi.billing_info_id\n",
    "    LEFT JOIN wallet_table AS wa ON o.order_id = wa.order_id\n",
    "    LEFT JOIN `peya-bi-tools-pro.il_core.dim_country` AS cn ON o.country_id = cn.country_id\n",
    "    LEFT JOIN `peya-bi-tools-pro.il_core.dim_currency_exchange` AS ce ON cn.currency_id = ce.currency_id AND DATE_TRUNC(o.registered_date,MONTH) = ce.currency_exchange_date\n",
    "    WHERE o.registered_date BETWEEN DATE('2021-08-01') AND DATE('2021-08-31')\n",
    "          AND o.order_status = 'CONFIRMED'\n",
    "    GROUP BY 1,2,3)\n",
    "SELECT wct.country AS Country,\n",
    "       wct.campaign AS Campaign,\n",
    "       'WALLET' AS Benefit,\n",
    "       SUM(wct.orders) AS Orders_CRM,\n",
    "       SUM(wct.acq) AS Acq_CRM,\n",
    "       SUM(wct.amount) AS Amount,\n",
    "       SUM(wct.amount_shopper) AS Amount_Shopper\n",
    "FROM wc_table AS wct\n",
    "GROUP BY 1,2\n",
    "\n",
    "UNION ALL\n",
    "\n",
    "SELECT cn.country_name AS Country,\n",
    "       tca.talon_campaign_name AS Campaign,\n",
    "       'TALON COUPON' AS Benefit,\n",
    "       COUNT(DISTINCT o.order_id) AS Orders_CRM,\n",
    "       COUNT(DISTINCT CASE WHEN o.is_acquisition = 1 THEN o.order_id ELSE NULL END) AS Acq_CRM,\n",
    "       SUM(CASE WHEN bi.payment_mode = 'TOTAL_AMOUNT' THEN tc.coupon_used_amount / ce.rate_us ELSE 0 END) AS Amount,\n",
    "       SUM(CASE WHEN bi.payment_mode != 'TOTAL_AMOUNT' THEN tc.coupon_used_amount / ce.rate_us ELSE 0 END) AS Amount_Shopper\n",
    "FROM `peya-bi-tools-pro.il_core.fact_orders` AS o\n",
    "INNER JOIN `peya-bi-tools-pro.il_growth.fact_talon_coupons` AS tc ON o.order_id = tc.order_id\n",
    "LEFT JOIN `peya-bi-tools-pro.il_growth.dim_talon_campaigns` AS tca ON tc.talon_campaign_id = tca.talon_campaign_id\n",
    "LEFT JOIN `peya-bi-tools-pro.il_core.dim_country` AS cn ON o.country_id = cn.country_id\n",
    "LEFT JOIN `peya-bi-tools-pro.il_core.dim_currency_exchange` AS ce ON cn.currency_id = ce.currency_id AND DATE_TRUNC(o.registered_date,MONTH) = ce.currency_exchange_date\n",
    "LEFT JOIN `peya-bi-tools-pro.il_core.dim_partner` AS p ON o.restaurant.id = p.partner_id\n",
    "LEFT JOIN `peya-bi-tools-pro.il_core.dim_billing_info` AS bi ON p.billingInfo.billing_info_id = bi.billing_info_id\n",
    "WHERE o.registered_date BETWEEN DATE('2021-08-01') AND DATE('2021-08-31')\n",
    "      AND o.order_status = 'CONFIRMED'\n",
    "GROUP BY 1,2'''\n",
    "\n",
    "q_crm = '''SELECT vd.country_name AS Country,\n",
    "       vd.campaign_name AS Campaign,\n",
    "       vd.coupon_type AS Benefit,\n",
    "       SUM(vd.coupons_redeemed_confirmed) AS Confirmed_CRM,\n",
    "       SUM(vd.coupon_orders_acq_confirmed) AS Acq_CRM,\n",
    "       SUM(CASE WHEN vd.payment_shopper = 0 THEN vd.coupon_used_amount_confirmed / ce.rate_us ELSE 0 END) AS Amount_Shopper,\n",
    "       SUM(CASE WHEN vd.payment_shopper = 1 THEN vd.coupon_used_amount_confirmed / ce.rate_us ELSE 0 END) AS Amount\n",
    "FROM `peya-growth-and-onboarding.automated_tables_reports.peya_vouchers_daily` AS vd\n",
    "LEFT JOIN `peya-bi-tools-pro.il_core.dim_country` AS cn ON UPPER(vd.country_name) = UPPER(cn.country_name)\n",
    "LEFT JOIN `peya-bi-tools-pro.il_core.dim_currency_exchange` AS ce ON cn.currency_id = ce.currency_id AND DATE_TRUNC(vd.date,MONTH) = ce.currency_exchange_date\n",
    "WHERE vd.date BETWEEN DATE('2021-08-01') AND DATE('2021-08-31')\n",
    "GROUP BY 1,2,3'''"
   ]
  },
  {
   "cell_type": "code",
   "execution_count": 4,
   "metadata": {},
   "outputs": [
    {
     "name": "stderr",
     "output_type": "stream",
     "text": [
      "Downloading: 100%|███████████████████████████████████████████████████████████| 32608/32608 [00:04<00:00, 7663.43rows/s]\n"
     ]
    }
   ],
   "source": [
    "# Descargo la data\n",
    "bq_cup = pd.io.gbq.read_gbq(q_cup, project_id='peya-argentina', dialect='standard')"
   ]
  },
  {
   "cell_type": "code",
   "execution_count": 5,
   "metadata": {},
   "outputs": [
    {
     "name": "stderr",
     "output_type": "stream",
     "text": [
      "Downloading: 100%|███████████████████████████████████████████████████████████| 33127/33127 [00:04<00:00, 7836.96rows/s]\n"
     ]
    }
   ],
   "source": [
    "bq_crm = pd.io.gbq.read_gbq(q_crm, project_id='peya-argentina', dialect='standard')"
   ]
  },
  {
   "cell_type": "code",
   "execution_count": 6,
   "metadata": {},
   "outputs": [],
   "source": [
    "# Copio las bases\n",
    "crudo = bq_cup.copy()\n",
    "crm = bq_crm.copy()"
   ]
  },
  {
   "cell_type": "code",
   "execution_count": 7,
   "metadata": {},
   "outputs": [],
   "source": [
    "# Doy formato a las columnas\n",
    "cols_str = ['Campaign','Country','Benefit']\n",
    "cols_float = [i for i in crudo.columns if i not in cols_str]\n",
    "crudo[cols_float] = crudo[cols_float].astype(float)\n",
    "crudo[cols_str] = crudo[cols_str].apply(lambda x: x.astype(str).str.upper())\n",
    "# Saco los espacios de los nombres de campañas\n",
    "crudo['Campaign'] = crudo['Campaign'].str.replace(' ', '')"
   ]
  },
  {
   "cell_type": "code",
   "execution_count": 8,
   "metadata": {},
   "outputs": [],
   "source": [
    "# Doy formato a las columnas\n",
    "cols_str = ['Campaign','Country','Benefit']\n",
    "cols_float = [i for i in crm.columns if i not in cols_str]\n",
    "crm[cols_float] = crm[cols_float].astype(float)\n",
    "crm[cols_str] = crm[cols_str].apply(lambda x: x.astype(str).str.upper())\n",
    "# Saco los espacios de los nombres de campañas\n",
    "crm['Campaign'] = crm['Campaign'].str.replace(' ', '')"
   ]
  },
  {
   "cell_type": "code",
   "execution_count": 9,
   "metadata": {},
   "outputs": [],
   "source": [
    "# Creo las columnas para los segmentos\n",
    "crudo['Type'] = crudo.apply(lambda x: filtros(x['Campaign'],'TIPOS',x['Benefit']),axis=1)\n",
    "crudo['Segment'] = crudo['Campaign'].apply(lambda x: filtros(x,'SEGMENTOS'))\n",
    "crudo['Level'] = crudo['Campaign'].apply(lambda x: filtros(x,'NIVELES'))\n",
    "crudo['Campaña'] = crudo['Campaign'].apply(lambda x: filtros(x,'CAMPAIGNS'))\n",
    "crudo['Automated'] = crudo['Campaign'].apply(lambda x: filtros(x,'AUTOMATIONS'))\n",
    "crudo['Budget'] = crudo['Campaign'].apply(lambda x: filtros(x,'BUDGET'))\n",
    "crudo['Trial'] = crudo['Campaign'].apply(lambda x: filtros(x,'TRIAL'))\n",
    "# Coloco el IVA\n",
    "crudo = func_iva(crudo)\n",
    "# Marco las campañas a filtrar\n",
    "crudo['Filtrar'] = crudo['Campaign'].apply(filtrar_cam)\n",
    "crudo = crudo[crudo['Filtrar'] == 'No'].copy()\n",
    "# Saco el IVA\n",
    "used = 'Amount'\n",
    "used_shopper = 'Amount_Shopper'\n",
    "crudo['Final'] = crudo[used_shopper] / (1 + crudo['IVA']) * crudo['Extra'] + crudo[used]"
   ]
  },
  {
   "cell_type": "code",
   "execution_count": 10,
   "metadata": {},
   "outputs": [],
   "source": [
    "# Creo las columnas para los segmentos\n",
    "crm['Type'] = crm.apply(lambda x: filtros(x['Campaign'],'TIPOS',x['Benefit']),axis=1)\n",
    "crm['Segment'] = crm['Campaign'].apply(lambda x: filtros(x,'SEGMENTOS'))\n",
    "crm['Level'] = crm['Campaign'].apply(lambda x: filtros(x,'NIVELES'))\n",
    "crm['Campaña'] = crm['Campaign'].apply(lambda x: filtros(x,'CAMPAIGNS'))\n",
    "crm['Automated'] = crm['Campaign'].apply(lambda x: filtros(x,'AUTOMATIONS'))\n",
    "crm['Budget'] = crm['Campaign'].apply(lambda x: filtros(x,'BUDGET'))\n",
    "crm['Trial'] = crm['Campaign'].apply(lambda x: filtros(x,'TRIAL'))\n",
    "# Coloco el IVA\n",
    "crm = func_iva(crm)\n",
    "# Marco las campañas a filtrar\n",
    "crm['Filtrar'] = crm['Campaign'].apply(filtrar_cam)\n",
    "crm = crm[crm['Filtrar'] == 'No'].copy()\n",
    "# Saco el IVA\n",
    "used = 'Amount'\n",
    "used_shopper = 'Amount_Shopper'\n",
    "crm['Final'] = crm[used_shopper] / (1 + crm['IVA']) * crm['Extra'] + crm[used]"
   ]
  },
  {
   "cell_type": "code",
   "execution_count": 11,
   "metadata": {},
   "outputs": [
    {
     "data": {
      "text/plain": [
       "Final         565514.49157\n",
       "Orders_CRM    431212.00000\n",
       "Acq_CRM        24709.00000\n",
       "dtype: float64"
      ]
     },
     "execution_count": 11,
     "metadata": {},
     "output_type": "execute_result"
    }
   ],
   "source": [
    "crudo[(crudo['Country'] == 'ARGENTINA')&(crudo['Budget'] == 'CENTRAL')][['Final','Orders_CRM','Acq_CRM']].sum()"
   ]
  },
  {
   "cell_type": "code",
   "execution_count": 12,
   "metadata": {},
   "outputs": [
    {
     "data": {
      "text/plain": [
       "Final            571011.528491\n",
       "Confirmed_CRM    100006.000000\n",
       "Acq_CRM               4.000000\n",
       "dtype: float64"
      ]
     },
     "execution_count": 12,
     "metadata": {},
     "output_type": "execute_result"
    }
   ],
   "source": [
    "crm[(crm['Country'] == 'CHILE')&(crm['Budget'] == 'CENTRAL')&(crm['Type'] == 'RMO')][['Final','Confirmed_CRM','Acq_CRM']].sum()"
   ]
  },
  {
   "cell_type": "code",
   "execution_count": 15,
   "metadata": {},
   "outputs": [
    {
     "data": {
      "text/plain": [
       "Final            571011.528491\n",
       "Confirmed_CRM    100006.000000\n",
       "Acq_CRM               4.000000\n",
       "dtype: float64"
      ]
     },
     "execution_count": 15,
     "metadata": {},
     "output_type": "execute_result"
    }
   ],
   "source": [
    "crm[(crm['Country'] == 'CHILE')&(crm['Budget'] == 'CENTRAL')&(crm['Benefit'] == 'RMO')][['Final','Confirmed_CRM','Acq_CRM']].sum()"
   ]
  },
  {
   "cell_type": "code",
   "execution_count": 13,
   "metadata": {},
   "outputs": [
    {
     "data": {
      "text/plain": [
       "8763.517374570669"
      ]
     },
     "execution_count": 13,
     "metadata": {},
     "output_type": "execute_result"
    }
   ],
   "source": [
    "crudo[(crudo['Country'] == 'ARGENTINA')&(crudo['Budget'] == 'CENTRAL')&(crudo['Type'] == 'RAF')]['Final'].sum()"
   ]
  }
 ],
 "metadata": {
  "kernelspec": {
   "display_name": "Python 3",
   "language": "python",
   "name": "python3"
  },
  "language_info": {
   "codemirror_mode": {
    "name": "ipython",
    "version": 3
   },
   "file_extension": ".py",
   "mimetype": "text/x-python",
   "name": "python",
   "nbconvert_exporter": "python",
   "pygments_lexer": "ipython3",
   "version": "3.7.6"
  }
 },
 "nbformat": 4,
 "nbformat_minor": 4
}
