{
 "cells": [
  {
   "cell_type": "markdown",
   "metadata": {},
   "source": [
    "### IMPORTS"
   ]
  },
  {
   "cell_type": "code",
   "execution_count": 1,
   "metadata": {},
   "outputs": [],
   "source": [
    "import sys, os\n",
    "sys.path.append(os.path.join(sys.path[0],'Pythons'))"
   ]
  },
  {
   "cell_type": "code",
   "execution_count": 2,
   "metadata": {},
   "outputs": [],
   "source": [
    "from Carga_Descarga import *\n",
    "from CRM_Central import *"
   ]
  },
  {
   "cell_type": "markdown",
   "metadata": {},
   "source": [
    "### CONSTANTES"
   ]
  },
  {
   "cell_type": "markdown",
   "metadata": {},
   "source": [
    "### QUERIES"
   ]
  },
  {
   "cell_type": "code",
   "execution_count": 45,
   "metadata": {},
   "outputs": [],
   "source": [
    "q_t1 = '''WITH orders_table AS (\n",
    "    SELECT o.user.id AS user,\n",
    "           o.registered_date AS fecha,\n",
    "           o.order_id AS order_id,\n",
    "           bt.business_type_name AS business,\n",
    "           CASE WHEN o.is_acquisition = 1 THEN TRUE ELSE FALSE END AS acq,\n",
    "           cn.country_name AS country,\n",
    "           IFNULL(tca.talon_campaign_name,'-') AS campaign\n",
    "    FROM `peya-bi-tools-pro.il_core.fact_orders` AS o \n",
    "    LEFT JOIN `peya-bi-tools-pro.il_core.dim_business_type` AS bt ON o.business_type_id = bt.business_type_id\n",
    "    LEFT JOIN `peya-bi-tools-pro.il_core.dim_country` AS cn ON o.country_id = cn.country_id\n",
    "    LEFT JOIN `peya-bi-tools-pro.il_growth.fact_talon_coupons` AS tc ON o.order_id = tc.order_id\n",
    "    LEFT JOIN `peya-bi-tools-pro.il_growth.dim_talon_campaigns` AS tca ON tc.talon_campaign_id = tca.talon_campaign_id\n",
    "    WHERE o.registered_date < CURRENT_DATE()\n",
    "          AND o.order_status = 'CONFIRMED'),\n",
    "    qc_table AS (\n",
    "    SELECT ot.user AS user,\n",
    "           ot.business AS business,\n",
    "           ot.order_id AS order_id,\n",
    "           ot.country AS country,\n",
    "           ot.acq AS acq,\n",
    "           ot.campaign AS campaign\n",
    "    FROM orders_table AS ot\n",
    "    WHERE ot.business NOT IN ('Restaurant','Coffee','Courier','Courier Business')\n",
    "          AND ot.fecha BETWEEN DATE('2021-07-01') AND DATE('2021-07-31')),\n",
    "    history_table AS (\n",
    "    SELECT ot.user AS user,\n",
    "           ot.country AS country,\n",
    "           SUM(CASE WHEN ot.business NOT IN ('Restaurant','Coffee','Courier','Courier Business') THEN 1 ELSE 0 END) AS qc\n",
    "    FROM orders_table AS ot\n",
    "    WHERE ot.fecha < DATE('2021-07-01')\n",
    "          OR ot.acq\n",
    "    GROUP BY 1,2)\n",
    "SELECT qct.country AS Country,\n",
    "       qct.business AS Business,\n",
    "       qct.campaign AS Campaign,\n",
    "       COUNT(DISTINCT qct.user) AS Active_QC,\n",
    "       COUNT(DISTINCT CASE WHEN qct.acq = FALSE AND (ht.qc = 0 OR ht.qc IS NULL) THEN qct.user ELSE NULL END) AS Adq_QC\n",
    "FROM qc_table AS qct\n",
    "INNER JOIN (SELECT user, country, MIN(order_id) AS orders\n",
    "            FROM qc_table GROUP BY 1,2) AS qct_min ON qct.user = qct_min.user AND qct.country = qct_min.country AND qct.order_id = qct_min.orders\n",
    "LEFT JOIN history_table AS ht ON qct.user = ht.user AND qct.country = ht.country\n",
    "WHERE qct.country IN ('Argentina','Chile')\n",
    "GROUP BY 1,2,3\n",
    "ORDER BY 1'''\n",
    "\n",
    "q_t2 = '''WITH orders_table AS (\n",
    "    SELECT o.user.id AS user,\n",
    "           o.registered_date AS fecha,\n",
    "           o.order_id AS order_id,\n",
    "           bt.business_type_name AS business,\n",
    "           CASE WHEN o.is_acquisition = 1 THEN TRUE ELSE FALSE END AS acq,\n",
    "           cn.country_name AS country,\n",
    "           IFNULL(tca.talon_campaign_name,'-') AS campaign\n",
    "    FROM `peya-bi-tools-pro.il_core.fact_orders` AS o \n",
    "    LEFT JOIN `peya-bi-tools-pro.il_core.dim_business_type` AS bt ON o.business_type_id = bt.business_type_id\n",
    "    LEFT JOIN `peya-bi-tools-pro.il_core.dim_country` AS cn ON o.country_id = cn.country_id\n",
    "    LEFT JOIN `peya-bi-tools-pro.il_growth.fact_talon_coupons` AS tc ON o.order_id = tc.order_id\n",
    "    LEFT JOIN `peya-bi-tools-pro.il_growth.dim_talon_campaigns` AS tca ON tc.talon_campaign_id = tca.talon_campaign_id\n",
    "    WHERE o.registered_date < CURRENT_DATE()\n",
    "          AND o.order_status = 'CONFIRMED'),\n",
    "    qc_table AS (\n",
    "    SELECT ot.user AS user,\n",
    "           ot.business AS business,\n",
    "           ot.order_id AS order_id,\n",
    "           ot.country AS country,\n",
    "           ot.acq AS acq,\n",
    "           ot.campaign AS campaign\n",
    "    FROM orders_table AS ot\n",
    "    WHERE ot.business NOT IN ('Restaurant','Coffee','Courier','Courier Business')\n",
    "          AND ot.fecha BETWEEN DATE('2021-06-01') AND DATE('2021-06-30')),\n",
    "    history_table AS (\n",
    "    SELECT ot.user AS user,\n",
    "           ot.country AS country,\n",
    "           SUM(CASE WHEN ot.business NOT IN ('Restaurant','Coffee','Courier','Courier Business') THEN 1 ELSE 0 END) AS qc\n",
    "    FROM orders_table AS ot\n",
    "    WHERE ot.fecha < DATE('2021-06-01')\n",
    "          OR ot.acq\n",
    "    GROUP BY 1,2)\n",
    "SELECT qct.country AS Country,\n",
    "       qct.business AS Business,\n",
    "       qct.campaign AS Campaign,\n",
    "       COUNT(DISTINCT qct.user) AS Active_QC,\n",
    "       COUNT(DISTINCT CASE WHEN qct.acq = FALSE AND (ht.qc = 0 OR ht.qc IS NULL) THEN qct.user ELSE NULL END) AS Adq_QC\n",
    "FROM qc_table AS qct\n",
    "INNER JOIN (SELECT user, country, MIN(order_id) AS orders\n",
    "            FROM qc_table GROUP BY 1,2) AS qct_min ON qct.user = qct_min.user AND qct.country = qct_min.country AND qct.order_id = qct_min.orders\n",
    "LEFT JOIN history_table AS ht ON qct.user = ht.user AND qct.country = ht.country\n",
    "WHERE qct.country IN ('Argentina','Chile')\n",
    "GROUP BY 1,2,3\n",
    "ORDER BY 1'''"
   ]
  },
  {
   "cell_type": "code",
   "execution_count": 46,
   "metadata": {},
   "outputs": [
    {
     "name": "stderr",
     "output_type": "stream",
     "text": [
      "Downloading: 100%|█████████████████████████████████████████████████████████████| 1505/1505 [00:00<00:00, 3140.40rows/s]\n"
     ]
    }
   ],
   "source": [
    "# Descargo la data\n",
    "bq_t1 = pd.io.gbq.read_gbq(q_t1, project_id='peya-argentina', dialect='standard')"
   ]
  },
  {
   "cell_type": "code",
   "execution_count": 47,
   "metadata": {},
   "outputs": [
    {
     "name": "stderr",
     "output_type": "stream",
     "text": [
      "Downloading: 100%|█████████████████████████████████████████████████████████████| 1626/1626 [00:00<00:00, 3856.15rows/s]\n"
     ]
    }
   ],
   "source": [
    "bq_t2 = pd.io.gbq.read_gbq(q_t2, project_id='peya-argentina', dialect='standard')"
   ]
  },
  {
   "cell_type": "code",
   "execution_count": 79,
   "metadata": {},
   "outputs": [],
   "source": [
    "# Copio las bases\n",
    "t1 = bq_t1.copy()\n",
    "t2 = bq_t2.copy()"
   ]
  },
  {
   "cell_type": "markdown",
   "metadata": {},
   "source": [
    "### TRABAJO"
   ]
  },
  {
   "cell_type": "code",
   "execution_count": 80,
   "metadata": {},
   "outputs": [],
   "source": [
    "# Trabajo Trials 1\n",
    "val = [i for i in t1.columns if i not in ['Country','Business','Campaign']]\n",
    "t1[val] = t1[val].astype(int)\n",
    "col = ['Country','Business','Campaign']\n",
    "t1[col] = t1[col].apply(lambda x: x.astype(str).str.upper())\n",
    "t1['Campaign'] = t1['Campaign'].str.replace(' ', '')\n",
    "# Trabajo Trials 2\n",
    "val = [i for i in t2.columns if i not in ['Country','Business','Campaign']]\n",
    "t2[val] = t2[val].astype(int)\n",
    "col = ['Country','Business','Campaign']\n",
    "t2[col] = t2[col].apply(lambda x: x.astype(str).str.upper())\n",
    "t2['Campaign'] = t2['Campaign'].str.replace(' ', '')"
   ]
  },
  {
   "cell_type": "code",
   "execution_count": 81,
   "metadata": {},
   "outputs": [],
   "source": [
    "# Cambio el nombre a las columnas\n",
    "cols = ['Active_QC','Adq_QC']\n",
    "t1.columns = [str(x)+'-2021/07' if x in cols else x for x in t1.columns ]\n",
    "t2.columns = [str(x)+'-2021/06' if x in cols else x for x in t2.columns ]"
   ]
  },
  {
   "cell_type": "code",
   "execution_count": 89,
   "metadata": {},
   "outputs": [],
   "source": [
    "# Hago un merge\n",
    "on = ['Country','Business','Campaign']\n",
    "final = t1.merge(t2,on=on,how='outer')\n",
    "final.replace([np.nan,np.inf,-np.inf],0,inplace=True)"
   ]
  },
  {
   "cell_type": "code",
   "execution_count": 110,
   "metadata": {},
   "outputs": [],
   "source": [
    "# Dropeo las columnas que no necesito\n",
    "cols = [x for x in final.columns if 'Active_QC' in x]\n",
    "final.drop(columns=cols,inplace=True)"
   ]
  },
  {
   "cell_type": "markdown",
   "metadata": {},
   "source": [
    "### CARGA"
   ]
  },
  {
   "cell_type": "code",
   "execution_count": 113,
   "metadata": {},
   "outputs": [
    {
     "name": "stdout",
     "output_type": "stream",
     "text": [
      "Carga Correcta!\n"
     ]
    }
   ],
   "source": [
    "carga(final,'1vapwjCqVweQxL2_Auff4R-99umM95R3eXm20DrnFwnA','Crudo')"
   ]
  }
 ],
 "metadata": {
  "kernelspec": {
   "display_name": "Python 3",
   "language": "python",
   "name": "python3"
  },
  "language_info": {
   "codemirror_mode": {
    "name": "ipython",
    "version": 3
   },
   "file_extension": ".py",
   "mimetype": "text/x-python",
   "name": "python",
   "nbconvert_exporter": "python",
   "pygments_lexer": "ipython3",
   "version": "3.7.6"
  }
 },
 "nbformat": 4,
 "nbformat_minor": 4
}
